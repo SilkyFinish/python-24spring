{
 "cells": [
  {
   "cell_type": "markdown",
   "id": "109a70bd",
   "metadata": {},
   "source": [
    "Homework 4\n",
    "========\n",
    "\n",
    "程序设计，2024年春季\n",
    "\n",
    "**作业截至日期：2023年6月9日 23:59**\n",
    "\n",
    "**注:**\n",
    "* 将答案写在每个题目下方，__并运行，展示结果__。最后将`*.ipynb`文件打包成zip或者rar文件，命名成`名字-学号.zip`或者`名字-学号.rar`，上传至canvas。做作业过程中，__切记随手保存__。\n",
    "* 对于代码，请根据思路适当添加空行和注释，方便理解。\n",
    "* 如有参考同学的代码，请在题目代码第一行通过注释标明其学号；若无标明，发现抄袭以0分计。\n",
    "* 目前课程覆盖范围足够解答以下题目。如果之前学过Python,允许使用未学过的知识点。\n",
    "\n"
   ]
  },
  {
   "cell_type": "markdown",
   "id": "f09c0ea4",
   "metadata": {},
   "source": [
    "### Q1. 班会破冰游戏设计（50pts）\n",
    "已知W老师担任了某班的班主任，班级学生30人，在第一次班会的破冰活动中，W老师设计了一个游戏让大家相互认识。流程是这样：\n",
    "* Step 1: 每次调用函数`step_1`的时候，随机选择一位同学`a`，屏幕输出`a同学，请介绍自己，并以一个标签总结自己`。随后这位同学介绍自己，并以一个标签总结自己。已经随机过的同学不会再次被选中。当所有同学介绍完后，若再调用`step_1`函数，则输出`所有同学都介绍完了，可以进入下一步了`。\n",
    "* Step 2: 每次调用函数`step_2`的时候，随机选择一位同学`a`玩游戏，同时随机选出`n`位除`a`同学之外的同学，屏幕输出`a同学，请说出以下同学的标签：xxx,xxx,xxx...`。由于后进行游戏的同学能反复记忆，所以`n`的选择如下：对于前`1/3`进行游戏的，`n=3`;对于中间进行游戏的`1/3`，`n=4`;对于最后进行游戏的`1/3`,`n=5`（对于边缘情况可自行灵活处理）。当所有同学玩完游戏后，若再调用`step_2`函数，则输出`所有同学都进行了游戏`。\n",
    "\n",
    "请帮W老师实现这两个函数，并测试。\n",
    "\n",
    "* 提示：\n",
    " * 使用`random`和`numpy.random`均可，但是后者提供功能更多，能简化实现。上课提供的函数已经够用，也可以自己上网搜索你想要的功能。\n",
    " * 下面一个cell中，`numpy.random.permutation`函数的用法对你解题有帮助。"
   ]
  },
  {
   "cell_type": "code",
   "execution_count": 2,
   "id": "6dea5b8a",
   "metadata": {},
   "outputs": [
    {
     "name": "stdout",
     "output_type": "stream",
     "text": [
      "['沈刚' '杨昕' '殷明浩' '高光' '李陆' '欧阳兵' '曾路' '刘文' '欧阳峰' '徐军' '杨万里' '刘军' '陈洋' '杨超'\n",
      " '刘志宏' '孟牧' '蒋陆' '欧阳伟' '欧阳牧' '杨牧' '曾文' '曾峰' '张路' '王超' '张峰' '李牧' '蒋华' '殷光'\n",
      " '张伟' '马兵']\n"
     ]
    }
   ],
   "source": [
    "# 这个cell生成30位同学的名字\n",
    "# 可以阅读下代码，对你完成这题有帮助\n",
    "import random\n",
    "import numpy as np\n",
    "\n",
    "NUM_STD = 30\n",
    "\n",
    "def generate_names(n = 5, seed=42):\n",
    "    '''生成n个不重复的名字'''\n",
    "    given_name = [\"张\", \"曾\", \"李\", \"王\", \"刘\", \"赵\", \"蒋\", \"孟\", \"陈\", \"徐\", \"杨\", \"沈\", \"马\", \"高\", \"殷\", \"欧阳\"]\n",
    "    first_name = [\"伟\", \"华\", \"建国\", \"洋\", \"刚\", \"万里\", \"爱民\", \"牧\", \"陆\", \"路\", \"昕\", \"鑫\", \"兵\", \"硕\", \"志宏\", \"峰\", \"磊\", \"雷\", \"文\", \"明浩\", \"光\", \"超\", \"军\", \"达\"]\n",
    "    np.random.seed(seed)\n",
    "    if n > len(given_name) * len(first_name):\n",
    "        n = len(given_name) * len(first_name) # 最多产生这么多名字\n",
    "    return np.random.permutation([f'{f}{s}' for f in given_name for s in first_name])[:n] # 也可以直接两个列表生成式嵌套\n",
    "\n",
    "student_names = generate_names(NUM_STD)\n",
    "print(student_names)\n"
   ]
  },
  {
   "cell_type": "markdown",
   "id": "d6082637",
   "metadata": {},
   "source": [
    "<font color = 'red'>这种实际问题有许多解法，这里列举一些</font>\n",
    "\n",
    "这题需要注意的是 传一个列表到函数，是传这个列表的一个引用。 要弄清楚是否需要传列表的浅拷贝？函数是否需要返回值？等等问题。 这样就会有多种写法。"
   ]
  },
  {
   "cell_type": "markdown",
   "id": "a1d505a9",
   "metadata": {},
   "source": [
    "#### step 1 的解法\n",
    "* 解法一：从列表中不断删除元素。使用list。 \n",
    "\n",
    "这里list的 del 会直接对列表进行操作，无需返回"
   ]
  },
  {
   "cell_type": "code",
   "execution_count": 10,
   "id": "f00b1141",
   "metadata": {},
   "outputs": [
    {
     "name": "stdout",
     "output_type": "stream",
     "text": [
      "====step 1====\n",
      "杨牧同学，请介绍自己，并以一个标签总结自己\n",
      "孟牧同学，请介绍自己，并以一个标签总结自己\n",
      "陈洋同学，请介绍自己，并以一个标签总结自己\n",
      "曾文同学，请介绍自己，并以一个标签总结自己\n",
      "徐军同学，请介绍自己，并以一个标签总结自己\n",
      "王超同学，请介绍自己，并以一个标签总结自己\n",
      "曾峰同学，请介绍自己，并以一个标签总结自己\n",
      "李牧同学，请介绍自己，并以一个标签总结自己\n",
      "李陆同学，请介绍自己，并以一个标签总结自己\n",
      "马兵同学，请介绍自己，并以一个标签总结自己\n",
      "杨万里同学，请介绍自己，并以一个标签总结自己\n",
      "蒋陆同学，请介绍自己，并以一个标签总结自己\n",
      "沈刚同学，请介绍自己，并以一个标签总结自己\n",
      "杨昕同学，请介绍自己，并以一个标签总结自己\n",
      "殷光同学，请介绍自己，并以一个标签总结自己\n",
      "高光同学，请介绍自己，并以一个标签总结自己\n",
      "张伟同学，请介绍自己，并以一个标签总结自己\n",
      "刘军同学，请介绍自己，并以一个标签总结自己\n",
      "欧阳牧同学，请介绍自己，并以一个标签总结自己\n",
      "欧阳伟同学，请介绍自己，并以一个标签总结自己\n",
      "欧阳峰同学，请介绍自己，并以一个标签总结自己\n",
      "殷明浩同学，请介绍自己，并以一个标签总结自己\n",
      "蒋华同学，请介绍自己，并以一个标签总结自己\n",
      "刘志宏同学，请介绍自己，并以一个标签总结自己\n",
      "张路同学，请介绍自己，并以一个标签总结自己\n",
      "张峰同学，请介绍自己，并以一个标签总结自己\n",
      "刘文同学，请介绍自己，并以一个标签总结自己\n",
      "杨超同学，请介绍自己，并以一个标签总结自己\n",
      "曾路同学，请介绍自己，并以一个标签总结自己\n",
      "欧阳兵同学，请介绍自己，并以一个标签总结自己\n",
      "所有同学都介绍完了，可以进入下一步了\n"
     ]
    }
   ],
   "source": [
    "# your code here\n",
    "def step_1(names): # 自行设计函数参数\n",
    "    if len(names) == 0:\n",
    "        print('所有同学都介绍完了，可以进入下一步了')\n",
    "    else:\n",
    "        idx = np.random.randint(0, len(names))\n",
    "        print('%s同学，请介绍自己，并以一个标签总结自己'%(names[idx]))\n",
    "        del names[idx]\n",
    "        \n",
    "# 测试：实际场景中，应该是W老师手动不断调用step_1和step_2函数。\n",
    "# 这里，为了方便展示，用for循环调用31次进行测试\n",
    "print('====step 1====')\n",
    "list_for_step_1 = list(student_names).copy()\n",
    "for i in range(NUM_STD + 1):\n",
    "    step_1(list_for_step_1) # 如果有函数参数，请传入\n"
   ]
  },
  {
   "cell_type": "markdown",
   "id": "b37185fb",
   "metadata": {},
   "source": [
    "* 解法二：从列表中不断删除元素。使用numpy array。 \n",
    "\n",
    "numpy array的删除元素可以直接上网搜索`numpy delete element`. `np.delete`会以返回值的形似返回新array。"
   ]
  },
  {
   "cell_type": "code",
   "execution_count": 3,
   "id": "ddd3644b",
   "metadata": {},
   "outputs": [
    {
     "name": "stdout",
     "output_type": "stream",
     "text": [
      "====step 1====\n",
      "殷光同学，请介绍自己，并以一个标签总结自己\n",
      "徐军同学，请介绍自己，并以一个标签总结自己\n",
      "杨牧同学，请介绍自己，并以一个标签总结自己\n",
      "欧阳伟同学，请介绍自己，并以一个标签总结自己\n",
      "蒋华同学，请介绍自己，并以一个标签总结自己\n",
      "曾峰同学，请介绍自己，并以一个标签总结自己\n",
      "张伟同学，请介绍自己，并以一个标签总结自己\n",
      "李陆同学，请介绍自己，并以一个标签总结自己\n",
      "李牧同学，请介绍自己，并以一个标签总结自己\n",
      "杨万里同学，请介绍自己，并以一个标签总结自己\n",
      "刘志宏同学，请介绍自己，并以一个标签总结自己\n",
      "沈刚同学，请介绍自己，并以一个标签总结自己\n",
      "杨昕同学，请介绍自己，并以一个标签总结自己\n",
      "王超同学，请介绍自己，并以一个标签总结自己\n",
      "高光同学，请介绍自己，并以一个标签总结自己\n",
      "张峰同学，请介绍自己，并以一个标签总结自己\n",
      "刘军同学，请介绍自己，并以一个标签总结自己\n",
      "蒋陆同学，请介绍自己，并以一个标签总结自己\n",
      "孟牧同学，请介绍自己，并以一个标签总结自己\n",
      "欧阳峰同学，请介绍自己，并以一个标签总结自己\n",
      "殷明浩同学，请介绍自己，并以一个标签总结自己\n",
      "曾文同学，请介绍自己，并以一个标签总结自己\n",
      "马兵同学，请介绍自己，并以一个标签总结自己\n",
      "张路同学，请介绍自己，并以一个标签总结自己\n",
      "杨超同学，请介绍自己，并以一个标签总结自己\n",
      "欧阳牧同学，请介绍自己，并以一个标签总结自己\n",
      "刘文同学，请介绍自己，并以一个标签总结自己\n",
      "陈洋同学，请介绍自己，并以一个标签总结自己\n",
      "曾路同学，请介绍自己，并以一个标签总结自己\n",
      "欧阳兵同学，请介绍自己，并以一个标签总结自己\n",
      "所有同学都介绍完了，可以进入下一步了\n"
     ]
    }
   ],
   "source": [
    "# your code here\n",
    "def step_1(names): # 自行设计函数参数\n",
    "    if len(names) == 0:\n",
    "        print('所有同学都介绍完了，可以进入下一步了')\n",
    "    else:\n",
    "        idx = np.random.randint(0, len(names))\n",
    "        print('%s同学，请介绍自己，并以一个标签总结自己'%(names[idx]))\n",
    "        return np.delete(names, idx)\n",
    "        \n",
    "# 测试：实际场景中，应该是W老师手动不断调用step_1和step_2函数。\n",
    "# 这里，为了方便展示，用for循环调用31次进行测试\n",
    "print('====step 1====')\n",
    "list_for_step_1 = student_names.copy()\n",
    "for i in range(NUM_STD + 1):\n",
    "    list_for_step_1 = step_1(list_for_step_1) # 如果有函数参数，请传入\n",
    "\n",
    "\n"
   ]
  },
  {
   "cell_type": "markdown",
   "id": "bb498a1a",
   "metadata": {},
   "source": [
    "* 解法三：借用np.random.permutation对列表打乱，逐个返回就行\n"
   ]
  },
  {
   "cell_type": "code",
   "execution_count": 4,
   "id": "7a53b316",
   "metadata": {},
   "outputs": [
    {
     "name": "stdout",
     "output_type": "stream",
     "text": [
      "====step 1====\n",
      "李牧同学，请介绍自己，并以一个标签总结自己\n",
      "孟牧同学，请介绍自己，并以一个标签总结自己\n",
      "欧阳牧同学，请介绍自己，并以一个标签总结自己\n",
      "李陆同学，请介绍自己，并以一个标签总结自己\n",
      "曾峰同学，请介绍自己，并以一个标签总结自己\n",
      "张峰同学，请介绍自己，并以一个标签总结自己\n",
      "杨超同学，请介绍自己，并以一个标签总结自己\n",
      "蒋华同学，请介绍自己，并以一个标签总结自己\n",
      "刘志宏同学，请介绍自己，并以一个标签总结自己\n",
      "蒋陆同学，请介绍自己，并以一个标签总结自己\n",
      "王超同学，请介绍自己，并以一个标签总结自己\n",
      "张路同学，请介绍自己，并以一个标签总结自己\n",
      "刘军同学，请介绍自己，并以一个标签总结自己\n",
      "张伟同学，请介绍自己，并以一个标签总结自己\n",
      "徐军同学，请介绍自己，并以一个标签总结自己\n",
      "曾文同学，请介绍自己，并以一个标签总结自己\n",
      "殷光同学，请介绍自己，并以一个标签总结自己\n",
      "曾路同学，请介绍自己，并以一个标签总结自己\n",
      "高光同学，请介绍自己，并以一个标签总结自己\n",
      "沈刚同学，请介绍自己，并以一个标签总结自己\n",
      "杨牧同学，请介绍自己，并以一个标签总结自己\n",
      "陈洋同学，请介绍自己，并以一个标签总结自己\n",
      "杨昕同学，请介绍自己，并以一个标签总结自己\n",
      "刘文同学，请介绍自己，并以一个标签总结自己\n",
      "欧阳兵同学，请介绍自己，并以一个标签总结自己\n",
      "马兵同学，请介绍自己，并以一个标签总结自己\n",
      "欧阳伟同学，请介绍自己，并以一个标签总结自己\n",
      "欧阳峰同学，请介绍自己，并以一个标签总结自己\n",
      "殷明浩同学，请介绍自己，并以一个标签总结自己\n",
      "杨万里同学，请介绍自己，并以一个标签总结自己\n",
      "所有同学都介绍完了，可以进入下一步了\n"
     ]
    }
   ],
   "source": [
    "# your code here\n",
    "def step_1(names): # 自行设计函数参数\n",
    "    if len(names) == 0:\n",
    "        print('所有同学都介绍完了，可以进入下一步了')\n",
    "    else:\n",
    "        print('%s同学，请介绍自己，并以一个标签总结自己'%(names.pop()))       \n",
    "         \n",
    "# 测试：实际场景中，应该是W老师手动不断调用step_1和step_2函数。\n",
    "# 这里，为了方便展示，用for循环调用31次进行测试\n",
    "print('====step 1====')\n",
    "random_list = list(np.random.permutation(student_names))\n",
    "for i in range(NUM_STD + 1):\n",
    "    step_1(random_list) # 如果有函数参数，请传入\n"
   ]
  },
  {
   "cell_type": "markdown",
   "id": "c393e2aa",
   "metadata": {},
   "source": [
    "#### step 2 的解法\n",
    "\n",
    "这里，a同学的获取，类似于上一步解法三的逻辑，借用np.random.permutation对列表打乱，逐个返回就行\n",
    "\n",
    "对于被描述的同学，每次从一个完整列表中删除同学a，随机获取3、4或者5个，结束后重新加回去。"
   ]
  },
  {
   "cell_type": "code",
   "execution_count": 5,
   "id": "92f8e946",
   "metadata": {},
   "outputs": [
    {
     "name": "stdout",
     "output_type": "stream",
     "text": [
      "====step 2====\n",
      "徐军同学，请说出以下同学的标签：张路，张峰，欧阳兵\n",
      "李牧同学，请说出以下同学的标签：杨昕，蒋华，杨万里\n",
      "欧阳牧同学，请说出以下同学的标签：刘文，沈刚，欧阳伟\n",
      "张伟同学，请说出以下同学的标签：王超，曾文，沈刚\n",
      "沈刚同学，请说出以下同学的标签：陈洋，欧阳牧，杨万里\n",
      "王超同学，请说出以下同学的标签：曾文，刘文，欧阳牧\n",
      "李陆同学，请说出以下同学的标签：孟牧，马兵，张伟\n",
      "陈洋同学，请说出以下同学的标签：李陆，欧阳峰，刘志宏\n",
      "高光同学，请说出以下同学的标签：沈刚，曾路，刘军\n",
      "孟牧同学，请说出以下同学的标签：张伟，张路，欧阳峰\n",
      "曾文同学，请说出以下同学的标签：孟牧，曾路，刘军，徐军\n",
      "杨昕同学，请说出以下同学的标签：刘军，曾文，曾峰，刘志宏\n",
      "蒋陆同学，请说出以下同学的标签：刘志宏，刘军，殷明浩，杨万里\n",
      "刘军同学，请说出以下同学的标签：王超，杨超，蒋陆，欧阳牧\n",
      "殷光同学，请说出以下同学的标签：刘志宏，李牧，蒋陆，刘文\n",
      "殷明浩同学，请说出以下同学的标签：杨昕，蒋陆，孟牧，杨万里\n",
      "欧阳伟同学，请说出以下同学的标签：高光，殷光，杨昕，王超\n",
      "蒋华同学，请说出以下同学的标签：刘志宏，殷明浩，曾文，曾峰\n",
      "张路同学，请说出以下同学的标签：曾峰，陈洋，徐军，王超\n",
      "刘志宏同学，请说出以下同学的标签：马兵，杨牧，殷光，王超\n",
      "张峰同学，请说出以下同学的标签：陈洋，李牧，王超，殷明浩，张路\n",
      "杨万里同学，请说出以下同学的标签：张伟，蒋华，殷光，刘军，曾路\n",
      "杨超同学，请说出以下同学的标签：杨昕，马兵，曾文，张峰，张路\n",
      "刘文同学，请说出以下同学的标签：徐军，刘志宏，欧阳峰，杨超，曾文\n",
      "杨牧同学，请说出以下同学的标签：杨昕，沈刚，曾路，李陆，蒋陆\n",
      "欧阳峰同学，请说出以下同学的标签：殷光，高光，杨超，王超，徐军\n",
      "曾峰同学，请说出以下同学的标签：殷明浩，曾路，徐军，高光，曾文\n",
      "曾路同学，请说出以下同学的标签：曾文，欧阳牧，杨万里，张峰，李陆\n",
      "马兵同学，请说出以下同学的标签：高光，殷明浩，殷光，杨昕，刘文\n",
      "欧阳兵同学，请说出以下同学的标签：高光，杨昕，刘军，刘志宏，王超\n",
      "所有同学都进行了游戏\n"
     ]
    }
   ],
   "source": [
    "# your code here     \n",
    "def step_2(random_list, full_list, NUM_STD): # 自行设计函数参数\n",
    "    if len(random_list) == 0:\n",
    "        print('所有同学都进行了游戏')\n",
    "    else:\n",
    "        order = NUM_STD - len(random_list) + 1 # 这个是第几位同学\n",
    "        if order <= NUM_STD//3:\n",
    "            num_to_describe = 3 # 这位a同学需要描述多少位同学\n",
    "        elif order <= NUM_STD//3 * 2:\n",
    "            num_to_describe = 4\n",
    "        else:\n",
    "            num_to_describe = 5\n",
    "            \n",
    "        std_a = random_list.pop() \n",
    "        \n",
    "        full_list.remove(std_a)\n",
    "        # 写法一：np.random.choide\n",
    "        std_bcd = np.random.choice(full_list, num_to_describe, replace = False) # 从full_list中不重复地选 number_to_describe 人\n",
    "        # 写法二：np.random.permutation\n",
    "        #std_bcd = np.random.permutation(full_list)[:num_to_describe] # 列表打乱后，选取前 num_to_describe 个元素\n",
    "        \n",
    "        print('%s同学，请说出以下同学的标签：%s'%(std_a, '，'.join(std_bcd)))\n",
    "        full_list.append(std_a) # 你也可以在调用 step_2函数的时候，传一个full_list的浅拷贝，这样，就需要这一行了\n",
    "\n",
    "# 测试：实际场景中，应该是W老师手动不断调用step_1和step_2函数。\n",
    "# 这里，为了方便展示，用for循环调用31次进行测试\n",
    "\n",
    "print('====step 2====')\n",
    "random_list = list(np.random.permutation(student_names)) # 所有学生的一个随机打乱\n",
    "full_list = list(student_names).copy() # 完整学生的列表\n",
    "for i in range(NUM_STD + 1):\n",
    "    step_2(random_list, full_list, NUM_STD)\n"
   ]
  },
  {
   "cell_type": "markdown",
   "id": "6154da02",
   "metadata": {},
   "source": [
    "###  Q2. 递归：台阶走法（25分）\n",
    "梯有`n`阶($n\\geq1$)，可以一次上`1`阶或者`3`阶，请问共有几种走法？"
   ]
  },
  {
   "cell_type": "code",
   "execution_count": 7,
   "id": "48222cfb",
   "metadata": {},
   "outputs": [
    {
     "data": {
      "text/plain": [
       "9"
      ]
     },
     "execution_count": 7,
     "metadata": {},
     "output_type": "execute_result"
    }
   ],
   "source": [
    "def f(n):\n",
    "    # base condition\n",
    "    # n == 1: return 1\n",
    "    # n == 2：return 1\n",
    "    # n == 3: return 2\n",
    "    if n <= 2:\n",
    "        return 1\n",
    "    elif n == 3:\n",
    "        return 2\n",
    "    else:\n",
    "        return f(n-1) + f(n-3)\n",
    "                          \n",
    "    # 或者一行\n",
    "    # return f(n-1) + f(n-3) if n>3 else (1 if n<=2 else 2)\n",
    "f(7)"
   ]
  },
  {
   "cell_type": "markdown",
   "id": "0dc64adb",
   "metadata": {},
   "source": [
    "### Q3. NumPy的使用（25分）\n",
    "设 $\\mathbf{A} \\in \\mathbf{P}^{n\\times n}$，且\n",
    "$\\mathbf {A} ={\\begin{bmatrix}\\mathbf {B}&\\mathbf {C}\\\\\\mathbf {D} &\\mathbf {E} \\end{bmatrix}},\\mathbf{B}\\in \\mathbf{P}^{r\\times r}, \\det \\mathbf{B} \\neq 0$.\n",
    "\n",
    "请通过NumPy，随机生成$\\mathbf{A}$。不妨设`n=7`, `r=3`, 数值上，验证 $ \\det \\mathbf{A} = \\det \\mathbf{B} \\cdot \\det (\\mathbf{E} - \\mathbf{D}\\mathbf{B}^{-1}\\mathbf{C}) $. \n",
    "\n",
    "注意，Python无法精确保存float类型的尾部小数，这里只需要等式左边和右边的差值足够小即可（比如，小于1e-6）。\n"
   ]
  },
  {
   "cell_type": "code",
   "execution_count": 9,
   "id": "e7b22a35",
   "metadata": {},
   "outputs": [
    {
     "name": "stdout",
     "output_type": "stream",
     "text": [
      "The difference between LHS and RHS: 0.0\n",
      "Whether the difference is close to 0: True\n"
     ]
    }
   ],
   "source": [
    "# your code here\n",
    "import numpy as np\n",
    "import pandas as pd\n",
    "from numpy import matmul\n",
    "from numpy.linalg import det, inv\n",
    "n, r = 7, 3\n",
    "\n",
    "A = np.random.random([n, n])\n",
    "# 可视化\n",
    "#import pandas as pd\n",
    "#print(pd.DataFrame(A))\n",
    "B = A[:r, :r]\n",
    "C = A[:r, r:]\n",
    "D = A[r:, :r]\n",
    "E = A[r:, r:]\n",
    "\n",
    "left = det(A)\n",
    "right = det(B)*det(E - matmul(matmul(D, inv(B)), C))\n",
    "#right = det(B)*det(E - D@inv(B)@C) # 用 @\n",
    "print(f'The difference between LHS and RHS: {left - right}')\n",
    "print(f'Whether the difference is close to 0: {abs(left-right) < 1e-6}')"
   ]
  }
 ],
 "metadata": {
  "kernelspec": {
   "display_name": "base",
   "language": "python",
   "name": "python3"
  },
  "language_info": {
   "codemirror_mode": {
    "name": "ipython",
    "version": 3
   },
   "file_extension": ".py",
   "mimetype": "text/x-python",
   "name": "python",
   "nbconvert_exporter": "python",
   "pygments_lexer": "ipython3",
   "version": "3.11.5"
  },
  "toc": {
   "base_numbering": 1,
   "nav_menu": {},
   "number_sections": true,
   "sideBar": true,
   "skip_h1_title": false,
   "title_cell": "Table of Contents",
   "title_sidebar": "Contents",
   "toc_cell": false,
   "toc_position": {
    "height": "calc(100% - 180px)",
    "left": "10px",
    "top": "150px",
    "width": "349.091px"
   },
   "toc_section_display": true,
   "toc_window_display": true
  }
 },
 "nbformat": 4,
 "nbformat_minor": 5
}
