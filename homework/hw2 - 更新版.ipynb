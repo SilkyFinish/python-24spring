{
 "cells": [
  {
   "cell_type": "markdown",
   "id": "a1af9a61",
   "metadata": {},
   "source": [
    "Homework 2\n",
    "========\n",
    "\n",
    "程序设计，2024年春季\n",
    "\n",
    "**作业截至日期：2024年4月21日 23:59**\n",
    "\n",
    "**注:**\n",
    "* 将答案写在每个题目下方，__并运行，展示结果__。最后将`*.ipynb`文件打包成zip或者rar文件，命名成`名字-学号.zip`或者`名字-学号.rar`，上传至canvas。做作业过程中，__切记随手保存__。\n",
    "* 对于代码，请根据思路适当添加空行和注释，方便理解。\n",
    "* 如有参考同学的代码，请在题目代码第一行通过注释标明其学号；若无标明，发现抄袭以0分计。\n",
    "* 目前课程覆盖范围足够解答以下题目。如果之前学过Python,允许使用未学过的知识点。\n",
    "\n"
   ]
  },
  {
   "cell_type": "markdown",
   "id": "e5b5a52f",
   "metadata": {},
   "source": [
    "### Q1. 数字和滑动窗口（15分）\n",
    "任务：给定一个数字列表 `nums` 和滑动窗口的大小 `k`，请输出所有滑动窗口里的最大值（你可以假定`nums`全是数字，`k`是有效的值）。\n",
    "\n",
    "> 假定： `nums = [1,3,-1,-3,5,3,6,7]`和`k = 3`  \n",
    "> 输出：`[3,3,5,5,6,7] `\n",
    "\n",
    "解释如下:\n",
    "\n",
    "|滑动窗口的位置   |             最大值|\n",
    "|-|-|\n",
    "|`[1  3  -1] -3  5  3  6  7`      |3|\n",
    "|`1 [3  -1  -3] 5  3  6  7`       |3|\n",
    "|`1  3 [-1  -3  5] 3  6  7 `      |5|\n",
    "|`1  3  -1 [-3  5  3] 6  7 `      |5|\n",
    "|`1  3  -1  -3 [5  3  6] 7 `      |6|\n",
    "|`1  3  -1  -3  5 [3  6  7]`      |7|"
   ]
  },
  {
   "cell_type": "code",
   "execution_count": 1,
   "id": "82c17119",
   "metadata": {},
   "outputs": [
    {
     "data": {
      "text/plain": [
       "[3, 3, 5, 5, 6, 7]"
      ]
     },
     "execution_count": 1,
     "metadata": {},
     "output_type": "execute_result"
    }
   ],
   "source": [
    "num = [1,3,-1,-3,5,3,6,7]\n",
    "k = 3\n",
    "### your code here\n",
    "i=0\n",
    "maxlist=[]\n",
    "while i<=(len(num)-k):\n",
    "    List=[num[i],num[i+1],num[i+2]]\n",
    "    maxnumber=0\n",
    "    for number in List:\n",
    "        if number>=maxnumber:\n",
    "            maxnumber=number\n",
    "    maxlist.append(maxnumber)\n",
    "    i+=1\n",
    "maxlist\n",
    "    \n"
   ]
  },
  {
   "cell_type": "code",
   "execution_count": null,
   "id": "c89a27b1",
   "metadata": {},
   "outputs": [],
   "source": [
    "#答案\n",
    "num = [1,3,-1,-3,5,3,6,7]\n",
    "k = 3\n",
    "### your code here\n",
    "\n",
    "output = []\n",
    "n = len(num)-k+1\n",
    "for i in range(n):\n",
    "    output.append(max(num[i:i+k]))#max(List): 返回元素最大值。类似地还有min, sum。通用函数，适用于任意可迭代对象！这样一次性取加找最大都完成\n",
    "print('所有滑动窗口里的最大值为：', output)"
   ]
  },
  {
   "cell_type": "markdown",
   "id": "7dc7c900",
   "metadata": {},
   "source": [
    "### Q2.  颠倒大小写（15分）\n",
    "在第一次作业中，我们知道字符串的`swapcase()`函数可以颠倒字符串中`英文字符`的大小写。该题将实现类似功能。\n",
    "\n",
    "任务：提示输入一个句子（假设只包含英文字符，数字和标点符号），实现`swapcase`的功能，并打印结果。\n",
    "\n",
    "示例:\n",
    "\n",
    "> 输入: `This is 2 Great!`  \n",
    "> 输出: `tHIS IS 2 gREAT!` "
   ]
  },
  {
   "cell_type": "code",
   "execution_count": 4,
   "id": "af82bd6c",
   "metadata": {},
   "outputs": [
    {
     "data": {
      "text/plain": [
       "'tHIS IS 2 gREAT!'"
      ]
     },
     "execution_count": 4,
     "metadata": {},
     "output_type": "execute_result"
    }
   ],
   "source": [
    "### your code here\n",
    "Str=input(\"请输入一个句子\")\n",
    "List=[]\n",
    "for char in Str:\n",
    "    if char >='a'and char <='z':\n",
    "        char=char.upper()\n",
    "    elif char>='A'and char<='Z':\n",
    "        char=char.lower()\n",
    "    List.append(char)\n",
    "Strnew=''.join(List)\n",
    "Strnew\n",
    "    \n",
    "        \n",
    "\n"
   ]
  },
  {
   "cell_type": "code",
   "execution_count": null,
   "id": "ae67d82a",
   "metadata": {},
   "outputs": [],
   "source": [
    "#答案\n",
    "#哈哈哈，这个方法没有我的方法好欸\n",
    "Str = input('please input a string: ')\n",
    "List = [] # 用于保存新数据\n",
    "\n",
    "gap = ord('A') - ord('a') # gap between a-z and A-Z\n",
    "for char in Str:\n",
    "    if char >= 'a' and char <= 'z':\n",
    "        List.append(chr(ord(char) + gap))\n",
    "    elif char >= 'A' and char <= 'Z':\n",
    "        List.append(chr(ord(char) - gap))\n",
    "    else:\n",
    "        List.append(char)\n",
    "print('Str after swapcase: %s'%(''.join(List)))"
   ]
  },
  {
   "cell_type": "markdown",
   "id": "631d07af",
   "metadata": {},
   "source": [
    "### Q3. 寻找丑数 （15分）\n",
    "“丑数”指只包含质因数 2、3 和 5 的正整数。\n",
    "\n",
    "任务：请寻找`[2,50]`范围的所有丑数，并打印结果。\n",
    "\n",
    "注：禁止直接使用python自带的分解质因数相关函数。"
   ]
  },
  {
   "cell_type": "code",
   "execution_count": 8,
   "id": "7d25c253",
   "metadata": {},
   "outputs": [
    {
     "data": {
      "text/plain": [
       "[2,\n",
       " 3,\n",
       " 4,\n",
       " 5,\n",
       " 6,\n",
       " 8,\n",
       " 9,\n",
       " 10,\n",
       " 12,\n",
       " 15,\n",
       " 16,\n",
       " 18,\n",
       " 20,\n",
       " 24,\n",
       " 25,\n",
       " 27,\n",
       " 30,\n",
       " 32,\n",
       " 36,\n",
       " 40,\n",
       " 45,\n",
       " 48,\n",
       " 50]"
      ]
     },
     "execution_count": 8,
     "metadata": {},
     "output_type": "execute_result"
    }
   ],
   "source": [
    "# your code here\n",
    "uglynumber=[]\n",
    "for number in range(2,51):\n",
    "    List=[]\n",
    "    a=0\n",
    "    number1=number\n",
    "    for num in range(2,number1+1):\n",
    "        while number1%num==0:\n",
    "            List.append(num)\n",
    "            number1=number1//num\n",
    "        if number1==1:\n",
    "            break #分解质因数的办法\n",
    "    for item in List:\n",
    "        if item in[2,3,5]:\n",
    "            continue\n",
    "        else:\n",
    "            a=1\n",
    "            break\n",
    "    if a==0:\n",
    "        uglynumber.append(number)\n",
    "uglynumber\n",
    "\n",
    "\n",
    "            \n",
    "\n"
   ]
  },
  {
   "cell_type": "code",
   "execution_count": null,
   "id": "726723da",
   "metadata": {},
   "outputs": [],
   "source": [
    "#答案\n",
    "# **思路**：本题可以有多种思路，一种比较高效的思路是每轮都除于2、3、5，直到为1，或者某一轮无法被2、3、5当中的任何一个数整除。\n",
    "ugly_values = [] #用于存储丑数\n",
    "for value in range(2,51):\n",
    "    raw_value=value\n",
    "    while value%2==0:\n",
    "        value/=2\n",
    "    while value%3==0:\n",
    "        value/=3\n",
    "    while value%5==0:\n",
    "        value/=5\n",
    "    if value==1:\n",
    "         ugly_values.append(raw_value)\n",
    "print('丑数有：',ugly_values)"
   ]
  },
  {
   "cell_type": "markdown",
   "id": "f5587a65",
   "metadata": {},
   "source": [
    "### Q4. 罗马数字转整数（15分）\n",
    "\n",
    "罗马数字包含以下七种字符: `I`， `V`， `X`， `L`，`C`，`D` 和 `M`来表示数字。\n",
    "\n",
    "| 字符 | 数值 |\n",
    "|:------|:------|\n",
    "| `I`    | `1`    |\n",
    "| `V`    | `5`    |\n",
    "| `X`    | `10`   |\n",
    "| `L`    | `50`   |\n",
    "| `C`    | `100`  |\n",
    "| `D`   | `500`  |\n",
    "| `M`    | `1000` |\n",
    "\n",
    "例如， 罗马数字 `2` 写做 `II` ，即为两个并列的 `I` 。`12` 写做 `XII` ，即为 `X + II` 。 `27` 写做`XXVII`, 即为 `XX + V + II` 。\n",
    "\n",
    "通常情况下，罗马数字中小的字符在大的字符的右边。但也存在特例，例如 `4` 不写做 `IIII`，而是 `IV`。这里小的字符 `I` 在大的字符 `V` 的左边，所表示的数等于 `V` 减 `I` 得到的数值 `4` 。同样地，数字 `9` 表示为 `IX`。这个特殊的规则只适用于以下六种情况：\n",
    "\n",
    "* `I` 可以放在 `V (5)` 和 `X (10)` 的左边，来表示 `4` 和 `9`\n",
    "* `X` 可以放在 `L (50)` 和 `C (100)` 的左边，来表示 `40` 和 `90`。 \n",
    "* `C` 可以放在 `D (500)` 和 `M (1000)` 的左边，来表示 `400` 和 `900`。\n",
    "\n",
    "任务：提示输入一个罗马数字（字符串形式），将其转换成整数输出。这里均假设给定的罗马数字符合规范。"
   ]
  },
  {
   "cell_type": "markdown",
   "id": "cd910e2b",
   "metadata": {},
   "source": [
    "示例 1:\n",
    "\n",
    "> 输入: `s = \"III\"`  \n",
    "> 输出: `3 ` \n",
    "\n",
    "示例 2:\n",
    "\n",
    "> 输入: `s = \"IV\"`  \n",
    "> 输出: `4`\n",
    "\n",
    "示例 3:\n",
    "\n",
    "> 输入: `s = \"IX\"`  \n",
    "> 输出: `9`\n",
    "\n",
    "示例 4:\n",
    "\n",
    "> 输入: `s = \"LVIII\"`  \n",
    "> 输出: `58`\n",
    "> 解释: `L = 50, V= 5, III = 3`.\n",
    "\n",
    "示例 5:\n",
    "\n",
    "> 输入: `s = \"MCMXCIV\"`  \n",
    "> 输出: `1994`\n",
    "> 解释: `M = 1000, CM = 900, XC = 90, IV = 4`.\n"
   ]
  },
  {
   "cell_type": "code",
   "execution_count": 30,
   "id": "16cdbf5e",
   "metadata": {},
   "outputs": [
    {
     "data": {
      "text/plain": [
       "1994"
      ]
     },
     "execution_count": 30,
     "metadata": {},
     "output_type": "execute_result"
    }
   ],
   "source": [
    "# your code here\n",
    "Str=input('请输入一个罗马数字')\n",
    "sum=0\n",
    "dict={'I':1,'V':5,'X':10,'L':50,'C':100,'D':500,'M':1000}\n",
    "i=0\n",
    "while i<(len(Str)-1):\n",
    "    if Str[i]=='I':\n",
    "        if Str[i+1]=='V':\n",
    "            sum+=4\n",
    "            i+=2\n",
    "        elif Str[i+1]=='X':\n",
    "            sum+=9\n",
    "            i+=2\n",
    "        else:\n",
    "            sum+=1\n",
    "            i+=1\n",
    "    elif Str[i]=='X':\n",
    "        if Str[i+1]=='L':\n",
    "            sum+=40\n",
    "            i+=2\n",
    "        elif Str[i+1]=='C':\n",
    "            sum+=90\n",
    "            i+=2\n",
    "        else:\n",
    "            sum+=10\n",
    "            i+=1\n",
    "    elif Str[i]=='C':\n",
    "        if Str[i+1]=='D':\n",
    "            sum+=400\n",
    "            i+=2\n",
    "        elif Str[i+1]=='M':\n",
    "            sum+=900\n",
    "            i+=2\n",
    "        else:\n",
    "            sum+=100\n",
    "            i+=1\n",
    "    else:\n",
    "        sum+=dict[Str[i]]\n",
    "        i+=1\n",
    "if i==(len(Str)-1):\n",
    "    sum+=dict[Str[i]]\n",
    "sum\n",
    "\n",
    "    \n",
    "\n"
   ]
  },
  {
   "cell_type": "code",
   "execution_count": null,
   "id": "d468eb37",
   "metadata": {},
   "outputs": [],
   "source": [
    "#答案\n",
    "#就是说，一个一个写特殊的太麻烦了，如果有一万个特殊情况呢？所以要找这些特殊情况的共同特征啊\n",
    "dic = {\n",
    "        'I': 1,\n",
    "        'V': 5,\n",
    "        'X': 10,\n",
    "        'L': 50,\n",
    "        'C': 100,\n",
    "        'D': 500,\n",
    "        'M': 1000,\n",
    "    }\n",
    "\n",
    "Str = 'MCMXCIV'\n",
    "\n",
    "ans = 0\n",
    "for i, char in enumerate(Str):\n",
    "    value = dic[char]\n",
    "    if i < len(Str) - 1 and value < dic[Str[i + 1]]:#特殊情况的共同特征就是，如果右边的比自己大，那就要减这个数\n",
    "        ans -= value\n",
    "    else:\n",
    "        ans += value\n",
    "\n",
    "print(f\"{Str} -> {ans}\")"
   ]
  },
  {
   "cell_type": "markdown",
   "id": "7c48475f",
   "metadata": {},
   "source": [
    "### Q5. 输入数字字符串并找出最长的不重复子字符串（20分）\n",
    "提示用户输入一个任意长度且只包含数字字符（0-9）的字符串digitString，如果用户输入的字符串包含非数字字符，则提示用户重新尝试输入，最多可以尝试的次数为maxTrial=5。\n",
    "* 如果用户在规定次数内没有输入一个满足条件的数字字符串digitString，则输出“End”并结束程序\n",
    "* 如果用户在规定次数内成功输入了一个数字字符串digitString，则在该字符串中找出一个最长的不包含重复字符的子字符串（如果有多个等长的最长子字符串，则找出其中任意一个即可），并将该最长子字符串转换成int类型的整数后输出。\n",
    "\n",
    "下面是三个个示例：\n",
    "* 示例1：假设用户在3次尝试内成功输入了一个数字字符串\"31415926\"，则输出415926\n",
    "* 示例2：假设用户在5次尝试内成功输入了一个数字字符串“666666”，则输出6\n",
    "* 示例3：假设用户在5次尝试内没有成功输入一个数字字符串，则输出“End”\n"
   ]
  },
  {
   "cell_type": "code",
   "execution_count": 38,
   "id": "b97bba71",
   "metadata": {},
   "outputs": [
    {
     "name": "stdout",
     "output_type": "stream",
     "text": [
      "415926\n"
     ]
    }
   ],
   "source": [
    "# your code here\n",
    "a=0\n",
    "b=0\n",
    "\n",
    "while a<=4:\n",
    "    Str=input(\"请输入一个任意长度且只包含数字字符0~9的字符串\")\n",
    "    if Str.isdigit()==False:\n",
    "        print(\"请重新尝试输入\")\n",
    "        a+=1\n",
    "        continue\n",
    "    else:\n",
    "        b=1\n",
    "        i=0\n",
    "        List=[]\n",
    "        while i<len(Str):\n",
    "            stri=Str[i:]\n",
    "            str1=\"\"\n",
    "            for char in stri:\n",
    "                if char not in str1:\n",
    "                    str1+=char\n",
    "                else:\n",
    "                    break\n",
    "            List.append(str1)\n",
    "            i+=1\n",
    "        break\n",
    "if b==1:\n",
    "    longest=\"\"\n",
    "    for string in List:\n",
    "        if len(string)>len(longest):\n",
    "            longest=string\n",
    "    print(int(longest))\n",
    "else:\n",
    "    print(\"End\")\n"
   ]
  },
  {
   "cell_type": "code",
   "execution_count": null,
   "id": "daf6b630",
   "metadata": {},
   "outputs": [],
   "source": [
    "#答案\n",
    "Number=input(\"请输入只含有数字的字符串:\")\n",
    "trial = 1\n",
    "while trial<5 and not Number.isdigit():\n",
    "    Number=input('请重新输入:')\n",
    "    trial+=1\n",
    "if trial==5 and not Number.isdigit():\n",
    "    print('End')\n",
    "else:\n",
    "    Max_length = 0\n",
    "    Number_max = 0\n",
    "    for j in range(len(Number)): # i代表遍历子串的起始索引\n",
    "        for k in range(j,len(Number)): # j代表遍历子串的结束索引（包含）\n",
    "            if len(set(Number[j:k+1])) == k+1-j and k+1-j > Max_length:\n",
    "                #那个时候还没学，现在学了集合就应该知道了怎么判断有没有重复字符了吧！len（set（））=len（）\n",
    "                #这里找不重复和找最大一步搞定，而且几乎不用找到放一起再去比较，比他大就直接换掉\n",
    "                Max_length = k+1-j\n",
    "                Number_max=int(Number[j:k+1])\n",
    "    print(Number_max)"
   ]
  },
  {
   "cell_type": "markdown",
   "id": "b9d63a19",
   "metadata": {},
   "source": [
    "### Q6. 顺时针打印方阵（20分）\n",
    "\n",
    "任务：对于给定的一个方阵（即，行数和列数相同的矩阵），从左上角开始，顺时针的顺序逐圈打印数字。\n",
    "\n",
    "注：你写的代码要适用于不同大小的方阵。\n",
    "\n",
    "例如：\n",
    "\n",
    "> 给定：`matrix = [[1,2,3,4],[5,6,7,8],[9,10,11,12],[13,14,15,16]]`  \n",
    "> 代码需要依次打印：1,2,3,4,8,12,16,15,14,13,9,5,6,7,11,10\n",
    "\n",
    "> 给定：`matrix = [[1,2,3],[4,5,6],[7,8,9]]`  \n",
    "> 代码需要依次打印：1,2,3,6,9,8,7,4,5"
   ]
  },
  {
   "cell_type": "code",
   "execution_count": 73,
   "id": "41cd4583",
   "metadata": {},
   "outputs": [
    {
     "name": "stdout",
     "output_type": "stream",
     "text": [
      "请只读数字部分 [1, 2, 3, 4, 8, 12, 16, 15, 14, 13, 9, 5, 6, 7, 11, 10, '', '', '', '', '']\n"
     ]
    }
   ],
   "source": [
    "matrix = [[1,2,3,4],[5,6,7,8],[9,10,11,12],[13,14,15,16]]\n",
    "#matrix = [[1,2,3],[4,5,6],[7,8,9]]\n",
    "# your codes here\n",
    "lines=len(matrix)\n",
    "rows=len(matrix[0])\n",
    "matrixt=[]\n",
    "box=[]\n",
    "circle=[]\n",
    "for i in range(1,rows+1):\n",
    "    row=[]\n",
    "    for line in matrix:\n",
    "        row.append(line[i-1])\n",
    "    matrixt.append(row)\n",
    "x=0\n",
    "while x<=((lines-1)//2):\n",
    "    box.append(matrix[x])\n",
    "    box.append(matrixt[lines-1-x])\n",
    "    box.append(matrix[lines-1-x])\n",
    "    box.append(matrixt[x])\n",
    "    x+=1\n",
    "i=2\n",
    "while i<=(len(box)-1):\n",
    "    if i<(len(box)-1):\n",
    "        box[i]=box[i][::-1]\n",
    "        box[i+1]=box[i+1][::-1]\n",
    "    else:\n",
    "        box[i]=box[i][::-1]\n",
    "    i+=4\n",
    "for list in box:\n",
    "    for number in list:\n",
    "        circle.append(number)\n",
    "y=1\n",
    "while y<len(circle):\n",
    "    for z in range(0,y):\n",
    "        if circle[z]==circle[y]:\n",
    "            circle[y]=''\n",
    "    y+=1\n",
    "for char in circle:\n",
    "    if char =='':\n",
    "        circle.remove(char)\n",
    "print(\"请只读数字部分\",circle)\n",
    "\n",
    "\n",
    "\n",
    "\n",
    "\n"
   ]
  },
  {
   "cell_type": "code",
   "execution_count": 1,
   "id": "82f2e914",
   "metadata": {},
   "outputs": [
    {
     "name": "stdout",
     "output_type": "stream",
     "text": [
      "1\n",
      "2\n",
      "3\n",
      "4\n",
      "8\n",
      "12\n",
      "16\n",
      "15\n",
      "14\n",
      "13\n",
      "9\n",
      "5\n",
      "6\n",
      "7\n",
      "11\n",
      "10\n"
     ]
    }
   ],
   "source": [
    "#答案\n",
    "matrix = [[1,2,3,4],[5,6,7,8],[9,10,11,12],[13,14,15,16]]\n",
    "# matrix = [[1,2,3],[4,5,6],[7,8,9]]\n",
    "# your codes here\n",
    "\n",
    "n = len(matrix) # 行数或者列数\n",
    "\n",
    "left, right, top, bottom = 0, n - 1, 0, n - 1 # 分别指代上下左右还未打印的边缘\n",
    "for i in range(n//2): # num_printed 代表之前已经打印了几圈，初始值为0 \n",
    "    for j in range(left, right): # 打印第一行\n",
    "        print(matrix[top][j]) #取第一行的同时又取了每个字符又同时打印了，三步放一起\n",
    "    for j in range(top, bottom ): # 打印最后一列\n",
    "        print(matrix[j][right]) #也就是说不需要单独取出来形成列，直接在行里面取就可以了\n",
    "    for j in range(right, left , -1): # 打印最后一行 #这个也是，range也可以步长-1！直接倒着取！\n",
    "        print(matrix[bottom][j])\n",
    "    for j in range(bottom, top, -1): # 打印第一列\n",
    "        print(matrix[j][left])\n",
    "    left, right, top, bottom = left + 1, right - 1, top + 1, bottom - 1\n",
    "if n % 2 == 1: # 如果奇数圈，则还需要打印最中间的元素\n",
    "    print(matrix[n//2][n//2])"
   ]
  }
 ],
 "metadata": {
  "kernelspec": {
   "display_name": "Python 3 (ipykernel)",
   "language": "python",
   "name": "python3"
  },
  "language_info": {
   "codemirror_mode": {
    "name": "ipython",
    "version": 3
   },
   "file_extension": ".py",
   "mimetype": "text/x-python",
   "name": "python",
   "nbconvert_exporter": "python",
   "pygments_lexer": "ipython3",
   "version": "3.11.5"
  },
  "toc": {
   "base_numbering": 1,
   "nav_menu": {},
   "number_sections": false,
   "sideBar": true,
   "skip_h1_title": false,
   "title_cell": "Table of Contents",
   "title_sidebar": "Contents",
   "toc_cell": false,
   "toc_position": {
    "height": "calc(100% - 180px)",
    "left": "10px",
    "top": "150px",
    "width": "384px"
   },
   "toc_section_display": true,
   "toc_window_display": true
  }
 },
 "nbformat": 4,
 "nbformat_minor": 5
}
