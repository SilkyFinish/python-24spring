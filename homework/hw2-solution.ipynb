{
 "cells": [
  {
   "cell_type": "markdown",
   "id": "a1af9a61",
   "metadata": {},
   "source": [
    "Homework 2\n",
    "========\n",
    "\n",
    "程序设计，2024年春季\n",
    "\n",
    "**作业截至日期：2024年4月21日 23:59**\n",
    "\n",
    "**注:**\n",
    "* 将答案写在每个题目下方，__并运行，展示结果__。最后将`*.ipynb`文件打包成zip或者rar文件，命名成`名字-学号.zip`或者`名字-学号.rar`，上传至canvas。做作业过程中，__切记随手保存__。\n",
    "* 对于代码，请根据思路适当添加空行和注释，方便理解。\n",
    "* 如有参考同学的代码，请在题目代码第一行通过注释标明其学号；若无标明，发现抄袭以0分计。\n",
    "* 目前课程覆盖范围足够解答以下题目。如果之前学过Python,允许使用未学过的知识点。\n",
    "\n"
   ]
  },
  {
   "cell_type": "markdown",
   "id": "e5b5a52f",
   "metadata": {},
   "source": [
    "### Q1. 数字和滑动窗口（15分）\n",
    "任务：给定一个数字列表 `nums` 和滑动窗口的大小 `k`，请输出所有滑动窗口里的最大值（你可以假定`nums`全是数字，`k`是有效的值）。\n",
    "\n",
    "> 假定： `nums = [1,3,-1,-3,5,3,6,7]`和`k = 3`  \n",
    "> 输出：`[3,3,5,5,6,7] `\n",
    "\n",
    "解释如下:\n",
    "\n",
    "|滑动窗口的位置   |             最大值|\n",
    "|-|-|\n",
    "|`[1  3  -1] -3  5  3  6  7`      |3|\n",
    "|`1 [3  -1  -3] 5  3  6  7`       |3|\n",
    "|`1  3 [-1  -3  5] 3  6  7 `      |5|\n",
    "|`1  3  -1 [-3  5  3] 6  7 `      |5|\n",
    "|`1  3  -1  -3 [5  3  6] 7 `      |6|\n",
    "|`1  3  -1  -3  5 [3  6  7]`      |7|"
   ]
  },
  {
   "cell_type": "code",
   "execution_count": null,
   "id": "82c17119",
   "metadata": {},
   "outputs": [
    {
     "name": "stdout",
     "output_type": "stream",
     "text": [
      "[1, 3, -1, -3, 5, 3, 6, 7]\n",
      "所有滑动窗口里的最大值为： [3, 3, 5, 5, 6, 7]\n"
     ]
    }
   ],
   "source": [
    "num = [1,3,-1,-3,5,3,6,7]\n",
    "k = 3\n",
    "### your code here\n",
    "\n",
    "output = []\n",
    "n = len(num)-k+1\n",
    "for i in range(n):\n",
    "    output.append(max(num[i:i+k]))\n",
    "print('所有滑动窗口里的最大值为：', output)"
   ]
  },
  {
   "cell_type": "markdown",
   "id": "7dc7c900",
   "metadata": {},
   "source": [
    "### Q2.  颠倒大小写（15分）\n",
    "在第一次作业中，我们知道字符串的`swapcase()`函数可以颠倒字符串中`英文字符`的大小写。该题将实现类似功能。\n",
    "\n",
    "任务：提示输入一个句子（假设只包含英文字符，数字和标点符号），实现`swapcase`的功能，并打印结果。\n",
    "\n",
    "示例:\n",
    "\n",
    "> 输入: `This is 2 Great!`  \n",
    "> 输出: `tHIS IS 2 gREAT!` "
   ]
  },
  {
   "cell_type": "code",
   "execution_count": 71,
   "id": "af82bd6c",
   "metadata": {},
   "outputs": [
    {
     "name": "stdout",
     "output_type": "stream",
     "text": [
      "please input a string:This is 2 Great!\n",
      "Str after swapcase: tHIS IS 2 gREAT!\n"
     ]
    }
   ],
   "source": [
    "### your code here\n",
    "Str = input('please input a string: ')\n",
    "List = [] # 用于保存新数据\n",
    "\n",
    "gap = ord('A') - ord('a') # gap between a-z and A-Z\n",
    "for char in Str:\n",
    "    if char >= 'a' and char <= 'z':\n",
    "        List.append(chr(ord(char) + gap))\n",
    "    elif char >= 'A' and char <= 'Z':\n",
    "        List.append(chr(ord(char) - gap))\n",
    "    else:\n",
    "        List.append(char)\n",
    "print('Str after swapcase: %s'%(''.join(List)))"
   ]
  },
  {
   "cell_type": "markdown",
   "id": "631d07af",
   "metadata": {},
   "source": [
    "### Q3. 寻找丑数 （15分）\n",
    "“丑数”指只包含质因数 2、3 和 5 的正整数。\n",
    "\n",
    "任务：请寻找`[2,50]`范围的所有丑数，并打印结果。\n",
    "\n",
    "注：禁止直接使用python自带的分解质因数相关函数。"
   ]
  },
  {
   "cell_type": "markdown",
   "id": "e33238fc",
   "metadata": {},
   "source": [
    "**思路**：本题可以有多种思路，一种比较高效的思路是每轮都除于2、3、5，直到为1，或者某一轮无法被2、3、5当中的任何一个数整除。"
   ]
  },
  {
   "cell_type": "code",
   "execution_count": 1,
   "id": "7d25c253",
   "metadata": {},
   "outputs": [
    {
     "name": "stdout",
     "output_type": "stream",
     "text": [
      "丑数有： [2, 3, 4, 5, 6, 8, 9, 10, 12, 15, 16, 18, 20, 24, 25, 27, 30, 32, 36, 40, 45, 48, 50]\n"
     ]
    }
   ],
   "source": [
    "# your code here\n",
    "# **思路**：本题可以有多种思路，一种比较高效的思路是每轮都除于2、3、5，直到为1，或者某一轮无法被2、3、5当中的任何一个数整除。\n",
    "ugly_values = [] #用于存储丑数\n",
    "for value in range(2,51):\n",
    "    raw_value=value\n",
    "    while value%2==0:\n",
    "        value/=2\n",
    "    while value%3==0:\n",
    "        value/=3\n",
    "    while value%5==0:\n",
    "        value/=5\n",
    "    if value==1:\n",
    "         ugly_values.append(raw_value)\n",
    "print('丑数有：',ugly_values)"
   ]
  },
  {
   "cell_type": "markdown",
   "id": "f5587a65",
   "metadata": {},
   "source": [
    "### Q4. 罗马数字转整数（15分）\n",
    "\n",
    "罗马数字包含以下七种字符: `I`， `V`， `X`， `L`，`C`，`D` 和 `M`来表示数字。\n",
    "\n",
    "| 字符 | 数值 |\n",
    "|:------|:------|\n",
    "| `I`    | `1`    |\n",
    "| `V`    | `5`    |\n",
    "| `X`    | `10`   |\n",
    "| `L`    | `50`   |\n",
    "| `C`    | `100`  |\n",
    "| `D`   | `500`  |\n",
    "| `M`    | `1000` |\n",
    "\n",
    "例如， 罗马数字 `2` 写做 `II` ，即为两个并列的 `I` 。`12` 写做 `XII` ，即为 `X + II` 。 `27` 写做`XXVII`, 即为 `XX + V + II` 。\n",
    "\n",
    "通常情况下，罗马数字中小的字符在大的字符的右边。但也存在特例，例如 `4` 不写做 `IIII`，而是 `IV`。这里小的字符 `I` 在大的字符 `V` 的左边，所表示的数等于 `V` 减 `I` 得到的数值 `4` 。同样地，数字 `9` 表示为 `IX`。这个特殊的规则只适用于以下六种情况：\n",
    "\n",
    "* `I` 可以放在 `V (5)` 和 `X (10)` 的左边，来表示 `4` 和 `9`\n",
    "* `X` 可以放在 `L (50)` 和 `C (100)` 的左边，来表示 `40` 和 `90`。 \n",
    "* `C` 可以放在 `D (500)` 和 `M (1000)` 的左边，来表示 `400` 和 `900`。\n",
    "\n",
    "任务：提示输入一个罗马数字（字符串形式），将其转换成整数输出。这里均假设给定的罗马数字符合规范。"
   ]
  },
  {
   "cell_type": "markdown",
   "id": "cd910e2b",
   "metadata": {},
   "source": [
    "示例 1:\n",
    "\n",
    "> 输入: `s = \"III\"`  \n",
    "> 输出: `3 ` \n",
    "\n",
    "示例 2:\n",
    "\n",
    "> 输入: `s = \"IV\"`  \n",
    "> 输出: `4`\n",
    "\n",
    "示例 3:\n",
    "\n",
    "> 输入: `s = \"IX\"`  \n",
    "> 输出: `9`\n",
    "\n",
    "示例 4:\n",
    "\n",
    "> 输入: `s = \"LVIII\"`  \n",
    "> 输出: `58`\n",
    "> 解释: `L = 50, V= 5, III = 3`.\n",
    "\n",
    "示例 5:\n",
    "\n",
    "> 输入: `s = \"MCMXCIV\"`  \n",
    "> 输出: `1994`\n",
    "> 解释: `M = 1000, CM = 900, XC = 90, IV = 4`.\n"
   ]
  },
  {
   "cell_type": "code",
   "execution_count": 2,
   "id": "16cdbf5e",
   "metadata": {},
   "outputs": [
    {
     "name": "stdout",
     "output_type": "stream",
     "text": [
      "MCMXCIV -> 1994\n"
     ]
    }
   ],
   "source": [
    "# your code here\n",
    "\n",
    "dic = {\n",
    "        'I': 1,\n",
    "        'V': 5,\n",
    "        'X': 10,\n",
    "        'L': 50,\n",
    "        'C': 100,\n",
    "        'D': 500,\n",
    "        'M': 1000,\n",
    "    }\n",
    "\n",
    "Str = 'MCMXCIV'\n",
    "\n",
    "ans = 0\n",
    "for i, char in enumerate(Str):\n",
    "    value = dic[char]\n",
    "    if i < len(Str) - 1 and value < dic[Str[i + 1]]:\n",
    "        ans -= value\n",
    "    else:\n",
    "        ans += value\n",
    "\n",
    "print(f\"{Str} -> {ans}\")"
   ]
  },
  {
   "cell_type": "markdown",
   "id": "7c48475f",
   "metadata": {},
   "source": [
    "### Q5. 输入数字字符串并找出最长的不重复子字符串（20分）\n",
    "提示用户输入一个任意长度且只包含数字字符（0-9）的字符串digitString，如果用户输入的字符串包含非数字字符，则提示用户重新尝试输入，最多可以尝试的次数为maxTrial=5。\n",
    "* 如果用户在规定次数内没有输入一个满足条件的数字字符串digitString，则输出“End”并结束程序\n",
    "* 如果用户在规定次数内成功输入了一个数字字符串digitString，则在该字符串中找出一个最长的不包含重复字符的子字符串（如果有多个等长的最长子字符串，则找出其中任意一个即可），并将该最长子字符串转换成int类型的整数后输出。\n",
    "\n",
    "下面是三个个示例：\n",
    "* 示例1：假设用户在3次尝试内成功输入了一个数字字符串\"31415926\"，则输出415926\n",
    "* 示例2：假设用户在5次尝试内成功输入了一个数字字符串“666666”，则输出6\n",
    "* 示例3：假设用户在5次尝试内没有成功输入一个数字字符串，则输出“End”\n"
   ]
  },
  {
   "cell_type": "code",
   "execution_count": 2,
   "id": "b97bba71",
   "metadata": {},
   "outputs": [
    {
     "name": "stdout",
     "output_type": "stream",
     "text": [
      "请输入只含有数字的字符串:666\n",
      "0\n"
     ]
    }
   ],
   "source": [
    "Number=input(\"请输入只含有数字的字符串:\")\n",
    "trial = 1\n",
    "while trial<5 and not Number.isdigit():\n",
    "    Number=input('请重新输入:')\n",
    "    trial+=1\n",
    "if trial==5 and not Number.isdigit():\n",
    "    print('End')\n",
    "else:\n",
    "    Max_length = 0\n",
    "    Number_max = 0\n",
    "    for j in range(len(Number)): # i代表遍历子串的起始索引\n",
    "        for k in range(j,len(Number)): # j代表遍历子串的结束索引（包含）\n",
    "            if len(set(Number[j:k+1])) == k+1-j and k+1-j > Max_length:\n",
    "                Max_length = k+1-j\n",
    "                Number_max=int(Number[j:k+1])\n",
    "    print(Number_max)"
   ]
  },
  {
   "cell_type": "markdown",
   "id": "b9d63a19",
   "metadata": {},
   "source": [
    "### Q6. 顺时针打印方阵（20分）\n",
    "\n",
    "任务：对于给定的一个方阵（即，行数和列数相同的矩阵），从左上角开始，顺时针的顺序逐圈打印数字。\n",
    "\n",
    "注：你写的代码要适用于不同大小的方阵。\n",
    "\n",
    "例如：\n",
    "\n",
    "> 给定：`matrix = [[1,2,3,4],[5,6,7,8],[9,10,11,12],[13,14,15,16]]`  \n",
    "> 代码需要依次打印：1,2,3,4,8,12,16,15,14,13,9,5,6,7,11,10\n",
    "\n",
    "> 给定：`matrix = [[1,2,3],[4,5,6],[7,8,9]]`  \n",
    "> 代码需要依次打印：1,2,3,6,9,8,7,4,5"
   ]
  },
  {
   "cell_type": "code",
   "execution_count": 4,
   "id": "41cd4583",
   "metadata": {},
   "outputs": [
    {
     "name": "stdout",
     "output_type": "stream",
     "text": [
      "1\n",
      "2\n",
      "3\n",
      "6\n",
      "9\n",
      "8\n",
      "7\n",
      "4\n",
      "5\n"
     ]
    }
   ],
   "source": [
    "matrix = [[1,2,3,4],[5,6,7,8],[9,10,11,12],[13,14,15,16]]\n",
    "# matrix = [[1,2,3],[4,5,6],[7,8,9]]\n",
    "# your codes here\n",
    "\n",
    "n = len(matrix) # 行数或者列数\n",
    "\n",
    "left, right, top, bottom = 0, n - 1, 0, n - 1 # 分别指代上下左右还未打印的边缘\n",
    "for i in range(n//2): # num_printed 代表之前已经打印了几圈，初始值为0 \n",
    "    for j in range(left, right): # 打印第一行\n",
    "        print(matrix[top][j])\n",
    "    for j in range(top, bottom ): # 打印最后一列\n",
    "        print(matrix[j][right])\n",
    "    for j in range(right, left , -1): # 打印最后一行\n",
    "        print(matrix[bottom][j])\n",
    "    for j in range(bottom, top, -1): # 打印第一列\n",
    "        print(matrix[j][left])\n",
    "    left, right, top, bottom = left + 1, right - 1, top + 1, bottom - 1\n",
    "if n % 2 == 1: # 如果奇数圈，则还需要打印最中间的元素\n",
    "    print(matrix[n//2][n//2])"
   ]
  }
 ],
 "metadata": {
  "kernelspec": {
   "display_name": "Python 3 (ipykernel)",
   "language": "python",
   "name": "python3"
  },
  "language_info": {
   "codemirror_mode": {
    "name": "ipython",
    "version": 3
   },
   "file_extension": ".py",
   "mimetype": "text/x-python",
   "name": "python",
   "nbconvert_exporter": "python",
   "pygments_lexer": "ipython3",
   "version": "3.11.5"
  },
  "toc": {
   "base_numbering": 1,
   "nav_menu": {},
   "number_sections": false,
   "sideBar": true,
   "skip_h1_title": false,
   "title_cell": "Table of Contents",
   "title_sidebar": "Contents",
   "toc_cell": false,
   "toc_position": {
    "height": "calc(100% - 180px)",
    "left": "10px",
    "top": "150px",
    "width": "384px"
   },
   "toc_section_display": true,
   "toc_window_display": true
  }
 },
 "nbformat": 4,
 "nbformat_minor": 5
}
