{
 "cells": [
  {
   "cell_type": "markdown",
   "id": "109a70bd",
   "metadata": {},
   "source": [
    "Homework 4\n",
    "========\n",
    "\n",
    "程序设计，2024年春季\n",
    "\n",
    "**作业截至日期：2023年6月9日 23:59**\n",
    "\n",
    "**注:**\n",
    "* 将答案写在每个题目下方，__并运行，展示结果__。最后将`*.ipynb`文件打包成zip或者rar文件，命名成`名字-学号.zip`或者`名字-学号.rar`，上传至canvas。做作业过程中，__切记随手保存__。\n",
    "* 对于代码，请根据思路适当添加空行和注释，方便理解。\n",
    "* 如有参考同学的代码，请在题目代码第一行通过注释标明其学号；若无标明，发现抄袭以0分计。\n",
    "* 目前课程覆盖范围足够解答以下题目。如果之前学过Python,允许使用未学过的知识点。\n",
    "\n"
   ]
  },
  {
   "cell_type": "markdown",
   "id": "f09c0ea4",
   "metadata": {},
   "source": [
    "### Q1. 班会破冰游戏设计（50pts）\n",
    "已知W老师担任了某班的班主任，班级学生30人，在第一次班会的破冰活动中，W老师设计了一个游戏让大家相互认识。流程是这样：\n",
    "* Step 1: 每次调用函数`step_1`的时候，随机选择一位同学`a`，屏幕输出`a同学，请介绍自己，并以一个标签总结自己`。随后这位同学介绍自己，并以一个标签总结自己。已经随机过的同学不会再次被选中。当所有同学介绍完后，若再调用`step_1`函数，则输出`所有同学都介绍完了，可以进入下一步了`。\n",
    "* Step 2: 每次调用函数`step_2`的时候，随机选择一位同学`a`玩游戏，同时随机选出`n`位除`a`同学之外的同学，屏幕输出`a同学，请说出以下同学的标签：xxx,xxx,xxx...`。由于后进行游戏的同学能反复记忆，所以`n`的选择如下：对于前`1/3`进行游戏的，`n=3`;对于中间进行游戏的`1/3`，`n=4`;对于最后进行游戏的`1/3`,`n=5`（对于边缘情况可自行灵活处理）。当所有同学玩完游戏后，若再调用`step_2`函数，则输出`所有同学都进行了游戏`。\n",
    "\n",
    "请帮W老师实现这两个函数，并测试。\n",
    "\n",
    "* 提示：\n",
    " * 使用`random`和`numpy.random`均可，但是后者提供功能更多，能简化实现。上课提供的函数已经够用，也可以自己上网搜索你想要的功能。\n",
    " * 下面一个cell中，`numpy.random.permutation`函数的用法对你解题有帮助。"
   ]
  },
  {
   "cell_type": "code",
   "execution_count": 11,
   "id": "6dea5b8a",
   "metadata": {},
   "outputs": [
    {
     "name": "stdout",
     "output_type": "stream",
     "text": [
      "['沈刚' '杨昕' '殷明浩' '高光' '李陆' '欧阳兵' '曾路' '刘文' '欧阳峰' '徐军' '杨万里' '刘军' '陈洋' '杨超'\n",
      " '刘志宏' '孟牧' '蒋陆' '欧阳伟' '欧阳牧' '杨牧' '曾文' '曾峰' '张路' '王超' '张峰' '李牧' '蒋华' '殷光'\n",
      " '张伟' '马兵']\n"
     ]
    }
   ],
   "source": [
    "# 这个cell生成30位同学的名字\n",
    "# 可以阅读下代码，对你完成这题有帮助\n",
    "import random\n",
    "import numpy as np\n",
    "\n",
    "NUM_STD = 30\n",
    "\n",
    "def generate_names(n = 5, seed=42):\n",
    "    '''生成n个不重复的名字'''\n",
    "    given_name = [\"张\", \"曾\", \"李\", \"王\", \"刘\", \"赵\", \"蒋\", \"孟\", \"陈\", \"徐\", \"杨\", \"沈\", \"马\", \"高\", \"殷\", \"欧阳\"]\n",
    "    first_name = [\"伟\", \"华\", \"建国\", \"洋\", \"刚\", \"万里\", \"爱民\", \"牧\", \"陆\", \"路\", \"昕\", \"鑫\", \"兵\", \"硕\", \"志宏\", \"峰\", \"磊\", \"雷\", \"文\", \"明浩\", \"光\", \"超\", \"军\", \"达\"]\n",
    "    np.random.seed(seed)\n",
    "    if n > len(given_name) * len(first_name):\n",
    "        n = len(given_name) * len(first_name) # 最多产生这么多名字\n",
    "    return np.random.permutation([f'{f}{s}' for f in given_name for s in first_name])[:n] # 也可以直接两个列表生成式嵌套\n",
    "\n",
    "student_names = generate_names(NUM_STD)\n",
    "print(student_names)\n"
   ]
  },
  {
   "cell_type": "markdown",
   "id": "eda86deb",
   "metadata": {},
   "source": [
    "#### Step 1"
   ]
  },
  {
   "cell_type": "code",
   "execution_count": 2,
   "id": "3ed2c8e1",
   "metadata": {},
   "outputs": [
    {
     "name": "stdout",
     "output_type": "stream",
     "text": [
      "马兵同学，请介绍自己，并以一个标签总结自己\n",
      "张伟同学，请介绍自己，并以一个标签总结自己\n",
      "曾峰同学，请介绍自己，并以一个标签总结自己\n",
      "李牧同学，请介绍自己，并以一个标签总结自己\n",
      "蒋陆同学，请介绍自己，并以一个标签总结自己\n",
      "杨牧同学，请介绍自己，并以一个标签总结自己\n",
      "徐军同学，请介绍自己，并以一个标签总结自己\n",
      "欧阳兵同学，请介绍自己，并以一个标签总结自己\n",
      "刘志宏同学，请介绍自己，并以一个标签总结自己\n",
      "杨万里同学，请介绍自己，并以一个标签总结自己\n",
      "殷光同学，请介绍自己，并以一个标签总结自己\n",
      "李陆同学，请介绍自己，并以一个标签总结自己\n",
      "沈刚同学，请介绍自己，并以一个标签总结自己\n",
      "刘文同学，请介绍自己，并以一个标签总结自己\n",
      "曾文同学，请介绍自己，并以一个标签总结自己\n",
      "刘军同学，请介绍自己，并以一个标签总结自己\n",
      "曾路同学，请介绍自己，并以一个标签总结自己\n",
      "高光同学，请介绍自己，并以一个标签总结自己\n",
      "陈洋同学，请介绍自己，并以一个标签总结自己\n",
      "殷明浩同学，请介绍自己，并以一个标签总结自己\n",
      "张路同学，请介绍自己，并以一个标签总结自己\n",
      "孟牧同学，请介绍自己，并以一个标签总结自己\n",
      "欧阳伟同学，请介绍自己，并以一个标签总结自己\n",
      "欧阳牧同学，请介绍自己，并以一个标签总结自己\n",
      "王超同学，请介绍自己，并以一个标签总结自己\n",
      "欧阳峰同学，请介绍自己，并以一个标签总结自己\n",
      "杨昕同学，请介绍自己，并以一个标签总结自己\n",
      "张峰同学，请介绍自己，并以一个标签总结自己\n",
      "杨超同学，请介绍自己，并以一个标签总结自己\n",
      "蒋华同学，请介绍自己，并以一个标签总结自己\n",
      "所有同学都介绍完了，可以进入下一步了\n",
      "所有同学都介绍完了，可以进入下一步了\n"
     ]
    }
   ],
   "source": [
    "# your code here\n",
    "import numpy as np\n",
    "name_list=[]\n",
    "def step_1():\n",
    "    while len(name_list)<30:\n",
    "        name=np.random.choice(student_names)\n",
    "        if name not in name_list:\n",
    "            print(f'{name}同学，请介绍自己，并以一个标签总结自己')\n",
    "            name_list.append(name)\n",
    "            break\n",
    "        else:\n",
    "            continue\n",
    "    if len(name_list)==30:\n",
    "        print('所有同学都介绍完了，可以进入下一步了')\n",
    "\n",
    "step_1()\n",
    "step_1()\n",
    "step_1()\n",
    "step_1()\n",
    "step_1()\n",
    "step_1()\n",
    "step_1()\n",
    "step_1()\n",
    "step_1()\n",
    "step_1()\n",
    "step_1()\n",
    "step_1()\n",
    "step_1()\n",
    "step_1()\n",
    "step_1()\n",
    "step_1()\n",
    "step_1()\n",
    "step_1()\n",
    "step_1()\n",
    "step_1()\n",
    "step_1()\n",
    "step_1()\n",
    "step_1()\n",
    "step_1()\n",
    "step_1()\n",
    "step_1()\n",
    "step_1()\n",
    "step_1()\n",
    "step_1()\n",
    "step_1()\n",
    "step_1()\n",
    "\n",
    "        \n",
    "\n",
    "\n",
    "    \n"
   ]
  },
  {
   "cell_type": "markdown",
   "id": "87cdd421",
   "metadata": {},
   "source": [
    "#### step 2 \n"
   ]
  },
  {
   "cell_type": "code",
   "execution_count": 13,
   "id": "e453a5b7",
   "metadata": {},
   "outputs": [
    {
     "name": "stdout",
     "output_type": "stream",
     "text": [
      "蒋华同学，请说出以下同学的标签：殷光,马兵,高光\n",
      "杨牧同学，请说出以下同学的标签：曾路,马兵,陈洋\n",
      "刘志宏同学，请说出以下同学的标签：刘军,欧阳兵,曾文\n",
      "欧阳兵同学，请说出以下同学的标签：曾文,刘文,蒋陆\n",
      "王超同学，请说出以下同学的标签：李牧,刘文,欧阳伟\n",
      "马兵同学，请说出以下同学的标签：张路,杨万里,张伟\n",
      "陈洋同学，请说出以下同学的标签：蒋华,徐军,刘军\n",
      "曾峰同学，请说出以下同学的标签：欧阳伟,杨超,曾路\n",
      "杨万里同学，请说出以下同学的标签：刘志宏,曾文,杨牧\n",
      "李陆同学，请说出以下同学的标签：李牧,杨万里,刘文\n",
      "欧阳牧同学，请说出以下同学的标签：蒋陆,杨万里,刘志宏,马兵\n",
      "殷明浩同学，请说出以下同学的标签：刘志宏,蒋华,蒋陆,陈洋\n",
      "高光同学，请说出以下同学的标签：殷光,沈刚,刘文,杨牧\n",
      "刘文同学，请说出以下同学的标签：杨牧,曾路,曾文,杨昕\n",
      "沈刚同学，请说出以下同学的标签：刘军,曾路,曾文,殷明浩\n",
      "杨昕同学，请说出以下同学的标签：蒋陆,高光,刘志宏,王超\n",
      "殷光同学，请说出以下同学的标签：高光,杨牧,欧阳峰,李陆\n",
      "张伟同学，请说出以下同学的标签：高光,曾峰,张峰,孟牧\n",
      "杨超同学，请说出以下同学的标签：刘文,陈洋,杨牧,马兵\n",
      "徐军同学，请说出以下同学的标签：蒋陆,张路,曾路,张峰\n",
      "欧阳峰同学，请说出以下同学的标签：殷明浩,蒋陆,张峰,曾文,马兵\n",
      "李牧同学，请说出以下同学的标签：欧阳伟,杨万里,欧阳峰,高光,孟牧\n",
      "曾文同学，请说出以下同学的标签：陈洋,欧阳兵,刘军,王超,欧阳牧\n",
      "蒋陆同学，请说出以下同学的标签：欧阳伟,陈洋,杨超,蒋华,高光\n",
      "张路同学，请说出以下同学的标签：高光,李牧,杨昕,殷明浩,欧阳牧\n",
      "欧阳伟同学，请说出以下同学的标签：王超,杨牧,蒋华,欧阳兵,欧阳峰\n",
      "孟牧同学，请说出以下同学的标签：杨牧,李牧,殷光,欧阳伟,刘志宏\n",
      "张峰同学，请说出以下同学的标签：徐军,欧阳伟,张伟,张路,殷明浩\n",
      "刘军同学，请说出以下同学的标签：高光,欧阳伟,张伟,殷明浩,曾路\n",
      "曾路同学，请说出以下同学的标签：欧阳兵,殷明浩,曾文,马兵,欧阳伟\n",
      "所有同学都进行了游戏\n",
      "所有同学都进行了游戏\n"
     ]
    }
   ],
   "source": [
    "# your code here\n",
    "import numpy as np\n",
    "name_list1=[]\n",
    "class Student():\n",
    "    number_count=0\n",
    "    def __init__(self):\n",
    "        Student.number_count+=1\n",
    "    def step_2(self):\n",
    "        while len(name_list1)<30:\n",
    "            name1=np.random.choice(student_names)\n",
    "            if name1 not in name_list1:\n",
    "                other_students=[item for item in student_names if item!=name1]\n",
    "                if Student.number_count>0 and Student.number_count<=10:\n",
    "                    target=np.random.choice(other_students,3,replace=False)\n",
    "                    print(f'{name1}同学，请说出以下同学的标签：{target[0]},{target[1]},{target[2]}')\n",
    "                if Student.number_count>10 and Student.number_count<=20:\n",
    "                    target=np.random.choice(other_students,4,replace=False)\n",
    "                    print(f'{name1}同学，请说出以下同学的标签：{target[0]},{target[1]},{target[2]},{target[3]}')\n",
    "                if Student.number_count>20 and Student.number_count<=30:\n",
    "                    target=np.random.choice(other_students,5,replace=False)\n",
    "                    print(f'{name1}同学，请说出以下同学的标签：{target[0]},{target[1]},{target[2]},{target[3]},{target[4]}')\n",
    "                name_list1.append(name1)\n",
    "                break\n",
    "            else:\n",
    "                continue\n",
    "        if len(name_list1)==30:\n",
    "            print('所有同学都进行了游戏')\n",
    "std1=Student()        \n",
    "Student.step_2(std1)\n",
    "std2=Student()        \n",
    "Student.step_2(std2)\n",
    "std3=Student()        \n",
    "Student.step_2(std3)\n",
    "std4=Student()        \n",
    "Student.step_2(std4)\n",
    "std5=Student()        \n",
    "Student.step_2(std5)\n",
    "std6=Student()        \n",
    "Student.step_2(std6)\n",
    "std7=Student()        \n",
    "Student.step_2(std7)\n",
    "std8=Student()        \n",
    "Student.step_2(std8)\n",
    "std9=Student()        \n",
    "Student.step_2(std9)\n",
    "std10=Student()        \n",
    "Student.step_2(std10)\n",
    "std11=Student()        \n",
    "Student.step_2(std11)\n",
    "std12=Student()        \n",
    "Student.step_2(std12)\n",
    "std13=Student()        \n",
    "Student.step_2(std13)\n",
    "std14=Student()        \n",
    "Student.step_2(std14)\n",
    "std15=Student()        \n",
    "Student.step_2(std15)\n",
    "std16=Student()        \n",
    "Student.step_2(std16)\n",
    "std17=Student()        \n",
    "Student.step_2(std17)\n",
    "std18=Student()        \n",
    "Student.step_2(std18)\n",
    "std19=Student()        \n",
    "Student.step_2(std19)\n",
    "std20=Student()        \n",
    "Student.step_2(std20)\n",
    "std21=Student()        \n",
    "Student.step_2(std21)\n",
    "std22=Student()        \n",
    "Student.step_2(std22)\n",
    "std23=Student()        \n",
    "Student.step_2(std23)\n",
    "std24=Student()        \n",
    "Student.step_2(std24)\n",
    "std25=Student()        \n",
    "Student.step_2(std25)\n",
    "std26=Student()        \n",
    "Student.step_2(std26)\n",
    "std27=Student()        \n",
    "Student.step_2(std27)\n",
    "std28=Student()        \n",
    "Student.step_2(std28)\n",
    "std29=Student()        \n",
    "Student.step_2(std29)\n",
    "std30=Student()        \n",
    "Student.step_2(std30)\n",
    "std31=Student()        \n",
    "Student.step_2(std31)\n",
    "\n",
    "\n",
    "\n",
    "\n"
   ]
  },
  {
   "cell_type": "markdown",
   "id": "6154da02",
   "metadata": {},
   "source": [
    "###  Q2. 递归：台阶走法（25分）\n",
    "梯有`n`阶($n\\geq1$)，可以一次上`1`阶或者`3`阶，请问共有几种走法？"
   ]
  },
  {
   "cell_type": "code",
   "execution_count": 27,
   "id": "48222cfb",
   "metadata": {},
   "outputs": [
    {
     "data": {
      "text/plain": [
       "28"
      ]
     },
     "execution_count": 27,
     "metadata": {},
     "output_type": "execute_result"
    }
   ],
   "source": [
    "# your coeds here\n",
    "n=int(input('请输入n'))\n",
    "def fun(n):\n",
    "    if n==1 or n==2:\n",
    "        return 1\n",
    "    elif n==3:\n",
    "        return 2\n",
    "    else:\n",
    "        return fun(n-1)+fun(n-3)\n",
    "fun(n)\n",
    "\n",
    "    \n",
    "\n",
    "\n"
   ]
  },
  {
   "cell_type": "markdown",
   "id": "0dc64adb",
   "metadata": {},
   "source": [
    "### Q3. NumPy的使用（25分）\n",
    "设 $\\mathbf{A} \\in \\mathbf{P}^{n\\times n}$，且\n",
    "$\\mathbf {A} ={\\begin{bmatrix}\\mathbf {B}&\\mathbf {C}\\\\\\mathbf {D} &\\mathbf {E} \\end{bmatrix}},\\mathbf{B}\\in \\mathbf{P}^{r\\times r}, \\det \\mathbf{B} \\neq 0$.\n",
    "\n",
    "请通过NumPy，随机生成$\\mathbf{A}$。不妨设`n=7`, `r=3`, 数值上，验证 $ \\det \\mathbf{A} = \\det \\mathbf{B} \\cdot \\det (\\mathbf{E} - \\mathbf{D}\\mathbf{B}^{-1}\\mathbf{C}) $. \n",
    "\n",
    "注意，Python无法精确保存float类型的尾部小数，这里只需要等式左边和右边的差值足够小即可（比如，小于1e-6）。\n"
   ]
  },
  {
   "cell_type": "code",
   "execution_count": 37,
   "id": "e7b22a35",
   "metadata": {},
   "outputs": [
    {
     "name": "stdout",
     "output_type": "stream",
     "text": [
      "-0.1377856458909157\n",
      "-0.13778564589091574\n"
     ]
    }
   ],
   "source": [
    "# your code here\n",
    "import numpy as np\n",
    "n=7\n",
    "r=3\n",
    "B=np.random.rand(r,r)\n",
    "B_inv=np.linalg.inv(B)\n",
    "C=np.random.rand(r,n-r)\n",
    "D=np.random.rand(n-r,r)\n",
    "E=np.random.rand(n-r,n-r)\n",
    "A=np.vstack((np.hstack((B,C)),np.hstack((D,E))))\n",
    "detA=np.linalg.det(A)\n",
    "detB=np.linalg.det(B)\n",
    "detx=np.linalg.det(E-D@B_inv@C)\n",
    "print(detA)\n",
    "print(detB*detx)\n"
   ]
  }
 ],
 "metadata": {
  "kernelspec": {
   "display_name": "base",
   "language": "python",
   "name": "python3"
  },
  "language_info": {
   "codemirror_mode": {
    "name": "ipython",
    "version": 3
   },
   "file_extension": ".py",
   "mimetype": "text/x-python",
   "name": "python",
   "nbconvert_exporter": "python",
   "pygments_lexer": "ipython3",
   "version": "3.11.5"
  },
  "toc": {
   "base_numbering": 1,
   "nav_menu": {},
   "number_sections": true,
   "sideBar": true,
   "skip_h1_title": false,
   "title_cell": "Table of Contents",
   "title_sidebar": "Contents",
   "toc_cell": false,
   "toc_position": {
    "height": "calc(100% - 180px)",
    "left": "10px",
    "top": "150px",
    "width": "349.091px"
   },
   "toc_section_display": true,
   "toc_window_display": true
  }
 },
 "nbformat": 4,
 "nbformat_minor": 5
}
