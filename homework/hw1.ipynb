{
 "cells": [
  {
   "cell_type": "markdown",
   "id": "a1af9a61",
   "metadata": {},
   "source": [
    "Homework 1\n",
    "========\n",
    "\n",
    "程序设计，2024年春季\n",
    "\n",
    "**作业截至日期：2024年3月24日 23:59**\n",
    "\n",
    "**注:**\n",
    "* 将答案写在每个题目下方，__并运行，展示结果__。最后将`*.ipynb`文件打包成zip或者rar文件，命名成`名字-学号.zip`或者`名字-学号.rar`，上传至canvas。做作业过程中，__切记随手保存__。\n",
    "* 对于代码，请根据思路适当添加空行和注释，方便理解。\n",
    "* 如有参考同学的代码，请在题目代码第一行通过注释标明其学号；若无标明，发现抄袭以0分计。\n",
    "* 目前课程覆盖范围足够解答以下题目。如果之前学过Python,允许使用未学过的知识点。\n",
    "\n"
   ]
  },
  {
   "cell_type": "markdown",
   "id": "b7a071d3",
   "metadata": {},
   "source": [
    "### Q1. 多种方式输出带引号的句子（15分）\n",
    "请使用至少8种方式输出以下句子：\n",
    "```\n",
    "\" means quotation. It's commonly used in English\n",
    "```"
   ]
  },
  {
   "cell_type": "code",
   "execution_count": 1,
   "id": "758d338d",
   "metadata": {},
   "outputs": [
    {
     "name": "stdout",
     "output_type": "stream",
     "text": [
      " \" means quotation.It's commonly used in English \n",
      " \" means quotation.It's commonly used in English \n",
      " \" means quotation.It's commonly used in English \n",
      " \" means quotation.It's commonly used in English \n",
      " \" means quotation.It's commonly used in English \n",
      " \" means quotation.It's commonly used in English \n",
      " \" means quotation.It's commonly used in English \n",
      " \" means quotation.It's commonly used in English \n"
     ]
    }
   ],
   "source": [
    "# your codes here\n",
    "print(''' \" means quotation.It's commonly used in English ''')\n",
    "print(''' \\\" means quotation.It's commonly used in English ''')\n",
    "print(''' \" means quotation.It\\'s commonly used in English ''')\n",
    "print(''' \\\" means quotation.It\\'s commonly used in English ''')\n",
    "print(\"\"\" \\\" means quotation.It's commonly used in English \"\"\")\n",
    "print(\"\"\" \\\" means quotation.It\\'s commonly used in English \"\"\")\n",
    "print(\"\"\" \" means quotation.It's commonly used in English \"\"\")\n",
    "print(\"\"\" \" means quotation.It\\'s commonly used in English \"\"\")"
   ]
  },
  {
   "cell_type": "code",
   "execution_count": null,
   "id": "f95aab9c",
   "metadata": {},
   "outputs": [],
   "source": [
    "#答案\n",
    "# 三个单引号，中间的单双引号可以不转义\n",
    "print('''\" means quotation. It's commonly used in English''')\n",
    "print('''\" means quotation. It\\'s commonly used in English''')\n",
    "print('''\\\" means quotation. It's commonly used in English''')\n",
    "print('''\\\" means quotation. It\\'s commonly used in English''')\n",
    "\n",
    "# 三个双引号，中间的单双引号可以不转义\n",
    "print(\"\"\"\" means quotation. It's commonly used in English\"\"\")\n",
    "print(\"\"\"\" means quotation. It\\'s commonly used in English\"\"\")\n",
    "print(\"\"\"\\\" means quotation. It's commonly used in English\"\"\")\n",
    "print(\"\"\"\\\" means quotation. It\\'s commonly used in English\"\"\")\n",
    "\n",
    "# 一个双引号，中间的单引号可以不转义\n",
    "print(\"\\\" means quotation. It\\'s commonly used in English\")\n",
    "print(\"\\\" means quotation. It's commonly used in English\")\n",
    "\n",
    "# 一个单引号，中间的双引号可以不转义\n",
    "print('\\\" means quotation. It\\'s commonly used in English')\n",
    "print('\" means quotation. It\\'s commonly used in English')"
   ]
  },
  {
   "cell_type": "markdown",
   "id": "5acbd9d7",
   "metadata": {},
   "source": [
    "### Q2. 提取奇偶数子串（15分）\n",
    "根据下述要求，编写一个程序：用户输入一个字符串，将下标为偶数的字符提出来合并成一个新的字符串A，再将下标为奇数的字符提出来合并成一个新的字符串B，再将字符串A和B连接起来并输出。"
   ]
  },
  {
   "cell_type": "code",
   "execution_count": 3,
   "id": "c3bc944f",
   "metadata": {},
   "outputs": [
    {
     "name": "stdout",
     "output_type": "stream",
     "text": [
      "acegbdfh\n"
     ]
    }
   ],
   "source": [
    "# your codes here\n",
    "Str=input(\"请输入一个字符串\")\n",
    "A=Str[0: :2]\n",
    "B=Str[1: :2]\n",
    "List=[A,B]\n",
    "print(\"\".join(List))\n",
    "\n"
   ]
  },
  {
   "cell_type": "code",
   "execution_count": null,
   "id": "9e824fd6",
   "metadata": {},
   "outputs": [],
   "source": [
    "#答案\n",
    "Str = input('please input a string:')\n",
    "A = Str[::2]\n",
    "print('A:', A)\n",
    "B = Str[1::2]\n",
    "print('B:', B)\n",
    "A_plus_B = A + B#字符串连接直接+啊，用什么列表join\n",
    "print('A+B:', A_plus_B)"
   ]
  },
  {
   "cell_type": "markdown",
   "id": "93b0c390",
   "metadata": {},
   "source": [
    "### Q3. 探索str函数：swapcase，capitalize, lower等（17分）\n",
    "接收输入的一句英文，首先对每个字母颠倒大小写，输出到屏幕。再将结果转成每个单词首字母大写，其余小写，输出到屏幕。然后，转成仅首个单词的首字母大写，输出到屏幕。最后，转成全部小写，输出到屏幕。\n",
    "\n",
    "提示：对于课程没有提及的函数，请自行使用搜索引擎查找（编程必备技能），或者查阅相关资料，例如[这个教程](https://www.runoob.com/python3/python3-string.html)"
   ]
  },
  {
   "cell_type": "code",
   "execution_count": 11,
   "id": "65a0da67",
   "metadata": {},
   "outputs": [
    {
     "name": "stdout",
     "output_type": "stream",
     "text": [
      "sjtu IS THE BEST UNIVERSITY\n",
      "Sjtu Is The Best University\n",
      "Sjtu is the best university\n",
      "sjtu is the best university\n"
     ]
    }
   ],
   "source": [
    "# your codes here\n",
    "Str=input(\"请输入一句英文\")\n",
    "A=Str.swapcase()\n",
    "print(A)\n",
    "\n",
    "B=A.split(\" \")\n",
    "List=[]\n",
    "for item in B:\n",
    "    C=item.lower().capitalize()\n",
    "    List.append(C)\n",
    "D=\" \".join(List)\n",
    "print(D)\n",
    "\n",
    "E=D.lower().capitalize()\n",
    "print(E)\n",
    "\n",
    "F=E.lower()\n",
    "print(F)\n",
    "\n",
    "\n",
    "\n",
    "\n"
   ]
  },
  {
   "cell_type": "code",
   "execution_count": null,
   "id": "e03004cb",
   "metadata": {},
   "outputs": [],
   "source": [
    "#答案\n",
    "Str = input('Please input:')\n",
    "Str1 = Str.swapcase()#将字符串中大写转换为小写，小写转换为大写\n",
    "print(Str1)\n",
    "Str2 = Str1.title()#返回\"标题化\"的字符串,就是说所有单词都是以大写开始，其余字母均为小写\n",
    "print(Str2)\n",
    "Str3 = Str2.capitalize()#将字符串的第一个字符转换为大写\n",
    "print(Str3)\n",
    "Str4 = Str3.lower()\n",
    "print(Str4)"
   ]
  },
  {
   "cell_type": "markdown",
   "id": "76b2709c",
   "metadata": {},
   "source": [
    "### Q4. 统计行数与单词数（17分）\n",
    "字符串变量`Str`包含多行句子，每个句子只含字母和`whitespace`，其中`whitespace`可能连续出现多个\n",
    "\n",
    "假设`Str`如下：\n",
    "```\n",
    "Str = '''\n",
    "I am so happy because     I finally start doing homework one\n",
    "I am  \tenjoying programing\n",
    "It can do lots of things\n",
    "'''\n",
    "```\n",
    "\n",
    "首先，输出总句子数，输出形式如下（使用`f-strings`）：\n",
    "\n",
    "```\n",
    "这个字符串中，共有...个句子\n",
    "```\n",
    "\n",
    "之后，请使用`for`循环遍历，统计每个句子的单词数，输出形式如下（使用`%-formatting`）：\n",
    "\n",
    "```\n",
    "第...个句子包含...个单词\n",
    "第...个句子包含...个单词\n",
    "第...个句子包含...个单词\n",
    "```\n"
   ]
  },
  {
   "cell_type": "code",
   "execution_count": 16,
   "id": "52241deb",
   "metadata": {},
   "outputs": [
    {
     "name": "stdout",
     "output_type": "stream",
     "text": [
      "这个字符串中共有3个句子\n",
      "第1个句子包含11个单词\n",
      "第2个句子包含4个单词\n",
      "第3个句子包含6个单词\n"
     ]
    }
   ],
   "source": [
    "Str = '''\n",
    "I am so happy because     I finally start doing homework one\n",
    "I am      enjoying programing\n",
    "It can do lots of things\n",
    "'''\n",
    "# your codes here\n",
    "lines = Str.strip().split('\\n')[0:]\n",
    "length=len(lines)\n",
    "print(f\"这个字符串中共有{length}个句子\")\n",
    "\n",
    "i=0\n",
    "for line in lines:\n",
    "    sentence=line.strip().split()\n",
    "    word=len(sentence)\n",
    "    i+=1\n",
    "    print(\"第%d个句子包含%d个单词\"%(i,word))\n",
    "\n",
    "\n"
   ]
  },
  {
   "cell_type": "code",
   "execution_count": null,
   "id": "ce9f932b",
   "metadata": {},
   "outputs": [],
   "source": [
    "#答案\n",
    "Str = '''\n",
    "I am so happy because     I finally start doing homework one\n",
    "I am      enjoying programing\n",
    "It can do lots of things\n",
    "'''\n",
    "# your codes here\n",
    "\n",
    "# 统计句子数\n",
    "sentences = Str.strip().split('\\n')\n",
    "num_sentences = len(sentences)\n",
    "\n",
    "print(f'这个字符串中，共有{num_sentences}个句子')\n",
    "\n",
    "# 统计每个句子的单词数\n",
    "for i, sentence in enumerate(sentences):#计数，不用自己设计数器，enumerate啊!\n",
    "    words = sentence.split()\n",
    "    print('第%d个句子包含%d个单词' % (i+1, len(words)))"
   ]
  },
  {
   "cell_type": "markdown",
   "id": "a5ba4750",
   "metadata": {},
   "source": [
    "### Q5. 解析豆瓣电影Top250（18分）\n",
    "\n",
    "W老师的另一门课要求从豆瓣爬取TOP250电影的信息，页面见[这里](https://movie.douban.com/top250)。已知电影`肖申克的救赎`和`霸王别姬`的第三行所对应的`html`源码分别如下：\n",
    "```\n",
    "html_for_movie = '''\n",
    "<div class=\"star\">\n",
    "        <span class=\"rating5-t\"></span>\n",
    "        <span class=\"rating_num\" property=\"v:average\">9.7</span>\n",
    "        <span property=\"v:best\" content=\"10.0\"></span>\n",
    "        <span>2995527人评价</span>\n",
    "</div>\n",
    "'''\n",
    "```\n",
    "\n",
    "```\n",
    "html_for_movie = '''\n",
    "<div class=\"star\">\n",
    "        <span class=\"rating5-t\"></span>\n",
    "        <span class=\"rating_num\" property=\"v:average\">9.6</span>\n",
    "        <span property=\"v:best\" content=\"10.0\"></span>\n",
    "        <span>221322人评价</span>\n",
    "</div>\n",
    "'''\n",
    "```\n",
    "\n",
    "请根据目前所学，从`html_for_movie`解析出评分和评价人数，最后将评分和评价人数打印到屏幕即可。\n",
    "\n",
    "**注意**：这里每部电影含有类似的标签结构，即每部电影的`<...>`部分是一样的。你需要根据这个`html`的规律写代码使得这段代码同时适用于两个`html_for_movie`的解析。"
   ]
  },
  {
   "cell_type": "code",
   "execution_count": 1,
   "id": "93749550",
   "metadata": {},
   "outputs": [
    {
     "name": "stdout",
     "output_type": "stream",
     "text": [
      "9.7\n",
      "2995527\n"
     ]
    }
   ],
   "source": [
    "html_for_movie = '''\n",
    "<div class=\"star\">\n",
    "        <span class=\"rating5-t\"></span>\n",
    "        <span class=\"rating_num\" property=\"v:average\">9.7</span>\n",
    "        <span property=\"v:best\" content=\"10.0\"></span>\n",
    "        <span>2995527人评价</span>\n",
    "</div>\n",
    "'''\n",
    "# your codes here\n",
    "#提取行\n",
    "lines = html_for_movie.strip().split('\\n')[0:]\n",
    "line2=lines[2]\n",
    "line4=lines[4]\n",
    "\n",
    "#提取数字\n",
    "list1=[]\n",
    "list2=[]\n",
    "for i in line2:\n",
    "     if i in [\"0\",\"1\",\"2\",\"3\",\"4\",\"5\",\"6\",\"7\",\"8\",\"9\",\".\"]:\n",
    "        list1.append(i)\n",
    "rating_num=\"\".join(list1)\n",
    "print(rating_num)\n",
    "\n",
    "for j in line4:\n",
    "     if j in [\"0\",\"1\",\"2\",\"3\",\"4\",\"5\",\"6\",\"7\",\"8\",\"9\",\".\"]:\n",
    "        list2.append(j)\n",
    "participant_num=\"\".join(list2)\n",
    "print(participant_num)\n",
    "\n",
    "\n",
    "\n"
   ]
  },
  {
   "cell_type": "code",
   "execution_count": 2,
   "id": "2798accf",
   "metadata": {},
   "outputs": [
    {
     "name": "stdout",
     "output_type": "stream",
     "text": [
      "9.6\n",
      "221322\n"
     ]
    }
   ],
   "source": [
    "html_for_movie = '''\n",
    "<div class=\"star\">\n",
    "        <span class=\"rating5-t\"></span>\n",
    "        <span class=\"rating_num\" property=\"v:average\">9.6</span>\n",
    "        <span property=\"v:best\" content=\"10.0\"></span>\n",
    "        <span>221322人评价</span>\n",
    "</div>\n",
    "'''\n",
    "# 上一个cell写的代码，不经修改，复制过来，也需要能跑的通\n",
    "# your codes here\n",
    "#提取行\n",
    "lines = html_for_movie.strip().split('\\n')[0:]\n",
    "line2=lines[2]\n",
    "line4=lines[4]\n",
    "\n",
    "#提取数字\n",
    "list1=[]\n",
    "list2=[]\n",
    "for i in line2:\n",
    "     if i in [\"0\",\"1\",\"2\",\"3\",\"4\",\"5\",\"6\",\"7\",\"8\",\"9\",\".\"]:\n",
    "        list1.append(i)\n",
    "rating_num=\"\".join(list1)\n",
    "print(rating_num)\n",
    "\n",
    "for j in line4:\n",
    "     if j in [\"0\",\"1\",\"2\",\"3\",\"4\",\"5\",\"6\",\"7\",\"8\",\"9\",\".\"]:\n",
    "        list2.append(j)\n",
    "participant_num=\"\".join(list2)\n",
    "print(participant_num)\n",
    "\n",
    "\n"
   ]
  },
  {
   "cell_type": "code",
   "execution_count": null,
   "id": "3e8f097f",
   "metadata": {},
   "outputs": [],
   "source": [
    "#答案\n",
    "html_for_movie = '''\n",
    "<div class=\"star\">\n",
    "        <span class=\"rating5-t\"></span>\n",
    "        <span class=\"rating_num\" property=\"v:average\">9.7</span>\n",
    "        <span property=\"v:best\" content=\"10.0\"></span>\n",
    "        <span>2995527人评价</span>\n",
    "</div>\n",
    "'''\n",
    "# your codes here\n",
    "line_for_rating = html_for_movie.strip().split('\\n')[2]\n",
    "line_for_review_num = html_for_movie.strip().split('\\n')[4]\n",
    "#这个方法，更加找规律。。。直接按照目标前后的标志字符找\n",
    "rating = line_for_rating.split('>')[1].split('<')[0]\n",
    "num_of_reviews = line_for_review_num.strip().split('人')[0][6:] # 取第7个字符到 ‘人’这个字之前\n",
    "print('评分：', rating)\n",
    "print('评价人数：', num_of_reviews)"
   ]
  },
  {
   "cell_type": "markdown",
   "id": "b7a10b81",
   "metadata": {},
   "source": [
    "### Q6 计算logit-normal分布（18分）. \n",
    "\n",
    "已知Logit-Normal分布的表达式如下\n",
    "\n",
    "$$f_{X}(x;\\mu ,\\sigma )={\\frac  {1}{\\sigma {\\sqrt  {2\\pi }}}}\\,{\\frac  {1}{x(1-x)}}\\,e^{{-{\\frac  {(\\operatorname {logit}(x)-\\mu )^{2}}{2\\sigma ^{2}}}}}$$\n",
    "\n",
    "其中$${\\operatorname {logit} (p)=\\ln \\left({\\frac {p}{1-p}}\\right)\\quad {\\text{for}}\\quad p\\in (0,1)}.$$\n",
    "\n",
    "假设$\\mu=2, \\sigma = 3$, 计算f(0.7)的值。\n",
    "\n",
    "提示：`math.log()`以e为底，`math.log2()`以2为底, `math.log10()`以10为底\n"
   ]
  },
  {
   "cell_type": "code",
   "execution_count": 18,
   "id": "0d857b19",
   "metadata": {},
   "outputs": [
    {
     "name": "stdout",
     "output_type": "stream",
     "text": [
      "0.5881807532314393\n"
     ]
    }
   ],
   "source": [
    "# your code here\n",
    "import math\n",
    "x = 0.7; mu = 2; sigma = 3\n",
    "logit=math.log(x/(1-x))\n",
    "part1=1/(sigma*math.sqrt(2*math.pi))\n",
    "part2=1/(x*(1-x))\n",
    "part3=-(logit-mu)**2/(2*sigma**2)\n",
    "fx=part1*part2*(math.e**part3)\n",
    "print(fx)\n"
   ]
  },
  {
   "cell_type": "code",
   "execution_count": null,
   "id": "283cd7cf",
   "metadata": {},
   "outputs": [],
   "source": [
    "# 答案\n",
    "import math\n",
    "\n",
    "x = float(input('Please input x:'))\n",
    "mu = 2 \n",
    "sigma = 3\n",
    "logit = math.log(x/(1-x))\n",
    "part1 = 1/sigma/math.sqrt(2*math.pi)/x/(1-x)\n",
    "part2 = math.exp(((logit-mu)**2)/(-2)/sigma**2)\n",
    "print (part1*part2)"
   ]
  }
 ],
 "metadata": {
  "kernelspec": {
   "display_name": "Python 3 (ipykernel)",
   "language": "python",
   "name": "python3"
  },
  "language_info": {
   "codemirror_mode": {
    "name": "ipython",
    "version": 3
   },
   "file_extension": ".py",
   "mimetype": "text/x-python",
   "name": "python",
   "nbconvert_exporter": "python",
   "pygments_lexer": "ipython3",
   "version": "3.11.5"
  },
  "toc": {
   "base_numbering": 1,
   "nav_menu": {},
   "number_sections": false,
   "sideBar": true,
   "skip_h1_title": false,
   "title_cell": "Table of Contents",
   "title_sidebar": "Contents",
   "toc_cell": false,
   "toc_position": {
    "height": "calc(100% - 180px)",
    "left": "10px",
    "top": "150px",
    "width": "384px"
   },
   "toc_section_display": true,
   "toc_window_display": false
  }
 },
 "nbformat": 4,
 "nbformat_minor": 5
}
