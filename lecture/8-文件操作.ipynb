{
 "cells": [
  {
   "cell_type": "markdown",
   "id": "documentary-challenge",
   "metadata": {},
   "source": [
    "文件操作\n",
    "========\n",
    "\n",
    "BUSS1301 程序设计，2024年春季\n",
    "\n",
    "Contents\n",
    "===\n",
    "* 1. 打开文件对象\n",
    "* 2. 文本文件读取\n",
    "* 3. 文本文件写入\n",
    "* 4. 文件编码\n",
    "* 5. json文件读写\n",
    "* 6. csv文件读写\n",
    "* 7. 序列号存储\n",
    "* 8. 操作文件与目录\n",
    "* 9. 课后练习\n",
    "\n",
    "-------\n",
    "### 1. 打开文件对象\n",
    "* 简单例子"
   ]
  },
  {
   "cell_type": "code",
   "execution_count": 1,
   "id": "literary-sector",
   "metadata": {},
   "outputs": [
    {
     "name": "stdout",
     "output_type": "stream",
     "text": [
      "This is the content of test.txt\n",
      "This is the content of test.txt\n"
     ]
    }
   ],
   "source": [
    "# 方式一： with 语句\n",
    "with open('data/test.txt', 'r') as infile:\n",
    "    content = infile.read()\n",
    "    print(content)\n",
    "\n",
    "# 方式二\n",
    "infile = open('data/test.txt', 'r')\n",
    "content = infile.read()\n",
    "print(content)\n",
    "infile.close()\n"
   ]
  },
  {
   "cell_type": "markdown",
   "id": "superb-occurrence",
   "metadata": {},
   "source": [
    "* 文件路径\n",
    "\n",
    "我把`8-文件操作.ipynb` 复制到两个系统，一个windows，一个Linux/Mac，进行演示\n",
    "- windows下，路径为`f:\\\\SynologyDrive-xuan\\\\WorkingData\\\\Teaching-SJTU\\\\2023-2024-Spring-BUSS1301\\\\Lectures\\\\8-文件操作`\n",
    "- Linux/Mac下，路径为`/home/xuan/nas/Drive/WorkingData/Teaching-SJTU/2023-2024-Spring-BUSS1301/Lectures/8-文件操作`\n"
   ]
  },
  {
   "cell_type": "markdown",
   "id": "ab460b18-5ff6-4bac-a574-90fe0405d878",
   "metadata": {},
   "source": [
    "* Windows下演示："
   ]
  },
  {
   "cell_type": "code",
   "execution_count": 1,
   "id": "featured-portuguese",
   "metadata": {},
   "outputs": [
    {
     "data": {
      "text/plain": [
       "'f:\\\\SynologyDrive-xuan\\\\WorkingData\\\\Teaching-SJTU\\\\2023-2024-Spring-BUSS1301\\\\Lectures\\\\8-文件操作'"
      ]
     },
     "execution_count": 1,
     "metadata": {},
     "output_type": "execute_result"
    }
   ],
   "source": [
    "%pwd # 使用魔法函数得到当前工作路径。Windows的结果"
   ]
  },
  {
   "cell_type": "code",
   "execution_count": 9,
   "id": "31a2f4d5-6585-4178-aa1a-a929594b39a4",
   "metadata": {},
   "outputs": [
    {
     "name": "stdout",
     "output_type": "stream",
     "text": [
      "This is the content of test.txt\n",
      "Python is the best language\n"
     ]
    }
   ],
   "source": [
    "# Windows环境下测试\n",
    "# 以下方式都能读取到文件\n",
    "#with open('data/test.txt', 'r') as infile:\n",
    "#with open('./data/test.txt', 'r') as infile:\n",
    "with open('../8-文件操作/data/test.txt', 'r') as infile:\n",
    "#with open('f:/SynologyDrive-xuan/WorkingData/Teaching-SJTU/2023-2024-Spring-BUSS1301/Lectures/8-文件操作/data/test.txt', 'r') as infile:\n",
    "#with open('f:\\\\SynologyDrive-xuan\\\\WorkingData\\\\Teaching-SJTU\\\\2023-2024-Spring-BUSS1301\\\\Lectures\\\\8-文件操作\\\\data\\\\test.txt', 'r') as infile:\n",
    "    content = infile.read()\n",
    "    print(content)"
   ]
  },
  {
   "cell_type": "code",
   "execution_count": 7,
   "id": "9754268c",
   "metadata": {},
   "outputs": [
    {
     "name": "stdout",
     "output_type": "stream",
     "text": [
      "f:\\SynologyDrive-xuan\\WorkingData\\Teaching-SJTU\\2023-2024-Spring-BUSS1301\\Lectures\\8-文件操作\n"
     ]
    }
   ],
   "source": [
    "import os # windows测试环境\n",
    "# 返回当前绝对路径\n",
    "os.path.abspath('./')\n",
    "print(os.path.abspath('./'))"
   ]
  },
  {
   "cell_type": "markdown",
   "id": "a3e917f2",
   "metadata": {},
   "source": [
    "* Linux/Mac下演示："
   ]
  },
  {
   "cell_type": "code",
   "execution_count": 3,
   "id": "431c193a",
   "metadata": {},
   "outputs": [
    {
     "data": {
      "text/plain": [
       "'/home/xuan/nas/Drive/WorkingData/Teaching-SJTU/2023-2024-Spring-BUSS1301/Lectures/8-文件操作'"
      ]
     },
     "execution_count": 3,
     "metadata": {},
     "output_type": "execute_result"
    }
   ],
   "source": [
    "%pwd # 使用魔法函数得到当前工作路径。Mac/Linux的结果"
   ]
  },
  {
   "cell_type": "code",
   "execution_count": 4,
   "id": "mexican-destruction",
   "metadata": {},
   "outputs": [
    {
     "name": "stdout",
     "output_type": "stream",
     "text": [
      "This is the content of test.txt\n",
      "Python is the best language\n"
     ]
    }
   ],
   "source": [
    "# Linux 环境下测试\n",
    "# 以下方式都能读取到文件\n",
    "# with open('data/test.txt', 'r') as infile:\n",
    "# with open('./data/test.txt', 'r') as infile:\n",
    "# with open('../8-文件操作/data/test.txt', 'r') as infile:\n",
    "with open('/home/xuan/nas/Drive/WorkingData/Teaching-SJTU/2023-2024-Spring-BUSS1301/Lectures/8-文件操作/data/test.txt', 'r') as infile:\n",
    "    content = infile.read()\n",
    "    print(content)"
   ]
  },
  {
   "cell_type": "markdown",
   "id": "13b6fd6d",
   "metadata": {},
   "source": [
    "* 魔法函数举例"
   ]
  },
  {
   "cell_type": "code",
   "execution_count": 1,
   "id": "6b5e8efc",
   "metadata": {},
   "outputs": [
    {
     "data": {
      "application/json": {
       "cell": {
        "!": "OSMagics",
        "HTML": "Other",
        "SVG": "Other",
        "bash": "Other",
        "capture": "ExecutionMagics",
        "cmd": "Other",
        "code_wrap": "ExecutionMagics",
        "debug": "ExecutionMagics",
        "file": "Other",
        "html": "DisplayMagics",
        "javascript": "DisplayMagics",
        "js": "DisplayMagics",
        "latex": "DisplayMagics",
        "markdown": "DisplayMagics",
        "perl": "Other",
        "prun": "ExecutionMagics",
        "pypy": "Other",
        "python": "Other",
        "python2": "Other",
        "python3": "Other",
        "ruby": "Other",
        "script": "ScriptMagics",
        "sh": "Other",
        "svg": "DisplayMagics",
        "sx": "OSMagics",
        "system": "OSMagics",
        "time": "ExecutionMagics",
        "timeit": "ExecutionMagics",
        "writefile": "OSMagics"
       },
       "line": {
        "alias": "OSMagics",
        "alias_magic": "BasicMagics",
        "autoawait": "AsyncMagics",
        "autocall": "AutoMagics",
        "automagic": "AutoMagics",
        "autosave": "KernelMagics",
        "bookmark": "OSMagics",
        "cd": "OSMagics",
        "clear": "KernelMagics",
        "cls": "KernelMagics",
        "code_wrap": "ExecutionMagics",
        "colors": "BasicMagics",
        "conda": "PackagingMagics",
        "config": "ConfigMagics",
        "connect_info": "KernelMagics",
        "copy": "Other",
        "ddir": "Other",
        "debug": "ExecutionMagics",
        "dhist": "OSMagics",
        "dirs": "OSMagics",
        "doctest_mode": "BasicMagics",
        "echo": "Other",
        "ed": "Other",
        "edit": "KernelMagics",
        "env": "OSMagics",
        "gui": "BasicMagics",
        "hist": "Other",
        "history": "HistoryMagics",
        "killbgscripts": "ScriptMagics",
        "ldir": "Other",
        "less": "KernelMagics",
        "load": "CodeMagics",
        "load_ext": "ExtensionMagics",
        "loadpy": "CodeMagics",
        "logoff": "LoggingMagics",
        "logon": "LoggingMagics",
        "logstart": "LoggingMagics",
        "logstate": "LoggingMagics",
        "logstop": "LoggingMagics",
        "ls": "Other",
        "lsmagic": "BasicMagics",
        "macro": "ExecutionMagics",
        "magic": "BasicMagics",
        "mamba": "PackagingMagics",
        "matplotlib": "PylabMagics",
        "micromamba": "PackagingMagics",
        "mkdir": "Other",
        "more": "KernelMagics",
        "notebook": "BasicMagics",
        "page": "BasicMagics",
        "pastebin": "CodeMagics",
        "pdb": "ExecutionMagics",
        "pdef": "NamespaceMagics",
        "pdoc": "NamespaceMagics",
        "pfile": "NamespaceMagics",
        "pinfo": "NamespaceMagics",
        "pinfo2": "NamespaceMagics",
        "pip": "PackagingMagics",
        "popd": "OSMagics",
        "pprint": "BasicMagics",
        "precision": "BasicMagics",
        "prun": "ExecutionMagics",
        "psearch": "NamespaceMagics",
        "psource": "NamespaceMagics",
        "pushd": "OSMagics",
        "pwd": "OSMagics",
        "pycat": "OSMagics",
        "pylab": "PylabMagics",
        "qtconsole": "KernelMagics",
        "quickref": "BasicMagics",
        "recall": "HistoryMagics",
        "rehashx": "OSMagics",
        "reload_ext": "ExtensionMagics",
        "ren": "Other",
        "rep": "Other",
        "rerun": "HistoryMagics",
        "reset": "NamespaceMagics",
        "reset_selective": "NamespaceMagics",
        "rmdir": "Other",
        "run": "ExecutionMagics",
        "save": "CodeMagics",
        "sc": "OSMagics",
        "set_env": "OSMagics",
        "store": "StoreMagics",
        "sx": "OSMagics",
        "system": "OSMagics",
        "tb": "ExecutionMagics",
        "time": "ExecutionMagics",
        "timeit": "ExecutionMagics",
        "unalias": "OSMagics",
        "unload_ext": "ExtensionMagics",
        "who": "NamespaceMagics",
        "who_ls": "NamespaceMagics",
        "whos": "NamespaceMagics",
        "xdel": "NamespaceMagics",
        "xmode": "BasicMagics"
       }
      },
      "text/plain": [
       "Available line magics:\n",
       "%alias  %alias_magic  %autoawait  %autocall  %automagic  %autosave  %bookmark  %cd  %clear  %cls  %code_wrap  %colors  %conda  %config  %connect_info  %copy  %ddir  %debug  %dhist  %dirs  %doctest_mode  %echo  %ed  %edit  %env  %gui  %hist  %history  %killbgscripts  %ldir  %less  %load  %load_ext  %loadpy  %logoff  %logon  %logstart  %logstate  %logstop  %ls  %lsmagic  %macro  %magic  %mamba  %matplotlib  %micromamba  %mkdir  %more  %notebook  %page  %pastebin  %pdb  %pdef  %pdoc  %pfile  %pinfo  %pinfo2  %pip  %popd  %pprint  %precision  %prun  %psearch  %psource  %pushd  %pwd  %pycat  %pylab  %qtconsole  %quickref  %recall  %rehashx  %reload_ext  %ren  %rep  %rerun  %reset  %reset_selective  %rmdir  %run  %save  %sc  %set_env  %store  %sx  %system  %tb  %time  %timeit  %unalias  %unload_ext  %who  %who_ls  %whos  %xdel  %xmode\n",
       "\n",
       "Available cell magics:\n",
       "%%!  %%HTML  %%SVG  %%bash  %%capture  %%cmd  %%code_wrap  %%debug  %%file  %%html  %%javascript  %%js  %%latex  %%markdown  %%perl  %%prun  %%pypy  %%python  %%python2  %%python3  %%ruby  %%script  %%sh  %%svg  %%sx  %%system  %%time  %%timeit  %%writefile\n",
       "\n",
       "Automagic is ON, % prefix IS NOT needed for line magics."
      ]
     },
     "execution_count": 1,
     "metadata": {},
     "output_type": "execute_result"
    }
   ],
   "source": [
    "%lsmagic # 列举所有魔法函数"
   ]
  },
  {
   "cell_type": "code",
   "execution_count": 11,
   "id": "7e13516c",
   "metadata": {},
   "outputs": [
    {
     "name": "stdout",
     "output_type": "stream",
     "text": [
      "CPU times: total: 0 ns\n",
      "Wall time: 0 ns\n"
     ]
    }
   ],
   "source": [
    "%time a = 100**2 #对当前行计时"
   ]
  },
  {
   "cell_type": "code",
   "execution_count": 18,
   "id": "dd3821e1",
   "metadata": {},
   "outputs": [
    {
     "name": "stdout",
     "output_type": "stream",
     "text": [
      "This is the content of test.txt\n",
      "Python is the best language\n",
      "CPU times: total: 0 ns\n",
      "Wall time: 1.01 ms\n"
     ]
    }
   ],
   "source": [
    "%%time \n",
    "# 对当前cell计时\n",
    "with open('./data/test.txt', 'r') as infile:\n",
    "    content = infile.read()\n",
    "    print(content)"
   ]
  },
  {
   "cell_type": "markdown",
   "id": "urban-silly",
   "metadata": {},
   "source": [
    "### 2. 文本文件读取\n"
   ]
  },
  {
   "cell_type": "markdown",
   "id": "5b31a435",
   "metadata": {},
   "source": [
    "* sidenote: repr()\n",
    "\n",
    "> `repr()`:返回解释器易读的表达形式\n"
   ]
  },
  {
   "cell_type": "code",
   "execution_count": 16,
   "id": "2b49a8f3",
   "metadata": {},
   "outputs": [
    {
     "data": {
      "text/plain": [
       "[1, 2, 3]"
      ]
     },
     "execution_count": 16,
     "metadata": {},
     "output_type": "execute_result"
    }
   ],
   "source": [
    "[1,2,3]"
   ]
  },
  {
   "cell_type": "code",
   "execution_count": 14,
   "id": "3843c2c6",
   "metadata": {},
   "outputs": [
    {
     "name": "stdout",
     "output_type": "stream",
     "text": [
      "1\t\t\t\t\n",
      "2\n",
      "----\n",
      "'1\\t\\t\\t\\t\\n2'\n"
     ]
    }
   ],
   "source": [
    "a = '1\\t\\t\\t\\t\\n2'\n",
    "# print会进行转义，得到的是用户易读的形式\n",
    "print(a)\n",
    "print('----')\n",
    "# 解释器易读的表达形式\n",
    "print(repr(a))\n"
   ]
  },
  {
   "cell_type": "markdown",
   "id": "crude-junction",
   "metadata": {},
   "source": [
    "* 一次性读取\n",
    "\n",
    "`data/student.txt`的内容如下\n",
    "```\n",
    "101 Alice F\n",
    "102 Bob M\n",
    "103 Alex M\n",
    "```"
   ]
  },
  {
   "cell_type": "code",
   "execution_count": 6,
   "id": "massive-approach",
   "metadata": {},
   "outputs": [
    {
     "name": "stdout",
     "output_type": "stream",
     "text": [
      "----results of f.read()----\n",
      "'101 Alice F\\n102 Bob M\\n103 Alex M\\n'\n",
      "id:101, name:Alice, gender:F\n",
      "id:102, name:Bob, gender:M\n",
      "id:103, name:Alex, gender:M\n"
     ]
    }
   ],
   "source": [
    "with open('data/student.txt', 'r') as f:\n",
    "    content = f.read()\n",
    "    print('----results of f.read()----')\n",
    "    print(repr(content))\n",
    "    \n",
    "    for line in content.strip().split('\\n'): # strip()防止结尾有\\n\n",
    "        ID, name, gender = line.split()\n",
    "        print('id:%s, name:%s, gender:%s'%(ID, name, gender))\n",
    "    "
   ]
  },
  {
   "cell_type": "code",
   "execution_count": 7,
   "id": "neural-credit",
   "metadata": {},
   "outputs": [
    {
     "name": "stdout",
     "output_type": "stream",
     "text": [
      "----results of f.readlines()----\n",
      "['101 Alice F\\n', '102 Bob M\\n', '103 Alex M\\n']\n",
      "id:101, name:Alice, gender:F\n",
      "id:102, name:Bob, gender:M\n",
      "id:103, name:Alex, gender:M\n"
     ]
    }
   ],
   "source": [
    "with open('data/student.txt', 'r') as f:\n",
    "    content = f.readlines()\n",
    "    print('----results of f.readlines()----')\n",
    "    print(repr(content))\n",
    "    \n",
    "    for line in content:\n",
    "        ID, name, gender = line.strip().split()\n",
    "        print('id:%s, name:%s, gender:%s'%(ID, name, gender))"
   ]
  },
  {
   "cell_type": "markdown",
   "id": "muslim-analysis",
   "metadata": {},
   "source": [
    "* 逐行读取"
   ]
  },
  {
   "cell_type": "code",
   "execution_count": 9,
   "id": "acknowledged-accounting",
   "metadata": {},
   "outputs": [
    {
     "name": "stdout",
     "output_type": "stream",
     "text": [
      "'101 Alice F\\n'\n",
      "'102 Bob M\\n'\n",
      "'103 Alex M\\n'\n"
     ]
    }
   ],
   "source": [
    "with open('data/student.txt', 'r') as f:\n",
    "    while(True):\n",
    "        line = f.readline()\n",
    "        if not line:\n",
    "            break\n",
    "        print(repr(line))"
   ]
  },
  {
   "cell_type": "markdown",
   "id": "hindu-entry",
   "metadata": {},
   "source": [
    "* 测试文件指针"
   ]
  },
  {
   "cell_type": "code",
   "execution_count": 89,
   "id": "guilty-drilling",
   "metadata": {},
   "outputs": [
    {
     "name": "stdout",
     "output_type": "stream",
     "text": [
      "'101 Alice F\\n'\n",
      "['102 Bob M\\n', '103 Alex M\\n']\n"
     ]
    }
   ],
   "source": [
    "with open('data/student.txt', 'r') as f:\n",
    "    first_line = f.readline()\n",
    "    others = f.readlines()\n",
    "    print(repr(first_line))\n",
    "    print(repr(others))"
   ]
  },
  {
   "cell_type": "code",
   "execution_count": 47,
   "id": "renewable-intervention",
   "metadata": {},
   "outputs": [
    {
     "name": "stdout",
     "output_type": "stream",
     "text": [
      "----results of f.read()----\n",
      "'101 Alice F\\n102 Bob M\\n103 Alex M\\n'\n",
      "----results of f.readlines()----\n",
      "['101 Alice F\\n', '102 Bob M\\n', '103 Alex M\\n']\n"
     ]
    }
   ],
   "source": [
    "with open('data/student.txt', 'r') as f:\n",
    "    content1 = f.read()\n",
    "    content2 = f.readlines()\n",
    "    \n",
    "    print('----results of f.read()----')\n",
    "    print(repr(content1))\n",
    "    print('----results of f.readlines()----')\n",
    "    print(repr(content2))\n",
    "        "
   ]
  },
  {
   "cell_type": "markdown",
   "id": "tested-thomson",
   "metadata": {},
   "source": [
    "* 课堂练习\n",
    "\n",
    "在文本编辑器中新建一个文件， 写三句话来总结一下你至此学到的Python知识， 其中每一行都以“In Python you can”打头。 将这个文件命名为learning_python.txt， 并将其存储到为完成本章练习而编写的程序所在的目录中。 \n",
    "\n",
    "编写一个程序， 它读取这个文件， 并将你所写的内容打印三次：\n",
    "\n",
    "第一次打印时读取整个文件； \n",
    "\n",
    "第二次打印时遍历文件对象； \n",
    "\n",
    "第三次打印时将各行存储在一个列表中， 再在with 代码块外打印它们。\n",
    "\n"
   ]
  },
  {
   "cell_type": "code",
   "execution_count": 8,
   "id": "strange-director",
   "metadata": {},
   "outputs": [
    {
     "name": "stdout",
     "output_type": "stream",
     "text": [
      "With Python, I can fly\n",
      "With Python, I can sleep\n",
      "With Python, I can get stronger.\n",
      "With Python, I can fly\n",
      "With Python, I can sleep\n",
      "With Python, I can get stronger.\n",
      "['With Python, I can fly\\n', 'With Python, I can sleep\\n', 'With Python, I can get stronger.\\n']\n"
     ]
    }
   ],
   "source": [
    "# your code here\n",
    "with open('data/learning_python.txt', 'r') as f:\n",
    "    content = f.read()\n",
    "    for line in content.strip().split('\\n'):\n",
    "        print(line)\n",
    "        \n",
    "with open('data/learning_python.txt', 'r') as f:\n",
    "    for line in f:\n",
    "        print(line.strip())\n",
    "        \n",
    "with open('data/learning_python.txt', 'r') as f:\n",
    "    content = f.readlines()\n",
    "for line in content:\n",
    "    print(line.strip())"
   ]
  },
  {
   "cell_type": "markdown",
   "id": "electric-douglas",
   "metadata": {},
   "source": [
    "### 3. 文本文件写入"
   ]
  },
  {
   "cell_type": "code",
   "execution_count": 28,
   "id": "union-solution",
   "metadata": {},
   "outputs": [
    {
     "ename": "KeyboardInterrupt",
     "evalue": "",
     "output_type": "error",
     "traceback": [
      "\u001b[1;31m---------------------------------------------------------------------------\u001b[0m",
      "\u001b[1;31mKeyboardInterrupt\u001b[0m                         Traceback (most recent call last)",
      "Cell \u001b[1;32mIn[28], line 5\u001b[0m\n\u001b[0;32m      3\u001b[0m \u001b[38;5;28;01mwith\u001b[39;00m \u001b[38;5;28mopen\u001b[39m(\u001b[38;5;124m'\u001b[39m\u001b[38;5;124mdata/programming.txt\u001b[39m\u001b[38;5;124m'\u001b[39m, \u001b[38;5;124m'\u001b[39m\u001b[38;5;124mw\u001b[39m\u001b[38;5;124m'\u001b[39m) \u001b[38;5;28;01mas\u001b[39;00m f: \n\u001b[0;32m      4\u001b[0m     f\u001b[38;5;241m.\u001b[39mwrite(\u001b[38;5;124m'\u001b[39m\u001b[38;5;124mI love \u001b[39m\u001b[38;5;124m'\u001b[39m)\n\u001b[1;32m----> 5\u001b[0m     \u001b[43mf\u001b[49m\u001b[38;5;241m.\u001b[39mwrite(\u001b[38;5;124m'\u001b[39m\u001b[38;5;124mPython.\u001b[39m\u001b[38;5;130;01m\\n\u001b[39;00m\u001b[38;5;124m'\u001b[39m)\n\u001b[0;32m      6\u001b[0m     f\u001b[38;5;241m.\u001b[39mwrite(\u001b[38;5;124m'\u001b[39m\u001b[38;5;124mBut it is so difficult.\u001b[39m\u001b[38;5;130;01m\\n\u001b[39;00m\u001b[38;5;124m'\u001b[39m)\n\u001b[0;32m      7\u001b[0m     f\u001b[38;5;241m.\u001b[39mwritelines([\u001b[38;5;124m'\u001b[39m\u001b[38;5;124mI believe practice makes perfect.\u001b[39m\u001b[38;5;130;01m\\n\u001b[39;00m\u001b[38;5;124m'\u001b[39m,\n\u001b[0;32m      8\u001b[0m             \u001b[38;5;124m\"\u001b[39m\u001b[38;5;124mLet\u001b[39m\u001b[38;5;124m'\u001b[39m\u001b[38;5;124ms do it!\u001b[39m\u001b[38;5;130;01m\\n\u001b[39;00m\u001b[38;5;124m\"\u001b[39m])\n",
      "Cell \u001b[1;32mIn[28], line 5\u001b[0m\n\u001b[0;32m      3\u001b[0m \u001b[38;5;28;01mwith\u001b[39;00m \u001b[38;5;28mopen\u001b[39m(\u001b[38;5;124m'\u001b[39m\u001b[38;5;124mdata/programming.txt\u001b[39m\u001b[38;5;124m'\u001b[39m, \u001b[38;5;124m'\u001b[39m\u001b[38;5;124mw\u001b[39m\u001b[38;5;124m'\u001b[39m) \u001b[38;5;28;01mas\u001b[39;00m f: \n\u001b[0;32m      4\u001b[0m     f\u001b[38;5;241m.\u001b[39mwrite(\u001b[38;5;124m'\u001b[39m\u001b[38;5;124mI love \u001b[39m\u001b[38;5;124m'\u001b[39m)\n\u001b[1;32m----> 5\u001b[0m     \u001b[43mf\u001b[49m\u001b[38;5;241m.\u001b[39mwrite(\u001b[38;5;124m'\u001b[39m\u001b[38;5;124mPython.\u001b[39m\u001b[38;5;130;01m\\n\u001b[39;00m\u001b[38;5;124m'\u001b[39m)\n\u001b[0;32m      6\u001b[0m     f\u001b[38;5;241m.\u001b[39mwrite(\u001b[38;5;124m'\u001b[39m\u001b[38;5;124mBut it is so difficult.\u001b[39m\u001b[38;5;130;01m\\n\u001b[39;00m\u001b[38;5;124m'\u001b[39m)\n\u001b[0;32m      7\u001b[0m     f\u001b[38;5;241m.\u001b[39mwritelines([\u001b[38;5;124m'\u001b[39m\u001b[38;5;124mI believe practice makes perfect.\u001b[39m\u001b[38;5;130;01m\\n\u001b[39;00m\u001b[38;5;124m'\u001b[39m,\n\u001b[0;32m      8\u001b[0m             \u001b[38;5;124m\"\u001b[39m\u001b[38;5;124mLet\u001b[39m\u001b[38;5;124m'\u001b[39m\u001b[38;5;124ms do it!\u001b[39m\u001b[38;5;130;01m\\n\u001b[39;00m\u001b[38;5;124m\"\u001b[39m])\n",
      "File \u001b[1;32m_pydevd_bundle/pydevd_cython.pyx:1457\u001b[0m, in \u001b[0;36m_pydevd_bundle.pydevd_cython.SafeCallWrapper.__call__\u001b[1;34m()\u001b[0m\n",
      "File \u001b[1;32m_pydevd_bundle/pydevd_cython.pyx:701\u001b[0m, in \u001b[0;36m_pydevd_bundle.pydevd_cython.PyDBFrame.trace_dispatch\u001b[1;34m()\u001b[0m\n",
      "File \u001b[1;32m_pydevd_bundle/pydevd_cython.pyx:1395\u001b[0m, in \u001b[0;36m_pydevd_bundle.pydevd_cython.PyDBFrame.trace_dispatch\u001b[1;34m()\u001b[0m\n",
      "File \u001b[1;32m_pydevd_bundle/pydevd_cython.pyx:1344\u001b[0m, in \u001b[0;36m_pydevd_bundle.pydevd_cython.PyDBFrame.trace_dispatch\u001b[1;34m()\u001b[0m\n",
      "File \u001b[1;32m_pydevd_bundle/pydevd_cython.pyx:312\u001b[0m, in \u001b[0;36m_pydevd_bundle.pydevd_cython.PyDBFrame.do_wait_suspend\u001b[1;34m()\u001b[0m\n",
      "File \u001b[1;32mc:\\ProgramData\\miniconda3\\Lib\\site-packages\\debugpy\\_vendored\\pydevd\\pydevd.py:2070\u001b[0m, in \u001b[0;36mPyDB.do_wait_suspend\u001b[1;34m(self, thread, frame, event, arg, exception_type)\u001b[0m\n\u001b[0;32m   2067\u001b[0m             from_this_thread\u001b[38;5;241m.\u001b[39mappend(frame_custom_thread_id)\n\u001b[0;32m   2069\u001b[0m     \u001b[38;5;28;01mwith\u001b[39;00m \u001b[38;5;28mself\u001b[39m\u001b[38;5;241m.\u001b[39m_threads_suspended_single_notification\u001b[38;5;241m.\u001b[39mnotify_thread_suspended(thread_id, thread, stop_reason):\n\u001b[1;32m-> 2070\u001b[0m         keep_suspended \u001b[38;5;241m=\u001b[39m \u001b[38;5;28;43mself\u001b[39;49m\u001b[38;5;241;43m.\u001b[39;49m\u001b[43m_do_wait_suspend\u001b[49m\u001b[43m(\u001b[49m\u001b[43mthread\u001b[49m\u001b[43m,\u001b[49m\u001b[43m \u001b[49m\u001b[43mframe\u001b[49m\u001b[43m,\u001b[49m\u001b[43m \u001b[49m\u001b[43mevent\u001b[49m\u001b[43m,\u001b[49m\u001b[43m \u001b[49m\u001b[43marg\u001b[49m\u001b[43m,\u001b[49m\u001b[43m \u001b[49m\u001b[43msuspend_type\u001b[49m\u001b[43m,\u001b[49m\u001b[43m \u001b[49m\u001b[43mfrom_this_thread\u001b[49m\u001b[43m,\u001b[49m\u001b[43m \u001b[49m\u001b[43mframes_tracker\u001b[49m\u001b[43m)\u001b[49m\n\u001b[0;32m   2072\u001b[0m frames_list \u001b[38;5;241m=\u001b[39m \u001b[38;5;28;01mNone\u001b[39;00m\n\u001b[0;32m   2074\u001b[0m \u001b[38;5;28;01mif\u001b[39;00m keep_suspended:\n\u001b[0;32m   2075\u001b[0m     \u001b[38;5;66;03m# This means that we should pause again after a set next statement.\u001b[39;00m\n",
      "File \u001b[1;32mc:\\ProgramData\\miniconda3\\Lib\\site-packages\\debugpy\\_vendored\\pydevd\\pydevd.py:2106\u001b[0m, in \u001b[0;36mPyDB._do_wait_suspend\u001b[1;34m(self, thread, frame, event, arg, suspend_type, from_this_thread, frames_tracker)\u001b[0m\n\u001b[0;32m   2103\u001b[0m         \u001b[38;5;28mself\u001b[39m\u001b[38;5;241m.\u001b[39m_call_input_hook()\n\u001b[0;32m   2105\u001b[0m     \u001b[38;5;28mself\u001b[39m\u001b[38;5;241m.\u001b[39mprocess_internal_commands()\n\u001b[1;32m-> 2106\u001b[0m     time\u001b[38;5;241m.\u001b[39msleep(\u001b[38;5;241m0.01\u001b[39m)\n\u001b[0;32m   2108\u001b[0m \u001b[38;5;28mself\u001b[39m\u001b[38;5;241m.\u001b[39mcancel_async_evaluation(get_current_thread_id(thread), \u001b[38;5;28mstr\u001b[39m(\u001b[38;5;28mid\u001b[39m(frame)))\n\u001b[0;32m   2110\u001b[0m \u001b[38;5;66;03m# process any stepping instructions\u001b[39;00m\n",
      "\u001b[1;31mKeyboardInterrupt\u001b[0m: "
     ]
    }
   ],
   "source": [
    "# 若文件不存在，会新建文件\n",
    "# 若文件存在，会清空内容\n",
    "with open('data/programming.txt', 'w') as f: \n",
    "    f.write('I love ')\n",
    "    f.write('Python.\\n')\n",
    "    f.write('But it is so difficult.\\n')\n",
    "    f.writelines(['I believe practice makes perfect.\\n',\n",
    "            \"Let's do it!\\n\"])"
   ]
  },
  {
   "cell_type": "code",
   "execution_count": 27,
   "id": "exclusive-uncertainty",
   "metadata": {},
   "outputs": [],
   "source": [
    "with open('data/programming.txt', 'a') as f: \n",
    "    f.write('I made it!\\n')"
   ]
  },
  {
   "cell_type": "code",
   "execution_count": 12,
   "id": "b717f5d8",
   "metadata": {},
   "outputs": [
    {
     "name": "stderr",
     "output_type": "stream",
     "text": [
      "UsageError: Line magic function `%cat` not found.\n"
     ]
    }
   ],
   "source": [
    "# show file content \n",
    "%cat data/programming.txt"
   ]
  },
  {
   "cell_type": "markdown",
   "id": "vocational-alert",
   "metadata": {},
   "source": [
    "* 课堂练习\n",
    "\n",
    "接受用户的5次输入\n",
    "\n",
    "全为数字的输入，逐行以追加的形式写入到文件is_numbers.txt\n",
    "\n",
    "其他输入，逐行以追加的形式写入到文件is_not_numbers.txt\n"
   ]
  },
  {
   "cell_type": "code",
   "execution_count": 58,
   "id": "wrong-amplifier",
   "metadata": {},
   "outputs": [
    {
     "name": "stdout",
     "output_type": "stream",
     "text": [
      "please input:12\n",
      "please input:12\n",
      "please input:34\n",
      "please input:fr4\n",
      "please input:fs\n"
     ]
    }
   ],
   "source": [
    "with open('data/is_numbers.txt', 'a') as f1:\n",
    "    with open('data/is_not_numbers.txt', 'a') as f2:\n",
    "        for i in range(5):\n",
    "            data = input('please input:')\n",
    "            if data.isdigit():\n",
    "                f1.write(data + '\\n')\n",
    "            else:\n",
    "                f2.write(data + '\\n')\n",
    "                "
   ]
  },
  {
   "cell_type": "code",
   "execution_count": 59,
   "id": "40803beb",
   "metadata": {},
   "outputs": [
    {
     "data": {
      "text/plain": [
       "65"
      ]
     },
     "execution_count": 59,
     "metadata": {},
     "output_type": "execute_result"
    }
   ],
   "source": [
    "ord('A')"
   ]
  },
  {
   "cell_type": "markdown",
   "id": "broke-dietary",
   "metadata": {},
   "source": [
    "### 4. 文本编码"
   ]
  },
  {
   "cell_type": "code",
   "execution_count": 31,
   "id": "offensive-alliance",
   "metadata": {},
   "outputs": [
    {
     "name": "stdout",
     "output_type": "stream",
     "text": [
      "123中国\n"
     ]
    }
   ],
   "source": [
    "with open('data/test_encoding.txt', 'w', encoding='gbk') as f:\n",
    "    f.write('123中国')\n",
    "    \n",
    "# with open('data/test_encoding.txt', 'r', encoding='utf-8') as f:        \n",
    "#     print(f.read()) # error\n",
    "    \n",
    "# with open('data/test_encoding.txt', 'r', encoding='utf-8', errors='ignore') as f:\n",
    "#     print(f.read())\n",
    "    \n",
    "with open('data/test_encoding.txt', 'r', encoding='gbk') as f:\n",
    "    print(f.read())"
   ]
  },
  {
   "cell_type": "markdown",
   "id": "electric-emphasis",
   "metadata": {},
   "source": [
    "### 5. json文件读写"
   ]
  },
  {
   "cell_type": "code",
   "execution_count": 42,
   "id": "threatened-vintage",
   "metadata": {},
   "outputs": [],
   "source": [
    "import json\n",
    "dic = {'name': '小明',\n",
    "       'age': 18,\n",
    "       'scores':{'IS211': 89, 'IS200': 90},\n",
    "       'city': ['Beijing', 'Shanghai'],\n",
    "       'Intl.': False,\n",
    "       'notes': None\n",
    "      }\n",
    "json.dump(dic, open('data/student1.json', 'w'))\n",
    "json.dump(dic, open('data/student2.json', 'w'), indent = 4)\n",
    "json.dump(dic, open('data/student3.json', 'w', encoding='utf-8'), indent = 4, ensure_ascii=False)"
   ]
  },
  {
   "cell_type": "code",
   "execution_count": 3,
   "id": "58f4f198",
   "metadata": {},
   "outputs": [
    {
     "name": "stdout",
     "output_type": "stream",
     "text": [
      "{'name': '\\\\ u5c0f明', 'age': 18, 'scores': {'IS211': 89, 'IS200': 90}, 'city': ['Beijing', 'Shanghai'], 'Intl.': False, 'notes': None}\n"
     ]
    }
   ],
   "source": [
    "import json\n",
    "data = json.load(open('data/student1.json', 'r'))\n",
    "print(data)"
   ]
  },
  {
   "cell_type": "code",
   "execution_count": 45,
   "id": "strange-ferry",
   "metadata": {},
   "outputs": [
    {
     "name": "stdout",
     "output_type": "stream",
     "text": [
      "{'name': '小明', 'age': 18, 'scores': {'IS211': 89, 'IS200': 90}, 'city': ['Beijing', 'Shanghai'], 'Intl.': False, 'notes': None}\n",
      "{'name': '小明', 'age': 18, 'scores': {'IS211': 89, 'IS200': 90}, 'city': ['Beijing', 'Shanghai'], 'Intl.': False, 'notes': None}\n",
      "{'name': '小明', 'age': 18, 'scores': {'IS211': 89, 'IS200': 90}, 'city': ['Beijing', 'Shanghai'], 'Intl.': False, 'notes': None}\n"
     ]
    }
   ],
   "source": [
    "data = json.load(open('data/student1.json', 'r'))\n",
    "print(data)\n",
    "data = json.load(open('data/student2.json', 'r'))\n",
    "print(data)\n",
    "data = json.load(open('data/student3.json', 'r',encoding='utf-8'))\n",
    "print(data)"
   ]
  },
  {
   "cell_type": "code",
   "execution_count": 55,
   "id": "5216e17f",
   "metadata": {},
   "outputs": [
    {
     "ename": "UnicodeDecodeError",
     "evalue": "'ascii' codec can't decode byte 0xd0 in position 16: ordinal not in range(128)",
     "output_type": "error",
     "traceback": [
      "\u001b[1;31m---------------------------------------------------------------------------\u001b[0m",
      "\u001b[1;31mUnicodeDecodeError\u001b[0m                        Traceback (most recent call last)",
      "\u001b[1;32m~\\AppData\\Local\\Temp/ipykernel_44732/1271008458.py\u001b[0m in \u001b[0;36m<module>\u001b[1;34m\u001b[0m\n\u001b[1;32m----> 1\u001b[1;33m \u001b[0mdata\u001b[0m \u001b[1;33m=\u001b[0m \u001b[0mjson\u001b[0m\u001b[1;33m.\u001b[0m\u001b[0mload\u001b[0m\u001b[1;33m(\u001b[0m\u001b[0mopen\u001b[0m\u001b[1;33m(\u001b[0m\u001b[1;34m'data/student3.json'\u001b[0m\u001b[1;33m,\u001b[0m \u001b[1;34m'r'\u001b[0m\u001b[1;33m,\u001b[0m \u001b[0mencoding\u001b[0m\u001b[1;33m=\u001b[0m\u001b[1;34m'ascii'\u001b[0m\u001b[1;33m)\u001b[0m\u001b[1;33m)\u001b[0m\u001b[1;33m\u001b[0m\u001b[1;33m\u001b[0m\u001b[0m\n\u001b[0m\u001b[0;32m      2\u001b[0m \u001b[0mprint\u001b[0m\u001b[1;33m(\u001b[0m\u001b[0mdata\u001b[0m\u001b[1;33m)\u001b[0m\u001b[1;33m\u001b[0m\u001b[1;33m\u001b[0m\u001b[0m\n",
      "\u001b[1;32md:\\miniconda3\\envs\\p38\\lib\\json\\__init__.py\u001b[0m in \u001b[0;36mload\u001b[1;34m(fp, cls, object_hook, parse_float, parse_int, parse_constant, object_pairs_hook, **kw)\u001b[0m\n\u001b[0;32m    291\u001b[0m     \u001b[0mkwarg\u001b[0m\u001b[1;33m;\u001b[0m \u001b[0motherwise\u001b[0m\u001b[0;31m \u001b[0m\u001b[0;31m`\u001b[0m\u001b[0;31m`\u001b[0m\u001b[0mJSONDecoder\u001b[0m\u001b[0;31m`\u001b[0m\u001b[0;31m`\u001b[0m \u001b[1;32mis\u001b[0m \u001b[0mused\u001b[0m\u001b[1;33m.\u001b[0m\u001b[1;33m\u001b[0m\u001b[1;33m\u001b[0m\u001b[0m\n\u001b[0;32m    292\u001b[0m     \"\"\"\n\u001b[1;32m--> 293\u001b[1;33m     return loads(fp.read(),\n\u001b[0m\u001b[0;32m    294\u001b[0m         \u001b[0mcls\u001b[0m\u001b[1;33m=\u001b[0m\u001b[0mcls\u001b[0m\u001b[1;33m,\u001b[0m \u001b[0mobject_hook\u001b[0m\u001b[1;33m=\u001b[0m\u001b[0mobject_hook\u001b[0m\u001b[1;33m,\u001b[0m\u001b[1;33m\u001b[0m\u001b[1;33m\u001b[0m\u001b[0m\n\u001b[0;32m    295\u001b[0m         \u001b[0mparse_float\u001b[0m\u001b[1;33m=\u001b[0m\u001b[0mparse_float\u001b[0m\u001b[1;33m,\u001b[0m \u001b[0mparse_int\u001b[0m\u001b[1;33m=\u001b[0m\u001b[0mparse_int\u001b[0m\u001b[1;33m,\u001b[0m\u001b[1;33m\u001b[0m\u001b[1;33m\u001b[0m\u001b[0m\n",
      "\u001b[1;32md:\\miniconda3\\envs\\p38\\lib\\encodings\\ascii.py\u001b[0m in \u001b[0;36mdecode\u001b[1;34m(self, input, final)\u001b[0m\n\u001b[0;32m     24\u001b[0m \u001b[1;32mclass\u001b[0m \u001b[0mIncrementalDecoder\u001b[0m\u001b[1;33m(\u001b[0m\u001b[0mcodecs\u001b[0m\u001b[1;33m.\u001b[0m\u001b[0mIncrementalDecoder\u001b[0m\u001b[1;33m)\u001b[0m\u001b[1;33m:\u001b[0m\u001b[1;33m\u001b[0m\u001b[1;33m\u001b[0m\u001b[0m\n\u001b[0;32m     25\u001b[0m     \u001b[1;32mdef\u001b[0m \u001b[0mdecode\u001b[0m\u001b[1;33m(\u001b[0m\u001b[0mself\u001b[0m\u001b[1;33m,\u001b[0m \u001b[0minput\u001b[0m\u001b[1;33m,\u001b[0m \u001b[0mfinal\u001b[0m\u001b[1;33m=\u001b[0m\u001b[1;32mFalse\u001b[0m\u001b[1;33m)\u001b[0m\u001b[1;33m:\u001b[0m\u001b[1;33m\u001b[0m\u001b[1;33m\u001b[0m\u001b[0m\n\u001b[1;32m---> 26\u001b[1;33m         \u001b[1;32mreturn\u001b[0m \u001b[0mcodecs\u001b[0m\u001b[1;33m.\u001b[0m\u001b[0mascii_decode\u001b[0m\u001b[1;33m(\u001b[0m\u001b[0minput\u001b[0m\u001b[1;33m,\u001b[0m \u001b[0mself\u001b[0m\u001b[1;33m.\u001b[0m\u001b[0merrors\u001b[0m\u001b[1;33m)\u001b[0m\u001b[1;33m[\u001b[0m\u001b[1;36m0\u001b[0m\u001b[1;33m]\u001b[0m\u001b[1;33m\u001b[0m\u001b[1;33m\u001b[0m\u001b[0m\n\u001b[0m\u001b[0;32m     27\u001b[0m \u001b[1;33m\u001b[0m\u001b[0m\n\u001b[0;32m     28\u001b[0m \u001b[1;32mclass\u001b[0m \u001b[0mStreamWriter\u001b[0m\u001b[1;33m(\u001b[0m\u001b[0mCodec\u001b[0m\u001b[1;33m,\u001b[0m\u001b[0mcodecs\u001b[0m\u001b[1;33m.\u001b[0m\u001b[0mStreamWriter\u001b[0m\u001b[1;33m)\u001b[0m\u001b[1;33m:\u001b[0m\u001b[1;33m\u001b[0m\u001b[1;33m\u001b[0m\u001b[0m\n",
      "\u001b[1;31mUnicodeDecodeError\u001b[0m: 'ascii' codec can't decode byte 0xd0 in position 16: ordinal not in range(128)"
     ]
    }
   ],
   "source": [
    "data = json.load(open('data/student3.json', 'r', encoding='ascii')) # 报错\n",
    "print(data)"
   ]
  },
  {
   "cell_type": "markdown",
   "id": "c45436b6",
   "metadata": {},
   "source": [
    "* 从json字符串中读取；导出成json字符串"
   ]
  },
  {
   "cell_type": "code",
   "execution_count": 109,
   "id": "a01c7a66",
   "metadata": {},
   "outputs": [
    {
     "name": "stdout",
     "output_type": "stream",
     "text": [
      "{\"name\": \"Han Meimei\", \"age\": 19, \"addr\": null}\n",
      "{'name': 'Han Meimei', 'age': 19, 'addr': None}\n"
     ]
    }
   ],
   "source": [
    "dic = {\n",
    "    'name':'Han Meimei',\n",
    "    'age': 19,\n",
    "    'addr': None\n",
    "}\n",
    "json_str = json.dumps(dic)\n",
    "print(json_str)\n",
    "recovered_dic = json.loads(json_str)\n",
    "print(recovered_dic)"
   ]
  },
  {
   "cell_type": "markdown",
   "id": "scientific-keyboard",
   "metadata": {},
   "source": [
    "### 6. csv文件读写"
   ]
  },
  {
   "cell_type": "markdown",
   "id": "resistant-patrick",
   "metadata": {},
   "source": [
    "`stocks.csv`内容如下：\n",
    "\n",
    "```csv\n",
    "Symbol,Price,Date,Time,Change,Volume\n",
    "\"AA\",39.48,\"6/11/2007\",\"9:36am\",-0.18,181800\n",
    "\"AIG\",71.38,\"6/11/2007\",\"9:36am\",-0.15,195500\n",
    "\"AXP\",62.58,\"6/11/2007\",\"9:36am\",-0.46,935000\n",
    "\"BA\",98.31,\"6/11/2007\",\"9:36am\",+0.12,104800\n",
    "\"C\",53.08,\"6/11/2007\",\"9:36am\",-0.25,360900\n",
    "\"CAT\",78.29,\"6/11/2007\",\"9:36am\",-0.23,225400\n",
    "```"
   ]
  },
  {
   "cell_type": "markdown",
   "id": "twenty-ordinance",
   "metadata": {},
   "source": [
    "* 从`stocks.csv`读取并输出"
   ]
  },
  {
   "cell_type": "code",
   "execution_count": 79,
   "id": "veterinary-winter",
   "metadata": {},
   "outputs": [
    {
     "name": "stdout",
     "output_type": "stream",
     "text": [
      "['Symbol', 'Price', 'Date', 'Time', 'Change', 'Volume']\n",
      "AA: value 39.48 at 6/11/2007 9:36am\n",
      "AIG: value 71.38 at 6/11/2007 9:36am\n",
      "AXP: value 62.58 at 6/11/2007 9:36am\n",
      "BA: value 98.31 at 6/11/2007 9:36am\n",
      "C: value 53.08 at 6/11/2007 9:36am\n",
      "CAT: value 78.29 at 6/11/2007 9:36am\n"
     ]
    }
   ],
   "source": [
    "import csv\n",
    "with open('data/stocks.csv') as f:\n",
    "    f_csv = csv.reader(f, delimiter=',')\n",
    "    headers = next(f_csv) # next: 往下迭代一次\n",
    "    print(headers)\n",
    "    for row in f_csv:\n",
    "        Symbol, Price, Date, Time, _, _ = row\n",
    "        print('%s: value %s at %s %s'%(Symbol,\n",
    "                Price, Date, Time))\n",
    "    "
   ]
  },
  {
   "cell_type": "markdown",
   "id": "unexpected-cholesterol",
   "metadata": {},
   "source": [
    "* 将数据保存到`stocks_new.csv`"
   ]
  },
  {
   "cell_type": "code",
   "execution_count": 10,
   "id": "latter-peeing",
   "metadata": {},
   "outputs": [],
   "source": [
    "headers = ['Symbol','Price', 'Date','Info']\n",
    "rows = [('AA', 39.48, '6/11/2007', 'A,B,C'),\n",
    "         ('AIG', 71.38, '6/11/2007', 'A,C'),\n",
    "         ('AXP', 62.58, '6/11/2007', 'A,E,F'),\n",
    "       ]\n",
    "\n",
    "with open('data/stocks_new.csv','w',newline='') as f:\n",
    "    f_csv = csv.writer(f, delimiter=',')\n",
    "    f_csv.writerow(headers)\n",
    "    f_csv.writerows(rows)"
   ]
  },
  {
   "cell_type": "code",
   "execution_count": 11,
   "id": "6efaf53f",
   "metadata": {},
   "outputs": [
    {
     "name": "stdout",
     "output_type": "stream",
     "text": [
      "Symbol,Price,Date,Info\r\n",
      "\r\n",
      "AA,39.48,6/11/2007,\"A,B,C\"\r\n",
      "\r\n",
      "AIG,71.38,6/11/2007,\"A,C\"\r\n",
      "\r\n",
      "AXP,62.58,6/11/2007,\"A,E,F\"\r\n",
      "\r\n"
     ]
    }
   ],
   "source": [
    "!cat data/stocks_new.csv"
   ]
  },
  {
   "cell_type": "code",
   "execution_count": 104,
   "id": "designed-kelly",
   "metadata": {},
   "outputs": [
    {
     "name": "stdout",
     "output_type": "stream",
     "text": [
      "['Symbol', 'Price', 'Date', 'Info']\n",
      "['AA', '39.48', '6/11/2007', 'A,B,C']\n",
      "['AIG', '71.38', '6/11/2007', 'A,C']\n",
      "['AXP', '62.58', '6/11/2007', 'A,E,F']\n"
     ]
    }
   ],
   "source": [
    "import csv\n",
    "with open('data/stocks_new.csv') as f:\n",
    "    f_csv = csv.reader(f, delimiter=',')\n",
    "    for row in f_csv:\n",
    "        print(row)"
   ]
  },
  {
   "cell_type": "markdown",
   "id": "vanilla-cement",
   "metadata": {},
   "source": [
    "* 课堂练习\n",
    "\n",
    "将以下数据用文本写入的形式保存到stocks.csv_txt，每一行中，字段间分隔符为#\n",
    "\n",
    "```python\n",
    "headers = ['Symbol','Price', 'Date','Info']\n",
    "rows = [('AA', 39.48, '6/11/2007', 'A,B,C'),\n",
    "         ('AIG', 71.38, '6/11/2007', 'A,C'),\n",
    "         ('AXP', 62.58, '6/11/2007', 'A,E,F'),\n",
    "       ]\n",
    "```\n",
    "\n",
    "然后用csv.reader读取，打印每一行即可"
   ]
  },
  {
   "cell_type": "code",
   "execution_count": 105,
   "id": "handy-harrison",
   "metadata": {},
   "outputs": [
    {
     "name": "stdout",
     "output_type": "stream",
     "text": [
      "['Symbol', 'Price', 'Date', 'Info']\n",
      "['AA', '39.48', '6/11/2007', 'A,B,C']\n",
      "['AIG', '71.38', '6/11/2007', 'A,C']\n",
      "['AXP', '62.58', '6/11/2007', 'A,E,F']\n"
     ]
    }
   ],
   "source": [
    "headers = ['Symbol','Price', 'Date','Info']\n",
    "rows = [['AA', 39.48, '6/11/2007', 'A,B,C'],\n",
    "         ['AIG', 71.38, '6/11/2007', 'A,C'],\n",
    "         ['AXP', 62.58, '6/11/2007', 'A,E,F'],\n",
    "       ]\n",
    "\n",
    "# 以 # 为分隔符，写入\n",
    "with open('data/stocks.txt_csv', 'w') as f:\n",
    "    f.write('#'.join(headers) + '\\n')\n",
    "    for row in rows:\n",
    "        row[1] = str(row[1])\n",
    "        f.write('#'.join(row) + '\\n')\n",
    "\n",
    "# 通过csv读取\n",
    "import csv    \n",
    "with open('data/stocks_1.txt_csv', 'r') as f:\n",
    "    csv_reader = csv.reader(f, delimiter='#')\n",
    "    for row in csv_reader:\n",
    "        print(row)\n"
   ]
  },
  {
   "cell_type": "markdown",
   "id": "criminal-flash",
   "metadata": {},
   "source": [
    "### 7. 序列化存储"
   ]
  },
  {
   "cell_type": "code",
   "execution_count": 199,
   "id": "laden-handy",
   "metadata": {},
   "outputs": [
    {
     "name": "stdout",
     "output_type": "stream",
     "text": [
      "Mick\n",
      "{'1': 1, '2': 2}\n"
     ]
    }
   ],
   "source": [
    "import pickle\n",
    "\n",
    "class Student():\n",
    "    def __init__(self, name):\n",
    "        self.name = name\n",
    "std = Student('Mick')\n",
    "dic = {'1':1, '2':2}\n",
    "\n",
    "pickle.dump([std, dic], open('data/std_dic.bin', 'wb'))\n",
    "s, d = pickle.load(open('data/std_dic.bin', 'rb'))\n",
    "\n",
    "print(s.name)\n",
    "print(d)"
   ]
  },
  {
   "cell_type": "markdown",
   "id": "funded-sculpture",
   "metadata": {},
   "source": [
    "### 8. 操作文件与目录"
   ]
  },
  {
   "cell_type": "code",
   "execution_count": 202,
   "id": "sound-technical",
   "metadata": {},
   "outputs": [
    {
     "name": "stdout",
     "output_type": "stream",
     "text": [
      "student3.json\n",
      "test_encoding.txt\n",
      "student2.json\n",
      "student1.json\n",
      "programming.txt\n",
      "std_dic.bin\n",
      "test.txt\n",
      "stocks.csv\n",
      "student.txt\n",
      ".ipynb_checkpoints\n",
      "stocks_new.csv\n"
     ]
    }
   ],
   "source": [
    "import os\n",
    "all_files = os.listdir('./data')\n",
    "for file in all_files:\n",
    "    print(file)"
   ]
  },
  {
   "cell_type": "markdown",
   "id": "c8b736b4",
   "metadata": {},
   "source": [
    "### 9. 课后练习\n",
    "\n",
    "* 课后练习1\n",
    "\n",
    "以学号为键（Key），以姓名、学院、入学年份构成的列表为值（Value）构建一个字典。\n",
    "如：\n",
    "```python\n",
    "{\n",
    "    100:['Mick','Antai',2019], \n",
    "    101:['Alex','Math',2018],\n",
    "    102:['John','Antai',2020],\n",
    "    103:['Bob','Antai',2018]\n",
    "}\n",
    "```\n",
    "\n",
    "* 将字典存储在`data/info.json`文件里。\n",
    "* 读取`data/info.json`文件，并且计算每个学院下学生的个数。\n"
   ]
  },
  {
   "cell_type": "code",
   "execution_count": 38,
   "id": "0a0abb7f",
   "metadata": {},
   "outputs": [
    {
     "name": "stdout",
     "output_type": "stream",
     "text": [
      "{'Antai': 3, 'Math': 1}\n",
      "Antai共有学生3人\n",
      "Math共有学生1人\n"
     ]
    }
   ],
   "source": [
    "import json\n",
    "info_dict = {\n",
    "    100:['Mick','Antai',2019], \n",
    "    101:['Alex','Math',2018],\n",
    "    102:['John','Antai',2020],\n",
    "    103:['Bob','Antai',2018]\n",
    "}\n",
    "with open('data/info.json', 'w') as f_obj:\n",
    "    json.dump(info_dict, f_obj, indent=4)\n",
    "\n",
    "with open('data/info.json', 'r') as f_obj:\n",
    "    all_info = json.load(f_obj)\n",
    "\n",
    "count_dict = {}    \n",
    "for key, value in all_info.items():\n",
    "    college = value[1]\n",
    "    if college in count_dict:\n",
    "        count_dict[college] += 1\n",
    "    else:\n",
    "        count_dict[college] = 1\n",
    "\n",
    "print(count_dict)  \n",
    "for key, value in count_dict.items():\n",
    "    print('%s共有学生%d人'%(key, value))"
   ]
  },
  {
   "cell_type": "markdown",
   "id": "binding-department",
   "metadata": {},
   "source": [
    "\n",
    "\n",
    "* 课后练习2\n",
    "\n",
    "编写一个函数encoding(file1, file2), 能加密第一个文件file1的内容，将该文件中的每个字母加密后写入到第二个文件file2（清空之前内容）,加密的方法是:将A变成B , B变成C, … Y变成Z , Z变成A ; a变成b,b变成…z变成a , 其他字符不变化\n",
    "\n",
    "调用以上函数，将data/ex1.txt加密保存到data/ex1_encoded.txt\n"
   ]
  },
  {
   "cell_type": "code",
   "execution_count": 70,
   "id": "living-kernel",
   "metadata": {},
   "outputs": [
    {
     "name": "stdout",
     "output_type": "stream",
     "text": [
      "Done\n"
     ]
    }
   ],
   "source": [
    "def encode(char):\n",
    "    '''\n",
    "    将单个字符加密\n",
    "    '''\n",
    "    if not char.isalpha(): # 如果不是字母，无需加密\n",
    "        return char\n",
    "    if char == 'Z' or char == 'z': # z->a; Z->A\n",
    "        return chr(ord(char) - 25)\n",
    "    else: # A->B,..., Y-> 小写字母类似\n",
    "        return chr(ord(char) + 1)\n",
    "    \n",
    "def encoding(file1, file2):\n",
    "    with open(file1, 'r') as infile:\n",
    "        with open(file2, 'w') as outfile:\n",
    "            content = infile.read()\n",
    "            content = ''.join([encode(char) for char in content]) # 逐个字符加密再连接\n",
    "            outfile.write(content)\n",
    "            \n",
    "encoding('data/ex1.txt', 'data/ex1_encoded.txt')\n",
    "print('Done')"
   ]
  },
  {
   "cell_type": "markdown",
   "id": "prescription-ballot",
   "metadata": {},
   "source": [
    "* 课后练习3\n",
    "\n",
    "已知目录结构\n",
    "``` bash\n",
    "data/ex2/\n",
    "├── ex1.txt\n",
    "├── programming.txt\n",
    "├── std_dic.bin\n",
    "├── stocks.csv\n",
    "├── stocks_new.csv\n",
    "├── stocks.txt_csv\n",
    "├── student1.json\n",
    "├── student2.json\n",
    "├── student3.json\n",
    "├── student.txt\n",
    "├── test_encoding.txt\n",
    "└── test.txt\n",
    "\n",
    "0 directories, 12 files\n",
    "```\n",
    "将此目录下的所有txt文件按照文件名排序后，重命名成`file1.txt, file2.txt, file3.txt,...`"
   ]
  },
  {
   "cell_type": "code",
   "execution_count": 18,
   "id": "sharing-optimum",
   "metadata": {},
   "outputs": [
    {
     "name": "stdout",
     "output_type": "stream",
     "text": [
      "data/ex2/\r\n",
      "├── ex1.txt\r\n",
      "├── programming.txt\r\n",
      "├── std_dic.bin\r\n",
      "├── stocks.csv\r\n",
      "├── stocks_new.csv\r\n",
      "├── stocks.txt_csv\r\n",
      "├── student1.json\r\n",
      "├── student2.json\r\n",
      "├── student3.json\r\n",
      "├── student.txt\r\n",
      "├── test_encoding.txt\r\n",
      "└── test.txt\r\n",
      "\r\n",
      "0 directories, 12 files\r\n"
     ]
    }
   ],
   "source": [
    "!tree data/ex2/ # 当前文件目录的结构，只适用安装了此命令的电脑"
   ]
  },
  {
   "cell_type": "code",
   "execution_count": 78,
   "id": "metropolitan-natural",
   "metadata": {},
   "outputs": [
    {
     "name": "stdout",
     "output_type": "stream",
     "text": [
      "--all files:--\n",
      "['stocks.txt_csv', 'student3.json', 'test_encoding.txt', 'student2.json', 'student1.json', 'programming.txt', 'std_dic.bin', 'ex1.txt', 'test.txt', 'stocks.csv', 'student.txt', 'stocks_new.csv']\n",
      "--all txt files:--\n",
      "['test_encoding.txt', 'programming.txt', 'ex1.txt', 'test.txt', 'student.txt']\n"
     ]
    }
   ],
   "source": [
    "import os\n",
    "all_files = os.listdir('data/ex2/')\n",
    "print('--all files:--')\n",
    "print(all_files)\n",
    "\n",
    "# get all txt files\n",
    "all_txt_files = [file for file in all_files if file[-3:] == 'txt']\n",
    "print('--all txt files:--')\n",
    "print(all_txt_files)\n",
    "\n",
    "# sort and rename\n",
    "for idx, file in enumerate(sorted(all_txt_files)):\n",
    "    os.rename('data/ex2/%s'%(file), 'data/ex2/file%d.txt'%(idx+1))"
   ]
  }
 ],
 "metadata": {
  "kernelspec": {
   "display_name": "base",
   "language": "python",
   "name": "python3"
  },
  "language_info": {
   "codemirror_mode": {
    "name": "ipython",
    "version": 3
   },
   "file_extension": ".py",
   "mimetype": "text/x-python",
   "name": "python",
   "nbconvert_exporter": "python",
   "pygments_lexer": "ipython3",
   "version": "3.11.5"
  },
  "toc": {
   "base_numbering": 1,
   "nav_menu": {},
   "number_sections": true,
   "sideBar": true,
   "skip_h1_title": true,
   "title_cell": "Table of Contents",
   "title_sidebar": "Contents",
   "toc_cell": false,
   "toc_position": {},
   "toc_section_display": true,
   "toc_window_display": true
  },
  "varInspector": {
   "cols": {
    "lenName": 16,
    "lenType": 16,
    "lenVar": 40
   },
   "kernels_config": {
    "python": {
     "delete_cmd_postfix": "",
     "delete_cmd_prefix": "del ",
     "library": "var_list.py",
     "varRefreshCmd": "print(var_dic_list())"
    },
    "r": {
     "delete_cmd_postfix": ") ",
     "delete_cmd_prefix": "rm(",
     "library": "var_list.r",
     "varRefreshCmd": "cat(var_dic_list()) "
    }
   },
   "types_to_exclude": [
    "module",
    "function",
    "builtin_function_or_method",
    "instance",
    "_Feature"
   ],
   "window_display": false
  }
 },
 "nbformat": 4,
 "nbformat_minor": 5
}
