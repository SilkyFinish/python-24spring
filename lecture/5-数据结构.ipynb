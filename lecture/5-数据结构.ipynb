{
 "cells": [
  {
   "cell_type": "markdown",
   "id": "systematic-stanford",
   "metadata": {},
   "source": [
    "数据结构\n",
    "========\n",
    "\n",
    "BUSS1301 程序设计\n",
    "\n",
    "Contents\n",
    "===\n",
    "* 1. 列表\n",
    "* 2. 元组\n",
    "* 3. 字典\n",
    "* 4. 集合\n",
    "* 5. 对象的相互嵌套\n",
    "* 6. 可变数据类型vs 不可变数据类型\n",
    "* 7. 课后练习\n"
   ]
  },
  {
   "cell_type": "markdown",
   "id": "c8db3ae6",
   "metadata": {},
   "source": [
    "### 1. 列表\n",
    "* 列表的创建"
   ]
  },
  {
   "cell_type": "code",
   "execution_count": 8,
   "id": "c734d6e4",
   "metadata": {},
   "outputs": [
    {
     "name": "stdout",
     "output_type": "stream",
     "text": [
      "1 [0, 1, 2, 3]\n",
      "2 ['s', 'j', 't', 'u']\n",
      "3 [1, 2, 3, 4]\n",
      "4 ['1', '2']\n"
     ]
    }
   ],
   "source": [
    "print(1, list(range(4))) # range -> list\n",
    "print(2, list('sjtu')) # str -> list\n",
    "print(3, list((1,2,3,4))) # tuple -> list\n",
    "print(4, list({'1':1, '2': 2})) # dict -> list"
   ]
  },
  {
   "cell_type": "markdown",
   "id": "3950130d",
   "metadata": {},
   "source": [
    "* 列表的创建： 通过 + 和 * 创建新列表"
   ]
  },
  {
   "cell_type": "code",
   "execution_count": 18,
   "id": "earlier-induction",
   "metadata": {},
   "outputs": [
    {
     "name": "stdout",
     "output_type": "stream",
     "text": [
      "1 [1, 2, 4, 5]\n",
      "2 [1, 2, 3]\n",
      "3 [1, 2, 3, 6, 7, 8]\n",
      "------\n",
      "4 [1, 2, 1, 2, 1, 2, 1, 2]\n"
     ]
    }
   ],
   "source": [
    "print(1, [1,2] + [4,5])\n",
    "List = [1,2,3]\n",
    "print(2, List)\n",
    "List += [6,7,8]\n",
    "print(3, List)\n",
    "\n",
    "print('------')\n",
    "print(4, [1,2]*4)"
   ]
  },
  {
   "cell_type": "markdown",
   "id": "alternative-spotlight",
   "metadata": {},
   "source": [
    "* 列表的创建： 列表生成式\n",
    "\n",
    "思考：生成[1x1, 2x2, 3x3, ..., 10x10] 怎么做？"
   ]
  },
  {
   "cell_type": "code",
   "execution_count": 3,
   "id": "synthetic-assignment",
   "metadata": {},
   "outputs": [
    {
     "name": "stdout",
     "output_type": "stream",
     "text": [
      "[1, 4, 9, 16, 25, 36, 49, 64, 81, 100]\n",
      "[4, 16, 'too_large', 'too_large', 'too_large']\n"
     ]
    }
   ],
   "source": [
    "List = []\n",
    "for i in range(1,11):\n",
    "    List += [i*i]\n",
    "print(List)\n",
    "\n",
    "List = [i*i if i*i <=30 else 'too_large' for i in range(1,11)]\n",
    "print(List)\n"
   ]
  },
  {
   "cell_type": "markdown",
   "id": "fresh-disease",
   "metadata": {},
   "source": [
    "列表生成式可以在for之后加上if判断作为过滤器\n",
    "\n",
    "例：生成1-10所有偶数的平方组成的列表\n"
   ]
  },
  {
   "cell_type": "code",
   "execution_count": 1,
   "id": "reverse-script",
   "metadata": {},
   "outputs": [
    {
     "name": "stdout",
     "output_type": "stream",
     "text": [
      "[4, 16, 36, 64, 100]\n"
     ]
    }
   ],
   "source": [
    "List = [i*i for i in range(1,11) if i%2 == 0]\n",
    "print(List)"
   ]
  },
  {
   "cell_type": "markdown",
   "id": "sharp-transportation",
   "metadata": {},
   "source": [
    "列表生成式可以在for之前嵌套if-else简单语句组\n",
    "\n",
    "例：生成列表：1-10所有数的平方，如果平方大于30，用‘too large’ 代替\n"
   ]
  },
  {
   "cell_type": "code",
   "execution_count": 21,
   "id": "incomplete-vault",
   "metadata": {},
   "outputs": [
    {
     "name": "stdout",
     "output_type": "stream",
     "text": [
      "[1, 4, 9, 16, 25, 'too large', 'too large', 'too large', 'too large', 'too large']\n"
     ]
    }
   ],
   "source": [
    "List = ['too large' if i*i > 30 else i*i for i in range(1,11) ]\n",
    "print(List)"
   ]
  },
  {
   "cell_type": "markdown",
   "id": "2bec4f7e",
   "metadata": {},
   "source": [
    "* Revisit: Lab Q5 操作csv文件内容\n",
    "已知某个`csv`文件存放着学生的学号、姓名和分数。将内容读取后，保存到了字符串`Str`\n",
    "\n",
    "```\n",
    "Str = '''\n",
    "ID,name,score\n",
    "1001,Xuan,100\n",
    "1002,Daniel,98\n",
    "1003,Michael,77\n",
    "1004,Carolina,90\n",
    "'''\n",
    "```\n",
    "请从`Str`中解析出所有学生的成绩，并计算平均分，将平均分打印到屏幕。"
   ]
  },
  {
   "cell_type": "code",
   "execution_count": 2,
   "id": "8ee9ccc4",
   "metadata": {},
   "outputs": [
    {
     "data": {
      "text/plain": [
       "91.25"
      ]
     },
     "execution_count": 2,
     "metadata": {},
     "output_type": "execute_result"
    }
   ],
   "source": [
    "Str = '''\n",
    "ID,name,score\n",
    "1001,Xuan,100\n",
    "1002,Daniel,98\n",
    "1003,Michael,77\n",
    "1004,Carolina,90\n",
    "'''\n",
    "# 之前的解决方案\n",
    "lines = Str.strip().split('\\n')[1:]\n",
    "Sum = 0\n",
    "for line in lines:\n",
    "    Sum += float(line.split(',')[-1])\n",
    "avg = Sum/len(lines)\n",
    "avg"
   ]
  },
  {
   "cell_type": "code",
   "execution_count": 4,
   "id": "44b66189",
   "metadata": {},
   "outputs": [
    {
     "data": {
      "text/plain": [
       "91.25"
      ]
     },
     "execution_count": 4,
     "metadata": {},
     "output_type": "execute_result"
    }
   ],
   "source": [
    "Str = '''\n",
    "ID,name,score\n",
    "1001,Xuan,100\n",
    "1002,Daniel,98\n",
    "1003,Michael,77\n",
    "1004,Carolina,90\n",
    "'''\n",
    "# 使用列表生成式\n",
    "lines = Str.strip().split('\\n')[1:]\n",
    "scores = [float(line.split(',')[-1]) for line in lines]\n",
    "avg = sum(scores)/len(scores)\n",
    "avg"
   ]
  },
  {
   "cell_type": "markdown",
   "id": "copyrighted-negative",
   "metadata": {},
   "source": [
    "例子：一句英文，只保留其中的英文单词"
   ]
  },
  {
   "cell_type": "code",
   "execution_count": 11,
   "id": "valid-accuracy",
   "metadata": {},
   "outputs": [],
   "source": [
    "Str = 'I am learning 2 a very useful @ language'"
   ]
  },
  {
   "cell_type": "code",
   "execution_count": 2,
   "id": "exclusive-double",
   "metadata": {},
   "outputs": [
    {
     "name": "stdout",
     "output_type": "stream",
     "text": [
      "I am learning a very useful language\n"
     ]
    }
   ],
   "source": [
    "# 逐行写\n",
    "split_Str = 'I am learning 2 a very useful @ language'.split()\n",
    "new_word = []\n",
    "for word in split_Str:\n",
    "    if word.isalpha():\n",
    "        new_word += [word,]\n",
    "print(' '.join(new_word))\n",
    "    "
   ]
  },
  {
   "cell_type": "code",
   "execution_count": 3,
   "id": "ce2deff8",
   "metadata": {},
   "outputs": [
    {
     "name": "stdout",
     "output_type": "stream",
     "text": [
      "I am learning a very useful language\n"
     ]
    }
   ],
   "source": [
    "#列表生成式 写法\n",
    "print(' '.join([word for word in Str.split() if word.isalpha()]))"
   ]
  },
  {
   "cell_type": "code",
   "execution_count": null,
   "id": "6766cc5b",
   "metadata": {},
   "outputs": [],
   "source": [
    "' '.join([word.upper() if len(word) > 5 else word for word in Str.split() if word.isalpha()])"
   ]
  },
  {
   "cell_type": "markdown",
   "id": "handled-surgeon",
   "metadata": {},
   "source": [
    "* 列表的修改"
   ]
  },
  {
   "cell_type": "code",
   "execution_count": 17,
   "id": "increasing-laser",
   "metadata": {},
   "outputs": [
    {
     "name": "stdout",
     "output_type": "stream",
     "text": [
      "1 ['honda', 'yamaha', 'suzuki']\n",
      "2 ['ducati', 'yamaha', 'suzuki']\n"
     ]
    }
   ],
   "source": [
    "# 修改指定位置的元素\n",
    "brands = ['honda', 'yamaha', 'suzuki']\n",
    "print(1, brands)\n",
    "\n",
    "brands[0] = 'ducati'\n",
    "print(2, brands)"
   ]
  },
  {
   "cell_type": "code",
   "execution_count": 18,
   "id": "ca0df2a5",
   "metadata": {},
   "outputs": [
    {
     "data": {
      "text/plain": [
       "['ducati', 'yamaha', 'suzuki', 1, 2, 3]"
      ]
     },
     "execution_count": 18,
     "metadata": {},
     "output_type": "execute_result"
    }
   ],
   "source": [
    "brands[3:] = [1,2,3]\n",
    "brands"
   ]
  },
  {
   "cell_type": "markdown",
   "id": "informal-microwave",
   "metadata": {},
   "source": [
    "* 列表的添加\n",
    "\n",
    "方式一：列表末尾添加一个对象或者整个序列的对象"
   ]
  },
  {
   "cell_type": "code",
   "execution_count": 45,
   "id": "3e8b4e30",
   "metadata": {},
   "outputs": [
    {
     "name": "stdout",
     "output_type": "stream",
     "text": [
      "[1, 2, 'sjtu']\n"
     ]
    }
   ],
   "source": [
    "a = [1,2]\n",
    "a.append('sjtu')\n",
    "print(a)"
   ]
  },
  {
   "cell_type": "code",
   "execution_count": 25,
   "id": "cubic-oxygen",
   "metadata": {},
   "outputs": [
    {
     "name": "stdout",
     "output_type": "stream",
     "text": [
      "[1, 2, 3]\n",
      "[1, 2, 3, 4, 5]\n"
     ]
    }
   ],
   "source": [
    "# append(), extend()\n",
    "a = [1,2]\n",
    "a.append(3) # 等价于 a += [3]\n",
    "print(a)\n",
    "\n",
    "a.extend([4,5]) # 等价于 a += [4,5]\n",
    "print(a)"
   ]
  },
  {
   "cell_type": "markdown",
   "id": "reduced-equality",
   "metadata": {},
   "source": [
    "如何由[1,2] 得到[1,2,[3,4]] ?\n"
   ]
  },
  {
   "cell_type": "code",
   "execution_count": 26,
   "id": "continuous-midwest",
   "metadata": {},
   "outputs": [
    {
     "name": "stdout",
     "output_type": "stream",
     "text": [
      "1 [1, 2, [3, 4]]\n",
      "2 [1, 2, [3, 4]]\n",
      "3 [1, 2, [3, 4]]\n"
     ]
    }
   ],
   "source": [
    "a = [1,2]\n",
    "a += [[3,4]]\n",
    "print(1, a)\n",
    "\n",
    "a = [1,2]\n",
    "a.append([3,4])\n",
    "print(2, a)\n",
    "\n",
    "a = [1,2]\n",
    "a.extend([[3,4]])\n",
    "print(3, a)"
   ]
  },
  {
   "cell_type": "markdown",
   "id": "about-mount",
   "metadata": {},
   "source": [
    "方式二：在列表中指定位置插入元素"
   ]
  },
  {
   "cell_type": "code",
   "execution_count": 27,
   "id": "innovative-yacht",
   "metadata": {},
   "outputs": [
    {
     "name": "stdout",
     "output_type": "stream",
     "text": [
      "1 [1, 2, 'test', 3, 4]\n",
      "2 ['-100', 1, 2, 'test', 3, 4]\n"
     ]
    }
   ],
   "source": [
    "a = [1,2,3,4]\n",
    "a.insert(2, 'test')\n",
    "print(1, a)\n",
    "\n",
    "a.insert(-100, '-100')\n",
    "print(2, a)"
   ]
  },
  {
   "cell_type": "markdown",
   "id": "automatic-telescope",
   "metadata": {},
   "source": [
    "* 列表的删除\n"
   ]
  },
  {
   "cell_type": "code",
   "execution_count": 28,
   "id": "color-memorial",
   "metadata": {},
   "outputs": [
    {
     "name": "stdout",
     "output_type": "stream",
     "text": [
      "[1, 4]\n"
     ]
    }
   ],
   "source": [
    "List = [1,2,3,4]\n",
    "del List[1:3]\n",
    "print(List)"
   ]
  },
  {
   "cell_type": "code",
   "execution_count": 29,
   "id": "synthetic-destiny",
   "metadata": {},
   "outputs": [
    {
     "name": "stdout",
     "output_type": "stream",
     "text": [
      "The popped item is: suzuki\n",
      "Brands after popping: ['honda', 'yamaha', 'ducati']\n",
      "Brands after popping again: ['honda', 'yamaha']\n"
     ]
    }
   ],
   "source": [
    "brands = ['honda', 'yamaha', 'suzuki', 'ducati']\n",
    "brand = brands.pop(2)\n",
    "print('The popped item is:', brand)\n",
    "print('Brands after popping:', brands)\n",
    "_ = brands.pop()\n",
    "print('Brands after popping again:', brands)"
   ]
  },
  {
   "cell_type": "markdown",
   "id": "c10026f9",
   "metadata": {},
   "source": [
    "对列表L进行遍历，为`b`则插入`x,y,z`三个元素，否则，打印该元素。"
   ]
  },
  {
   "cell_type": "code",
   "execution_count": 31,
   "id": "2c83a762",
   "metadata": {},
   "outputs": [
    {
     "name": "stdout",
     "output_type": "stream",
     "text": [
      "a\n",
      "c\n",
      "x\n",
      "y\n",
      "z\n"
     ]
    }
   ],
   "source": [
    "L = ['a', 'b', 'c']\n",
    "while(L):\n",
    "    item = L.pop(0)\n",
    "    if item == 'b':\n",
    "        L.extend('xyz')\n",
    "    else:\n",
    "        print(item)\n"
   ]
  },
  {
   "cell_type": "markdown",
   "id": "7ee2bbf3",
   "metadata": {},
   "source": [
    "用pop对students进行遍历，然后输出信息"
   ]
  },
  {
   "cell_type": "code",
   "execution_count": 49,
   "id": "f9a5ab3a",
   "metadata": {},
   "outputs": [
    {
     "name": "stdout",
     "output_type": "stream",
     "text": [
      "michael\n",
      "john\n",
      "Xuan\n"
     ]
    }
   ],
   "source": [
    "students = ['Xuan', 'john', 'michael']\n",
    "while(students):\n",
    "    print(students.pop())"
   ]
  },
  {
   "cell_type": "markdown",
   "id": "informal-graduation",
   "metadata": {},
   "source": [
    "* 列表的排序\n",
    "\n",
    "使用sort()排序"
   ]
  },
  {
   "cell_type": "code",
   "execution_count": 24,
   "id": "nominated-affairs",
   "metadata": {},
   "outputs": [
    {
     "name": "stdout",
     "output_type": "stream",
     "text": [
      "List after List.sort(): [1, 2, 3, 4, 5]\n",
      "With reverse=True: [5, 4, 3, 2, 1]\n"
     ]
    }
   ],
   "source": [
    "List = [4,5,3,1,2]\n",
    "List.sort()\n",
    "print('List after List.sort():', List) \n",
    "\n",
    "List = [4,5,3,1,2]\n",
    "List.sort(reverse=True)\n",
    "print('With reverse=True:', List) "
   ]
  },
  {
   "cell_type": "markdown",
   "id": "1ddd1310",
   "metadata": {},
   "source": [
    "使用`sorted()`通用函数"
   ]
  },
  {
   "cell_type": "code",
   "execution_count": 27,
   "id": "74ba66de",
   "metadata": {},
   "outputs": [
    {
     "name": "stdout",
     "output_type": "stream",
     "text": [
      "List after sorted(List): [4, 5, 3, 1, 2]\n",
      "Returned results: [5, 4, 3, 2, 1]\n"
     ]
    }
   ],
   "source": [
    "List = [4,5,3,1,2]\n",
    "new_list = sorted(List, reverse=True)\n",
    "print('List after sorted(List):', List)\n",
    "print('Returned results:', new_list)"
   ]
  },
  {
   "cell_type": "markdown",
   "id": "functioning-balloon",
   "metadata": {},
   "source": [
    "reverse()：反向列表的元素"
   ]
  },
  {
   "cell_type": "code",
   "execution_count": 32,
   "id": "national-carpet",
   "metadata": {},
   "outputs": [
    {
     "name": "stdout",
     "output_type": "stream",
     "text": [
      "[4, 3, [1, 2], 'test']\n",
      "[4, 3, [1, 2], 'test']\n",
      "['test', [1, 2], 3, 4]\n"
     ]
    }
   ],
   "source": [
    "List = ['test', [1,2], 3, 4]\n",
    "List.reverse()\n",
    "print(List)\n",
    "\n",
    "# 也可以通过索引方式\n",
    "List = ['test', [1,2], 3, 4]\n",
    "print(List[::-1])\n",
    "print(List)"
   ]
  },
  {
   "cell_type": "code",
   "execution_count": 33,
   "id": "roman-virus",
   "metadata": {},
   "outputs": [
    {
     "name": "stdout",
     "output_type": "stream",
     "text": [
      "[2, 3, 4, 5, 6]\n"
     ]
    }
   ],
   "source": [
    "List = [4,5,3,2,6]\n",
    "List = sorted(List)\n",
    "print(List)"
   ]
  },
  {
   "cell_type": "code",
   "execution_count": 38,
   "id": "0a41a16e",
   "metadata": {},
   "outputs": [
    {
     "name": "stdout",
     "output_type": "stream",
     "text": [
      "[1, 2, 3, 4, 5]\n"
     ]
    },
    {
     "data": {
      "text/plain": [
       "[5, 4, 3, 2, 1]"
      ]
     },
     "execution_count": 38,
     "metadata": {},
     "output_type": "execute_result"
    }
   ],
   "source": [
    "List = [1,2,3,4,5]\n",
    "print(List)\n",
    "list(reversed(List))"
   ]
  },
  {
   "cell_type": "code",
   "execution_count": 37,
   "id": "255771bb",
   "metadata": {},
   "outputs": [
    {
     "data": {
      "text/plain": [
       "range(0, 5)"
      ]
     },
     "execution_count": 37,
     "metadata": {},
     "output_type": "execute_result"
    }
   ],
   "source": [
    "range(5)"
   ]
  },
  {
   "cell_type": "markdown",
   "id": "social-puppy",
   "metadata": {},
   "source": [
    "* 列表的浅拷贝"
   ]
  },
  {
   "cell_type": "code",
   "execution_count": 34,
   "id": "elegant-serial",
   "metadata": {},
   "outputs": [
    {
     "name": "stdout",
     "output_type": "stream",
     "text": [
      "a= [1, 2, 3] 139667511782656\n",
      "b= [1, 2, 3] 139667511782656\n",
      "c= [1, 2, 3] 139667511389568\n",
      "d= [1, 2, 3] 139667511521024\n",
      "\n",
      "after setting c[1] = 100\n",
      "a= [1, 2, 3] 139667511782656\n",
      "c= [1, 100, 3] 139667511389568\n",
      "\n",
      "after setting b[1] = 100\n",
      "a= [1, 100, 3] 139667511782656\n",
      "b= [1, 100, 3] 139667511782656\n"
     ]
    }
   ],
   "source": [
    "import copy\n",
    "a = [1,2,3]\n",
    "b = a\n",
    "c=a.copy()#等价c=copy.copy(a)\n",
    "d = a[:]\n",
    "print('a=', a, id(a))\n",
    "print('b=', b, id(b))\n",
    "print('c=', c, id(c))\n",
    "print('d=', d, id(d))\n",
    "\n",
    "print('\\nafter setting c[1] = 100')\n",
    "c[1] = 100\n",
    "print('a=', a, id(a))\n",
    "print('c=', c, id(c))\n",
    "\n",
    "print('\\nafter setting b[1] = 100')\n",
    "b[1] = 100\n",
    "print('a=', a, id(a))\n",
    "print('b=', b, id(b))"
   ]
  },
  {
   "cell_type": "markdown",
   "id": "growing-lincoln",
   "metadata": {},
   "source": [
    "* 但是！！列表的浅拷贝只拷贝父对象"
   ]
  },
  {
   "cell_type": "code",
   "execution_count": 35,
   "id": "refined-member",
   "metadata": {},
   "outputs": [
    {
     "name": "stdout",
     "output_type": "stream",
     "text": [
      "False\n",
      "True\n",
      "[[1, 2], 2, 3]\n",
      "[[1, 100], 2, 3]\n"
     ]
    }
   ],
   "source": [
    "a = [[1,2],2,3]\n",
    "b = a.copy() # 等价于\n",
    "\n",
    "print(id(a) == id(b))\n",
    "print(id(a[0]) == id(b[0]))\n",
    "\n",
    "b[1] = 50\n",
    "print(a)\n",
    "b[0][1] = 100\n",
    "print(a)\n"
   ]
  },
  {
   "cell_type": "markdown",
   "id": "plain-cooper",
   "metadata": {},
   "source": [
    "* 深拷贝:完全拷贝了父对象及其子对象"
   ]
  },
  {
   "cell_type": "code",
   "execution_count": 36,
   "id": "european-animation",
   "metadata": {},
   "outputs": [
    {
     "name": "stdout",
     "output_type": "stream",
     "text": [
      "False\n",
      "False\n"
     ]
    }
   ],
   "source": [
    "import copy\n",
    "a = [[1,2],2,3]\n",
    "b = copy.deepcopy(a)\n",
    "\n",
    "print(id(a) == id(b))\n",
    "print(id(a[0]) == id(b[0]))"
   ]
  },
  {
   "cell_type": "markdown",
   "id": "chicken-anchor",
   "metadata": {},
   "source": [
    "* 例子：列表交集\n",
    "\n",
    "已知a,b两个列表\n",
    "\n",
    "找出两个列表的交集元素，去重，保存成新列表，并输出\n"
   ]
  },
  {
   "cell_type": "code",
   "execution_count": 39,
   "id": "oriented-joseph",
   "metadata": {},
   "outputs": [
    {
     "name": "stdout",
     "output_type": "stream",
     "text": [
      "[1, 2, 3]\n"
     ]
    }
   ],
   "source": [
    "a = [1,2,3,4,5,1]\n",
    "b = [2,3,10,11,12,1] \n",
    "\n",
    "union = []\n",
    "for item in a:\n",
    "    if item in b and item not in union:\n",
    "        union.append(item)\n",
    "print(union)\n"
   ]
  },
  {
   "cell_type": "code",
   "execution_count": 3,
   "id": "30fe84f3",
   "metadata": {},
   "outputs": [
    {
     "data": {
      "text/plain": [
       "[1, 2, 3, 1]"
      ]
     },
     "execution_count": 3,
     "metadata": {},
     "output_type": "execute_result"
    }
   ],
   "source": [
    "# 这个是错误的，无法去重\n",
    "a = [1,2,3,4,5,1]\n",
    "b = [2,3,10,11,12,1] \n",
    "union = []\n",
    "union = [item for item in a if item in b and item not in union]\n",
    "union"
   ]
  },
  {
   "cell_type": "markdown",
   "id": "assumed-notebook",
   "metadata": {},
   "source": [
    "### 2. 元组"
   ]
  },
  {
   "cell_type": "code",
   "execution_count": 38,
   "id": "honest-wilson",
   "metadata": {},
   "outputs": [
    {
     "name": "stdout",
     "output_type": "stream",
     "text": [
      "1 (1, 2, 3, 4, 1, 2, 3, 4, 1, 2, 3, 4)\n",
      "2 (1, 2, 3, 4, 'shanghai', 'test')\n",
      "3 [1, 2, 3, 4]\n",
      "4 4\n"
     ]
    }
   ],
   "source": [
    "Tuple = (1,2,3,4)\n",
    "# * + 操作\n",
    "print(1, Tuple *3)\n",
    "print(2, Tuple + ('shanghai', 'test'))\n",
    "\n",
    "# Tuple[1] = 5# 报错\n",
    "\n",
    "# 通用函数排序, 结果为list\n",
    "print(3, sorted(Tuple))\n",
    "\n",
    "# len, max, min, sum\n",
    "print(4, max(Tuple))"
   ]
  },
  {
   "cell_type": "markdown",
   "id": "finnish-trail",
   "metadata": {},
   "source": [
    "### 3. 字典\n",
    "* 为什么需要字典？\n",
    "\n",
    "将以下信息存储在变量中。请问学号52002的成绩为多少？\n",
    "\n",
    "\n",
    "\n",
    "|学号|名字|成绩|\n",
    "|--|--|--|\n",
    "|'52001'|Mick|90|\n",
    "|'52002'|John|78|\n",
    "|'52003'|Alex|88|"
   ]
  },
  {
   "cell_type": "code",
   "execution_count": 39,
   "id": "arabic-singer",
   "metadata": {},
   "outputs": [
    {
     "name": "stdout",
     "output_type": "stream",
     "text": [
      "78\n"
     ]
    }
   ],
   "source": [
    "# 方式一：多个列表\n",
    "IDs = ['52001','52002','52003']\n",
    "names = ['Mick', 'John', 'Alex']\n",
    "scores = [90, 78, 88]\n",
    "\n",
    "# 方式一：请问学号52002的成绩为多少？\n",
    "index = IDs.index('52002')\n",
    "print(scores[index])"
   ]
  },
  {
   "cell_type": "markdown",
   "id": "legendary-giving",
   "metadata": {},
   "source": [
    "这个方式还可以接受"
   ]
  },
  {
   "cell_type": "code",
   "execution_count": 40,
   "id": "opposed-condition",
   "metadata": {},
   "outputs": [
    {
     "name": "stdout",
     "output_type": "stream",
     "text": [
      "78\n"
     ]
    }
   ],
   "source": [
    "# 方式二：单个列表\n",
    "students = [\n",
    "    ['52001','Mick',90],\n",
    "    ['52002','John',78],\n",
    "    ['52003','Alex',88],\n",
    "]\n",
    "# 方式二：请问学号52002的成绩为多少？\n",
    "for student in students:\n",
    "    if student[0] == '52002':\n",
    "        print(student[2])"
   ]
  },
  {
   "cell_type": "markdown",
   "id": "surprised-search",
   "metadata": {},
   "source": [
    "* 使用字典存储学生信息\n",
    "\n"
   ]
  },
  {
   "cell_type": "code",
   "execution_count": 42,
   "id": "immediate-cambridge",
   "metadata": {},
   "outputs": [
    {
     "name": "stdout",
     "output_type": "stream",
     "text": [
      "78\n"
     ]
    }
   ],
   "source": [
    "scores = {\n",
    "    '52001':90,\n",
    "    '52002':78,\n",
    "    '52003':88,\n",
    "}\n",
    "# 请问学号52002的成绩为多少？\n",
    "print(scores['52002'])"
   ]
  },
  {
   "cell_type": "markdown",
   "id": "liable-canadian",
   "metadata": {},
   "source": [
    "* 字典的创建"
   ]
  },
  {
   "cell_type": "code",
   "execution_count": 42,
   "id": "alike-seven",
   "metadata": {},
   "outputs": [
    {
     "name": "stdout",
     "output_type": "stream",
     "text": [
      "{'52001': 90, '52002': 78, '52003': 88}\n",
      "{'52001': 'Mick', '52002': 'John', '52003': 'Alex'}\n"
     ]
    }
   ],
   "source": [
    "scores = {\n",
    "    '52001':90,\n",
    "    '52002':78,\n",
    "    '52003':88,\n",
    "}\n",
    "print(scores)\n",
    "\n",
    "names = [\n",
    "    ['52001','Mick'],\n",
    "    ['52002','John'],\n",
    "    ['52003','Alex']\n",
    "]\n",
    "names = dict(names)\n",
    "print(names)\n"
   ]
  },
  {
   "cell_type": "code",
   "execution_count": 43,
   "id": "superior-serve",
   "metadata": {},
   "outputs": [
    {
     "name": "stdout",
     "output_type": "stream",
     "text": [
      "{}\n"
     ]
    }
   ],
   "source": [
    "# 空字典\n",
    "Dict = {} # or Dict = dict()\n",
    "print(Dict)"
   ]
  },
  {
   "cell_type": "code",
   "execution_count": 44,
   "id": "sufficient-george",
   "metadata": {},
   "outputs": [
    {
     "name": "stdout",
     "output_type": "stream",
     "text": [
      "{'history_average': 100, ('shanghai', 2019): 124.4, ('shanghai', 2020): 134.4}\n"
     ]
    }
   ],
   "source": [
    "# 元组可以作为key，列表不行\n",
    "GDP ={\n",
    "    'history_average': 100, \n",
    "    ('shanghai', 2019): 124.4,\n",
    "    ('shanghai', 2020): 134.4,\n",
    "    }\n",
    "print(GDP)\n",
    "\n",
    "# 以下会报错\n",
    "#GDP ={\n",
    "#    ['shanghai', 2019]: 124.4,\n",
    "#    ['shanghai', 2020]: 134.4,\n",
    "#    }\n",
    "#print(GDP)"
   ]
  },
  {
   "cell_type": "markdown",
   "id": "persistent-table",
   "metadata": {},
   "source": [
    "* 字典的查找"
   ]
  },
  {
   "cell_type": "code",
   "execution_count": 78,
   "id": "constitutional-functionality",
   "metadata": {},
   "outputs": [
    {
     "name": "stdout",
     "output_type": "stream",
     "text": [
      "1 78\n",
      "2 id 52000 not in scores\n",
      "3 90\n",
      "4 None\n",
      "5 0\n"
     ]
    }
   ],
   "source": [
    "scores = {'52001':90, '52002':78,'52003':88, }\n",
    "# 方式一：\n",
    "print(1, scores['52002'])\n",
    "# print(scores['52000']) # error\n",
    "if '52000' in scores:\n",
    "    print(2, scores['52000'])\n",
    "else:\n",
    "    print(2, 'id 52000 not in scores')\n",
    "# 方式二\n",
    "print(3, scores.get('52001'))\n",
    "print(4, scores.get('52000'))\n",
    "print(5, scores.get('52000', 0))"
   ]
  },
  {
   "cell_type": "markdown",
   "id": "caroline-header",
   "metadata": {},
   "source": [
    "* 字典的修改方式一：指定key，如Dict[‘key’] = value"
   ]
  },
  {
   "cell_type": "code",
   "execution_count": 46,
   "id": "magnetic-motorcycle",
   "metadata": {},
   "outputs": [
    {
     "name": "stdout",
     "output_type": "stream",
     "text": [
      "{'52001': 100, '52002': 78, '52003': 88, '52004': 80}\n"
     ]
    }
   ],
   "source": [
    "scores = {\n",
    "    '52001':90,\n",
    "    '52002':78,\n",
    "    '52003':88,\n",
    "}\n",
    "scores['52001'] = 100 # 覆盖\n",
    "scores['52004'] = 80 # 添加\n",
    "print(scores)"
   ]
  },
  {
   "cell_type": "markdown",
   "id": "demonstrated-pixel",
   "metadata": {},
   "source": [
    "* 字典的修改方式二：用一个字典更新另一个字典"
   ]
  },
  {
   "cell_type": "code",
   "execution_count": 47,
   "id": "dense-barcelona",
   "metadata": {},
   "outputs": [
    {
     "name": "stdout",
     "output_type": "stream",
     "text": [
      "{'52001': 100, '52002': 78, '52003': 88, '52004': 80}\n"
     ]
    }
   ],
   "source": [
    "scores = {\n",
    "    '52001':90,\n",
    "    '52002':78,\n",
    "    '52003':88,\n",
    "}\n",
    "scores.update({\n",
    "    '52001':100, # 覆盖\n",
    "    '52004':80 # 添加\n",
    "})\n",
    "print(scores)"
   ]
  },
  {
   "cell_type": "markdown",
   "id": "swedish-trouble",
   "metadata": {},
   "source": [
    "* 字典的遍历"
   ]
  },
  {
   "cell_type": "code",
   "execution_count": 102,
   "id": "198aac1b",
   "metadata": {},
   "outputs": [],
   "source": [
    "scores = {\n",
    "    '52001':90,\n",
    "    '52002':78,\n",
    "    '52003':88,\n",
    "}"
   ]
  },
  {
   "cell_type": "code",
   "execution_count": 105,
   "id": "de7f3ad4",
   "metadata": {},
   "outputs": [
    {
     "data": {
      "text/plain": [
       "dict_keys(['52001', '52002', '52003'])"
      ]
     },
     "execution_count": 105,
     "metadata": {},
     "output_type": "execute_result"
    }
   ],
   "source": [
    "scores.keys()"
   ]
  },
  {
   "cell_type": "code",
   "execution_count": 69,
   "id": "centered-handy",
   "metadata": {},
   "outputs": [
    {
     "name": "stdout",
     "output_type": "stream",
     "text": [
      "<class 'dict_keys'> dict_keys(['52001', '52002', '52003'])\n",
      "<class 'dict_values'> dict_values([90, 78, 88])\n",
      "<class 'dict_items'> dict_items([('52001', 90), ('52002', 78), ('52003', 88)])\n",
      "52001\n",
      "52002\n",
      "52003\n"
     ]
    }
   ],
   "source": [
    "scores = {\n",
    "    '52001':90,\n",
    "    '52002':78,\n",
    "    '52003':88,\n",
    "}\n",
    "print(type(scores.keys()), scores.keys())\n",
    "print(type(scores.values()), scores.values())\n",
    "print(type(scores.items()), scores.items())\n",
    "\n",
    "# 这些可迭代对象可以进行遍历\n",
    "for key in scores.keys():\n",
    "    print(key)"
   ]
  },
  {
   "cell_type": "markdown",
   "id": "looking-aquatic",
   "metadata": {},
   "source": [
    "当对key进行遍历时，可以省略.keys()"
   ]
  },
  {
   "cell_type": "code",
   "execution_count": 49,
   "id": "right-bolivia",
   "metadata": {},
   "outputs": [
    {
     "name": "stdout",
     "output_type": "stream",
     "text": [
      "Student with id 52001 has score 90\n",
      "Student with id 52002 has score 78\n",
      "Student with id 52003 has score 88\n"
     ]
    }
   ],
   "source": [
    "scores = {\n",
    "    '52001':90,\n",
    "    '52002':78,\n",
    "    '52003':88,\n",
    "}\n",
    "for ID in scores:\n",
    "    print('Student with id %s has score %d'%(ID, scores[ID]))"
   ]
  },
  {
   "cell_type": "markdown",
   "id": "62b7f1ef",
   "metadata": {},
   "source": [
    "* 遍历：配合enumerate()"
   ]
  },
  {
   "cell_type": "code",
   "execution_count": 11,
   "id": "97947591",
   "metadata": {},
   "outputs": [],
   "source": [
    "scores = {\n",
    "    '52001':90,\n",
    "    '52002':78,\n",
    "    '52003':88,\n",
    "}"
   ]
  },
  {
   "cell_type": "code",
   "execution_count": 12,
   "id": "f83858c1",
   "metadata": {},
   "outputs": [
    {
     "name": "stdout",
     "output_type": "stream",
     "text": [
      "(1, ('52001', 90))\n",
      "(2, ('52002', 78))\n",
      "(3, ('52003', 88))\n"
     ]
    }
   ],
   "source": [
    "for item in enumerate(scores.items(), start=1):\n",
    "    print(item)"
   ]
  },
  {
   "cell_type": "code",
   "execution_count": 13,
   "id": "formal-retro",
   "metadata": {},
   "outputs": [
    {
     "name": "stdout",
     "output_type": "stream",
     "text": [
      "1 ('52001', 90)\n",
      "2 ('52002', 78)\n",
      "3 ('52003', 88)\n"
     ]
    }
   ],
   "source": [
    "for i,item in enumerate(scores.items(), start=1):\n",
    "    print(i, item)"
   ]
  },
  {
   "cell_type": "code",
   "execution_count": 76,
   "id": "7653e24f",
   "metadata": {},
   "outputs": [
    {
     "name": "stdout",
     "output_type": "stream",
     "text": [
      "1 52001 90\n",
      "2 52002 78\n",
      "3 52003 88\n"
     ]
    }
   ],
   "source": [
    "for i,item in enumerate(scores.items(), start=1):\n",
    "    ID, score = item\n",
    "    print(i, ID, score)"
   ]
  },
  {
   "cell_type": "code",
   "execution_count": 74,
   "id": "c670d08d",
   "metadata": {},
   "outputs": [
    {
     "name": "stdout",
     "output_type": "stream",
     "text": [
      "1-th student: ID 52001, score 90\n",
      "2-th student: ID 52002, score 78\n",
      "3-th student: ID 52003, score 88\n"
     ]
    }
   ],
   "source": [
    "for i,item in enumerate(scores.items(), start=1):\n",
    "    print('%d-th student: ID %s, score %d'%(i, item[0], item[1]))"
   ]
  },
  {
   "cell_type": "markdown",
   "id": "3b288f8e",
   "metadata": {},
   "source": [
    "字典的深浅拷贝"
   ]
  },
  {
   "cell_type": "code",
   "execution_count": 22,
   "id": "62c07a89",
   "metadata": {},
   "outputs": [
    {
     "name": "stdout",
     "output_type": "stream",
     "text": [
      "{'1': 100, '2': 2}\n",
      "{'1': 1, '2': 2}\n"
     ]
    }
   ],
   "source": [
    "a = {'1': 1, '2': 2,}\n",
    "b = a\n",
    "b['1'] = 100\n",
    "print(a)\n",
    "\n",
    "a = {'1': 1, '2': 2,}\n",
    "c = a.copy()\n",
    "c['1'] = 200\n",
    "print(a)"
   ]
  },
  {
   "cell_type": "markdown",
   "id": "magnetic-debate",
   "metadata": {},
   "source": [
    "* 通过生成式创建字典\n",
    "\n",
    "例子：由以下字典生成新字典，保存名字到学号的映射"
   ]
  },
  {
   "cell_type": "code",
   "execution_count": 114,
   "id": "46beb198",
   "metadata": {},
   "outputs": [
    {
     "data": {
      "text/plain": [
       "[('52001', 'Mick'), ('52002', 'John'), ('52003', 'Alex')]"
      ]
     },
     "execution_count": 114,
     "metadata": {},
     "output_type": "execute_result"
    }
   ],
   "source": [
    "list(id_2_name.items())"
   ]
  },
  {
   "cell_type": "code",
   "execution_count": 119,
   "id": "7d49b848",
   "metadata": {},
   "outputs": [
    {
     "data": {
      "text/plain": [
       "{'52001': 'Mick', '52002': 'John', '52003': 'Alex'}"
      ]
     },
     "execution_count": 119,
     "metadata": {},
     "output_type": "execute_result"
    }
   ],
   "source": [
    "id_2_name = {\n",
    "    '52001':'Mick',\n",
    "    '52002':'John',\n",
    "    '52003':'Alex',\n",
    "}\n",
    "dict([[ID, name] for ID, name in id_2_name.items()])\n"
   ]
  },
  {
   "cell_type": "code",
   "execution_count": 51,
   "id": "selected-junior",
   "metadata": {},
   "outputs": [
    {
     "name": "stdout",
     "output_type": "stream",
     "text": [
      "{'Mick': '52001', 'John': '52002', 'Alex': '52003'}\n"
     ]
    }
   ],
   "source": [
    "id_2_name = {\n",
    "    '52001':'Mick',\n",
    "    '52002':'John',\n",
    "    '52003':'Alex',\n",
    "}\n",
    "name_2_id = dict([[name,ID] for ID, name in id_2_name.items()])\n",
    "print(name_2_id)"
   ]
  },
  {
   "cell_type": "markdown",
   "id": "related-great",
   "metadata": {},
   "source": [
    "* 练习：统计单词出现次数\n",
    "\n",
    "统计如下段落各个单词（连字符前后当做同一个单词，不考虑标点符号，大小写无关）的出现频率，并按照单词降序打印各个单词出现的频率。\n",
    "\n",
    "```\n",
    "Python is an interpreted, high-level and general-purpose programming language. The design philosophy of Python emphasizes code readability with its notable use of significant indentation. Its language constructs and object-oriented approach aim to help programmers write clear, logical code for small and large-scale projects.\n",
    "Python is dynamically-typed and garbage-collected. It supports multiple programming paradigms, including structured , object-oriented and functional programming. Python is often described as a batteries included language due to its comprehensive standard library.\n",
    "```"
   ]
  },
  {
   "cell_type": "code",
   "execution_count": 11,
   "id": "4b4e0acb",
   "metadata": {},
   "outputs": [
    {
     "name": "stdout",
     "output_type": "stream",
     "text": [
      "write 1\n",
      "with 1\n",
      "use 1\n",
      "to 2\n",
      "to 2\n",
      "the 1\n",
      "supports 1\n",
      "structured 1\n",
      "standard 1\n",
      "small 1\n",
      "significant 1\n",
      "readability 1\n",
      "python 4\n",
      "python 4\n",
      "python 4\n",
      "python 4\n",
      "projects 1\n",
      "programming 3\n",
      "programming 3\n",
      "programming 3\n",
      "programmers 1\n",
      "philosophy 1\n",
      "paradigms 1\n",
      "often 1\n",
      "of 2\n",
      "of 2\n",
      "object-oriented 2\n",
      "object-oriented 2\n",
      "notable 1\n",
      "multiple 1\n",
      "logical 1\n",
      "library 1\n",
      "large-scale 1\n",
      "language 3\n",
      "language 3\n",
      "language 3\n",
      "its 3\n",
      "its 3\n",
      "its 3\n",
      "it 1\n",
      "is 3\n",
      "is 3\n",
      "is 3\n",
      "interpreted 1\n",
      "indentation 1\n",
      "including 1\n",
      "included 1\n",
      "high-level 1\n",
      "help 1\n",
      "general-purpose 1\n",
      "garbage-collected 1\n",
      "functional 1\n",
      "for 1\n",
      "emphasizes 1\n",
      "dynamically-typed 1\n",
      "due 1\n",
      "design 1\n",
      "described 1\n",
      "constructs 1\n",
      "comprehensive 1\n",
      "code 2\n",
      "code 2\n",
      "clear 1\n",
      "batteries 1\n",
      "as 1\n",
      "approach 1\n",
      "and 5\n",
      "and 5\n",
      "and 5\n",
      "and 5\n",
      "and 5\n",
      "an 1\n",
      "aim 1\n",
      "a 1\n"
     ]
    }
   ],
   "source": [
    "Str = '''\n",
    "Python is an interpreted, high-level and general-purpose programming language. The design philosophy of Python emphasizes code readability with its notable use of significant indentation. Its language constructs and object-oriented approach aim to help programmers write clear, logical code for small and large-scale projects.\n",
    "Python is dynamically-typed and garbage-collected. It supports multiple programming paradigms, including structured , object-oriented and functional programming. Python is often described as a batteries included language due to its comprehensive standard library.\n",
    "'''.lower()\n",
    "Str = Str.replace(',', '') # 不要逗号\n",
    "Str = Str.replace('.', '') # 不要句号\n",
    "\n",
    "List = Str.split()\n",
    "List.sort(reverse=True)\n",
    "for word in List:\n",
    "    print(word, List.count(word))"
   ]
  },
  {
   "cell_type": "code",
   "execution_count": 1,
   "id": "d59c745b",
   "metadata": {},
   "outputs": [
    {
     "name": "stdout",
     "output_type": "stream",
     "text": [
      "write:1\n",
      "with:1\n",
      "use:1\n",
      "to:2\n",
      "the:1\n",
      "supports:1\n",
      "structured:1\n",
      "standard:1\n",
      "small:1\n",
      "significant:1\n",
      "readability:1\n",
      "python:4\n",
      "projects:1\n",
      "programming:3\n",
      "programmers:1\n",
      "philosophy:1\n",
      "paradigms:1\n",
      "often:1\n",
      "of:2\n",
      "object-oriented:2\n",
      "notable:1\n",
      "multiple:1\n",
      "logical:1\n",
      "library:1\n",
      "large-scale:1\n",
      "language:3\n",
      "its:3\n",
      "it:1\n",
      "is:3\n",
      "interpreted:1\n",
      "indentation:1\n",
      "including:1\n",
      "included:1\n",
      "high-level:1\n",
      "help:1\n",
      "general-purpose:1\n",
      "garbage-collected:1\n",
      "functional:1\n",
      "for:1\n",
      "emphasizes:1\n",
      "dynamically-typed:1\n",
      "due:1\n",
      "design:1\n",
      "described:1\n",
      "constructs:1\n",
      "comprehensive:1\n",
      "code:2\n",
      "clear:1\n",
      "batteries:1\n",
      "as:1\n",
      "approach:1\n",
      "and:5\n",
      "an:1\n",
      "aim:1\n",
      "a:1\n"
     ]
    }
   ],
   "source": [
    "Str = '''\n",
    "Python is an interpreted, high-level and general-purpose programming language. The design philosophy of Python emphasizes code readability with its notable use of significant indentation. Its language constructs and object-oriented approach aim to help programmers write clear, logical code for small and large-scale projects.\n",
    "Python is dynamically-typed and garbage-collected. It supports multiple programming paradigms, including structured , object-oriented and functional programming. Python is often described as a batteries included language due to its comprehensive standard library.\n",
    "'''.lower()\n",
    "Str = Str.replace(',', '') # 不要逗号\n",
    "Str = Str.replace('.', '') # 不要句号\n",
    "\n",
    "freq = {} # 字典：保存每个单词的出现频率\n",
    "for word in Str.split():\n",
    "    freq[word] = freq.get(word, 0) + 1\n",
    "# 或者以下写法\n",
    "# for word in Str.split():\n",
    "#     if not word in freq: # 这个单词第一次出现的时候，让value=1\n",
    "#         freq[word] = 1\n",
    "#     else: # 这个单词不是第一次出现，频率 +1\n",
    "#         freq[word] += 1\n",
    "# 或者以下写法\n",
    "# for word in Str.split():\n",
    "#     freq[word] = 1 if not word in freq else freq[word] + 1\n",
    "\n",
    "for word in sorted(freq.keys(), reverse=True):\n",
    "    print('%s:%d'%(word, freq[word]))\n"
   ]
  },
  {
   "cell_type": "markdown",
   "id": "apparent-bobby",
   "metadata": {},
   "source": [
    "### 4. 集合"
   ]
  },
  {
   "cell_type": "code",
   "execution_count": 52,
   "id": "rocky-fault",
   "metadata": {},
   "outputs": [
    {
     "name": "stdout",
     "output_type": "stream",
     "text": [
      "{'apple', 'banana', 'orange'}\n",
      "{'apple', 'banana', 'orange'}\n"
     ]
    }
   ],
   "source": [
    "set1 = {'apple', 'orange', 'apple', 'banana'}\n",
    "set2 = set(['apple', 'orange', 'apple', 'banana'])\n",
    "\n",
    "# 自动去重\n",
    "print(set1)\n",
    "print(set2)"
   ]
  },
  {
   "cell_type": "code",
   "execution_count": 66,
   "id": "saving-communications",
   "metadata": {},
   "outputs": [
    {
     "name": "stdout",
     "output_type": "stream",
     "text": [
      "{'b', 'r', 'c', 'a', 'd'}\n",
      "{'l', 'c', 'z', 'a', 'm'}\n",
      "a&b: {'c', 'a'}\n",
      "a|b: {'b', 'l', 'r', 'c', 'z', 'a', 'm', 'd'}\n",
      "a-b: {'d', 'b', 'r'}\n",
      "a^b: {'z', 'd', 'm', 'l', 'b', 'r'}\n"
     ]
    }
   ],
   "source": [
    "a = set('abracadabra')\n",
    "b = set('alacazam')\n",
    "print(a)                                  \n",
    "print(b)\n",
    "print('a&b:',a&b) # 交集，等价于 a.intersection(b)\n",
    "print('a|b:',a|b) # 并集，等价于 a.union(b)\n",
    "print('a-b:',a-b) # 在a不在b，等价于 a.difference(b)\n",
    "print('a^b:',a^b) # 不同时在a,b， 等价于a.symmetric_difference(b)"
   ]
  },
  {
   "cell_type": "markdown",
   "id": "choice-right",
   "metadata": {},
   "source": [
    "* 例子：判断字符串是否有重复字符!"
   ]
  },
  {
   "cell_type": "code",
   "execution_count": 6,
   "id": "sweet-forth",
   "metadata": {
    "code_folding": []
   },
   "outputs": [
    {
     "name": "stdout",
     "output_type": "stream",
     "text": [
      "Please input a string:thisis\n",
      "{'t': 1, 'h': 1, 'i': 2, 's': 2}\n",
      "有重复字符\n"
     ]
    }
   ],
   "source": [
    "# solution 1:用一个字典记录字符出现次数\n",
    "Str = input('Please input a string:')\n",
    "Dict = {}\n",
    "for char in Str:\n",
    "    if char not in Dict:\n",
    "        Dict[char] = 1\n",
    "    else:\n",
    "        Dict[char] += 1\n",
    "print(Dict)\n",
    "if max(Dict.values()) == 1:\n",
    "    print('无重复字符')\n",
    "else:\n",
    "    print('有重复字符')"
   ]
  },
  {
   "cell_type": "code",
   "execution_count": 7,
   "id": "molecular-excellence",
   "metadata": {},
   "outputs": [
    {
     "name": "stdout",
     "output_type": "stream",
     "text": [
      "Please input a string:223\n",
      "有重复字符\n"
     ]
    }
   ],
   "source": [
    "# solution 2\n",
    "Str = input('Please input a string:')\n",
    "if len(set(Str)) == len(Str):\n",
    "    print('无重复字符')\n",
    "else:\n",
    "    print('有重复字符')"
   ]
  },
  {
   "cell_type": "code",
   "execution_count": null,
   "id": "0549c260",
   "metadata": {},
   "outputs": [],
   "source": [
    "[1,2'sjtu',{'key':['value',2]}]"
   ]
  },
  {
   "cell_type": "markdown",
   "id": "defined-finish",
   "metadata": {},
   "source": [
    "#### 5. 对象的相互嵌套"
   ]
  },
  {
   "cell_type": "markdown",
   "id": "identical-tower",
   "metadata": {},
   "source": [
    "将下列信息存在在一个变量中，要求能根据学号快速访问姓名和成绩。逐行打印学生的信息。\n",
    "\n",
    "|学号|名字|成绩|\n",
    "|--|--|--|\n",
    "|'52001'|Mick|90|\n",
    "|'52002'|John|78|\n",
    "|'52003'|Alex|88|\n"
   ]
  },
  {
   "cell_type": "code",
   "execution_count": 55,
   "id": "fleet-funds",
   "metadata": {},
   "outputs": [
    {
     "name": "stdout",
     "output_type": "stream",
     "text": [
      "Student(ID:52001, name: Mick) has score 90\n",
      "Student(ID:52002, name: John) has score 78\n",
      "Student(ID:52003, name: Alex) has score 88\n"
     ]
    }
   ],
   "source": [
    "# 字典里嵌套列表\n",
    "students = {\n",
    "    '52001': ['Mick', 90],\n",
    "    '52002': ['John', 78],\n",
    "    '52003': ['Alex', 88],\n",
    "}\n",
    "for ID, info in students.items():\n",
    "    print('Student(ID:%s, name: %s) has score %d'%(ID, info[0], info[1]))"
   ]
  },
  {
   "cell_type": "code",
   "execution_count": 7,
   "id": "worst-making",
   "metadata": {},
   "outputs": [
    {
     "name": "stdout",
     "output_type": "stream",
     "text": [
      "Student(ID:52001, name: Mick) has score 90\n",
      "Student(ID:52002, name: John) has score 78\n",
      "Student(ID:52003, name: Alex) has score 88\n",
      "----\n",
      "Student(ID:52001, name: Mick) has score 90\n",
      "Student(ID:52002, name: John) has score 78\n",
      "Student(ID:52003, name: Alex) has score 88\n"
     ]
    }
   ],
   "source": [
    "# 字典里嵌套另一个字典\n",
    "students = {\n",
    "    '52001': {'name':'Mick', 'score':90},\n",
    "    '52002': {'name':'John', 'score':78},\n",
    "    '52003': {'name':'Alex', 'score':88},\n",
    "}\n",
    "\n",
    "for ID, info in students.items():\n",
    "    print('Student(ID:%s, name: %s) has score %d'%(ID, info['name'], info['score']))\n",
    "\n",
    "print('----')\n",
    "for ID in students:\n",
    "    print('Student(ID:%s, name: %s) has score %d'%(ID, students[ID]['name'], students[ID]['score']))"
   ]
  },
  {
   "cell_type": "markdown",
   "id": "343c804e",
   "metadata": {},
   "source": [
    "#### 6. 可变数据类型vs不可变数据类型"
   ]
  },
  {
   "cell_type": "code",
   "execution_count": 10,
   "id": "b447ced0",
   "metadata": {},
   "outputs": [
    {
     "name": "stdout",
     "output_type": "stream",
     "text": [
      "sjtu 140105602787248\n",
      "shtu 140105602078000\n"
     ]
    }
   ],
   "source": [
    "str1 = 'sjtu'\n",
    "print(str1, id(str1)) # 地址不一样\n",
    "#str1[1] = 'h'# 这个会报错，字符串无法修改\n",
    "str2 = 'shtu' # 只能通过这种方式“修改”内容\n",
    "print(str2, id(str2)) # 地址不一样"
   ]
  },
  {
   "cell_type": "code",
   "execution_count": 2,
   "id": "7e15d16c",
   "metadata": {},
   "outputs": [
    {
     "name": "stdout",
     "output_type": "stream",
     "text": [
      "{'key1': 1, 'key2': 2} 140062779274624\n",
      "{'key1': 1, 'key2': 200} 140062779274624\n",
      "{'key1': 1, 'key2': 200} 140062779274816\n"
     ]
    }
   ],
   "source": [
    "Dict = {'key1':1, 'key2':2}\n",
    "print(Dict, id(Dict))\n",
    "Dict['key2'] = 200 # 可以直接修改内容\n",
    "print(Dict, id(Dict)) # 内存地址不变\n",
    "\n",
    "# 当然也可以新建一个同名变量覆盖原变量，内存地址改变\n",
    "Dict = {'key1':1, 'key2':200} \n",
    "print(Dict, id(Dict)) # 内存地址变化"
   ]
  },
  {
   "cell_type": "markdown",
   "id": "varying-insert",
   "metadata": {},
   "source": [
    "#### 7. 课后练习\n",
    "\n",
    "* 课后练习1：\n",
    "\n",
    "已知`List = [['k', ['qwe', 20, {'k1': ['t', 3, '1']}, 89], 'ab']]`\n",
    "\n",
    "将其中的t改成s\n",
    "\n",
    "将其中的89改成890\n",
    "\n",
    "最后输出\n"
   ]
  },
  {
   "cell_type": "code",
   "execution_count": 75,
   "id": "banner-allocation",
   "metadata": {},
   "outputs": [
    {
     "name": "stdout",
     "output_type": "stream",
     "text": [
      "[['k', ['qwe', 20, {'k1': ['s', 3, '1']}, 890], 'ab']]\n"
     ]
    }
   ],
   "source": [
    "List = [['k', ['qwe', 20, {'k1': ['t', 3, '1']}, 89], 'ab']]\n",
    "List[0][1][2]['k1'][0] = 's'\n",
    "List[0][1][3] = 890\n",
    "\n",
    "print(List)"
   ]
  },
  {
   "cell_type": "markdown",
   "id": "regional-printer",
   "metadata": {},
   "source": [
    "* 课后练习2：\n",
    "\n",
    "网站的cookies 一般是很多组 key-value对，有两种常见表达方式：\n",
    "\n",
    "- 字符串：`key1=value1; key2=value2; key3=value3`, 浏览器得到的一般这种形式\n",
    "\n",
    " - 字典: `{key1: value1, key2: value2, key3: value3}`\n",
    "\n",
    "以上两种形式可以相互转换\n",
    "\n",
    "任务：已知访问某网站得到的cookie是如下字符串，请将其转成字典，并输出；再将字典转化回字符串形式，并输出；验证最后得到的字符串是否跟原始字符串一样。\n",
    "\n",
    "\n",
    "```\n",
    "uuid_tt_dd=10_33968673990-1603251934820-241804; Hm_up_6bcd52f51e9b3dce32bec4a3997715ac=%7B%22islogin%22%3A%7B%22value%22%3A%220%22%2C%22scope%22%3A1%7D%2C%22isonline%22%3A%7B%22value%22%3A%220%22%2C%22scope%22%3A1%7D%2C%22isvip%22%3A%7B%22value%22%3A%220%22%2C%22scope%22%3A1%7D%7D; Hm_ct_6bcd52f51e9b3dce32bec4a3997715ac=6525*1*10_33968673990-1603251934820-241804; _ga=GA1.2.289946407.1603251938; c-login-auto=4; _gid=GA1.2.1307594592.1616769190; ssxmod_itna2=QqGx2DRiD=0=ite40LpO8D978Iy8grwBO4ODA=Wqq4D/3iDF2RiIZPApO4gxqHg8oTAQDcGYBj+O4R+A=i366MK+K3pcdr0P8XxQvyzYbF1M+jPrDDvGq/+Yj2XdKBnFN9I=DyK+nRowXCkvOGTtvI2Kje+jk8bjx5WqplRXKXRvk7qPDKMPDFqD2YiD; log_Id_click=14; firstDie=1; dc_session_id=10_1617335157718.461403; c_ref=https%3A//www.google.com/; c_first_ref=www.google.com\n",
    "```"
   ]
  },
  {
   "cell_type": "code",
   "execution_count": 32,
   "id": "danish-patient",
   "metadata": {},
   "outputs": [
    {
     "name": "stdout",
     "output_type": "stream",
     "text": [
      "{'uuid_tt_dd': '10_33968673990-1603251934820-241804', 'Hm_up_6bcd52f51e9b3dce32bec4a3997715ac': '%7B%22islogin%22%3A%7B%22value%22%3A%220%22%2C%22scope%22%3A1%7D%2C%22isonline%22%3A%7B%22value%22%3A%220%22%2C%22scope%22%3A1%7D%2C%22isvip%22%3A%7B%22value%22%3A%220%22%2C%22scope%22%3A1%7D%7D', 'Hm_ct_6bcd52f51e9b3dce32bec4a3997715ac': '6525*1*10_33968673990-1603251934820-241804', '_ga': 'GA1.2.289946407.1603251938', 'c-login-auto': '4', '_gid': 'GA1.2.1307594592.1616769190', 'ssxmod_itna2': 'QqGx2DRiD=0=ite40LpO8D978Iy8grwBO4ODA=Wqq4D/3iDF2RiIZPApO4gxqHg8oTAQDcGYBj+O4R+A=i366MK+K3pcdr0P8XxQvyzYbF1M+jPrDDvGq/+Yj2XdKBnFN9I=DyK+nRowXCkvOGTtvI2Kje+jk8bjx5WqplRXKXRvk7qPDKMPDFqD2YiD', 'log_Id_click': '14', 'firstDie': '1', 'dc_session_id': '10_1617335157718.461403', 'c_ref': 'https%3A//www.google.com/', 'c_first_ref': 'www.google.com'}\n",
      "-----\n",
      "True\n"
     ]
    }
   ],
   "source": [
    "cookie_str = '''uuid_tt_dd=10_33968673990-1603251934820-241804; Hm_up_6bcd52f51e9b3dce32bec4a3997715ac=%7B%22islogin%22%3A%7B%22value%22%3A%220%22%2C%22scope%22%3A1%7D%2C%22isonline%22%3A%7B%22value%22%3A%220%22%2C%22scope%22%3A1%7D%2C%22isvip%22%3A%7B%22value%22%3A%220%22%2C%22scope%22%3A1%7D%7D; Hm_ct_6bcd52f51e9b3dce32bec4a3997715ac=6525*1*10_33968673990-1603251934820-241804; _ga=GA1.2.289946407.1603251938; c-login-auto=4; _gid=GA1.2.1307594592.1616769190; ssxmod_itna2=QqGx2DRiD=0=ite40LpO8D978Iy8grwBO4ODA=Wqq4D/3iDF2RiIZPApO4gxqHg8oTAQDcGYBj+O4R+A=i366MK+K3pcdr0P8XxQvyzYbF1M+jPrDDvGq/+Yj2XdKBnFN9I=DyK+nRowXCkvOGTtvI2Kje+jk8bjx5WqplRXKXRvk7qPDKMPDFqD2YiD; log_Id_click=14; firstDie=1; dc_session_id=10_1617335157718.461403; c_ref=https%3A//www.google.com/; c_first_ref=www.google.com'''\n",
    "\n",
    "# 将字符串转换成字典形式\n",
    "cookie_dict = {} \n",
    "for item in cookie_str.split('; '):\n",
    "    # 方法一：直接使用maxsplit = 1\n",
    "    left, right = item.split('=', maxsplit=1) # 因为可能有多个等号。a=b=c -> 'a':'b=c', 所以最多split一次\n",
    "    cookie_dict[left] = right\n",
    "\n",
    "    # 方法二：如果不用maxsplit， 则需要把第一个等号后面的所有等号都连接起来\n",
    "    # splited = item.split('=') \n",
    "    # left = splited[0]\n",
    "    # right = '='.join(splited[1:])\n",
    "    # cookie_dict[left] = right\n",
    "print(cookie_dict) \n",
    "\n",
    "# 将字典形式转换回字符串\n",
    "print('-----')\n",
    "# 思路：先用等号连接key, value。 然后用'; '连接每一个\n",
    "reconstructed_Str = '; '.join(['%s=%s'%(left,right) for left, right in cookie_dict.items()])\n",
    "print(reconstructed_Str == cookie_str)"
   ]
  }
 ],
 "metadata": {
  "kernelspec": {
   "display_name": "Python 3 (ipykernel)",
   "language": "python",
   "name": "python3"
  },
  "language_info": {
   "codemirror_mode": {
    "name": "ipython",
    "version": 3
   },
   "file_extension": ".py",
   "mimetype": "text/x-python",
   "name": "python",
   "nbconvert_exporter": "python",
   "pygments_lexer": "ipython3",
   "version": "3.11.5"
  },
  "toc": {
   "base_numbering": 1,
   "nav_menu": {},
   "number_sections": false,
   "sideBar": true,
   "skip_h1_title": true,
   "title_cell": "Table of Contents",
   "title_sidebar": "Contents",
   "toc_cell": false,
   "toc_position": {
    "height": "calc(100% - 180px)",
    "left": "10px",
    "top": "150px",
    "width": "165px"
   },
   "toc_section_display": true,
   "toc_window_display": false
  },
  "varInspector": {
   "cols": {
    "lenName": 16,
    "lenType": 16,
    "lenVar": 40
   },
   "kernels_config": {
    "python": {
     "delete_cmd_postfix": "",
     "delete_cmd_prefix": "del ",
     "library": "var_list.py",
     "varRefreshCmd": "print(var_dic_list())"
    },
    "r": {
     "delete_cmd_postfix": ") ",
     "delete_cmd_prefix": "rm(",
     "library": "var_list.r",
     "varRefreshCmd": "cat(var_dic_list()) "
    }
   },
   "position": {
    "height": "314.667px",
    "left": "909px",
    "right": "20px",
    "top": "120px",
    "width": "350px"
   },
   "types_to_exclude": [
    "module",
    "function",
    "builtin_function_or_method",
    "instance",
    "_Feature"
   ],
   "window_display": false
  }
 },
 "nbformat": 4,
 "nbformat_minor": 5
}
