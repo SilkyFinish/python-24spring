{
 "cells": [
  {
   "cell_type": "markdown",
   "id": "suitable-folder",
   "metadata": {},
   "source": [
    "期末复习\n",
    "========\n",
    "\n",
    "BUSS1301 程序设计，2024年春季\n",
    "\n",
    "\n",
    "\n",
    "-------\n",
    "\n",
    "\n"
   ]
  },
  {
   "cell_type": "markdown",
   "id": "5aac317f",
   "metadata": {},
   "source": [
    "### 根据strip()的文档理解以下结果"
   ]
  },
  {
   "cell_type": "code",
   "execution_count": 2,
   "id": "fca3433a",
   "metadata": {},
   "outputs": [
    {
     "name": "stdout",
     "output_type": "stream",
     "text": [
      "4 ['Hello', 'string', 'n', 'library!']\n",
      "5 ['Hello', 'string', 'n', 'library!', '', '']\n",
      "6 ['Hello st', 'ing n lib', 'a', 'y!  ']\n",
      "7 ['', 'ello string n library!  ']\n"
     ]
    }
   ],
   "source": [
    "# 根据strip()的文档理解以下结果\n",
    "str_ = \"Hello string n library!  \"\n",
    "print(4, str_.split())\n",
    "print(5, str_.split(' '))\n",
    "print(6, str_.split('r'))\n",
    "print(7, str_.split('H'))\n",
    "\n"
   ]
  },
  {
   "cell_type": "markdown",
   "id": "a25c3387",
   "metadata": {},
   "source": [
    "### float -> str 测试"
   ]
  },
  {
   "cell_type": "code",
   "execution_count": 2,
   "id": "56293c22",
   "metadata": {},
   "outputs": [
    {
     "data": {
      "text/plain": [
       "'76.56'"
      ]
     },
     "execution_count": 2,
     "metadata": {},
     "output_type": "execute_result"
    }
   ],
   "source": [
    "a = 76.5600\n",
    "str(a)"
   ]
  },
  {
   "cell_type": "markdown",
   "id": "minus-guidance",
   "metadata": {},
   "source": [
    "### 总结：遍历解决问题"
   ]
  },
  {
   "cell_type": "markdown",
   "id": "9a16347b",
   "metadata": {},
   "source": [
    "**注意：**\n",
    "* 一轮遍历，两轮遍历，三轮遍历...\n",
    "* 在循环外部保存当前最优解\n",
    "\n",
    "* 要弄清楚需要遍历的情况都有哪些，在遍历中，遍历的index（如i,j,idx）需要有一个明确的含义。\n",
    "* 暴力遍历是一种相对容易的实现方式，但是不一定是最低复杂度的解法。"
   ]
  },
  {
   "cell_type": "markdown",
   "id": "ff3c15cd",
   "metadata": {},
   "source": [
    "#### hw2-Q5. 寻找最长的不包含重复字符的子字符串（20分）\n",
    "提示用户输入一个任意长度且只包含数字字符（0-9）的字符串digitString，如果用户输入的字符串包含非数字字符，则提示用户重新尝试输入，最多可以尝试的次数为maxTrial=5。如果用户在规定次数内没有输入一个满足条件的数字字符串digitString，则输出“End”并结束程序；如果用户在规定次数内成功输入了一个数字字符串digitString，则在该字符串中找出一个最长的不包含重复字符的子字符串（如果有多个等长的最长子字符串，则找出其中任意一个即可），并将该最长子字符串转换成int类型的整数后输出。下面是两个示例：\n",
    "* 示例1：假设用户在3次尝试内成功输入了一个数字字符串\"31415926\"，则输出415926\n",
    "* 示例2：假设用户在5次尝试内成功输入了一个数字字符串“666666”，则输出6\n",
    "* 示例3：假设用户在6次尝试内没有成功输入一个数字字符串，则输出“End”\n",
    "\n",
    "提示：两个循环，遍历所有可能的子字符串"
   ]
  },
  {
   "cell_type": "code",
   "execution_count": 7,
   "id": "92942ba6",
   "metadata": {},
   "outputs": [
    {
     "name": "stdout",
     "output_type": "stream",
     "text": [
      "请输入只含有数字的字符串:123454\n",
      "12345\n"
     ]
    }
   ],
   "source": [
    "Number=input(\"请输入只含有数字的字符串:\")\n",
    "trial = 1\n",
    "while trial < 5 and not Number.isdigit():\n",
    "    Number=input('请重新输入:')\n",
    "    trial+=1\n",
    "if trial==5 and not Number.isdigit():\n",
    "    print('End')\n",
    "else:\n",
    "    Max_length = 0\n",
    "    Number_max = 0\n",
    "    for j in range(len(Number)): # j代表遍历子串的起始索引\n",
    "        for k in range(j,len(Number)): # k代表遍历子串的结束索引（包含）\n",
    "            # 子串为 Number[j:k+1]\n",
    "            if len(set(Number[j:k+1])) == k+1-j and k+1-j > Max_length:\n",
    "                Max_length = k+1-j\n",
    "                Number_max=int(Number[j:k+1])\n",
    "    print(Number_max)"
   ]
  },
  {
   "cell_type": "code",
   "execution_count": null,
   "id": "4c201114",
   "metadata": {},
   "outputs": [],
   "source": [
    "'12345'\n",
    "\n",
    "1   j = 0, k = 0\n",
    "12\n",
    "123\n",
    "1234\n",
    "12345  j=0, k=4\n",
    "2     j=1, k=1\n",
    "23\n",
    "234\n",
    "2345  j=1, k=4"
   ]
  },
  {
   "cell_type": "markdown",
   "id": "cdd5f57b",
   "metadata": {},
   "source": [
    "#### Lab2-Q6. 最长回文子串\n",
    "\n",
    "回文串是指正序（从左向右）和倒序（从右向左）是一样的字符串。例如，`a22a` 是回文，而 `abc` 不是。\n",
    "    \n",
    "编写程序完成以下任务：假设Str是一个只包含字母与数组的字符串，请找出其中最长的回文子串。如果有多个最长回文子串，输出其中任意一个即可。"
   ]
  },
  {
   "cell_type": "code",
   "execution_count": 3,
   "id": "36beb495",
   "metadata": {},
   "outputs": [
    {
     "name": "stdout",
     "output_type": "stream",
     "text": [
      "The index: (6, 10)\n",
      "The string: iesei\n"
     ]
    }
   ],
   "source": [
    "# 版本二：课前我提前准备的代码（思路是一样的）\n",
    "Str = '2dfjjoieseite66e'\n",
    "\n",
    "max_length = 0\n",
    "index_max_length = (0,0)\n",
    "length = len(Str)\n",
    "\n",
    "for i in range(length): #i代表子串开始的索引\n",
    "    for j in range(i, length): #j代表子串结束的索引（包括该字符）\n",
    "        extracted_substr = Str[i:j+1] # 长度为 j+1-i\n",
    "        if j+1-i > max_length and extracted_substr == extracted_substr[::-1]:\n",
    "            max_length = j+1-i\n",
    "            index_max_length = (i,j)\n",
    "print('The index:', index_max_length)\n",
    "print('The string:',Str[index_max_length[0]:index_max_length[1]+1])\n"
   ]
  },
  {
   "cell_type": "code",
   "execution_count": 9,
   "id": "e066f56f",
   "metadata": {},
   "outputs": [
    {
     "name": "stdout",
     "output_type": "stream",
     "text": [
      "The index: (6, 10)\n",
      "The String: iesei\n"
     ]
    }
   ],
   "source": [
    "# 函数化，将是否是回文的判断写出函数，简化逻辑\n",
    "# 因为中间的判断可能很复杂\n",
    "def is_huiwen(s):\n",
    "    return s == s[::-1]\n",
    "\n",
    "def find_max_huiwen(Str):\n",
    "    '''description here'''\n",
    "    max_length = 0\n",
    "    index_max_length = (0,0)\n",
    "    length = len(Str)\n",
    "\n",
    "    for i in range(length): #i代表子串开始的索引\n",
    "        for j in range(i, length): #j代表子串结束的索引（包括该字符）\n",
    "            if j+1-i > max_length and is_huiwen(Str[i:j+1]):\n",
    "                max_length = j+1-i\n",
    "                index_max_length = (i,j)\n",
    "    return index_max_length, Str[index_max_length[0]:index_max_length[1]+1]\n",
    "\n",
    "Str = '2dfjjoieseite66e'\n",
    "index, substr = find_max_huiwen(Str)\n",
    "print('The index:', index)            \n",
    "print('The String:', substr)"
   ]
  },
  {
   "cell_type": "markdown",
   "id": "perfect-cholesterol",
   "metadata": {},
   "source": [
    "### 内置函数vs.通用函数"
   ]
  },
  {
   "cell_type": "code",
   "execution_count": 9,
   "id": "amino-reconstruction",
   "metadata": {},
   "outputs": [
    {
     "name": "stdout",
     "output_type": "stream",
     "text": [
      "None [1, 2, 3]\n"
     ]
    }
   ],
   "source": [
    "a = [2,1,3]\n",
    "result = a.sort() # 直接对a进行修改\n",
    "print(result, a)"
   ]
  },
  {
   "cell_type": "code",
   "execution_count": 12,
   "id": "marine-defensive",
   "metadata": {},
   "outputs": [
    {
     "name": "stdout",
     "output_type": "stream",
     "text": [
      "[1, 2, 3] [2, 1, 3]\n"
     ]
    }
   ],
   "source": [
    "a = [2,1,3]\n",
    "result = sorted(a) # 没有直接对a进行修改\n",
    "print(result, a)"
   ]
  },
  {
   "cell_type": "markdown",
   "id": "0dc47ef5",
   "metadata": {},
   "source": [
    "### 练习：统计单词出现次数 (可以用get函数初始化)"
   ]
  },
  {
   "cell_type": "code",
   "execution_count": null,
   "id": "81e20879",
   "metadata": {},
   "outputs": [],
   "source": [
    "Str = '''\n",
    "Python is an interpreted, high-level and general-purpose programming language. The design philosophy of Python emphasizes code readability with its notable use of significant indentation. Its language constructs and object-oriented approach aim to help programmers write clear, logical code for small and large-scale projects.\n",
    "Python is dynamically-typed and garbage-collected. It supports multiple programming paradigms, including structured , object-oriented and functional programming. Python is often described as a batteries included language due to its comprehensive standard library.\n",
    "'''.lower()\n",
    "Str = Str.replace(',', '') # 不要逗号\n",
    "Str = Str.replace('.', '') # 不要句号\n",
    "\n",
    "freq = {} # 字典：保存每个单词的出现频率\n",
    "for word in Str.split():\n",
    "    freq[word] = freq.get(word, 0) + 1\n",
    "# 或者以下写法\n",
    "# for word in Str.split():\n",
    "#     if not word in freq: # 这个单词第一次出现的时候，让value=1\n",
    "#         freq[word] = 1\n",
    "#     else: # 这个单词不是第一次出现，频率 +1\n",
    "#         freq[word] += 1\n",
    "# 或者以下写法\n",
    "# for word in Str.split():\n",
    "#     freq[word] = 1 if not word in freq else freq[word] + 1\n",
    "\n",
    "for word in sorted(freq.keys(), reverse=True):\n",
    "    print('%s:%d'%(word, freq[word]))\n"
   ]
  },
  {
   "cell_type": "markdown",
   "id": "ad318179",
   "metadata": {},
   "source": [
    "### 可迭代对象之间的相互初始化"
   ]
  },
  {
   "cell_type": "code",
   "execution_count": null,
   "id": "b78e06fc",
   "metadata": {},
   "outputs": [],
   "source": [
    "list('sjtu')"
   ]
  },
  {
   "cell_type": "code",
   "execution_count": null,
   "id": "b3bbcb63",
   "metadata": {},
   "outputs": [],
   "source": [
    "list(range(4))"
   ]
  },
  {
   "cell_type": "code",
   "execution_count": null,
   "id": "e1b7cd62",
   "metadata": {},
   "outputs": [],
   "source": [
    "D = {'1': 1, '2': 2, '3': 3}\n",
    "list(D)"
   ]
  },
  {
   "cell_type": "code",
   "execution_count": null,
   "id": "cae440b5",
   "metadata": {},
   "outputs": [],
   "source": [
    "L = [['1', 1], ['2', 2], ['3', 3]]\n",
    "dict(L)"
   ]
  },
  {
   "cell_type": "markdown",
   "id": "3507ab52",
   "metadata": {},
   "source": [
    "### 面向对象"
   ]
  },
  {
   "cell_type": "code",
   "execution_count": null,
   "id": "f7443b64",
   "metadata": {},
   "outputs": [],
   "source": [
    "class Activity:  \n",
    "    def __init__(self, title, topic, quota):\n",
    "        self.title = title  # 名称\n",
    "        self.topic = topic # 主题\n",
    "        self.quota = quota # 允许的学生上限\n",
    "        self.participants = []  \n",
    "    def add_quota(self, new_quota):\n",
    "        self.quota += new_quota\n",
    "    def print_quota(self):\n",
    "        print(f'Remaining quota of activity {self.title}: {self.quota}')\n",
    "    def list_participants(self):  \n",
    "        for item in self.participants:  \n",
    "            print(item.name)\n",
    "            \n",
    "class Student:  \n",
    "    def __init__(self, name):  \n",
    "        self.name = name  \n",
    "        self.activities = []  \n",
    "    def participant(self, activity):  \n",
    "        if activity in self.activities:  \n",
    "            print(f'You already participate activity - {activity.title}')  \n",
    "        elif activity.quota == 0:  \n",
    "            print('There is no remaining quota for this activity.')  \n",
    "        else:  \n",
    "            self.activities.append(activity)  \n",
    "            activity.participants.append(self)\n",
    "            activity.quota -= 1  \n",
    "    def quit_activity(self, activity):  \n",
    "        if activity not in self.activities:  \n",
    "            print('You did not participate in this activity.')  \n",
    "        else:  \n",
    "            self.activities.remove(activity)\n",
    "            activity.participants.remove(self)  \n",
    "            activity.quota += 1 \n",
    "    def list_activity_by_topic(self, topic='all'):\n",
    "        print(f'==Activities of {self.name} under {topic} topic ==')\n",
    "        if topic == 'all':\n",
    "            tmp = self.activities\n",
    "        else:\n",
    "            tmp = [item for item in self.activities if item.topic == topic]  \n",
    "            \n",
    "        for item in tmp:  \n",
    "            print(item.title)  \n",
    "\n",
    "actv_1 = Activity('抗疫主题团日活动','疫情',50)\n",
    "actv_2 = Activity('主题班会','班会',30)\n",
    "actv_3 = Activity('疫情时期学习经验交流','疫情',30)\n",
    "\n",
    "std1 = Student('Han Meimei')\n",
    "std2 = Student('Ma Dongmei')\n",
    "\n",
    "std1.participant(actv_1)\n",
    "std1.participant(actv_1)\n",
    "std1.participant(actv_2)\n",
    "std1.participant(actv_3)\n",
    "std1.list_activity_by_topic(topic='疫情')\n",
    "\n",
    "actv_1.print_quota()\n",
    "std1.quit_activity(actv_1)\n",
    "actv_1.print_quota()\n",
    "std1.list_activity_by_topic(topic='all')\n"
   ]
  },
  {
   "cell_type": "markdown",
   "id": "3b8020c2",
   "metadata": {},
   "source": [
    "### 文件\\n join的使用"
   ]
  },
  {
   "cell_type": "code",
   "execution_count": 16,
   "id": "80ded884",
   "metadata": {},
   "outputs": [
    {
     "name": "stdout",
     "output_type": "stream",
     "text": [
      "123\n",
      "223\n",
      "456\n"
     ]
    }
   ],
   "source": [
    "content = [\n",
    "    '123',\n",
    "    '223',\n",
    "    '456'\n",
    "]\n",
    "print('\\n'.join(content))"
   ]
  },
  {
   "cell_type": "code",
   "execution_count": 23,
   "id": "71560384",
   "metadata": {},
   "outputs": [
    {
     "data": {
      "text/plain": [
       "'I love sjtu'"
      ]
     },
     "execution_count": 23,
     "metadata": {},
     "output_type": "execute_result"
    }
   ],
   "source": [
    "' \\n\\t\\rI love sjtu \\n\\t\\r'.strip() # remove whiltespace"
   ]
  },
  {
   "cell_type": "markdown",
   "id": "c939e863",
   "metadata": {},
   "source": [
    "\n",
    "### lab3-Q4. 文件操作与函数\n",
    "\n",
    "定义一个无返回值的函数`censorTextfile(infile, outfile)`，用于英文文本文件的自动审查。该函数首先提示用户通过键盘输入多个逗号分隔的需要屏蔽的英文单词如（如`this,the,book,great,censor`）；然后自动读入待审查文件（该文件路径通过函数参数`infile`设定）中的文本，并将该文本中出现的所有需要屏蔽的英文单词替换成等长的百分号字符串（例如：假设`bbc`是一个需要屏蔽的英文单词，则将其替换成`%%%`）；最后，将经过审查的文本（即经过上述替换处理的文本）保存到一个新文件（该文件路径通过函数参数`outfile`设定）。\n",
    "\n",
    "注意：本题可以不必考虑大小写和标点符号问题，即可以假设所有英文字母均为小写，且文本中无标点符号。\n"
   ]
  },
  {
   "cell_type": "code",
   "execution_count": 4,
   "id": "446b16f2",
   "metadata": {},
   "outputs": [
    {
     "name": "stdout",
     "output_type": "stream",
     "text": [
      "请输入需屏蔽的单词（单词之间用，隔开）：python,this,programming\n"
     ]
    }
   ],
   "source": [
    "def censorTextfile(infile, outfile):\n",
    "    with open(infile,'r') as f_infile:\n",
    "        data=f_infile.readlines()\n",
    "        \n",
    "        words_to_censor=input('请输入需屏蔽的单词（单词之间用，隔开）：')\n",
    "        words_to_censor=words_to_censor.split(',') # 屏蔽单词列表\n",
    "        \n",
    "        # 方式一：列表生成式，写成一行\n",
    "#         newlines=[]\n",
    "#         for line in data:\n",
    "#             newlines.append(' '.join([len(word)*'%' if word in words_to_censor else word for word in line.strip().split()]))\n",
    "                \n",
    "        # 方式二：将以上一行写法拆开 逐步写\n",
    "        newlines=[] # 替换后的句子\n",
    "        for line in data: \n",
    "            newwords = [] # 替换后的单词\n",
    "            for word in line.strip().split():\n",
    "                if word in words_to_censor:\n",
    "                    newwords.append(len(word)*'%')\n",
    "                else:\n",
    "                    newwords.append(word)\n",
    "            newlines.append(' '.join(newwords))\n",
    "\n",
    "            \n",
    "    with open(outfile, 'w') as f_outfile:\n",
    "        f_outfile.write('\\n'.join(newlines))\n",
    "\n",
    "infile=\"data/a.txt\"\n",
    "outfile=\"data/b.txt\"\n",
    "censorTextfile(infile,outfile)"
   ]
  },
  {
   "cell_type": "markdown",
   "id": "4ee85d02",
   "metadata": {},
   "source": [
    "### 排序"
   ]
  },
  {
   "cell_type": "markdown",
   "id": "fdeb21ff",
   "metadata": {},
   "source": [
    "* 冒泡排序"
   ]
  },
  {
   "cell_type": "code",
   "execution_count": 1,
   "id": "740d83ae",
   "metadata": {},
   "outputs": [
    {
     "data": {
      "text/plain": [
       "[10, 9, 7, 7, 6, 4, 4, 3, 2, 1]"
      ]
     },
     "execution_count": 1,
     "metadata": {},
     "output_type": "execute_result"
    }
   ],
   "source": [
    "def bubble_sort(nums):\n",
    "    ''' bubble sort alg.'''\n",
    "    # i=1 代表需要选出最大元素到-1的位置\n",
    "    # i=2 代表需要选出倒二大元素到-2的位置\n",
    "    for i in range(1, len(nums)): \n",
    "        for j in range(0, len(nums)-i): \n",
    "            if nums[j] > nums[j+1]: # 每两个元素进行对比\n",
    "                nums[j], nums[j + 1] = nums[j + 1], nums[j]\n",
    "    return nums\n",
    "lst = [1,4,6,3,7,9,2,4,7,10]\n",
    "bubble_sort(lst)"
   ]
  },
  {
   "cell_type": "markdown",
   "id": "quality-installation",
   "metadata": {},
   "source": [
    "* 选择排序"
   ]
  },
  {
   "cell_type": "code",
   "execution_count": 301,
   "id": "written-delivery",
   "metadata": {},
   "outputs": [
    {
     "data": {
      "text/plain": [
       "[1, 2, 3, 4, 4, 6, 7, 7, 9, 10]"
      ]
     },
     "execution_count": 301,
     "metadata": {},
     "output_type": "execute_result"
    }
   ],
   "source": [
    "def selection_sort(lst):\n",
    "    n = len(lst)\n",
    "    for idx in range(n-1): \n",
    "        idx_min = idx # 保存最小值所在的idx\n",
    "        for i in range(idx+1,n):\n",
    "            if lst[i] < lst[idx_min]:\n",
    "                idx_min = i\n",
    "        lst[idx], lst[idx_min] = lst[idx_min], lst[idx]\n",
    "    return lst\n",
    "\n",
    "lst = [1,4,6,3,7,9,2,4,7,10]\n",
    "selection_sort(lst)"
   ]
  }
 ],
 "metadata": {
  "kernelspec": {
   "display_name": "Python 3 (ipykernel)",
   "language": "python",
   "name": "python3"
  },
  "language_info": {
   "codemirror_mode": {
    "name": "ipython",
    "version": 3
   },
   "file_extension": ".py",
   "mimetype": "text/x-python",
   "name": "python",
   "nbconvert_exporter": "python",
   "pygments_lexer": "ipython3",
   "version": "3.11.5"
  },
  "toc": {
   "base_numbering": 1,
   "nav_menu": {},
   "number_sections": true,
   "sideBar": true,
   "skip_h1_title": true,
   "title_cell": "Table of Contents",
   "title_sidebar": "Contents",
   "toc_cell": false,
   "toc_position": {},
   "toc_section_display": true,
   "toc_window_display": false
  },
  "varInspector": {
   "cols": {
    "lenName": 16,
    "lenType": 16,
    "lenVar": 40
   },
   "kernels_config": {
    "python": {
     "delete_cmd_postfix": "",
     "delete_cmd_prefix": "del ",
     "library": "var_list.py",
     "varRefreshCmd": "print(var_dic_list())"
    },
    "r": {
     "delete_cmd_postfix": ") ",
     "delete_cmd_prefix": "rm(",
     "library": "var_list.r",
     "varRefreshCmd": "cat(var_dic_list()) "
    }
   },
   "types_to_exclude": [
    "module",
    "function",
    "builtin_function_or_method",
    "instance",
    "_Feature"
   ],
   "window_display": false
  }
 },
 "nbformat": 4,
 "nbformat_minor": 5
}
