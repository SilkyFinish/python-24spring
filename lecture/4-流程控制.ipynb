{
 "cells": [
  {
   "cell_type": "markdown",
   "metadata": {},
   "source": [
    "流程控制\n",
    "========\n",
    "\n",
    "BUSS1301 程序设计，2024年春季\n",
    "\n",
    "Contents\n",
    "===\n",
    "* 1. 选择结构\n",
    "* 2. 循环结构\n",
    "* 3. 其他相关知识\n",
    "* 4. 课堂练习\n",
    "\n",
    "### 1. 选择结构\n",
    "* 简单的if语句"
   ]
  },
  {
   "cell_type": "code",
   "execution_count": 3,
   "metadata": {
    "code_folding": []
   },
   "outputs": [
    {
     "name": "stdout",
     "output_type": "stream",
     "text": [
      "1 You are old enough to vote!\n",
      "2 Have you registered to vote ?\n",
      "3 You are not allowed to vote!\n",
      "4 The number is not zero\n"
     ]
    }
   ],
   "source": [
    "age = 19\n",
    "if age >= 18:\n",
    "    print(1, 'You are old enough to vote!')\n",
    "    print(2, 'Have you registered to vote ?')\n",
    "\n",
    "age = 19\n",
    "resident = False\n",
    "if age < 18 or resident == False:\n",
    "    print(3, 'You are not allowed to vote!')\n",
    "    \n",
    "number = 3\n",
    "if number:\n",
    "    print(4, 'The number is not zero')"
   ]
  },
  {
   "cell_type": "markdown",
   "metadata": {},
   "source": [
    "* if-else语句"
   ]
  },
  {
   "cell_type": "code",
   "execution_count": 4,
   "metadata": {},
   "outputs": [
    {
     "name": "stdout",
     "output_type": "stream",
     "text": [
      "Sorry, you are too young to vote.\n"
     ]
    }
   ],
   "source": [
    "age = 17\n",
    "if age >= 18:\n",
    "    print('You are old enough to vote!')\n",
    "    print('Have you registered to vote yet?')\n",
    "else: # age < 18\n",
    "    print('Sorry, you are too young to vote.')   "
   ]
  },
  {
   "cell_type": "markdown",
   "metadata": {},
   "source": [
    "* if-elif-else语句"
   ]
  },
  {
   "cell_type": "code",
   "execution_count": null,
   "metadata": {},
   "outputs": [],
   "source": [
    "# solution 1\n",
    "age = 12\n",
    "if age < 4:\n",
    "    price = 0\n",
    "elif age >= 4 and age < 18:\n",
    "    price = 5\n",
    "else: # age >= 18\n",
    "    price = 10\n",
    "print('The price:',price)"
   ]
  },
  {
   "cell_type": "code",
   "execution_count": null,
   "metadata": {},
   "outputs": [],
   "source": [
    "# solution 2\n",
    "age = 12\n",
    "if age < 4:\n",
    "    price = 0\n",
    "elif age < 18:\n",
    "    price = 5\n",
    "else: \n",
    "    price = 10\n",
    "print('The price:',price)"
   ]
  },
  {
   "cell_type": "code",
   "execution_count": null,
   "metadata": {},
   "outputs": [],
   "source": [
    "# solution 3\n",
    "age = 12\n",
    "if age < 4:\n",
    "    price = 0\n",
    "elif age >= 18:\n",
    "    price = 10\n",
    "else:\n",
    "    price = 5\n",
    "print('The price:',price)"
   ]
  },
  {
   "cell_type": "markdown",
   "metadata": {},
   "source": [
    "* 例子：成绩等级\n",
    "\n",
    " - Input: ask the user for a numeric grade (i.e. 95)\n",
    " - Process: convert the grade to its letter format (A,B,C,D,F)\n",
    " - Output: print the letter grade \n"
   ]
  },
  {
   "cell_type": "code",
   "execution_count": null,
   "metadata": {},
   "outputs": [],
   "source": [
    "# solution 1\n",
    "score = float(input('Your score:'))\n",
    "if score >= 90:\n",
    "    grade = 'A'\n",
    "else:\n",
    "    if score >= 80:\n",
    "        grade = 'B'\n",
    "    else:\n",
    "        if score >= 70:\n",
    "            grade = 'C'\n",
    "        else:\n",
    "            if score >= 60:\n",
    "                grade = 'D'\n",
    "            else:\n",
    "                grade = 'F'"
   ]
  },
  {
   "cell_type": "code",
   "execution_count": null,
   "metadata": {},
   "outputs": [],
   "source": [
    "# solution 2\n",
    "score = float(input('Your score:'))\n",
    "if score >= 90:\n",
    "    grade = 'A'\n",
    "elif score >= 80:\n",
    "    grade = 'B'\n",
    "elif score >= 70:\n",
    "    grade = 'C'\n",
    "elif score >= 60:\n",
    "    grade = 'D'\n",
    "else:\n",
    "    grade = 'F'"
   ]
  },
  {
   "cell_type": "code",
   "execution_count": null,
   "metadata": {},
   "outputs": [],
   "source": [
    "# solution 3, 仅供参考\n",
    "score = float(input('Your score:'))\n",
    "if score == 100:\n",
    "    grade = 'A'\n",
    "elif score < 60:\n",
    "    grade = 'F'\n",
    "else:\n",
    "    grade = chr(ord('A') + 3 - (score - 60)//10)"
   ]
  },
  {
   "cell_type": "markdown",
   "metadata": {},
   "source": [
    "* 测试多个条件\n",
    "\n",
    "例子：根据年龄段收费的游乐场， \n",
    "身高120以下或者12岁以下5元，其余情况10元"
   ]
  },
  {
   "cell_type": "code",
   "execution_count": null,
   "metadata": {},
   "outputs": [],
   "source": [
    "age = 9\n",
    "height = 130\n",
    "if height < 120 or age < 12:\n",
    "    price = 5\n",
    "else:\n",
    "    price = 10"
   ]
  },
  {
   "cell_type": "code",
   "execution_count": null,
   "metadata": {},
   "outputs": [],
   "source": [
    "# solution 1\n",
    "age = 9\n",
    "height = 130\n",
    "price = 10\n",
    "\n",
    "if age < 12:\n",
    "    price = 5\n",
    "if height < 120:\n",
    "    price = 5\n",
    "print(price)"
   ]
  },
  {
   "cell_type": "code",
   "execution_count": null,
   "metadata": {},
   "outputs": [],
   "source": [
    "# solution 2\n",
    "age = 9\n",
    "height = 130\n",
    "if age < 12 or height < 120:\n",
    "    price = 5\n",
    "else:\n",
    "    price = 10\n",
    "print(price)"
   ]
  },
  {
   "cell_type": "markdown",
   "metadata": {},
   "source": [
    "* 例子：游乐场收费\n",
    "\n",
    " - 根据年龄段收费的游乐场： \n",
    "  + 12岁以下8元，身高120以下6元，两者条件均符合时，以较低计\n",
    "  - 其余情况10元\n"
   ]
  },
  {
   "cell_type": "code",
   "execution_count": null,
   "metadata": {
    "code_folding": []
   },
   "outputs": [],
   "source": [
    "# solution 1: if嵌套\n",
    "age = 12\n",
    "height = 120\n",
    "\n",
    "if height < 120:  \n",
    "    price = 6\n",
    "else:\n",
    "    if age < 12:\n",
    "        price = 8\n",
    "    else:\n",
    "        price = 10\n",
    "print(price)"
   ]
  },
  {
   "cell_type": "code",
   "execution_count": 35,
   "metadata": {},
   "outputs": [
    {
     "name": "stdout",
     "output_type": "stream",
     "text": [
      "6\n"
     ]
    }
   ],
   "source": [
    "# solution 1: if嵌套 (使用if简单语句组)\n",
    "age = 6\n",
    "height = 110\n",
    "\n",
    "price = 6 if height < 120 else (8 if age < 12 else 10)\n",
    "print(price)"
   ]
  },
  {
   "cell_type": "code",
   "execution_count": null,
   "metadata": {},
   "outputs": [],
   "source": [
    "# solution 2\n",
    "# solution 1简化，相对低可读性\n",
    "age = 9\n",
    "height = 130\n",
    "\n",
    "if height < 120:  \n",
    "    price = 6\n",
    "elif age < 12:\n",
    "    price = 8\n",
    "else:\n",
    "    price = 10\n",
    "print(price)"
   ]
  },
  {
   "cell_type": "code",
   "execution_count": 9,
   "metadata": {},
   "outputs": [
    {
     "name": "stdout",
     "output_type": "stream",
     "text": [
      "6\n"
     ]
    }
   ],
   "source": [
    "# solution 3: 使用多个if条件\n",
    "age = 8\n",
    "height = 110\n",
    "price = 10\n",
    "\n",
    "if age < 12:\n",
    "    price = 8\n",
    "if height < 120:\n",
    "    price = 6\n",
    "print(price)\n"
   ]
  },
  {
   "cell_type": "markdown",
   "metadata": {},
   "source": [
    "* 例子：打招呼\n",
    "\n",
    "创建一个至少包含 5个用户名的列表，且其中一个用户名为“admin”\n",
    "\n",
    "遍历用户名列表，并向每位用户打印一条问候消息。\n",
    "* \n",
    " - 如果用户名为“admin”，就打印一条特殊的问候消息，如“Hello admin, would you like to see a status report?”\n",
    " - 否则，打印一条普通的问候消息，如“Hello XX, thank you for logging in again.”\n"
   ]
  },
  {
   "cell_type": "code",
   "execution_count": 23,
   "metadata": {},
   "outputs": [
    {
     "name": "stdout",
     "output_type": "stream",
     "text": [
      "Hello user1, thank you for logging in again\n",
      "Hello admin, would you like to see a status report?\n",
      "Hello root, thank you for logging in again\n",
      "Hello test, thank you for logging in again\n",
      "Hello user2, thank you for logging in again\n"
     ]
    }
   ],
   "source": [
    "users = ['user1', 'admin', 'root', 'test', 'user2']\n",
    "for user in users:\n",
    "    if user == 'admin':\n",
    "        print('Hello admin, would you like to see a status report?')\n",
    "    else:\n",
    "        print('Hello %s, thank you for logging in again'%(user))"
   ]
  },
  {
   "cell_type": "markdown",
   "metadata": {},
   "source": [
    "* 例子：输出某个年月的天数"
   ]
  },
  {
   "cell_type": "code",
   "execution_count": 6,
   "metadata": {},
   "outputs": [
    {
     "name": "stdout",
     "output_type": "stream",
     "text": [
      "2008年2月：29天\n"
     ]
    }
   ],
   "source": [
    "year = 2008\n",
    "month = 2\n",
    "\n",
    "if month in [1,3,5,7,8,10,12]:\n",
    "    days = 31\n",
    "elif month == 2:\n",
    "    if (year % 4 == 0 and year % 100 != 0) or (year % 400 == 0): # 闰年\n",
    "        days = 29\n",
    "    else:\n",
    "        days = 28\n",
    "else:\n",
    "    days = 30\n",
    "print(f\"{year}年{month}月：{days}天\")"
   ]
  },
  {
   "cell_type": "markdown",
   "metadata": {},
   "source": [
    "* 条件表达式（if else作为三元运算符）"
   ]
  },
  {
   "cell_type": "code",
   "execution_count": 15,
   "metadata": {},
   "outputs": [],
   "source": [
    "T = (1,2,3)"
   ]
  },
  {
   "cell_type": "code",
   "execution_count": 7,
   "metadata": {},
   "outputs": [
    {
     "name": "stdout",
     "output_type": "stream",
     "text": [
      "small\n"
     ]
    }
   ],
   "source": [
    "a = 3\n",
    "b = 'large' if a > 100 else 'small'\n",
    "print(b)\n",
    "    \n"
   ]
  },
  {
   "cell_type": "code",
   "execution_count": null,
   "metadata": {},
   "outputs": [],
   "source": [
    "salary = 100\n",
    "if salary > 30:\n",
    "    Level = 'High'\n",
    "else:\n",
    "    Level = 'normal'\n",
    "\n",
    "# 等价表述\n",
    "Level = 'High' if salary > 30 else 'normal'"
   ]
  },
  {
   "cell_type": "markdown",
   "metadata": {},
   "source": [
    "* Revisit:输出某个年月的天数"
   ]
  },
  {
   "cell_type": "code",
   "execution_count": 5,
   "metadata": {},
   "outputs": [
    {
     "name": "stdout",
     "output_type": "stream",
     "text": [
      "2010年2月：28天\n"
     ]
    }
   ],
   "source": [
    "# 使用条件表达式\n",
    "year = 2010\n",
    "month = 2\n",
    "\n",
    "if month in [1,3,5,7,8,10,12]:\n",
    "    days = 31\n",
    "elif month == 2:\n",
    "    days = 29 if year%4==0 and year%100!=0 or year%400==0 else 28\n",
    "else:\n",
    "    days = 30\n",
    "\n",
    "print(f\"{year}年{month}月：{days}天\")"
   ]
  },
  {
   "cell_type": "markdown",
   "metadata": {},
   "source": [
    "### 2. 循环结构\n",
    "* for语句"
   ]
  },
  {
   "cell_type": "code",
   "execution_count": 10,
   "metadata": {},
   "outputs": [
    {
     "name": "stdout",
     "output_type": "stream",
     "text": [
      "s\n",
      "h\n"
     ]
    }
   ],
   "source": [
    "# 字符串\n",
    "shanghai = 'sh'\n",
    "for char in shanghai:\n",
    "    print(char)"
   ]
  },
  {
   "cell_type": "code",
   "execution_count": 11,
   "metadata": {},
   "outputs": [
    {
     "name": "stdout",
     "output_type": "stream",
     "text": [
      "s\n",
      "h\n"
     ]
    }
   ],
   "source": [
    "# for之后的变量，命名随意\n",
    "shanghai = 'sh'\n",
    "for String in shanghai:\n",
    "    print(String)"
   ]
  },
  {
   "cell_type": "code",
   "execution_count": 13,
   "metadata": {},
   "outputs": [
    {
     "name": "stdout",
     "output_type": "stream",
     "text": [
      "s\n",
      "h\n",
      "h\n"
     ]
    }
   ],
   "source": [
    "# for之后的变量名不要覆盖其他有用变量\n",
    "char = 'Z'\n",
    "shanghai = 'sh'\n",
    "for char in shanghai:\n",
    "    print(char)\n",
    "print(char)"
   ]
  },
  {
   "cell_type": "code",
   "execution_count": 16,
   "metadata": {},
   "outputs": [
    {
     "name": "stdout",
     "output_type": "stream",
     "text": [
      "1\n",
      "2\n",
      "shanghai\n",
      "--------\n",
      "0\n",
      "1\n",
      "2\n",
      "3\n"
     ]
    }
   ],
   "source": [
    "# 列表\n",
    "List = [1,2,'shanghai']\n",
    "for item in List:\n",
    "    print(item)\n",
    "# range\n",
    "print('--------')\n",
    "for i in range(4):\n",
    "    print(i)"
   ]
  },
  {
   "cell_type": "markdown",
   "metadata": {},
   "source": [
    "\n",
    "\n",
    "例子：打印学生名字和编号"
   ]
  },
  {
   "cell_type": "code",
   "execution_count": 72,
   "metadata": {},
   "outputs": [
    {
     "name": "stdout",
     "output_type": "stream",
     "text": [
      "第1位学生的名字是：Mick\n",
      "第2位学生的名字是：John\n",
      "第3位学生的名字是：CoCo\n"
     ]
    }
   ],
   "source": [
    "# 遍历range\n",
    "students = ['Mick', 'John', 'CoCo']\n",
    "for ii in range(len(students)):\n",
    "    print('第%d位学生的名字是：%s'%(ii+1, students[ii]))"
   ]
  },
  {
   "cell_type": "code",
   "execution_count": 18,
   "metadata": {},
   "outputs": [
    {
     "name": "stdout",
     "output_type": "stream",
     "text": [
      "第1位学生的名字是：Mick\n",
      "第2位学生的名字是：John\n",
      "第3位学生的名字是：CoCo\n"
     ]
    }
   ],
   "source": [
    "# 遍历列表，\n",
    "students = ['Mick', 'John', 'CoCo']\n",
    "counter = 1\n",
    "for student in students:\n",
    "    print('第%d位学生的名字是：%s'%(counter, student))\n",
    "    counter += 1"
   ]
  },
  {
   "cell_type": "markdown",
   "metadata": {},
   "source": [
    "* for语句 + enumerate 进行遍历"
   ]
  },
  {
   "cell_type": "code",
   "execution_count": null,
   "metadata": {},
   "outputs": [],
   "source": [
    "# 可以对列表进行拆包\n",
    "a, b = [1, 'sjtu']\n",
    "print(a, b)\n",
    "# 可以对元组进行拆包\n",
    "a, b = (2, 'fdu')\n",
    "print(a, b)"
   ]
  },
  {
   "cell_type": "code",
   "execution_count": 10,
   "metadata": {},
   "outputs": [
    {
     "name": "stdout",
     "output_type": "stream",
     "text": [
      "(1, 'Mick')\n",
      "(2, 'John')\n",
      "(3, 'CoCo')\n"
     ]
    }
   ],
   "source": [
    "# enumerate可以在for循环时同时获取计数器和元素组成的元组\n",
    "students = ['Mick', 'John', 'CoCo']\n",
    "for item in enumerate(students,1):\n",
    "    print(item)"
   ]
  },
  {
   "cell_type": "code",
   "execution_count": 19,
   "metadata": {},
   "outputs": [
    {
     "name": "stdout",
     "output_type": "stream",
     "text": [
      "第1位学生的名字是：Mick\n",
      "第2位学生的名字是：John\n",
      "第3位学生的名字是：CoCo\n"
     ]
    }
   ],
   "source": [
    "# enumerate函数，并进行拆包，同时获取计数器和元素\n",
    "students = ['Mick', 'John', 'CoCo']\n",
    "for ii, student in enumerate(students,1):\n",
    "    print('第%d位学生的名字是：%s'%(ii, student))"
   ]
  },
  {
   "cell_type": "markdown",
   "metadata": {},
   "source": [
    "* while语句\n",
    "\n",
    "例子：打印学生名字和编号"
   ]
  },
  {
   "cell_type": "code",
   "execution_count": 19,
   "metadata": {},
   "outputs": [
    {
     "name": "stdout",
     "output_type": "stream",
     "text": [
      "第1位学生的名字是：Mick\n",
      "第2位学生的名字是：John\n",
      "第3位学生的名字是：CoCo\n"
     ]
    }
   ],
   "source": [
    "counter = 0 # 已经打印的数目\n",
    "students = ['Mick', 'John', 'CoCo']\n",
    "while(counter < 3):\n",
    "    print('第%d位学生的名字是：%s'%(counter+1, students[counter]))\n",
    "    counter += 1 # 打印了一个学生信息"
   ]
  },
  {
   "cell_type": "markdown",
   "metadata": {},
   "source": [
    "* 例子：纸张折叠几次，可以超过珠峰高度"
   ]
  },
  {
   "cell_type": "code",
   "execution_count": 11,
   "metadata": {},
   "outputs": [
    {
     "name": "stdout",
     "output_type": "stream",
     "text": [
      "1 0.0002\n",
      "2 0.0004\n",
      "3 0.0008\n",
      "4 0.0016\n",
      "5 0.0032\n",
      "6 0.0064\n",
      "7 0.0128\n",
      "8 0.0256\n",
      "9 0.0512\n",
      "10 0.1024\n",
      "11 0.2048\n",
      "12 0.4096\n",
      "13 0.8192\n",
      "14 1.6384\n",
      "15 3.2768\n",
      "16 6.5536\n",
      "17 13.1072\n",
      "18 26.2144\n",
      "19 52.4288\n",
      "20 104.8576\n",
      "21 209.7152\n",
      "22 419.4304\n",
      "23 838.8608\n",
      "24 1677.7216\n",
      "25 3355.4432\n",
      "26 6710.8864\n",
      "27 13421.7728\n"
     ]
    }
   ],
   "source": [
    "height = 8848.86\n",
    "h = 0.0001 # tbd\n",
    "\n",
    "count = 0 # 已经叠几次\n",
    "while(h < height):\n",
    "    h *= 2\n",
    "    count += 1\n",
    "    print(count, h)"
   ]
  },
  {
   "cell_type": "code",
   "execution_count": null,
   "metadata": {},
   "outputs": [],
   "source": [
    "height = 8848.86\n",
    "h = 0.0001 # tbd\n",
    "\n",
    "count = 1 # 下一次是第几次\n",
    "while(h < height):\n",
    "    h *= 2\n",
    "    count += 1\n",
    "    print(count - 1, h)"
   ]
  },
  {
   "cell_type": "markdown",
   "metadata": {},
   "source": [
    "例子：一直input()直到用户输入quit\n",
    "\n",
    "通过input()函数读取用户输入并将其输出，直到用户输入’quit’才结束，结束的时候，无需输出\n"
   ]
  },
  {
   "cell_type": "code",
   "execution_count": 20,
   "metadata": {},
   "outputs": [
    {
     "name": "stdout",
     "output_type": "stream",
     "text": [
      "fdsfs\n",
      "sfd\n",
      "d\n",
      "sfd\n",
      "quit\n"
     ]
    }
   ],
   "source": [
    "prompt = 'Tell me sth, I will print it until you enter \"quit\":'\n",
    "message = ''\n",
    "while message != 'quit':\n",
    "    message = input(prompt)\n",
    "    print(message)"
   ]
  },
  {
   "cell_type": "code",
   "execution_count": 21,
   "metadata": {},
   "outputs": [
    {
     "name": "stdout",
     "output_type": "stream",
     "text": [
      "a\n",
      "b\n"
     ]
    }
   ],
   "source": [
    "prompt = 'Tell me sth, I will print it until you enter \"quit\":'\n",
    "message = ''\n",
    "while message != 'quit':\n",
    "    message = input(prompt)\n",
    "    if message != 'quit': # 不是quit才输出\n",
    "        print(message)"
   ]
  },
  {
   "cell_type": "markdown",
   "metadata": {},
   "source": [
    "* break 和 continue语句\n",
    "\n",
    "例子：通过input()函数读取用户输入并将其输出，直到用户输入满足以下条件才结束：\n",
    "\n",
    "输入为‘quit’或者为‘q’\n",
    "\n",
    "或者输入全部为数字\n",
    "\n",
    "结束的时候，无需输出\n"
   ]
  },
  {
   "cell_type": "code",
   "execution_count": 23,
   "metadata": {},
   "outputs": [
    {
     "name": "stdout",
     "output_type": "stream",
     "text": [
      "Tell me sth, I will print it until you enter \"quit\":sfdfe33\n",
      "sfdfe33\n",
      "Tell me sth, I will print it until you enter \"quit\":3455\n"
     ]
    }
   ],
   "source": [
    "# solution 0\n",
    "prompt = 'Tell me sth, I will print it until you enter \"quit\":'\n",
    "message = ''\n",
    "while message != 'quit' and message != 'q' and not message.isdigit(): # 什么时候不退出\n",
    "    message = input(prompt)\n",
    "    if message != 'quit' and message != 'q' and not message.isdigit(): # 不是quit才输出\n",
    "        print(message)\n",
    "        "
   ]
  },
  {
   "cell_type": "code",
   "execution_count": 32,
   "metadata": {},
   "outputs": [
    {
     "name": "stdout",
     "output_type": "stream",
     "text": [
      "Tell me sth, I will print it until you enter \"quit\":abc\n",
      "abc\n",
      "Tell me sth, I will print it until you enter \"quit\":fsd\n",
      "fsd\n",
      "Tell me sth, I will print it until you enter \"quit\":123\n"
     ]
    }
   ],
   "source": [
    "# solution 1\n",
    "prompt = 'Tell me sth, I will print it until you enter \"quit\":'\n",
    "message = ''\n",
    "while not(message == 'quit' or message == 'q' or message.isdigit()):\n",
    "    message = input(prompt)\n",
    "    if not(message == 'quit' or message == 'q' or message.isdigit()):\n",
    "        print(message)"
   ]
  },
  {
   "cell_type": "code",
   "execution_count": 24,
   "metadata": {},
   "outputs": [
    {
     "name": "stdout",
     "output_type": "stream",
     "text": [
      "Tell me sth, I will print it until you enter \"quit\":quit\n"
     ]
    }
   ],
   "source": [
    "# solution 2: using flag\n",
    "prompt = 'Tell me sth, I will print it until you enter \"quit\":'\n",
    "flag_to_quit = False # flag for whether to quit\n",
    "while not flag_to_quit:\n",
    "    message = input(prompt)\n",
    "    if message == 'quit' or message == 'q' or message.isdigit():\n",
    "        flag_to_quit = True\n",
    "    else:\n",
    "        print(message)"
   ]
  },
  {
   "cell_type": "code",
   "execution_count": null,
   "metadata": {},
   "outputs": [],
   "source": [
    "# solution 2.5: using flag\n",
    "prompt = 'Tell me sth, I will print it until you enter \"quit\":'\n",
    "flag_to_continue = True # flag for whether to continue\n",
    "while flag_to_continue:\n",
    "    message = input(prompt)\n",
    "    if message == 'quit' or message == 'q' or message.isdigit():\n",
    "        flag_to_continue = False\n",
    "    else:\n",
    "        print(message)"
   ]
  },
  {
   "cell_type": "code",
   "execution_count": 25,
   "metadata": {},
   "outputs": [
    {
     "name": "stdout",
     "output_type": "stream",
     "text": [
      "Tell me sth, I will print it until you enter \"quit\":sfae\n",
      "sfae\n",
      "Tell me sth, I will print it until you enter \"quit\":fsdfsd\n",
      "fsdfsd\n",
      "Tell me sth, I will print it until you enter \"quit\":q\n"
     ]
    }
   ],
   "source": [
    "# solution 3: using break\n",
    "prompt = 'Tell me sth, I will print it until you enter \"quit\":'\n",
    "while True:\n",
    "    message = input(prompt)\n",
    "    if message == 'quit' or message == 'q' or message.isdigit():\n",
    "        break\n",
    "    else:\n",
    "        print(message)"
   ]
  },
  {
   "cell_type": "markdown",
   "metadata": {},
   "source": [
    "* continue: 跳出本次循环\n",
    "\n",
    "例子：输出10以内的所有奇数"
   ]
  },
  {
   "cell_type": "code",
   "execution_count": 44,
   "metadata": {},
   "outputs": [
    {
     "name": "stdout",
     "output_type": "stream",
     "text": [
      "1\n",
      "3\n",
      "5\n",
      "7\n",
      "9\n"
     ]
    }
   ],
   "source": [
    "for i in range(10):\n",
    "    if i%2 == 0:\n",
    "        continue\n",
    "    print(i)"
   ]
  },
  {
   "cell_type": "code",
   "execution_count": 45,
   "metadata": {},
   "outputs": [
    {
     "name": "stdout",
     "output_type": "stream",
     "text": [
      "1\n",
      "3\n",
      "5\n",
      "7\n",
      "9\n"
     ]
    }
   ],
   "source": [
    "# 等价代码\n",
    "for i in range(10):\n",
    "    if i%2 == 1:\n",
    "        print(i)"
   ]
  },
  {
   "cell_type": "markdown",
   "metadata": {},
   "source": [
    "例子：列表数字求和并打印大数"
   ]
  },
  {
   "cell_type": "code",
   "execution_count": 99,
   "metadata": {},
   "outputs": [
    {
     "name": "stdout",
     "output_type": "stream",
     "text": [
      "10\n",
      "7\n",
      "23\n"
     ]
    }
   ],
   "source": [
    "List = [1,2,3,10,'s',7]\n",
    "Sum = 0\n",
    "for item in List:\n",
    "    if not type(item) == int:\n",
    "        continue\n",
    "        \n",
    "    Sum += item\n",
    "    if item > 5:\n",
    "        print(item)\n",
    "print(Sum)"
   ]
  },
  {
   "cell_type": "code",
   "execution_count": 46,
   "metadata": {},
   "outputs": [
    {
     "name": "stdout",
     "output_type": "stream",
     "text": [
      "10\n",
      "7\n",
      "23\n"
     ]
    }
   ],
   "source": [
    "List = [1,2,3,10,'s',7]\n",
    "Sum = 0\n",
    "for item in List:\n",
    "    if type(item) == int:\n",
    "        Sum += item\n",
    "        # 假设这里还有语句\n",
    "        # 假设这里还有语句\n",
    "        # 假设这里还有语句\n",
    "        if item > 5:\n",
    "            print(item)\n",
    "print(Sum)"
   ]
  },
  {
   "cell_type": "code",
   "execution_count": null,
   "metadata": {},
   "outputs": [],
   "source": [
    "List = [1,2,3,10,'s',7]\n",
    "Sum = 0\n",
    "for item in List:\n",
    "    if not type(item) == int:\n",
    "        continue\n",
    "    Sum += item\n",
    "    # 假设这里还有语句\n",
    "    # 假设这里还有语句\n",
    "    # 假设这里还有语句\n",
    "    if item > 5:\n",
    "        print(item)\n",
    "print(Sum)"
   ]
  },
  {
   "cell_type": "markdown",
   "metadata": {},
   "source": [
    "* 循环结构的else语句"
   ]
  },
  {
   "cell_type": "code",
   "execution_count": 50,
   "metadata": {},
   "outputs": [
    {
     "name": "stdout",
     "output_type": "stream",
     "text": [
      "0 is smaller than 5.\n",
      "1 is smaller than 5.\n",
      "2 is smaller than 5.\n",
      "3 is smaller than 5.\n",
      "4 is smaller than 5.\n",
      "5 is greater than or equal to 5.\n"
     ]
    }
   ],
   "source": [
    "count = 0\n",
    "while count < 5:\n",
    "    print('%d is smaller than 5.'%(count))\n",
    "    count += 1\n",
    "else:\n",
    "    print('%d is greater than or equal to 5.'%(count))"
   ]
  },
  {
   "cell_type": "code",
   "execution_count": 53,
   "metadata": {},
   "outputs": [
    {
     "name": "stdout",
     "output_type": "stream",
     "text": [
      "0 is smaller than 5.\n",
      "1 is smaller than 5.\n",
      "2 is smaller than 5.\n"
     ]
    }
   ],
   "source": [
    "count = 0\n",
    "while count < 5:\n",
    "    print('%d is smaller than 5.'%(count))\n",
    "    count += 1\n",
    "    if count >= 3:\n",
    "        break\n",
    "else:\n",
    "    print('%d is greater than or equal to 5.'%(count))"
   ]
  },
  {
   "cell_type": "code",
   "execution_count": 54,
   "metadata": {},
   "outputs": [
    {
     "name": "stdout",
     "output_type": "stream",
     "text": [
      "0:printing within \"for\" block.\n",
      "1:printing within \"for\" block.\n",
      "2:printing within \"for\" block.\n",
      "3:printing within \"for\" block.\n",
      "4:printing within \"for\" block.\n",
      "printing within \"else\" block.\n"
     ]
    }
   ],
   "source": [
    "for i in range(5):\n",
    "    print('%d:printing within \"for\" block.'%(i))\n",
    "else:\n",
    "    print('printing within \"else\" block.')"
   ]
  },
  {
   "cell_type": "code",
   "execution_count": 55,
   "metadata": {},
   "outputs": [
    {
     "name": "stdout",
     "output_type": "stream",
     "text": [
      "0:printing within \"for\" block.\n",
      "1:printing within \"for\" block.\n",
      "2:printing within \"for\" block.\n",
      "3:printing within \"for\" block.\n"
     ]
    }
   ],
   "source": [
    "for i in range(5):\n",
    "    print('%d:printing within \"for\" block.'%(i))\n",
    "    if i >= 3:\n",
    "        break\n",
    "else:\n",
    "    print('printing within \"else\" block.')"
   ]
  },
  {
   "cell_type": "markdown",
   "metadata": {},
   "source": [
    "例子：找质数\n",
    "\n",
    "遍历15以内的整数，输出其是否为质数\n"
   ]
  },
  {
   "cell_type": "code",
   "execution_count": 28,
   "metadata": {},
   "outputs": [
    {
     "name": "stdout",
     "output_type": "stream",
     "text": [
      "1是质数\n",
      "2是质数\n",
      "3是质数\n",
      "4是合数\n",
      "5是质数\n",
      "6是合数\n",
      "7是质数\n",
      "8是合数\n",
      "9是合数\n",
      "10是合数\n",
      "11是质数\n",
      "12是合数\n",
      "13是质数\n",
      "14是合数\n"
     ]
    }
   ],
   "source": [
    "for number in range(1,15):\n",
    "    for x in range(2, number):\n",
    "        if number % x == 0: # 刚好被整除\n",
    "            is_prime = False\n",
    "            break\n",
    "    else:\n",
    "        is_prime = True\n",
    "\n",
    "    if is_prime:\n",
    "        print(f\"{number}是质数\")\n",
    "    else:\n",
    "        print(f\"{number}是合数\")\n"
   ]
  },
  {
   "cell_type": "code",
   "execution_count": 29,
   "metadata": {},
   "outputs": [
    {
     "name": "stdout",
     "output_type": "stream",
     "text": [
      "2 是质数\n",
      "3 是质数\n",
      "4 不是质数\n",
      "5 是质数\n",
      "6 不是质数\n",
      "7 是质数\n",
      "8 不是质数\n",
      "9 不是质数\n",
      "10 不是质数\n",
      "11 是质数\n",
      "12 不是质数\n",
      "13 是质数\n",
      "14 不是质数\n"
     ]
    }
   ],
   "source": [
    "# solution 2: 不使用循环的else语句\n",
    "for number in range(2,15):\n",
    "    is_prime = True # 默认为质数 \n",
    "    for x in range(2, number): \n",
    "        if number % x == 0: \n",
    "            is_prime = False\n",
    "            break # 效率\n",
    "            \n",
    "    if is_prime:\n",
    "        print(number, '是质数')\n",
    "    else:\n",
    "        print(number, '不是质数')"
   ]
  },
  {
   "cell_type": "markdown",
   "metadata": {},
   "source": [
    "### 3. 其他相关知识\n",
    "* pass语句"
   ]
  },
  {
   "cell_type": "code",
   "execution_count": 3,
   "metadata": {},
   "outputs": [
    {
     "name": "stdout",
     "output_type": "stream",
     "text": [
      "a is positive\n"
     ]
    }
   ],
   "source": [
    "a = 3\n",
    "if a > 0:\n",
    "    print('a is positive')\n",
    "elif a < 0:\n",
    "    print('a is negative')\n",
    "else:\n",
    "    pass# 占位符，保持语法结构完整\n"
   ]
  },
  {
   "cell_type": "markdown",
   "metadata": {},
   "source": [
    "* 打擂法\n",
    "\n",
    "**例子：寻找列表最大值及其下标**\n",
    "\n",
    "List是一个Number列表，寻找最大值及其对应的下标。若有多个最大值，返回其中任意一个即可\n",
    "\n",
    "禁止使用自带的max函数"
   ]
  },
  {
   "cell_type": "code",
   "execution_count": null,
   "metadata": {},
   "outputs": [],
   "source": [
    "List = [1,2,5,6,8,3]\n",
    "current_max = List[0]\n",
    "index_of_max = 0\n",
    "for ii,item in enumerate(List):\n",
    "    if item > current_max:\n",
    "        current_max = item\n",
    "        index_of_max = ii\n",
    "print('Max:', current_max)\n",
    "print('Index:', index_of_max)"
   ]
  },
  {
   "cell_type": "markdown",
   "metadata": {},
   "source": [
    "### 4. 课堂练习\n",
    "\n"
   ]
  },
  {
   "cell_type": "markdown",
   "metadata": {},
   "source": [
    "* 随堂练习1\n",
    "\n",
    "让用户输入一个字符串，判断输入的是否为整数。\n",
    "\n",
    "允许：`342`,`-983`,`+98`等\n",
    "\n",
    "不允许：`012`,`+034`,`-097`,`0.98`等,或者其他非数字字符\n",
    "\n",
    "如果是整数，打印到屏幕，并结束程序；否则，提示用户重新输入"
   ]
  },
  {
   "cell_type": "code",
   "execution_count": 21,
   "metadata": {},
   "outputs": [
    {
     "name": "stdout",
     "output_type": "stream",
     "text": [
      "Please input an integer:0\n",
      "是整数\n"
     ]
    }
   ],
   "source": [
    "# 这个solution没有考虑 输入为 '0'的情况\n",
    "while(True):\n",
    "    Str = input('Please input an integer:')\n",
    "    if Str[0] == '-' or Str[0] == '+':\n",
    "        Str = Str[1:]\n",
    "    if Str.isdigit() and Str[0] != '0':\n",
    "        print('是整数')\n",
    "        break\n",
    "    else:\n",
    "        print('Not qualified. Please re-input')"
   ]
  },
  {
   "cell_type": "code",
   "execution_count": null,
   "metadata": {},
   "outputs": [],
   "source": [
    "# 思考：如何把输入为 '0'的情况也考虑进来\n",
    "# your code here\n",
    "# 这个solution没有考虑 输入为 '0'的情况\n",
    "while(True):\n",
    "    Str = input('Please input an integer:')\n",
    "    if Str == '0':\n",
    "        print('是整数')\n",
    "        break\n",
    "    if Str[0] == '-' or Str[0] == '+':\n",
    "        Str = Str[1:]\n",
    "    if Str.isdigit() and Str[0] != '0':\n",
    "        print('是整数')\n",
    "        break\n",
    "    else:\n",
    "        print('Not qualified. Please re-input')"
   ]
  },
  {
   "cell_type": "markdown",
   "metadata": {},
   "source": [
    "* 随堂练习2：猜年龄\n",
    "\n",
    "猜年龄\n",
    "\n",
    "猜对了，输出You got it, 结束程序\n",
    "\n",
    "猜大/小了，输出Try smaller/larger number\n",
    "\n",
    "输入不是数字，输出Please use number only\n",
    "\n",
    "每隔三次问一次，是否继续(Y/y to continue, type others to quit)\n",
    "\n"
   ]
  },
  {
   "cell_type": "code",
   "execution_count": 22,
   "metadata": {},
   "outputs": [
    {
     "name": "stdout",
     "output_type": "stream",
     "text": [
      "Please guess:34\n",
      "Try larger!\n",
      "Please guess:554\n",
      "Try smaller\n",
      "Please guess:23\n",
      "Try larger!\n",
      "Continue? Y/y to continue, type others to quit:y\n",
      "----\n",
      "Please guess:45\n",
      "You got it!\n"
     ]
    }
   ],
   "source": [
    "true_age = 45\n",
    "\n",
    "count = 0\n",
    "while(True):\n",
    "    age = input('Please guess:')\n",
    "    if age.isdigit():\n",
    "        age = int(age)\n",
    "        if age == true_age:\n",
    "            print('You got it!')\n",
    "            break\n",
    "        elif age < true_age:\n",
    "            print('Try larger!')\n",
    "        else: # age > true_age\n",
    "            print('Try smaller')\n",
    "    else:\n",
    "        print('Please use number only')\n",
    "    count += 1\n",
    "    if count%3 == 0:\n",
    "        flag_continue = input('Continue? Y/y to continue, type others to quit:')\n",
    "        if not flag_continue.lower() == 'y':\n",
    "            break\n",
    "        print('----')"
   ]
  },
  {
   "cell_type": "markdown",
   "metadata": {},
   "source": [
    "### 课后练习\n",
    "* 课后练习1\n",
    "\n",
    "字符串的`isalnum`函数能够用于判断一个字符串是否只包含数字，英文字母和汉字。以下请自己实现类似功能：\n",
    "\n",
    "给定一个字符串，判断是否只包含数字`0-9`、大小写英文字母`a-z`和`A-Z`。如果只包含数字和字母，输出`该字符串仅含数字与字母`；否则，输出`该字符串不仅含数字与字母`。"
   ]
  },
  {
   "cell_type": "code",
   "execution_count": 8,
   "metadata": {},
   "outputs": [
    {
     "name": "stdout",
     "output_type": "stream",
     "text": [
      "输入字符串：sfd433\n",
      "该字符串仅含数字与字母\n"
     ]
    }
   ],
   "source": [
    "Str = input(\"输入字符串：\")\n",
    "count = 0\n",
    "for char in Str: # 题目要求不能使用 isalnum， isdigit函数\n",
    "    # 字符串直接对比，会根据ascii码大小进行对比\n",
    "    if (char > '0' and char < '9') or (char > 'a' and char < 'z') or (char > 'A' and char < 'Z'): # 注意这里三个or连接的逻辑\n",
    "        count += 1\n",
    "if count == len(Str):\n",
    "    print(\"该字符串仅含数字与字母\")\n",
    "else:\n",
    "    print(\"该字符串不仅含数字与字母\")"
   ]
  },
  {
   "cell_type": "markdown",
   "metadata": {},
   "source": [
    "* 课后练习2\n",
    "\n",
    "给定一个字符串，每三个字符做一次`ASCII三角形判断`，输出`ASCII三角形`的个数。\n",
    "\n",
    "三个字符构成`ASCII三角形`的意思为：这三个字符的ASCII编码对应的十进制数值可以构成三角形。\n",
    "\n",
    "例如：对于字符串`sfe78@3d;s`,需要对`sfe`，`78@`，`3d;`进行`ASCII三角形判断`，并记录ASCII三角形的个数"
   ]
  },
  {
   "cell_type": "code",
   "execution_count": 12,
   "metadata": {},
   "outputs": [
    {
     "name": "stdout",
     "output_type": "stream",
     "text": [
      "输入字符串：sfs345er\n",
      "115 102 115\n",
      "51 52 53\n",
      "ASCII三角形个数为：2\n"
     ]
    }
   ],
   "source": [
    "# your code here\n",
    "Str = input(\"输入字符串：\")\n",
    "count = 0\n",
    "for i in range(len(Str)//3):\n",
    "    value1 = ord(Str[3*i+0])\n",
    "    value2 = ord(Str[3*i+1])\n",
    "    value3 = ord(Str[3*i+2])\n",
    "    if (value1 + value2 > value3) and (value1 + value3 > value2) and (value2 + value3 > value1):\n",
    "        count += 1\n",
    "print(f'ASCII三角形个数为：{count}')"
   ]
  }
 ],
 "metadata": {
  "kernelspec": {
   "display_name": "Python 3 (ipykernel)",
   "language": "python",
   "name": "python3"
  },
  "language_info": {
   "codemirror_mode": {
    "name": "ipython",
    "version": 3
   },
   "file_extension": ".py",
   "mimetype": "text/x-python",
   "name": "python",
   "nbconvert_exporter": "python",
   "pygments_lexer": "ipython3",
   "version": "3.10.9"
  },
  "toc": {
   "base_numbering": 1,
   "nav_menu": {},
   "number_sections": true,
   "sideBar": true,
   "skip_h1_title": false,
   "title_cell": "Table of Contents",
   "title_sidebar": "Contents",
   "toc_cell": false,
   "toc_position": {},
   "toc_section_display": true,
   "toc_window_display": false
  },
  "varInspector": {
   "cols": {
    "lenName": 16,
    "lenType": 16,
    "lenVar": 40
   },
   "kernels_config": {
    "python": {
     "delete_cmd_postfix": "",
     "delete_cmd_prefix": "del ",
     "library": "var_list.py",
     "varRefreshCmd": "print(var_dic_list())"
    },
    "r": {
     "delete_cmd_postfix": ") ",
     "delete_cmd_prefix": "rm(",
     "library": "var_list.r",
     "varRefreshCmd": "cat(var_dic_list()) "
    }
   },
   "types_to_exclude": [
    "module",
    "function",
    "builtin_function_or_method",
    "instance",
    "_Feature"
   ],
   "window_display": false
  }
 },
 "nbformat": 4,
 "nbformat_minor": 4
}
