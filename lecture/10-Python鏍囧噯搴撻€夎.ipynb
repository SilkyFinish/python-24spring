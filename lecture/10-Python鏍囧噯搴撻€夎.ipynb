{
 "cells": [
  {
   "cell_type": "markdown",
   "id": "improved-organ",
   "metadata": {},
   "source": [
    "Python标准库选讲\n",
    "========\n",
    "\n",
    "BUSS1301 程序设计，2024年春季\n",
    "\n",
    "Contents\n",
    "===\n",
    "* 1. os模块\n",
    "* 2. sys模块\n",
    "* 3. random模块\n",
    "* 4. time和datetime模块\n",
    "* 5. re模块\n",
    "* 6. 课后练习\n",
    "\n",
    "-------\n",
    "### 1. os模块\n",
    "大部分只是举例"
   ]
  },
  {
   "cell_type": "code",
   "execution_count": 6,
   "id": "following-second",
   "metadata": {},
   "outputs": [
    {
     "data": {
      "text/plain": [
       "['1-课程介绍与说明',\n",
       " '10-Python标准库选讲',\n",
       " '11-第三方库选讲',\n",
       " '12-算法设计',\n",
       " '2-Python基础',\n",
       " '3-运算符',\n",
       " '4-流程控制',\n",
       " '5-数据结构',\n",
       " '6-函数和模块',\n",
       " '7-类与面向对象编程',\n",
       " '8-文件操作',\n",
       " '9-程序调试与异常处理',\n",
       " 'Python的安装与使用-更新版.pptx']"
      ]
     },
     "execution_count": 6,
     "metadata": {},
     "output_type": "execute_result"
    }
   ],
   "source": [
    "import os\n",
    "os.listdir('..') # 列出目录的所有文件"
   ]
  },
  {
   "cell_type": "code",
   "execution_count": 3,
   "id": "lined-insert",
   "metadata": {},
   "outputs": [
    {
     "data": {
      "text/plain": [
       "'f:\\\\SynologyDrive-xuan\\\\WorkingData\\\\Teaching-SJTU\\\\2023-2024-Spring-BUSS1301\\\\Lectures\\\\10-Python标准库选讲'"
      ]
     },
     "execution_count": 3,
     "metadata": {},
     "output_type": "execute_result"
    }
   ],
   "source": [
    "os.path.abspath('.') # 返回绝对路径"
   ]
  },
  {
   "cell_type": "code",
   "execution_count": 3,
   "id": "coordinated-venue",
   "metadata": {},
   "outputs": [
    {
     "data": {
      "text/plain": [
       "'/Users/xuan/Library/CloudStorage/SynologyDrive-main/WorkingData/Teaching-SJTU/2023-2024-Spring-BUSS1301/Lectures/10-Python标准库选讲'"
      ]
     },
     "execution_count": 3,
     "metadata": {},
     "output_type": "execute_result"
    }
   ],
   "source": [
    "os.getcwd() # 当前工作目录"
   ]
  },
  {
   "cell_type": "markdown",
   "id": "peripheral-calculator",
   "metadata": {},
   "source": [
    "### 2. sys模块"
   ]
  },
  {
   "cell_type": "code",
   "execution_count": 5,
   "id": "powerful-culture",
   "metadata": {},
   "outputs": [
    {
     "data": {
      "text/plain": [
       "'darwin'"
      ]
     },
     "execution_count": 5,
     "metadata": {},
     "output_type": "execute_result"
    }
   ],
   "source": [
    "import sys\n",
    "sys.platform # 返回当前平台信息"
   ]
  },
  {
   "cell_type": "code",
   "execution_count": 6,
   "id": "legendary-johnston",
   "metadata": {},
   "outputs": [
    {
     "name": "stdout",
     "output_type": "stream",
     "text": [
      "3.10.9 (main, Jan 11 2023, 09:18:18) [Clang 14.0.6 ]\n",
      "----\n",
      "sys.version_info(major=3, minor=10, micro=9, releaselevel='final', serial=0)\n"
     ]
    }
   ],
   "source": [
    "print(sys.version) # 返回Python版本信息\n",
    "print('----')\n",
    "print(sys.version_info) # 返回Python版本信息"
   ]
  },
  {
   "cell_type": "code",
   "execution_count": 7,
   "id": "approximate-traveler",
   "metadata": {},
   "outputs": [
    {
     "data": {
      "text/plain": [
       "'utf-8'"
      ]
     },
     "execution_count": 7,
     "metadata": {},
     "output_type": "execute_result"
    }
   ],
   "source": [
    "sys.getdefaultencoding() # 获取默认编码方式"
   ]
  },
  {
   "cell_type": "markdown",
   "id": "therapeutic-treasury",
   "metadata": {},
   "source": [
    "### 3. random模块"
   ]
  },
  {
   "cell_type": "code",
   "execution_count": 66,
   "id": "falling-rapid",
   "metadata": {},
   "outputs": [
    {
     "name": "stdout",
     "output_type": "stream",
     "text": [
      "0.4681882988803455\n",
      "0.7555328222839258\n",
      "0.5917415185739523\n",
      "0.13277534998037277\n",
      "0.5403310437573636\n"
     ]
    }
   ],
   "source": [
    "# 每次结果不一样\n",
    "import random\n",
    "for _ in range(5):\n",
    "    print(random.random())"
   ]
  },
  {
   "cell_type": "code",
   "execution_count": 74,
   "id": "armed-vault",
   "metadata": {},
   "outputs": [
    {
     "name": "stdout",
     "output_type": "stream",
     "text": [
      "0.13436424411240122\n",
      "0.8474337369372327\n",
      "0.763774618976614\n",
      "0.2550690257394217\n",
      "0.49543508709194095\n"
     ]
    }
   ],
   "source": [
    "# 每次结果一样\n",
    "import random\n",
    "random.seed(1)\n",
    "for _ in range(5):\n",
    "    print(random.random())"
   ]
  },
  {
   "cell_type": "code",
   "execution_count": 68,
   "id": "close-walker",
   "metadata": {},
   "outputs": [
    {
     "name": "stdout",
     "output_type": "stream",
     "text": [
      "0.006530861371786069\n",
      "0.8041962310215915\n",
      "0.9155413138017853\n",
      "0.6107728694590677\n",
      "0.12481879911497673\n"
     ]
    }
   ],
   "source": [
    "seed = 3\n",
    "X,Y,Z = 123,59,65536\n",
    "\n",
    "for _ in range(5):\n",
    "    seed = (seed*X+Y)%Z\n",
    "    print(seed/(Z-1))"
   ]
  },
  {
   "cell_type": "markdown",
   "id": "4bc71fea",
   "metadata": {},
   "source": [
    "* 估计圆周率和面积"
   ]
  },
  {
   "cell_type": "code",
   "execution_count": 14,
   "id": "b42af1db",
   "metadata": {},
   "outputs": [
    {
     "name": "stdout",
     "output_type": "stream",
     "text": [
      "The estimated area is: 0.785443\n",
      "The estimated pi is: 3.141770\n"
     ]
    }
   ],
   "source": [
    "import random\n",
    "\n",
    "N = 10000000 # number of random points to generate\n",
    "N_within_circle = 0 # number of points under the quarter circle\n",
    "for i in range(N):\n",
    "    x = random.random()\n",
    "    y = random.random()\n",
    "    if x**2 + y**2 < 1:\n",
    "        N_within_circle += 1\n",
    "estimated_area = N_within_circle/N\n",
    "estimated_pi = 4*estimated_area\n",
    "\n",
    "print('The estimated area is: %f'%(estimated_area))\n",
    "print('The estimated pi is: %f'%(estimated_pi))"
   ]
  },
  {
   "cell_type": "markdown",
   "id": "74020c94",
   "metadata": {},
   "source": [
    "* 面积估计：sin(x)*cos(x)"
   ]
  },
  {
   "cell_type": "code",
   "execution_count": null,
   "id": "3ac5389e",
   "metadata": {},
   "outputs": [],
   "source": [
    "import random\n",
    "from math import sin, cos\n",
    "\n",
    "N = 1000000 # number of random points to generate\n",
    "N_under_plot = 0 # number of points under the quarter circle\n",
    "for i in range(N):\n",
    "    # codes here\n",
    "    \n",
    "\n",
    "estimated_area = 1\n",
    "\n",
    "print('The estimated area is: %f'%(estimated_area))\n",
    "print('True area:%f'%(sin(1)**2/2))"
   ]
  },
  {
   "cell_type": "code",
   "execution_count": 8,
   "id": "588fcdf3",
   "metadata": {},
   "outputs": [
    {
     "name": "stdout",
     "output_type": "stream",
     "text": [
      "The estimated area is: 0.354486\n",
      "True area:0.354037\n"
     ]
    }
   ],
   "source": [
    "import random\n",
    "from math import sin, cos\n",
    "\n",
    "N = 1000000 # number of random points to generate\n",
    "N_under_plot = 0 # number of points under the quarter circle\n",
    "for i in range(N):\n",
    "    x = random.random() \n",
    "    y = random.random() * 0.6 # y = random.uniform(0,0.6)\n",
    "    if y < sin(x)*cos(x):\n",
    "        N_under_plot += 1\n",
    "estimated_area = N_under_plot/N * 0.6\n",
    "\n",
    "print('The estimated area is: %f'%(estimated_area))\n",
    "print('True area:%f'%(sin(1)**2/2))"
   ]
  },
  {
   "cell_type": "code",
   "execution_count": 6,
   "id": "5de53cf5",
   "metadata": {},
   "outputs": [
    {
     "name": "stdout",
     "output_type": "stream",
     "text": [
      "The estimated area is: 0.354141\n",
      "True area:0.354037\n"
     ]
    }
   ],
   "source": [
    "import random\n",
    "from math import sin, cos\n",
    "\n",
    "N = 1000000 # number of random points to generate\n",
    "S = 0\n",
    "for i in range(N):\n",
    "    x = random.random() \n",
    "    S += sin(x)*cos(x)\n",
    "estimated_area = S/N\n",
    "\n",
    "print('The estimated area is: %f'%(estimated_area))\n",
    "print('True area:%f'%(sin(1)**2/2))"
   ]
  },
  {
   "cell_type": "markdown",
   "id": "0abd0aa3",
   "metadata": {},
   "source": [
    "* 例子：游戏中的伪随机"
   ]
  },
  {
   "cell_type": "code",
   "execution_count": 83,
   "id": "65b2ffdf",
   "metadata": {},
   "outputs": [
    {
     "data": {
      "text/plain": [
       "[0,\n",
       " 0,\n",
       " 0,\n",
       " 0,\n",
       " 0,\n",
       " 1,\n",
       " 1,\n",
       " 0,\n",
       " 0,\n",
       " 0,\n",
       " 1,\n",
       " 0,\n",
       " 0,\n",
       " 0,\n",
       " 0,\n",
       " 0,\n",
       " 0,\n",
       " 0,\n",
       " 0,\n",
       " 0,\n",
       " 0,\n",
       " 0,\n",
       " 0,\n",
       " 0,\n",
       " 1,\n",
       " 0,\n",
       " 0,\n",
       " 0,\n",
       " 1,\n",
       " 1,\n",
       " 0,\n",
       " 0,\n",
       " 0,\n",
       " 0,\n",
       " 1,\n",
       " 0,\n",
       " 1,\n",
       " 0,\n",
       " 0,\n",
       " 0,\n",
       " 1,\n",
       " 1,\n",
       " 0,\n",
       " 0,\n",
       " 0,\n",
       " 0,\n",
       " 0,\n",
       " 0,\n",
       " 0,\n",
       " 0,\n",
       " 0,\n",
       " 0,\n",
       " 0,\n",
       " 0,\n",
       " 0,\n",
       " 0,\n",
       " 0,\n",
       " 0,\n",
       " 0,\n",
       " 0,\n",
       " 0,\n",
       " 0,\n",
       " 1,\n",
       " 0,\n",
       " 0,\n",
       " 0,\n",
       " 0,\n",
       " 1,\n",
       " 0,\n",
       " 0,\n",
       " 1,\n",
       " 0,\n",
       " 0,\n",
       " 1,\n",
       " 0,\n",
       " 0,\n",
       " 0,\n",
       " 0,\n",
       " 1,\n",
       " 0,\n",
       " 0,\n",
       " 1,\n",
       " 1,\n",
       " 0,\n",
       " 1,\n",
       " 0,\n",
       " 0,\n",
       " 0,\n",
       " 0,\n",
       " 1,\n",
       " 0,\n",
       " 0,\n",
       " 0,\n",
       " 0,\n",
       " 0,\n",
       " 0,\n",
       " 0,\n",
       " 0,\n",
       " 0,\n",
       " 0]"
      ]
     },
     "execution_count": 83,
     "metadata": {},
     "output_type": "execute_result"
    }
   ],
   "source": [
    "crit_chance = 0.2\n",
    "random.choices([0,1], [1 - crit_chance, crit_chance],k= 100)"
   ]
  },
  {
   "cell_type": "code",
   "execution_count": 98,
   "id": "970e25df",
   "metadata": {},
   "outputs": [
    {
     "name": "stdout",
     "output_type": "stream",
     "text": [
      "==使用独立的随机数==\n",
      "暴击次数： 1938\n",
      "连续暴击次数： 8\n",
      "连续不暴击次数： 2214\n",
      "==使用概率补偿方式==\n",
      "暴击次数： 2023\n",
      "连续暴击次数： 0\n",
      "连续不暴击次数： 633\n"
     ]
    }
   ],
   "source": [
    "def simulate_independent_crit(num_attacks, crit_chance):\n",
    "    # 方式一：\n",
    "    #return random.choices([0,1], [1 - crit_chance, crit_chance],k= num_attacks)\n",
    "    # 方式二：\n",
    "    crits = []  \n",
    "    for _ in range(num_attacks):\n",
    "        crits.append(random.random() < crit_chance)\n",
    "    return crits\n",
    "\n",
    "def simulate_prng_crit(num_attacks, initial_chance):\n",
    "    crits = []\n",
    "    current_chance = initial_chance\n",
    "    for _ in range(num_attacks):\n",
    "        if random.random() < current_chance:\n",
    "            crits.append(1)\n",
    "            current_chance = initial_chance\n",
    "        else:\n",
    "            crits.append(0)\n",
    "            current_chance += initial_chance\n",
    "    return crits\n",
    "\n",
    "def count_consecutive_streak(attacks, threshold, is_continuous_crit = True):\n",
    "    '''\n",
    "    is_continuous_crit: 计算连续暴击 or 连续不暴击\n",
    "    '''\n",
    "    sum_wanted = threshold if is_continuous_crit else 0 # \n",
    "    count = 0\n",
    "    for i in range(len(attacks) - threshold + 1):\n",
    "        if sum(attacks[i:i+threshold]) == sum_wanted:\n",
    "            count += 1\n",
    "    return count\n",
    "\n",
    "# Simulation parameters\n",
    "num_attacks = 10000\n",
    "independent_crit_chance = 0.20\n",
    "prng_initial_chance = 0.0557\n",
    "\n",
    "# 方式一: 独立的随机数\n",
    "independent_attacks = simulate_independent_crit(num_attacks, independent_crit_chance)\n",
    "print(\"==使用独立的随机数==\")\n",
    "print(\"暴击次数：\", sum(independent_attacks))\n",
    "print(\"连续暴击次数：\", count_consecutive_streak(independent_attacks, 4))\n",
    "print(\"连续不暴击次数：\", count_consecutive_streak(independent_attacks, 7, False))\n",
    "\n",
    "# 方式二：Dota2中使用的概率补偿方式\n",
    "prng_attacks = simulate_prng_crit(num_attacks, prng_initial_chance)\n",
    "print(\"==使用概率补偿方式==\")\n",
    "print(\"暴击次数：\", sum(prng_attacks))\n",
    "print(\"连续暴击次数：\", count_consecutive_streak(prng_attacks, 4))\n",
    "print(\"连续不暴击次数：\", count_consecutive_streak(prng_attacks, 7, False))"
   ]
  },
  {
   "cell_type": "markdown",
   "id": "about-flower",
   "metadata": {},
   "source": [
    "### 4. time和datetime模块\n",
    "* time.sleep()\n"
   ]
  },
  {
   "cell_type": "code",
   "execution_count": 95,
   "id": "28352580",
   "metadata": {},
   "outputs": [
    {
     "data": {
      "text/plain": [
       "1715840822.5056577"
      ]
     },
     "execution_count": 95,
     "metadata": {},
     "output_type": "execute_result"
    }
   ],
   "source": [
    "import time\n",
    "time.time()"
   ]
  },
  {
   "cell_type": "code",
   "execution_count": 94,
   "id": "smooth-mistake",
   "metadata": {},
   "outputs": [
    {
     "name": "stdout",
     "output_type": "stream",
     "text": [
      "0\n",
      "1\n",
      "2\n",
      "3\n",
      "4\n"
     ]
    }
   ],
   "source": [
    "import time\n",
    "for idx in range(5):\n",
    "    print(idx)\n",
    "    time.sleep(2) #休息1秒"
   ]
  },
  {
   "cell_type": "markdown",
   "id": "another-legislation",
   "metadata": {},
   "source": [
    "* 创建datetime对象"
   ]
  },
  {
   "cell_type": "code",
   "execution_count": 97,
   "id": "ordinary-illinois",
   "metadata": {},
   "outputs": [
    {
     "name": "stdout",
     "output_type": "stream",
     "text": [
      "<class 'datetime.datetime'>\n",
      "2024-05-16 14:34:45.367614\n",
      "datetime.datetime(2024, 5, 16, 14, 34, 45, 367614)\n"
     ]
    }
   ],
   "source": [
    "from datetime import datetime\n",
    "# 获取当前时间\n",
    "dt_now = datetime.now() # 当前时间\n",
    "dt_now_utc = datetime.utcnow() # utc时间\n",
    "print(type(dt_now))\n",
    "print(dt_now)\n",
    "print(repr(dt_now))"
   ]
  },
  {
   "cell_type": "code",
   "execution_count": 83,
   "id": "abstract-dover",
   "metadata": {},
   "outputs": [
    {
     "name": "stdout",
     "output_type": "stream",
     "text": [
      "dt1: 2022-05-14 00:00:00\n",
      "dt2: 2021-05-14 21:56:43.000456\n"
     ]
    }
   ],
   "source": [
    "# 指定年月日时分秒\n",
    "dt1 = datetime(2022,5,14)\n",
    "print('dt1:', dt1)\n",
    "\n",
    "dt2 = datetime(2021,5,14, 21, 56, 43, 456)\n",
    "print('dt2:', dt2)"
   ]
  },
  {
   "cell_type": "code",
   "execution_count": 88,
   "id": "hidden-mouse",
   "metadata": {},
   "outputs": [
    {
     "name": "stdout",
     "output_type": "stream",
     "text": [
      "dt1: 2015-06-01 18:19:59\n",
      "dt2: 2015-06-01 18:19:59\n",
      "dt3: 2015-06-11 13:19:59\n",
      "dt4: 2015-06-11 13:19:59\n"
     ]
    }
   ],
   "source": [
    "# 从字符串创建\n",
    "# 解析格式见 https://docs.python.org/3/library/datetime.html#strftime-and-strptime-format-codes\n",
    "#       或者 https://www.runoob.com/python3/python3-date-time.html\n",
    "# 比如： %y 两位数的年份表示（00-99）\n",
    "#       %Y 四位数的年份表示（000-9999）\n",
    "# \n",
    "dt1 = datetime.strptime('2015-6-1 18:19:59', '%Y-%m-%d %H:%M:%S')\n",
    "print('dt1:',dt1)\n",
    "\n",
    "dt2 = datetime.strptime('15-6-1 18:19:59', '%y-%m-%d %H:%M:%S')\n",
    "print('dt2:',dt2)\n",
    "\n",
    "dt3 = datetime.strptime('15-6-11 01:19:59 pm', '%y-%m-%d %I:%M:%S %p')\n",
    "print('dt3:',dt3)\n",
    "\n",
    "dt4 = datetime.strptime('15=6=11 01:19:59 pm', '%y=%m=%d %I:%M:%S %p')\n",
    "print('dt4:',dt4)\n"
   ]
  },
  {
   "cell_type": "code",
   "execution_count": 85,
   "id": "casual-chicken",
   "metadata": {},
   "outputs": [
    {
     "name": "stdout",
     "output_type": "stream",
     "text": [
      "1970-01-01 08:00:05\n"
     ]
    }
   ],
   "source": [
    "dt = datetime.fromtimestamp(5) # 1970/1/1 开始的第5秒\n",
    "print(dt)"
   ]
  },
  {
   "cell_type": "markdown",
   "id": "nearby-lafayette",
   "metadata": {},
   "source": [
    "* datetime `->` 字符串和timestamp\n"
   ]
  },
  {
   "cell_type": "code",
   "execution_count": 107,
   "id": "cosmetic-victor",
   "metadata": {},
   "outputs": [
    {
     "name": "stdout",
     "output_type": "stream",
     "text": [
      "22-05-06 03:48:35 PM, Friday\n",
      "1651823315.15155\n"
     ]
    }
   ],
   "source": [
    "from datetime import datetime\n",
    "\n",
    "dt = datetime.now() # 当前时间\n",
    "print(dt.strftime('%y-%m-%d %I:%M:%S %p, %A'))\n",
    "print(dt.timestamp())"
   ]
  },
  {
   "cell_type": "markdown",
   "id": "velvet-petroleum",
   "metadata": {},
   "source": [
    "* datetime的其他属性和方法"
   ]
  },
  {
   "cell_type": "code",
   "execution_count": 40,
   "id": "medieval-hours",
   "metadata": {},
   "outputs": [
    {
     "name": "stdout",
     "output_type": "stream",
     "text": [
      "2022-05-04 16:04:34.621473\n",
      "2022\n",
      "5\n",
      "4\n",
      "16\n",
      "4\n",
      "34\n",
      "621473\n",
      "2\n",
      "2022-05-04\n",
      "16:04:34.621473\n",
      "2012-05-04 16:04:34.621473\n"
     ]
    }
   ],
   "source": [
    "now = datetime.now()\n",
    "print(now)\n",
    "print(now.year)\n",
    "print(now.month)\n",
    "print(now.day)\n",
    "print(now.hour)\n",
    "print(now.minute)\n",
    "print(now.second)\n",
    "print(now.microsecond)\n",
    "print(now.weekday()) # 一周第几天，周日为0\n",
    "print(now.date()) \n",
    "print(now.time()) \n",
    "print(now.replace(year=2012, month=5)) "
   ]
  },
  {
   "cell_type": "markdown",
   "id": "executive-venue",
   "metadata": {},
   "source": [
    "* 时间差：timedelta对象"
   ]
  },
  {
   "cell_type": "code",
   "execution_count": 99,
   "id": "collaborative-evaluation",
   "metadata": {},
   "outputs": [
    {
     "name": "stdout",
     "output_type": "stream",
     "text": [
      "<class 'datetime.timedelta'>\n",
      "5760 days, 15:02:37.053254\n",
      "datetime.timedelta(days=5760, seconds=54157, microseconds=53254)\n"
     ]
    }
   ],
   "source": [
    "from datetime import datetime, timedelta\n",
    "\n",
    "# datetime对象加减 -> datedelta\n",
    "dt1 = datetime(2008,8,8)\n",
    "dt2 = datetime.now() # 当前时间\n",
    "\n",
    "delta = dt2 - dt1 # 只有days, seconds, microseconds属性， 思考为什么？\n",
    "print(type(delta))\n",
    "print(delta)\n",
    "print(repr(delta))"
   ]
  },
  {
   "cell_type": "code",
   "execution_count": 100,
   "id": "governmental-probe",
   "metadata": {},
   "outputs": [
    {
     "name": "stdout",
     "output_type": "stream",
     "text": [
      "2024-05-16 15:03:28.376449\n",
      "2024-05-31 15:03:28.376449\n",
      "2024-05-16 07:03:28.376453\n",
      "2024-05-24 13:06:26.376449\n"
     ]
    }
   ],
   "source": [
    "# datetime +/- timedelta -> datetime\n",
    "now = datetime.now()\n",
    "print(now)\n",
    "print(now + timedelta(days = 8, weeks=1))\n",
    "print(now + timedelta(hours = -8, microseconds=4))\n",
    "print(now + timedelta(days = 8, hours = -2, minutes = 3, seconds = -2))"
   ]
  },
  {
   "cell_type": "markdown",
   "id": "electrical-naples",
   "metadata": {},
   "source": [
    "例子：爬虫中的时间抽取\n",
    "\n",
    "微博爬虫中，会发现微博中最近帖子的时间经常不是显示绝对日期，而是`3秒前`，`23分钟前`，`今天13:34`，`昨天09:12`。\n",
    "\n",
    "请写一个函数，能将以上字符转成绝对时间。注：对于秒数和微秒，若没有提及，则设置为`0`。\n"
   ]
  },
  {
   "cell_type": "code",
   "execution_count": 101,
   "id": "peripheral-alert",
   "metadata": {},
   "outputs": [
    {
     "name": "stdout",
     "output_type": "stream",
     "text": [
      "3秒前: 2024-05-16 15:08:53\n",
      "23分钟前: 2024-05-16 14:45:00\n",
      "今天13:34: 2024-05-16 13:34:00\n",
      "昨天09:15: 2024-05-15 09:15:00\n"
     ]
    }
   ],
   "source": [
    "from datetime import datetime, timedelta\n",
    "\n",
    "def weibo_date_parse(Str):\n",
    "    dt = datetime.now()\n",
    "    dt = dt.replace(microsecond = 0)\n",
    "    # 情况一：xxx秒前\n",
    "    if Str.endswith('秒前'):\n",
    "        delta = int(Str.split('秒')[0])\n",
    "        return dt + timedelta(seconds= -delta)\n",
    "    \n",
    "    # 其他情况跟秒无关\n",
    "    dt = dt.replace(second=0)\n",
    "    # 情况二：xxx分钟前\n",
    "    if Str.endswith('分钟前'):\n",
    "        delta = int(Str.split('分')[0])\n",
    "        return dt + timedelta(minutes = -delta)\n",
    "    \n",
    "    # 情况三：今天或者昨天\n",
    "    tmp = datetime.strptime(Str[-5:], '%H:%M')\n",
    "    dt = dt.replace(hour=tmp.hour, minute=tmp.minute)\n",
    "    if '昨天' in Str:\n",
    "        dt = dt + timedelta(days= -1)\n",
    "    return dt\n",
    "\n",
    "all_time_str = ['3秒前','23分钟前','今天13:34','昨天09:15']\n",
    "for Str in all_time_str:\n",
    "    print(f'{Str}: {weibo_date_parse(Str)}')\n"
   ]
  },
  {
   "cell_type": "markdown",
   "id": "0b5bde7a",
   "metadata": {},
   "source": [
    "### 5. re模块"
   ]
  },
  {
   "cell_type": "markdown",
   "id": "4926bbb9",
   "metadata": {},
   "source": [
    "例子：豆瓣电影信息解析（仅供参考，了解下re是做什么的）"
   ]
  },
  {
   "cell_type": "code",
   "execution_count": 71,
   "id": "f4510fb2",
   "metadata": {},
   "outputs": [
    {
     "name": "stdout",
     "output_type": "stream",
     "text": [
      "[('9.7', '2610668')]\n",
      "[('1994', '美国', '犯罪 剧情')]\n"
     ]
    }
   ],
   "source": [
    "# 以下是豆瓣关于 一部电影的描述：https://movie.douban.com/top250\n",
    "# 尝试解析信息\n",
    "Str = '''\n",
    "肖申克的救赎  / The Shawshank Redemption  / 月黑高飞(港) / 刺激1995(台) [可播放]\n",
    "导演: 弗兰克·德拉邦特 Frank Darabont   主演: 蒂姆·罗宾斯 Tim Robbins /...\n",
    "1994 / 美国 / 犯罪 剧情\n",
    "\n",
    " 9.7 2610668人评价\n",
    "希望让人自由。\n",
    "'''\n",
    "import re\n",
    "print(re.findall(r'(\\d+\\.\\d+) (\\d+)人评价', Str)) # 解析评分，和评价人数\n",
    "print(re.findall(r'(\\d+) / (\\w+) / ([\\w ]+)', Str)) # 解析年份，国家，和类型\n"
   ]
  },
  {
   "cell_type": "markdown",
   "id": "fd224b54",
   "metadata": {},
   "source": [
    "### 6. 课后练习"
   ]
  },
  {
   "cell_type": "markdown",
   "id": "1ccb2d97",
   "metadata": {},
   "source": [
    "* 蒙特卡洛计算面积\n",
    "\n",
    "估算椭圆$\\cfrac{x^2}{4} + y^2 = 1$与圆$(x-1)^2+y^2=1$相交部分的面积：\n",
    "<img src=\"images/intersect_eclipse_circle.jpg\" width=800>"
   ]
  },
  {
   "cell_type": "code",
   "execution_count": 1,
   "id": "35d0c8f1",
   "metadata": {},
   "outputs": [
    {
     "name": "stdout",
     "output_type": "stream",
     "text": [
      "The estimated area is: 2.750084\n"
     ]
    }
   ],
   "source": [
    "import random\n",
    "\n",
    "N = 1000000 # number of random points to generate\n",
    "N_intersect = 0 # number of points under the quarter circle\n",
    "for i in range(N):\n",
    "    x = random.random() * 2 # or y = random.uniform(0,2)\n",
    "    y = random.random() * 2 -1 # or y = random.uniform(-1,1)\n",
    "    if x**2/4+y**2<1 and (x-1)**2 + y**2 < 1:\n",
    "        N_intersect += 1\n",
    "estimated_area = N_intersect/N * 4\n",
    "\n",
    "print('The estimated area is: %f'%(estimated_area))"
   ]
  },
  {
   "cell_type": "markdown",
   "id": "0b458b20",
   "metadata": {},
   "source": [
    "* 日期处理\n",
    "\n",
    "已知从某社交媒体爬取的两条帖子的创建时间为\n",
    "```Python\n",
    "str1= \"2020-11-11T15:37:54.979Z\" \n",
    "str2= \"2021-02-14T05:18:45.992Z\"\n",
    "```\n",
    "\n",
    "请计算这两条帖子发帖时间间隔，即`____`天`____`秒`____`微秒。\n",
    "\n",
    "\n",
    "注：1秒为$10^6$微秒。`datetime`中`strptime`的格式规范参考[这里](https://docs.python.org/3/library/datetime.html#strftime-and-strptime-format-codes)"
   ]
  },
  {
   "cell_type": "code",
   "execution_count": 2,
   "id": "bcc59b36",
   "metadata": {},
   "outputs": [
    {
     "name": "stdout",
     "output_type": "stream",
     "text": [
      "两条帖子发帖间隔94天49251秒13000微秒\n"
     ]
    }
   ],
   "source": [
    "from datetime import datetime, timedelta\n",
    "str1= \"2020-11-11T15:37:54.979Z\" \n",
    "str2= \"2021-02-14T05:18:45.992Z\"\n",
    "dt1 = datetime.strptime(str1, '%Y-%m-%dT%H:%M:%S.%fZ')\n",
    "dt2 = datetime.strptime(str2, '%Y-%m-%dT%H:%M:%S.%fZ')\n",
    "delta = dt2-dt1\n",
    "print('两条帖子发帖间隔%d天%d秒%d微秒'%(delta.days, delta.seconds, delta.microseconds))"
   ]
  }
 ],
 "metadata": {
  "kernelspec": {
   "display_name": "Python 3 (ipykernel)",
   "language": "python",
   "name": "python3"
  },
  "language_info": {
   "codemirror_mode": {
    "name": "ipython",
    "version": 3
   },
   "file_extension": ".py",
   "mimetype": "text/x-python",
   "name": "python",
   "nbconvert_exporter": "python",
   "pygments_lexer": "ipython3",
   "version": "3.11.5"
  },
  "toc": {
   "base_numbering": 1,
   "nav_menu": {},
   "number_sections": true,
   "sideBar": true,
   "skip_h1_title": true,
   "title_cell": "Table of Contents",
   "title_sidebar": "Contents",
   "toc_cell": false,
   "toc_position": {},
   "toc_section_display": true,
   "toc_window_display": false
  },
  "varInspector": {
   "cols": {
    "lenName": 16,
    "lenType": 16,
    "lenVar": 40
   },
   "kernels_config": {
    "python": {
     "delete_cmd_postfix": "",
     "delete_cmd_prefix": "del ",
     "library": "var_list.py",
     "varRefreshCmd": "print(var_dic_list())"
    },
    "r": {
     "delete_cmd_postfix": ") ",
     "delete_cmd_prefix": "rm(",
     "library": "var_list.r",
     "varRefreshCmd": "cat(var_dic_list()) "
    }
   },
   "types_to_exclude": [
    "module",
    "function",
    "builtin_function_or_method",
    "instance",
    "_Feature"
   ],
   "window_display": false
  }
 },
 "nbformat": 4,
 "nbformat_minor": 5
}
