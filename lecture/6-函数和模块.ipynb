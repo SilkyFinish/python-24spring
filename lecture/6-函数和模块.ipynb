{
 "cells": [
  {
   "cell_type": "markdown",
   "id": "adaptive-membrane",
   "metadata": {},
   "source": [
    "函数和模块\n",
    "========\n",
    "\n",
    "BUSS1301 程序设计，2024年春季\n",
    "\n",
    "Contents\n",
    "===\n",
    "* 1. 函数\n",
    "* 2. 模块\n",
    "* 3. 课后练习\n",
    "\n",
    "\n",
    "### 1. 函数\n",
    "* 为什么需要函数"
   ]
  },
  {
   "cell_type": "markdown",
   "id": "prime-maine",
   "metadata": {},
   "source": [
    "将数字`1-N`连成环，即`N`的后一位是1。第一次移除1，之后都是前进`m`步，移除一个数字。请问最后剩下的一位数字是什么？\n",
    "\n",
    "输出情况的结果：\n",
    "\n",
    "N = 100，m=2\n",
    "\n",
    "N = 50，m=5\n",
    "\n",
    "N = 200，m=4\n"
   ]
  },
  {
   "cell_type": "code",
   "execution_count": 1,
   "id": "undefined-seafood",
   "metadata": {},
   "outputs": [
    {
     "name": "stdout",
     "output_type": "stream",
     "text": [
      "[72]\n",
      "[15]\n",
      "[144]\n"
     ]
    }
   ],
   "source": [
    "# 逐个进行测试\n",
    "List = list(range(1, 101))\n",
    "gap = 2\n",
    "\n",
    "index = 0\n",
    "while (len(List) > 1):\n",
    "    index = index % len(List) # 余数\n",
    "    del List[index]\n",
    "    index += gap - 1\n",
    "print(List) \n",
    "\n",
    "\n",
    "List = list(range(1, 51))\n",
    "gap = 5\n",
    "\n",
    "index = 0\n",
    "while (len(List) > 1):\n",
    "    index = index % len(List) # 余数\n",
    "    del List[index]\n",
    "    index += gap - 1\n",
    "print(List) \n",
    "\n",
    "List = list(range(1, 201))\n",
    "gap = 4\n",
    "\n",
    "index = 0\n",
    "while (len(List) > 1):\n",
    "    index = index % len(List) # 余数\n",
    "    del List[index]\n",
    "    index += gap - 1\n",
    "print(List) "
   ]
  },
  {
   "cell_type": "code",
   "execution_count": 16,
   "id": "gorgeous-wesley",
   "metadata": {},
   "outputs": [
    {
     "name": "stdout",
     "output_type": "stream",
     "text": [
      "[72]\n",
      "[15]\n",
      "[144]\n"
     ]
    }
   ],
   "source": [
    "# use function\n",
    "def remove_game(N, m):\n",
    "    List = list(range(1, N+1))\n",
    "    gap = m\n",
    "    \n",
    "    index = 0\n",
    "    while (len(List) > 1):\n",
    "        index = index % len(List) # 余数\n",
    "        del List[index]\n",
    "        index += gap - 1\n",
    "    return List\n",
    "\n",
    "print(remove_game(100,2))\n",
    "print(remove_game(50,5))\n",
    "print(remove_game(200,4))"
   ]
  },
  {
   "cell_type": "markdown",
   "id": "democratic-victory",
   "metadata": {},
   "source": [
    "* 函数的定义"
   ]
  },
  {
   "cell_type": "code",
   "execution_count": 22,
   "id": "brazilian-gather",
   "metadata": {},
   "outputs": [
    {
     "name": "stdout",
     "output_type": "stream",
     "text": [
      "\n",
      "    This function returns \n",
      "    max of a and b\n",
      "    \n",
      "5\n",
      "40\n"
     ]
    }
   ],
   "source": [
    "def max(a,b):\n",
    "    '''\n",
    "    This function returns \n",
    "    max of a and b\n",
    "    '''\n",
    "    if a > b:\n",
    "        return a\n",
    "    else:\n",
    "        return b\n",
    "print(max.__doc__)\n",
    "print(max(4,5))\n",
    "print(max(40,5.5))"
   ]
  },
  {
   "cell_type": "markdown",
   "id": "chief-willow",
   "metadata": {},
   "source": [
    "* 参数的传递：call by object reference"
   ]
  },
  {
   "cell_type": "code",
   "execution_count": 60,
   "id": "still-bridge",
   "metadata": {},
   "outputs": [
    {
     "name": "stdout",
     "output_type": "stream",
     "text": [
      "----Outside function----\n",
      "mylist: [1, 2, 3] 140668783251712\n",
      "b: str 140671583485040\n",
      "----Inside function----\n",
      "List: [1, 2, 3] 140668783251712\n",
      "a: str 140671583485040\n"
     ]
    }
   ],
   "source": [
    "def fun(List, a):\n",
    "    print('----Inside function----')\n",
    "    print('List:', List, id(List))\n",
    "    print('a:', a, id(a))\n",
    "\n",
    "my_list = [1,2,3]\n",
    "b = 'str'\n",
    "print('----Outside function----')\n",
    "print('mylist:', my_list, id(my_list))\n",
    "print('b:', b, id(b))\n",
    "fun(my_list, b)"
   ]
  },
  {
   "cell_type": "markdown",
   "id": "closing-dependence",
   "metadata": {},
   "source": [
    "* 参数的传递：传递不可变类型"
   ]
  },
  {
   "cell_type": "code",
   "execution_count": 4,
   "id": "emotional-coral",
   "metadata": {},
   "outputs": [
    {
     "name": "stdout",
     "output_type": "stream",
     "text": [
      "shanghai\n"
     ]
    }
   ],
   "source": [
    "def change_str(a):\n",
    "    # 无法执行 a[0] = 't'\n",
    "    # a[0] = 't'\n",
    "    \n",
    "    # 可以赋予a新对象\n",
    "    a = 10\n",
    "\n",
    "b = 'shanghai'\n",
    "change_str(b)\n",
    "print(b)"
   ]
  },
  {
   "cell_type": "code",
   "execution_count": 64,
   "id": "looking-chess",
   "metadata": {},
   "outputs": [
    {
     "name": "stdout",
     "output_type": "stream",
     "text": [
      "shanghai\n"
     ]
    }
   ],
   "source": [
    "# 类比此过程\n",
    "b = 'shanghai'\n",
    "a = b\n",
    "a = 10\n",
    "print(b)"
   ]
  },
  {
   "cell_type": "markdown",
   "id": "banned-intake",
   "metadata": {},
   "source": [
    "* 参数的传递：传递可变类型"
   ]
  },
  {
   "cell_type": "code",
   "execution_count": 65,
   "id": "advised-billion",
   "metadata": {},
   "outputs": [
    {
     "name": "stdout",
     "output_type": "stream",
     "text": [
      "[100, 2, 3]\n"
     ]
    }
   ],
   "source": [
    "def change_list(a):\n",
    "    a[0] = 100\n",
    "    a = 'shanghai'\n",
    "\n",
    "b = [1,2,3]\n",
    "change_list(b)\n",
    "print(b)"
   ]
  },
  {
   "cell_type": "code",
   "execution_count": 66,
   "id": "liable-fifth",
   "metadata": {},
   "outputs": [
    {
     "name": "stdout",
     "output_type": "stream",
     "text": [
      "[100, 2, 3]\n"
     ]
    }
   ],
   "source": [
    "# 类比此过程\n",
    "b = [1,2,3]\n",
    "a = b\n",
    "a[0] = 100\n",
    "a = 'shanghai'\n",
    "print(b)"
   ]
  },
  {
   "cell_type": "markdown",
   "id": "undefined-necessity",
   "metadata": {},
   "source": [
    "* 参数的传递：位置参数"
   ]
  },
  {
   "cell_type": "code",
   "execution_count": 95,
   "id": "consistent-crack",
   "metadata": {},
   "outputs": [
    {
     "name": "stdout",
     "output_type": "stream",
     "text": [
      "Enrolled Bob M\n",
      "Enrolled Alex F\n"
     ]
    }
   ],
   "source": [
    "def enroll(name, gender):\n",
    "    print('Enrolled', name, gender)\n",
    "\n",
    "enroll('Bob', 'M')\n",
    "enroll('Alex', 'F')"
   ]
  },
  {
   "cell_type": "code",
   "execution_count": 96,
   "id": "simple-thong",
   "metadata": {},
   "outputs": [
    {
     "name": "stdout",
     "output_type": "stream",
     "text": [
      "Enrolled M Bob\n"
     ]
    }
   ],
   "source": [
    "# 顺序很重要\n",
    "enroll('M', 'Bob')"
   ]
  },
  {
   "cell_type": "markdown",
   "id": "terminal-aspect",
   "metadata": {},
   "source": [
    "* 不定长位置参数\n",
    "\n",
    "例子：给定一组数字$a,b,c,...$，请计算$a^2+ b^2 + c^2,...$"
   ]
  },
  {
   "cell_type": "code",
   "execution_count": 5,
   "id": "pressing-balance",
   "metadata": {},
   "outputs": [
    {
     "name": "stdout",
     "output_type": "stream",
     "text": [
      "sum of square\n",
      "(1, 2, 4, 5, 6, 7, 8)\n",
      "195\n"
     ]
    }
   ],
   "source": [
    "# 用可变参数\n",
    "def calc(name, *numbers):\n",
    "    print(name)\n",
    "    S = 0\n",
    "    for n in numbers:\n",
    "        S += n*n\n",
    "    return S\n",
    "print(calc('sum of square',))\n",
    "print(calc('sum of square', 1,2,3))\n",
    "print(calc('sum of square', 1,2,3,4))"
   ]
  },
  {
   "cell_type": "code",
   "execution_count": 14,
   "id": "jewish-lawyer",
   "metadata": {},
   "outputs": [
    {
     "name": "stdout",
     "output_type": "stream",
     "text": [
      "sum of square\n",
      "0\n",
      "sum of square\n",
      "14\n",
      "sum of square\n",
      "30\n"
     ]
    }
   ],
   "source": [
    "# 位置参数\n",
    "def calc(name, numbers):\n",
    "    print(name)\n",
    "    S = 0\n",
    "    for n in numbers:\n",
    "        S += n*n\n",
    "    return S\n",
    "print(calc('sum of square', []))\n",
    "print(calc('sum of square', [1,2,3]))\n",
    "print(calc('sum of square', [1,2,3,4]))"
   ]
  },
  {
   "cell_type": "markdown",
   "id": "confidential-shepherd",
   "metadata": {},
   "source": [
    "* 参数的传递：关键字参数"
   ]
  },
  {
   "cell_type": "code",
   "execution_count": 117,
   "id": "basic-cylinder",
   "metadata": {},
   "outputs": [
    {
     "name": "stdout",
     "output_type": "stream",
     "text": [
      "Enrolled Bob F\n",
      "Enrolled Bob F\n",
      "Enrolled Bob F\n"
     ]
    }
   ],
   "source": [
    "def enroll(name, gender):\n",
    "    print('Enrolled', name, gender)\n",
    "\n",
    "enroll('Bob', gender='F') # 第二个使用关键字参数\n",
    "enroll(name='Bob', gender='F') # 都使用关键字参数\n",
    "enroll(gender='F', name='Bob') # 顺序不重要"
   ]
  },
  {
   "cell_type": "markdown",
   "id": "settled-sister",
   "metadata": {},
   "source": [
    "* 不定长关键字参数\n",
    "\n",
    "关键字参数允许你多传入0个或任意个含参数名的参数，这些关键字参数在函数内部自动组装为一个dict"
   ]
  },
  {
   "cell_type": "code",
   "execution_count": 17,
   "id": "dynamic-hamilton",
   "metadata": {},
   "outputs": [
    {
     "name": "stdout",
     "output_type": "stream",
     "text": [
      "{'city': 'Shanghai', 'age': 18, 'a': 1}\n"
     ]
    }
   ],
   "source": [
    "def enroll(name, gender, **kwargs):\n",
    "    print('Enrolled', name, gender, kwargs)\n",
    "    \n",
    "enroll('Bob', 'F', city='Shanghai', age=18) "
   ]
  },
  {
   "cell_type": "markdown",
   "id": "fourth-escape",
   "metadata": {},
   "source": [
    "* 参数的传递：参数默认值"
   ]
  },
  {
   "cell_type": "code",
   "execution_count": 4,
   "id": "diagnostic-bedroom",
   "metadata": {},
   "outputs": [],
   "source": [
    "def enroll(name, gender, city='Shanghai', age=18):\n",
    "    print('Enrolled', name, gender, city, age)"
   ]
  },
  {
   "cell_type": "code",
   "execution_count": 5,
   "id": "aboriginal-treaty",
   "metadata": {},
   "outputs": [
    {
     "name": "stdout",
     "output_type": "stream",
     "text": [
      "Enrolled Bob M Shanghai 18\n",
      "Enrolled Alex M Beijing 18\n",
      "Enrolled Alex M Beijing 19\n",
      "Enrolled Alex M Shanghai 19\n"
     ]
    }
   ],
   "source": [
    "enroll('Bob', 'M') # 不提供任何默认参数\n",
    "enroll('Alex', 'M', 'Beijing') # 以位置参数形式，按顺序提供部分\n",
    "enroll('Alex', 'M', 'Beijing', 19) # 以位置参数形式，按顺序提供全部\n",
    "enroll('Alex', 'M', age=19) # 按关键字参数形式，提供全部或部分，可不按顺序\n"
   ]
  },
  {
   "cell_type": "markdown",
   "id": "southwest-party",
   "metadata": {},
   "source": [
    "* 默认参数：注意点"
   ]
  },
  {
   "cell_type": "code",
   "execution_count": 9,
   "id": "caroline-motivation",
   "metadata": {},
   "outputs": [
    {
     "name": "stdout",
     "output_type": "stream",
     "text": [
      "1 [1, 2, 'end']\n",
      "2 [3, 4, 'end']\n",
      "3 ['end']\n",
      "4 ['end', 'end']\n",
      "5 ['end', 'end', 'end']\n"
     ]
    }
   ],
   "source": [
    "def add_end(L = []):\n",
    "    ''' 在L列表末尾添加end '''\n",
    "    L.append('end')\n",
    "    return L\n",
    "print(1, add_end([1,2]))\n",
    "print(2, add_end([3,4]))\n",
    "\n",
    "print(3, add_end())\n",
    "print(4, add_end())\n",
    "print(5, add_end())"
   ]
  },
  {
   "cell_type": "code",
   "execution_count": 112,
   "id": "ecological-frank",
   "metadata": {},
   "outputs": [
    {
     "name": "stdout",
     "output_type": "stream",
     "text": [
      "1 [1, 2, 'end']\n",
      "2 [3, 4, 'end']\n",
      "3 ['end']\n",
      "4 ['end']\n",
      "5 ['end']\n"
     ]
    }
   ],
   "source": [
    "def add_end(L = None):\n",
    "    ''' 在L列表末尾添加end '''\n",
    "    if L == None:\n",
    "        L = []\n",
    "    L.append('end')\n",
    "    return L\n",
    "print(1, add_end([1,2]))\n",
    "print(2, add_end([3,4]))\n",
    "\n",
    "print(3, add_end())\n",
    "print(4, add_end())\n",
    "print(5, add_end())"
   ]
  },
  {
   "cell_type": "markdown",
   "id": "devoted-shame",
   "metadata": {},
   "source": [
    "* 参数传递：注意点"
   ]
  },
  {
   "cell_type": "code",
   "execution_count": 22,
   "id": "9965d34e",
   "metadata": {},
   "outputs": [
    {
     "ename": "SyntaxError",
     "evalue": "non-default argument follows default argument (Temp/ipykernel_30244/674000669.py, line 2)",
     "output_type": "error",
     "traceback": [
      "\u001b[1;36m  File \u001b[1;32m\"C:\\Users\\xuan\\AppData\\Local\\Temp/ipykernel_30244/674000669.py\"\u001b[1;36m, line \u001b[1;32m2\u001b[0m\n\u001b[1;33m    def enroll(name, gender, city='Shanghai', age):\u001b[0m\n\u001b[1;37m               ^\u001b[0m\n\u001b[1;31mSyntaxError\u001b[0m\u001b[1;31m:\u001b[0m non-default argument follows default argument\n"
     ]
    }
   ],
   "source": [
    "# 报错：定义形参时，不带默认值的形参需在带默认值的形参之前\n",
    "def enroll(name, gender, city='Shanghai', age):\n",
    "    print('Enrolled', name, gender, city, age)"
   ]
  },
  {
   "cell_type": "code",
   "execution_count": null,
   "id": "eb432ada",
   "metadata": {},
   "outputs": [],
   "source": [
    "def enroll(name, gender, city='Shanghai', age=18):\n",
    "    print('Enrolled', name, gender, city, age)"
   ]
  },
  {
   "cell_type": "code",
   "execution_count": 26,
   "id": "municipal-wyoming",
   "metadata": {},
   "outputs": [
    {
     "ename": "TypeError",
     "evalue": "enroll() got multiple values for argument 'name'",
     "output_type": "error",
     "traceback": [
      "\u001b[1;31m---------------------------------------------------------------------------\u001b[0m",
      "\u001b[1;31mTypeError\u001b[0m                                 Traceback (most recent call last)",
      "\u001b[1;32m~\\AppData\\Local\\Temp/ipykernel_30244/2405852512.py\u001b[0m in \u001b[0;36m<module>\u001b[1;34m\u001b[0m\n\u001b[0;32m      2\u001b[0m \u001b[1;31m#enroll('Xuan') # 对于不带默认值的形参，调用时必须提供实参\u001b[0m\u001b[1;33m\u001b[0m\u001b[1;33m\u001b[0m\u001b[1;33m\u001b[0m\u001b[0m\n\u001b[0;32m      3\u001b[0m \u001b[1;31m#enroll(city='Shanghai', 'Bob', 'F') # 调用函数时，位置参数须在关键字参数之前\u001b[0m\u001b[1;33m\u001b[0m\u001b[1;33m\u001b[0m\u001b[1;33m\u001b[0m\u001b[0m\n\u001b[1;32m----> 4\u001b[1;33m \u001b[0menroll\u001b[0m\u001b[1;33m(\u001b[0m\u001b[1;34m'Bob'\u001b[0m\u001b[1;33m,\u001b[0m \u001b[1;34m'F'\u001b[0m\u001b[1;33m,\u001b[0m \u001b[0mname\u001b[0m\u001b[1;33m=\u001b[0m\u001b[1;34m'Alex'\u001b[0m\u001b[1;33m)\u001b[0m \u001b[1;31m# 相同参数不能重复\u001b[0m\u001b[1;33m\u001b[0m\u001b[1;33m\u001b[0m\u001b[0m\n\u001b[0m\u001b[0;32m      5\u001b[0m \u001b[1;31m#enroll(score=98) # 形参未声明**kwargs的时候，调用时不能有未知关键字\u001b[0m\u001b[1;33m\u001b[0m\u001b[1;33m\u001b[0m\u001b[1;33m\u001b[0m\u001b[0m\n",
      "\u001b[1;31mTypeError\u001b[0m: enroll() got multiple values for argument 'name'"
     ]
    }
   ],
   "source": [
    "# 以下会报错！！！\n",
    "#enroll('Xuan') # 对于不带默认值的形参，调用时必须提供实参\n",
    "#enroll(city='Shanghai', 'Bob', 'F') # 调用函数时，位置参数须在关键字参数之前\n",
    "#enroll('Bob', 'F', name='Alex') # 相同参数不能重复\n",
    "#enroll(score=98) # 形参未声明**kwargs的时候，调用时不能有未知关键字"
   ]
  },
  {
   "cell_type": "markdown",
   "id": "informed-contamination",
   "metadata": {},
   "source": [
    "* 参数传递：总结\n",
    "\n",
    "完整形式"
   ]
  },
  {
   "cell_type": "code",
   "execution_count": 1,
   "id": "fifth-pixel",
   "metadata": {},
   "outputs": [
    {
     "name": "stdout",
     "output_type": "stream",
     "text": [
      "a: a\n",
      "b: b\n",
      "c: c\n",
      "args: (5, 6)\n",
      "kwargs: {'e': 'e', 'f': 'f'}\n"
     ]
    }
   ],
   "source": [
    "def fun(a, b=None, *args,c=None, **kwargs,):\n",
    "    print('a:',a)\n",
    "    print('b:',b)\n",
    "    print('c:',c)\n",
    "    print('args:',args)\n",
    "    print('kwargs:', kwargs)\n",
    "    \n",
    "fun('a','b',5,6,c='c',e='e',f='f')\n",
    "#fun('a',b='b',5,6,c='c',e='e',f='f') # error"
   ]
  },
  {
   "cell_type": "code",
   "execution_count": null,
   "id": "recent-aviation",
   "metadata": {},
   "outputs": [],
   "source": [
    "常见形式"
   ]
  },
  {
   "cell_type": "code",
   "execution_count": 11,
   "id": "soviet-covering",
   "metadata": {},
   "outputs": [
    {
     "name": "stdout",
     "output_type": "stream",
     "text": [
      "a: a\n",
      "b: b\n",
      "c: c\n",
      "a: a\n",
      "b: b\n",
      "c: c\n",
      "a: a\n",
      "b: b\n",
      "c: c\n",
      "a: a\n",
      "b: b\n",
      "c: c\n"
     ]
    }
   ],
   "source": [
    "def fun(a, b=None, c=None):\n",
    "    # a必须，其他任意，无额外参数\n",
    "    print('a:',a)\n",
    "    print('b:',b)\n",
    "    print('c:',c)\n",
    "\n",
    "fun('a', 'b', c='c')\n",
    "fun(a = 'a', b = 'b', c='c')\n",
    "fun(b = 'b',a = 'a', c='c')\n",
    "fun('a', 'b', 'c')"
   ]
  },
  {
   "cell_type": "code",
   "execution_count": 146,
   "id": "limiting-rolling",
   "metadata": {},
   "outputs": [
    {
     "name": "stdout",
     "output_type": "stream",
     "text": [
      "a: a\n",
      "b: b\n",
      "c: c\n",
      "kwargs: {'d': 'd'}\n"
     ]
    }
   ],
   "source": [
    "def fun(a, b=None, c=None, **kwargs):\n",
    "    # a必须，其他任意，有额外参数\n",
    "    print('a:',a)\n",
    "    print('b:',b)\n",
    "    print('c:',c)\n",
    "    print('kwargs:', kwargs)\n",
    "\n",
    "fun('a', 'b', c='c',d='d')"
   ]
  },
  {
   "cell_type": "markdown",
   "id": "fundamental-meeting",
   "metadata": {},
   "source": [
    "* 随堂练习\n",
    "\n",
    "编写一个名为`describe_city()`的函数，它接受一座城市的名字以及该城市所属的国家\n",
    "\n",
    "这个函数应打印一个简单的句子，如：`Shanghai is in China`。\n",
    "\n",
    "为存储国家的形参指定默认值\n",
    "\n",
    "为三座不同的城市调用这个函数，且其中至少有一座城市不属于默认国家\n",
    "\n"
   ]
  },
  {
   "cell_type": "code",
   "execution_count": 4,
   "id": "1093164d",
   "metadata": {},
   "outputs": [
    {
     "name": "stdout",
     "output_type": "stream",
     "text": [
      "Beijing is in China\n",
      "Shanghai is in China\n",
      "New York is in US\n"
     ]
    }
   ],
   "source": [
    "def describe_city(city, country='China'):\n",
    "    print(f\"{city} is in {country}\")\n",
    "describe_city('Beijing') \n",
    "describe_city('Shanghai', 'China')    \n",
    "describe_city('New York', 'US')   \n"
   ]
  },
  {
   "cell_type": "code",
   "execution_count": 16,
   "id": "operating-mailing",
   "metadata": {},
   "outputs": [
    {
     "name": "stdout",
     "output_type": "stream",
     "text": [
      "Shanghai is in China\n",
      "Shanghai is in China\n",
      "New York is in US\n",
      "Seoul is in Korea\n"
     ]
    }
   ],
   "source": [
    "# code here\n",
    "def describe_city(city, country = 'China'):\n",
    "    print('%s is in %s'%(city, country))\n",
    "\n",
    "describe_city('Shanghai')\n",
    "describe_city('Shanghai', 'China')\n",
    "describe_city('New York', county = 'US')  \n",
    "describe_city('Seoul', county = 'Korea')\n",
    "    "
   ]
  },
  {
   "cell_type": "markdown",
   "id": "backed-affairs",
   "metadata": {},
   "source": [
    "* 函数返回值"
   ]
  },
  {
   "cell_type": "code",
   "execution_count": 27,
   "id": "arranged-motel",
   "metadata": {},
   "outputs": [
    {
     "name": "stdout",
     "output_type": "stream",
     "text": [
      "(15, 5, 3.0)\n",
      "15\n",
      "5\n",
      "3.0\n"
     ]
    }
   ],
   "source": [
    "def sum_len_avg(L):\n",
    "    summation = sum(L)\n",
    "    length = len(L)\n",
    "    average = summation/length\n",
    "    return summation, length, average\n",
    "    print('done') # return之后的语句不执行\n",
    "\n",
    "# all returned values in one variable\n",
    "results = sum_len_avg([1,2,3,4,5])\n",
    "print(results)\n",
    "\n",
    "# one variable for one returned value\n",
    "S, L, A = sum_len_avg([1,2,3,4,5])\n",
    "print(S)\n",
    "print(L)\n",
    "print(A)\n"
   ]
  },
  {
   "cell_type": "code",
   "execution_count": 159,
   "id": "qualified-pantyhose",
   "metadata": {},
   "outputs": [
    {
     "name": "stdout",
     "output_type": "stream",
     "text": [
      "None\n"
     ]
    }
   ],
   "source": [
    "def sum_len_avg2(L):\n",
    "    summation = sum(L)\n",
    "    length = len(L)\n",
    "    average = summation/length\n",
    "    return \n",
    "\n",
    "results = sum_len_avg2([1,2,3,4,5])\n",
    "print(results)"
   ]
  },
  {
   "cell_type": "markdown",
   "id": "aggregate-electronics",
   "metadata": {},
   "source": [
    "* 随堂练习\n",
    "\n",
    "编写一个名为make_album()的函数，它创建一个描述音乐专辑的字典。\n",
    "- 这个函数应接受歌手的名字name、专辑名album和歌曲数number\n",
    "  - name, album: 必须的形参\n",
    "  - number: 可选形参，自己想默认在该怎么设置\n",
    "- 返回值：\n",
    "  - 如果调用时候，没有指定number，则返回包含name, album的字典\n",
    "  - 如果调用时候，指定了number，则返回包含所有信息的字典\n",
    "\n",
    "**测试**：使用这个函数创建三个表示不同专辑的字典，并打印每个返回的值，以核实字典正确地存储了专辑的信息。\n",
    "- 至少在一次调用中指定专辑包含的歌曲数\n",
    "\n"
   ]
  },
  {
   "cell_type": "code",
   "execution_count": 34,
   "id": "democratic-flush",
   "metadata": {},
   "outputs": [
    {
     "name": "stdout",
     "output_type": "stream",
     "text": [
      "Alex\n",
      "{'name': 'Alex', 'album': 'More Love'}\n",
      "John\n",
      "{'name': 'John', 'album': 'Album One'}\n",
      "Bob\n",
      "{'name': 'Bob', 'album': 'Another Album', 'number': 3}\n"
     ]
    }
   ],
   "source": [
    "\n",
    "def make_album(name, album, number = None):\n",
    "    print(name)\n",
    "    if not number == None:\n",
    "        return {'name':name, 'album':album, 'number':number}\n",
    "    else:\n",
    "        return {'name':name, 'album':album}\n",
    "\n",
    "print(make_album('Alex', 'More Love'))\n",
    "print(make_album('John', 'Album One'))\n",
    "print(make_album('Bob', 'Another Album', 3))"
   ]
  },
  {
   "cell_type": "markdown",
   "id": "5101deaf",
   "metadata": {},
   "source": [
    "* return兼具break功能，还能简化逻辑\n",
    "\n",
    "改写lab2的题目：`isalnum`函数的实现, **注意这里return的用法，碰到不符合条件的，就return False; 如果没有return，跑到结束，说明全部符合条件，就return True**\n",
    "\n",
    "字符串的`isalnum`函数能够用于判断一个字符串是否只包含数字，英文字母和汉字。以下请自己实现类似功能：\n",
    "\n",
    "给定一个字符串，判断是否只包含数字`0-9`、大小写英文字母`a-z`和`A-Z`。"
   ]
  },
  {
   "cell_type": "code",
   "execution_count": 2,
   "id": "4b7ef223",
   "metadata": {},
   "outputs": [
    {
     "name": "stdout",
     "output_type": "stream",
     "text": [
      "该字符串仅含数字与字母\n"
     ]
    }
   ],
   "source": [
    "# 思路二：先默认True,再看是否有字符不符合条件\n",
    "Str = input(\"输入字符串：\")\n",
    "is_al_num = True\n",
    "for char in Str:\n",
    "    if not((char >= '0' and char <= '9') or (char >= 'a' and char <= 'z') or (char >= 'A' and char <= 'Z')):\n",
    "        is_al_num = False\n",
    "        break\n",
    "if is_al_num:\n",
    "    print(\"该字符串仅含数字与字母\")\n",
    "else:\n",
    "    print(\"该字符串除了数字与字母，还有其他\")\n"
   ]
  },
  {
   "cell_type": "code",
   "execution_count": 70,
   "id": "9ab88952",
   "metadata": {},
   "outputs": [
    {
     "name": "stdout",
     "output_type": "stream",
     "text": [
      "输入字符串：dfs#$\n",
      "该字符串除了数字与字母，还有其他\n"
     ]
    }
   ],
   "source": [
    "def my_isalnum(Str):\n",
    "    for char in Str:\n",
    "        if not ((char > '0' and char < '9') or (char > 'a' and char < 'z') or (char > 'A' and char < 'Z')):\n",
    "            return False\n",
    "    return True\n",
    "\n",
    "Str = input(\"输入字符串：\")\n",
    "if my_isalnum(Str):\n",
    "    print(\"该字符串仅含数字与字母\")\n",
    "else:\n",
    "    print(\"该字符串除了数字与字母，还有其他\")"
   ]
  },
  {
   "cell_type": "markdown",
   "id": "cloudy-qualification",
   "metadata": {},
   "source": [
    "* 全局变量和局部变量"
   ]
  },
  {
   "cell_type": "code",
   "execution_count": 5,
   "id": "scenic-carter",
   "metadata": {},
   "outputs": [
    {
     "name": "stdout",
     "output_type": "stream",
     "text": [
      "函数内是局部变量 :  30\n",
      "Xuan\n",
      "函数外是全局变量 :  0\n"
     ]
    }
   ],
   "source": [
    "total = 0 # 这是一个全局变量\n",
    "name = 'Xuan'\n",
    "def sum( arg1, arg2 ):\n",
    "    total = arg1 + arg2 # total在这里是局部变量.\n",
    "    print (\"函数内是局部变量 : \", total)\n",
    "    return total\n",
    " \n",
    "#调用sum函数\n",
    "sum(10, 20)\n",
    "print (\"函数外是全局变量 : \", total)"
   ]
  },
  {
   "cell_type": "markdown",
   "id": "equivalent-brazil",
   "metadata": {},
   "source": [
    "* 如何通过函数修改可变对象\n",
    "\n",
    "实现一个函数，每次在列表后边添加`'end'`"
   ]
  },
  {
   "cell_type": "code",
   "execution_count": 27,
   "id": "martial-screening",
   "metadata": {},
   "outputs": [
    {
     "name": "stdout",
     "output_type": "stream",
     "text": [
      "2508818668096\n",
      "2508818668096\n",
      "[1, 2, 3, 'end']\n"
     ]
    }
   ],
   "source": [
    "# 方式一：无返回值，直接对原对象进行修改\n",
    "def add_end_to_list(L):\n",
    "    L.append('end')\n",
    "\n",
    "List = [1,2,3]\n",
    "print(id(List))\n",
    "add_end_to_list(List)\n",
    "print(id(List))\n",
    "print(List)"
   ]
  },
  {
   "cell_type": "code",
   "execution_count": 29,
   "id": "functional-drink",
   "metadata": {},
   "outputs": [
    {
     "name": "stdout",
     "output_type": "stream",
     "text": [
      "2508817160768\n",
      "2508817160768\n",
      "[1, 2, 3, 'end']\n"
     ]
    }
   ],
   "source": [
    "# 方式二：通过函数返回值，返回原对象\n",
    "def add_end_to_list(L):\n",
    "    L.append('end')\n",
    "    return L\n",
    "\n",
    "List = [1,2,3]\n",
    "print(id(List))\n",
    "List = add_end_to_list(List)\n",
    "print(id(List))\n",
    "print(List)"
   ]
  },
  {
   "cell_type": "code",
   "execution_count": 28,
   "id": "43ff143d",
   "metadata": {},
   "outputs": [
    {
     "name": "stdout",
     "output_type": "stream",
     "text": [
      "2508817925632\n",
      "2508814735296\n",
      "[1, 2, 3, 'end']\n"
     ]
    }
   ],
   "source": [
    "# 方式三：通过函数返回值，返回新建的对象\n",
    "def add_end_to_list(L):\n",
    "    L = L + ['end']\n",
    "    return L\n",
    "\n",
    "List = [1,2,3]\n",
    "print(id(List))\n",
    "List = add_end_to_list(List)\n",
    "print(id(List))\n",
    "print(List)"
   ]
  },
  {
   "cell_type": "markdown",
   "id": "6fcdb748",
   "metadata": {},
   "source": [
    "* 回顾： list.sort() vs sorted"
   ]
  },
  {
   "cell_type": "code",
   "execution_count": 35,
   "id": "8549ac0b",
   "metadata": {},
   "outputs": [
    {
     "name": "stdout",
     "output_type": "stream",
     "text": [
      "[3, 4, 6, 2] 2508825710080\n",
      "[2, 3, 4, 6] 2508825710080\n"
     ]
    }
   ],
   "source": [
    "#  --> 属于方式一：无返回值，直接对原对象进行修改\n",
    "L = [3,4,6,2]\n",
    "print(L, id(L))\n",
    "L.sort()\n",
    "print(L, id(L))"
   ]
  },
  {
   "cell_type": "code",
   "execution_count": 36,
   "id": "9752ec1d",
   "metadata": {},
   "outputs": [
    {
     "name": "stdout",
     "output_type": "stream",
     "text": [
      "[3, 4, 6, 2] 2508825858368\n",
      "[2, 3, 4, 6] 2508826035008\n"
     ]
    }
   ],
   "source": [
    "#  --> 属于方式三：通过函数返回值，返回新建的对象\n",
    "L = [3,4,6,2]\n",
    "print(L, id(L))\n",
    "L = sorted(L)\n",
    "print(L, id(L))"
   ]
  },
  {
   "cell_type": "markdown",
   "id": "awful-negotiation",
   "metadata": {},
   "source": [
    "* 如何防止函数修改可变对象"
   ]
  },
  {
   "cell_type": "code",
   "execution_count": 195,
   "id": "mighty-disney",
   "metadata": {},
   "outputs": [
    {
     "name": "stdout",
     "output_type": "stream",
     "text": [
      "id(L) inside function: 140670973564480\n",
      "id(List) outside function: 140668783319040\n",
      "id(new_List) outside function: 140670973564480\n",
      "List: [1, 2, 3]\n",
      "new_List: [1, 2, 3, 'end']\n"
     ]
    }
   ],
   "source": [
    "# 此方式是在函数内部修改了List的一份拷贝\n",
    "def add_end_to_list(L):\n",
    "    print('id(L) inside function:',id(L))\n",
    "    L.append('end')\n",
    "    return L\n",
    "\n",
    "List = [1,2,3]\n",
    "new_List = add_end_to_list(List[:])\n",
    "print('id(List) outside function:',id(List))\n",
    "print('id(new_List) outside function:',id(new_List))\n",
    "print('List:', List)\n",
    "print('new_List:', new_List)"
   ]
  },
  {
   "cell_type": "markdown",
   "id": "undefined-machine",
   "metadata": {},
   "source": [
    "* 函数递归\n",
    "\n",
    "例子：编写函数fact(n)计算n的阶乘"
   ]
  },
  {
   "cell_type": "code",
   "execution_count": 2,
   "id": "north-diabetes",
   "metadata": {},
   "outputs": [
    {
     "data": {
      "text/plain": [
       "120"
      ]
     },
     "execution_count": 2,
     "metadata": {},
     "output_type": "execute_result"
    }
   ],
   "source": [
    "# 不利用递归\n",
    "def fact(an):\n",
    "    prod = 1\n",
    "    for i in range(1, n+1):\n",
    "        prod *= i\n",
    "    return prod\n",
    "fact(5)"
   ]
  },
  {
   "cell_type": "code",
   "execution_count": 4,
   "id": "sought-manor",
   "metadata": {},
   "outputs": [
    {
     "data": {
      "text/plain": [
       "720"
      ]
     },
     "execution_count": 4,
     "metadata": {},
     "output_type": "execute_result"
    }
   ],
   "source": [
    "# 利用递归\n",
    "def fact(n):\n",
    "    if n == 1:\n",
    "        return 1\n",
    "    return n*fact(n-1)\n",
    "fact(5)"
   ]
  },
  {
   "cell_type": "markdown",
   "id": "unlikely-excuse",
   "metadata": {},
   "source": [
    "* 匿名函数"
   ]
  },
  {
   "cell_type": "code",
   "execution_count": 17,
   "id": "legendary-anthony",
   "metadata": {},
   "outputs": [
    {
     "name": "stdout",
     "output_type": "stream",
     "text": [
      "9\n",
      "16\n"
     ]
    }
   ],
   "source": [
    "def f(x):\n",
    "    return x*x\n",
    "\n",
    "f2 = lambda x: x * x\n",
    "\n",
    "print(f(3))\n",
    "print(f2(4))"
   ]
  },
  {
   "cell_type": "markdown",
   "id": "charitable-trinity",
   "metadata": {},
   "source": [
    "将列表`[1,2,3,4]`的每个元素都取平方"
   ]
  },
  {
   "cell_type": "code",
   "execution_count": 4,
   "id": "aa9201f2",
   "metadata": {},
   "outputs": [
    {
     "data": {
      "text/plain": [
       "[1, 4, 9, 16]"
      ]
     },
     "execution_count": 4,
     "metadata": {},
     "output_type": "execute_result"
    }
   ],
   "source": [
    "# 使用正常函数\n",
    "def square(x):\n",
    "    return x*x\n",
    "list(map(square, [1,2,3,4]))"
   ]
  },
  {
   "cell_type": "code",
   "execution_count": 5,
   "id": "c88f6145",
   "metadata": {},
   "outputs": [
    {
     "data": {
      "text/plain": [
       "[1, 4, 9, 16]"
      ]
     },
     "execution_count": 5,
     "metadata": {},
     "output_type": "execute_result"
    }
   ],
   "source": [
    "# 使用匿名函数\n",
    "list(map(lambda x: x*x, [1,2,3,4]))"
   ]
  },
  {
   "cell_type": "markdown",
   "id": "f4a62a8a",
   "metadata": {},
   "source": [
    "取出列表`[1,2,3,4,5,6]`的偶数"
   ]
  },
  {
   "cell_type": "code",
   "execution_count": 6,
   "id": "6b4a898c",
   "metadata": {},
   "outputs": [
    {
     "data": {
      "text/plain": [
       "[2, 4, 6]"
      ]
     },
     "execution_count": 6,
     "metadata": {},
     "output_type": "execute_result"
    }
   ],
   "source": [
    "# 使用正常函数\n",
    "def is_odd(x):\n",
    "    return x%2 == 0 # 返回值必须是bool\n",
    "list(filter(is_odd, [1,2,3,4,5,6]))"
   ]
  },
  {
   "cell_type": "code",
   "execution_count": 7,
   "id": "005c46c4",
   "metadata": {},
   "outputs": [
    {
     "data": {
      "text/plain": [
       "[2, 4, 6]"
      ]
     },
     "execution_count": 7,
     "metadata": {},
     "output_type": "execute_result"
    }
   ],
   "source": [
    "list(filter(lambda x: x%2 == 0, [1,2,3,4,5,6]))"
   ]
  },
  {
   "cell_type": "markdown",
   "id": "geographic-bunch",
   "metadata": {},
   "source": [
    "* 函数注释"
   ]
  },
  {
   "cell_type": "code",
   "execution_count": 38,
   "id": "impressed-senegal",
   "metadata": {},
   "outputs": [
    {
     "name": "stdout",
     "output_type": "stream",
     "text": [
      "\n",
      "    get the maximum of a and b\n",
      "    :param a: int\n",
      "    :param b: int\n",
      "    :return: maximum of a and b\n",
      "    \n"
     ]
    }
   ],
   "source": [
    "def max(a,b):\n",
    "    # test1\n",
    "    '''\n",
    "    get the maximum of a and b\n",
    "    :param a: int\n",
    "    :param b: int\n",
    "    :return: maximum of a and b\n",
    "    '''\n",
    "    ''' test2 '''\n",
    "    return a if a > b else b\n",
    "print(max.__doc__)"
   ]
  },
  {
   "cell_type": "markdown",
   "id": "arabic-wheel",
   "metadata": {},
   "source": [
    "### 2. 模块\n",
    "\n",
    "* 导入整个模块"
   ]
  },
  {
   "cell_type": "code",
   "execution_count": 2,
   "id": "36e888db",
   "metadata": {},
   "outputs": [
    {
     "name": "stdout",
     "output_type": "stream",
     "text": [
      "5\n",
      "3.1415927\n"
     ]
    }
   ],
   "source": [
    "# 注意： \n",
    "# Jupyter Notebook环境可能需要先执行这一行（依版本而异）\n",
    "# %run utilities.py\n",
    "\n",
    "import utilities\n",
    "print(utilities.max(4,5))\n",
    "print(utilities.pi)"
   ]
  },
  {
   "cell_type": "markdown",
   "id": "awful-finnish",
   "metadata": {},
   "source": [
    "* 导入整个模块,并指定别名"
   ]
  },
  {
   "cell_type": "code",
   "execution_count": 4,
   "id": "minor-mexican",
   "metadata": {},
   "outputs": [
    {
     "name": "stdout",
     "output_type": "stream",
     "text": [
      "5\n",
      "3.1415927\n"
     ]
    }
   ],
   "source": [
    "# 注意：\n",
    "# Jupyter Notebook环境可能需要先执行这一行（依版本而异）\n",
    "# %run utilities.py\n",
    "\n",
    "import utilities as utils\n",
    "print(utils.max(4,5))\n",
    "print(utils.pi)"
   ]
  },
  {
   "cell_type": "markdown",
   "id": "waiting-builder",
   "metadata": {},
   "source": [
    "* 导入整个模块：避免名字冲突"
   ]
  },
  {
   "cell_type": "code",
   "execution_count": 6,
   "id": "22c9d4ef",
   "metadata": {},
   "outputs": [
    {
     "name": "stdout",
     "output_type": "stream",
     "text": [
      "5\n",
      "-------\n",
      "comparing 4 5\n",
      "5\n"
     ]
    }
   ],
   "source": [
    "# 避免名字冲突\n",
    "\n",
    "# 注意：\n",
    "# Jupyter Notebook环境可能需要先执行这一行（依版本而异）\n",
    "#%run utilities.py\n",
    "#%run utilities2.py\n",
    "\n",
    "import utilities as u1\n",
    "import utilities2 as u2\n",
    "print(u1.max(4,5))\n",
    "print('-------')\n",
    "print(u2.max(4,5))"
   ]
  },
  {
   "cell_type": "markdown",
   "id": "occasional-investing",
   "metadata": {},
   "source": [
    "* 导入模块内特定的函数或者变量"
   ]
  },
  {
   "cell_type": "code",
   "execution_count": 5,
   "id": "aggregate-success",
   "metadata": {},
   "outputs": [
    {
     "name": "stdout",
     "output_type": "stream",
     "text": [
      "5\n",
      "3.1415927\n"
     ]
    }
   ],
   "source": [
    "# 注意：\n",
    "# Jupyter Notebook环境可能需要先执行这一行（依版本而异）\n",
    "# %run utilities.py\n",
    "\n",
    "from utilities import max\n",
    "from utilities import pi as PI\n",
    "print(max(4,5))\n",
    "print(PI)"
   ]
  },
  {
   "cell_type": "markdown",
   "id": "elect-cross",
   "metadata": {},
   "source": [
    "* 导入模块中的所有函数和变量"
   ]
  },
  {
   "cell_type": "code",
   "execution_count": 11,
   "id": "recovered-writer",
   "metadata": {},
   "outputs": [
    {
     "name": "stdout",
     "output_type": "stream",
     "text": [
      "3.1415927\n",
      "5\n",
      "3.1415927\n"
     ]
    }
   ],
   "source": [
    "# 注意：\n",
    "# Jupyter Notebook环境可能需要先执行这一行（依版本而异）\n",
    "# %run utilities.py\n",
    "\n",
    "from utilities import *\n",
    "print(max(4,5))\n",
    "print(pi)"
   ]
  },
  {
   "cell_type": "markdown",
   "id": "foreign-assessment",
   "metadata": {},
   "source": [
    "* 课堂练习： 将以下任务的代码函数化（此为lab2的问题）\n",
    "\n",
    "最长回文子串\n",
    "\n",
    "回文串是指正序（从左向右）和倒序（从右向左）是一样的字符串。例如，`a22a` 是回文，而 `abc` 不是。\n",
    "    \n",
    "编写程序完成以下任务：假设Str是一个只包含字母与数组的字符串，请找出其中最长的回文子串。如果有多个最长回文子串，输出其中任意一个即可。"
   ]
  },
  {
   "cell_type": "code",
   "execution_count": 44,
   "id": "advisory-parliament",
   "metadata": {},
   "outputs": [
    {
     "name": "stdout",
     "output_type": "stream",
     "text": [
      "The index: (6, 10)\n",
      "The string: iesei\n"
     ]
    }
   ],
   "source": [
    "# 课堂解法\n",
    "Str = '2dfjjoieseite66e'\n",
    "\n",
    "max_length = 0\n",
    "index_max_length = (0,0)\n",
    "length = len(Str)\n",
    "\n",
    "for i in range(length): #i代表子串开始的索引\n",
    "    for j in range(i, length): #j代表子串结束的索引（包括该字符）\n",
    "        extracted_substr = Str[i:j+1] # 长度为 j+1-i\n",
    "        if j+1-i > max_length and extracted_substr == extracted_substr[::-1]:\n",
    "            max_length = j+1-i\n",
    "            index_max_length = (i,j)\n",
    "print('The index:', index_max_length)\n",
    "print('The string:',Str[index_max_length[0]:index_max_length[1]+1])\n"
   ]
  },
  {
   "cell_type": "code",
   "execution_count": null,
   "id": "871bb149",
   "metadata": {},
   "outputs": [],
   "source": [
    "# 课堂解法\n",
    "Str = '2dfjjoieseite66e'\n",
    "\n",
    "max_length = 0\n",
    "index_max_length = (0,0)\n",
    "length = len(Str)\n",
    "\n",
    "for i in range(length): #i代表子串开始的索引\n",
    "    for j in range(i, length): #j代表子串结束的索引（包括该字符）\n",
    "        extracted_substr = Str[i:j+1] # 长度为 j+1-i\n",
    "        if j+1-i > max_length and extracted_substr == extracted_substr[::-1]:\n",
    "            max_length = j+1-i\n",
    "            index_max_length = (i,j)\n",
    "print('The index:', index_max_length)\n",
    "print('The string:',Str[index_max_length[0]:index_max_length[1]+1])\n"
   ]
  },
  {
   "cell_type": "code",
   "execution_count": 7,
   "id": "plastic-intake",
   "metadata": {},
   "outputs": [],
   "source": [
    "def is_huiwen(s):\n",
    "    return s == s[::-1]\n",
    "\n",
    "def find_max_huiwen(Str):\n",
    "    '''description here'''\n",
    "    max_length = 0\n",
    "    index_max_length = (0,0)\n",
    "    length = len(Str)\n",
    "\n",
    "    for i in range(length): #i代表子串开始的索引\n",
    "        for j in range(i, length): #j代表子串结束的索引（包括该字符）\n",
    "            if j+1-i > max_length and is_huiwen(Str[i:j+1]):\n",
    "                max_length = j+1-i\n",
    "                index_max_length = (i,j)\n",
    "    return index_max_length, Str[index_max_length[0]:index_max_length[1]+1]"
   ]
  },
  {
   "cell_type": "code",
   "execution_count": 8,
   "id": "165c59d7",
   "metadata": {},
   "outputs": [
    {
     "name": "stdout",
     "output_type": "stream",
     "text": [
      "The index: (6, 10)\n",
      "The String: iesei\n"
     ]
    }
   ],
   "source": [
    "Str = '2dfjjoieseite66e'\n",
    "index, substr = find_max_huiwen(Str)\n",
    "print('The index:', index)            \n",
    "print('The String:', substr)"
   ]
  },
  {
   "cell_type": "markdown",
   "id": "measured-employer",
   "metadata": {},
   "source": [
    "* 课堂练习：打印乘法表\n",
    "\n",
    "编写函数`print_line(n)`能打印如下乘法表的第`n`行\n",
    "\n",
    "编写函数`print_table()`调用`print_line(n)`并打印如下乘法表，\n",
    "\n",
    "```\n",
    "1*1 = 1\n",
    "1*2 = 2  2*2 = 4\n",
    "1*3 = 3  2*3 = 6  3*3 = 9\n",
    "1*4 = 4  2*4 = 8  3*4 = 12  4*4 = 16\n",
    "1*5 = 5  2*5 = 10  3*5 = 15  4*5 = 20  5*5 = 25\n",
    "1*6 = 6  2*6 = 12  3*6 = 18  4*6 = 24  5*6 = 30  6*6 = 36\n",
    "1*7 = 7  2*7 = 14  3*7 = 21  4*7 = 28  5*7 = 35  6*7 = 42  7*7 = 49\n",
    "1*8 = 8  2*8 = 16  3*8 = 24  4*8 = 32  5*8 = 40  6*8 = 48  7*8 = 56  8*8 = 64\n",
    "1*9 = 9  2*9 = 18  3*9 = 27  4*9 = 36  5*9 = 45  6*9 = 54  7*9 = 63  8*9 = 72  9*9 = 81\n",
    "```"
   ]
  },
  {
   "cell_type": "code",
   "execution_count": 67,
   "id": "opponent-density",
   "metadata": {},
   "outputs": [
    {
     "name": "stdout",
     "output_type": "stream",
     "text": [
      "1*1 = 1\n",
      "1*2 = 2  2*2 = 4\n",
      "1*3 = 3  2*3 = 6  3*3 = 9\n",
      "1*4 = 4  2*4 = 8  3*4 = 12  4*4 = 16\n",
      "1*5 = 5  2*5 = 10  3*5 = 15  4*5 = 20  5*5 = 25\n",
      "1*6 = 6  2*6 = 12  3*6 = 18  4*6 = 24  5*6 = 30  6*6 = 36\n",
      "1*7 = 7  2*7 = 14  3*7 = 21  4*7 = 28  5*7 = 35  6*7 = 42  7*7 = 49\n",
      "1*8 = 8  2*8 = 16  3*8 = 24  4*8 = 32  5*8 = 40  6*8 = 48  7*8 = 56  8*8 = 64\n",
      "1*9 = 9  2*9 = 18  3*9 = 27  4*9 = 36  5*9 = 45  6*9 = 54  7*9 = 63  8*9 = 72  9*9 = 81\n"
     ]
    }
   ],
   "source": [
    "def print_line(line_number):\n",
    "    lst = []\n",
    "    for i in range(1, line_number+1):\n",
    "        part = \"%d*%d = %2d\"%(i, line_number, i*line_number)\n",
    "        lst.append(part)\n",
    "\n",
    "    print(\"  \".join(lst))\n",
    "\n",
    "\n",
    "def print_table():\n",
    "    for i in range(1, 10):\n",
    "        print_line(i)\n",
    "\n",
    "\n",
    "print_table()"
   ]
  },
  {
   "cell_type": "markdown",
   "id": "28a1c730",
   "metadata": {},
   "source": [
    "### 3. 课后练习"
   ]
  },
  {
   "cell_type": "markdown",
   "id": "eed50ca6",
   "metadata": {},
   "source": [
    "* 课后练习1"
   ]
  },
  {
   "cell_type": "markdown",
   "id": "af5b7c06",
   "metadata": {},
   "source": [
    "函数`enumerate()`可以在遍历可迭代对象的时候，额外产生一个从`start`开始的计数器，其原理是将计数器组成的列表和原来的可迭代对象组装成新的列表。\n",
    "\n",
    "如`list(enumerate(['a','b','c'], start=1))`的结果是`[(1, 'a'), (2, 'b'), (3, 'c')]`\n",
    "\n",
    "请实现自己的`my_enumerate()`函数，具有与`enumerate()`一样的功能。`my_enumerate()`函数接受两个参数`iterable`和`start`，其中`start`默认为`0`，最后返回一个列表。\n",
    "\n",
    "最后，通过将以下代码的`enumerate()`替换成`my_enumerate()`，测试你写的函数：\n",
    "```\n",
    "scores = {\n",
    "    '52001':90,\n",
    "    '52002':78,\n",
    "    '52003':88,\n",
    "}\n",
    "\n",
    "for i, item in enumerate(scores.items(), start=1):\n",
    "    print('%d-th student: ID %s, score %d'%(i, item[0], item[1]))\n",
    "```"
   ]
  },
  {
   "cell_type": "code",
   "execution_count": 89,
   "id": "b4a97351",
   "metadata": {},
   "outputs": [],
   "source": [
    "def my_enumerate(iterable, start = 0):\n",
    "    results = [] # 用于保存结果\n",
    "    counter = start #计数器\n",
    "    for item in iterable:\n",
    "        results.append((counter, item))\n",
    "        counter += 1\n",
    "    return results"
   ]
  },
  {
   "cell_type": "code",
   "execution_count": 90,
   "id": "e715e1d1",
   "metadata": {},
   "outputs": [
    {
     "name": "stdout",
     "output_type": "stream",
     "text": [
      "1-th student: ID 52001, score 90\n",
      "2-th student: ID 52002, score 78\n",
      "3-th student: ID 52003, score 88\n"
     ]
    }
   ],
   "source": [
    "# 内置的enumerate函数\n",
    "scores = {\n",
    "    '52001':90,\n",
    "    '52002':78,\n",
    "    '52003':88,\n",
    "}\n",
    "for i, item in enumerate(scores.items(), start=1):\n",
    "    print('%d-th student: ID %s, score %d'%(i, item[0], item[1]))"
   ]
  },
  {
   "cell_type": "code",
   "execution_count": 86,
   "id": "d1b6a7ba",
   "metadata": {},
   "outputs": [
    {
     "data": {
      "text/plain": [
       "[(4, 'a'), (5, 'b'), (6, 'c')]"
      ]
     },
     "execution_count": 86,
     "metadata": {},
     "output_type": "execute_result"
    }
   ],
   "source": [
    "# 测试下自己写的enumerate函数\n",
    "my_enumerate(['a','b','c'], start=4)"
   ]
  },
  {
   "cell_type": "code",
   "execution_count": 85,
   "id": "d7602dfb",
   "metadata": {},
   "outputs": [
    {
     "name": "stdout",
     "output_type": "stream",
     "text": [
      "1-th student: ID 52001, score 90\n",
      "2-th student: ID 52002, score 78\n",
      "3-th student: ID 52003, score 88\n"
     ]
    }
   ],
   "source": [
    "# 实际代码使用自己写的enumerate函数\n",
    "scores = {\n",
    "    '52001':90,\n",
    "    '52002':78,\n",
    "    '52003':88,\n",
    "}\n",
    "for i, item in my_enumerate(scores.items(), start=1):\n",
    "    print('%d-th student: ID %s, score %d'%(i, item[0], item[1]))"
   ]
  }
 ],
 "metadata": {
  "kernelspec": {
   "display_name": "Python 3 (ipykernel)",
   "language": "python",
   "name": "python3"
  },
  "language_info": {
   "codemirror_mode": {
    "name": "ipython",
    "version": 3
   },
   "file_extension": ".py",
   "mimetype": "text/x-python",
   "name": "python",
   "nbconvert_exporter": "python",
   "pygments_lexer": "ipython3",
   "version": "3.11.5"
  },
  "toc": {
   "base_numbering": 1,
   "nav_menu": {},
   "number_sections": true,
   "sideBar": true,
   "skip_h1_title": true,
   "title_cell": "Table of Contents",
   "title_sidebar": "Contents",
   "toc_cell": false,
   "toc_position": {},
   "toc_section_display": true,
   "toc_window_display": false
  },
  "varInspector": {
   "cols": {
    "lenName": 16,
    "lenType": 16,
    "lenVar": 40
   },
   "kernels_config": {
    "python": {
     "delete_cmd_postfix": "",
     "delete_cmd_prefix": "del ",
     "library": "var_list.py",
     "varRefreshCmd": "print(var_dic_list())"
    },
    "r": {
     "delete_cmd_postfix": ") ",
     "delete_cmd_prefix": "rm(",
     "library": "var_list.r",
     "varRefreshCmd": "cat(var_dic_list()) "
    }
   },
   "types_to_exclude": [
    "module",
    "function",
    "builtin_function_or_method",
    "instance",
    "_Feature"
   ],
   "window_display": false
  }
 },
 "nbformat": 4,
 "nbformat_minor": 5
}
