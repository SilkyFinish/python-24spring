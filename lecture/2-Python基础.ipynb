{
 "cells": [
  {
   "cell_type": "markdown",
   "metadata": {},
   "source": [
    "Python基础\n",
    "========\n",
    "\n",
    "BUSS1301 程序设计，2024年春季\n",
    "\n",
    "Contents\n",
    "===\n",
    "* 1. 语言基本规则\n",
    "* 2. 标识符\n",
    "* 3. 数据类型\n",
    "* 4. 数据结构：列表（List）\n",
    "* 5. 课后练习\n",
    "\n",
    "### 1. 语言基本规则\n",
    "* 语句区分"
   ]
  },
  {
   "cell_type": "code",
   "execution_count": 1,
   "metadata": {},
   "outputs": [],
   "source": [
    "A = 1\n",
    "B = 1.2"
   ]
  },
  {
   "cell_type": "code",
   "execution_count": 5,
   "metadata": {},
   "outputs": [
    {
     "name": "stdout",
     "output_type": "stream",
     "text": [
      "6\n"
     ]
    }
   ],
   "source": [
    "a = 1; b = 2; c = 3\n",
    "total = a +\\\n",
    "    b + \\\n",
    "    c\n",
    "print(total)"
   ]
  },
  {
   "cell_type": "code",
   "execution_count": 2,
   "metadata": {},
   "outputs": [
    {
     "name": "stdout",
     "output_type": "stream",
     "text": [
      "['Monday', 'Tuesday', 'Wednesday', 'Thursday', 'Friday']\n"
     ]
    }
   ],
   "source": [
    "days = ['Monday', 'Tuesday', 'Wednesday',\n",
    "        'Thursday', 'Friday']\n",
    "print(days)"
   ]
  },
  {
   "cell_type": "markdown",
   "metadata": {},
   "source": [
    "* 缩进"
   ]
  },
  {
   "cell_type": "code",
   "execution_count": 9,
   "metadata": {},
   "outputs": [
    {
     "ename": "IndentationError",
     "evalue": "unindent does not match any outer indentation level (<tokenize>, line 4)",
     "output_type": "error",
     "traceback": [
      "\u001b[1;36m  File \u001b[1;32m<tokenize>:4\u001b[1;36m\u001b[0m\n\u001b[1;33m    print(\"True\")\u001b[0m\n\u001b[1;37m    ^\u001b[0m\n\u001b[1;31mIndentationError\u001b[0m\u001b[1;31m:\u001b[0m unindent does not match any outer indentation level\n"
     ]
    }
   ],
   "source": [
    "x = 3\n",
    "if x > 1:\n",
    "    print(\"Answer\")\n",
    "    print(\"True\")\n",
    "else:\n",
    "    print(\"Answer\")\n",
    "    print(\"False\")"
   ]
  },
  {
   "cell_type": "code",
   "execution_count": 6,
   "metadata": {},
   "outputs": [
    {
     "name": "stdout",
     "output_type": "stream",
     "text": [
      "Answer\n",
      "True\n"
     ]
    }
   ],
   "source": [
    "# right\n",
    "x = 3\n",
    "if x > 1:\n",
    "    print(\"Answer\")\n",
    "    print(\"True\")\n",
    "else:\n",
    "    print(\"Answer\")\n",
    "    print(\"False\")\n",
    "    \n",
    "# wrong\n",
    "if x > 1:\n",
    "   print(\"Answer\")\n",
    "    print(\"True\")\n",
    "else:\n",
    "    print(\"Answer\")\n",
    "    print(\"False\")"
   ]
  },
  {
   "cell_type": "markdown",
   "metadata": {},
   "source": [
    "* input输入"
   ]
  },
  {
   "cell_type": "code",
   "execution_count": 11,
   "metadata": {},
   "outputs": [
    {
     "data": {
      "text/plain": [
       "3136"
      ]
     },
     "execution_count": 11,
     "metadata": {},
     "output_type": "execute_result"
    }
   ],
   "source": [
    "a = input('Please input:') # 这里输入一个值\n",
    "int(a)**2"
   ]
  },
  {
   "cell_type": "markdown",
   "metadata": {},
   "source": [
    "* print输出"
   ]
  },
  {
   "cell_type": "code",
   "execution_count": 8,
   "metadata": {},
   "outputs": [
    {
     "name": "stdout",
     "output_type": "stream",
     "text": [
      "3\n",
      "----part 1----\n",
      "a=\n",
      "3\n",
      "----part 2----\n",
      "a=3\n",
      "----part 3----\n",
      "a= 3 好的，输出完成了\n"
     ]
    }
   ],
   "source": [
    "a = input()\n",
    "print('----part 1----')\n",
    "print('a=')\n",
    "print(a)\n",
    "\n",
    "# 传入参数end='',不换行\n",
    "print('----part 2----')\n",
    "print('a=', end='') # 不换行\n",
    "print(a)\n",
    "\n",
    "# 一次性输出多个\n",
    "\n",
    "print('----part 3----') \n",
    "print('a=', a, '好的，输出完成了')\n"
   ]
  },
  {
   "cell_type": "markdown",
   "metadata": {},
   "source": [
    "* 注释说明"
   ]
  },
  {
   "cell_type": "code",
   "execution_count": 41,
   "metadata": {},
   "outputs": [
    {
     "name": "stdout",
     "output_type": "stream",
     "text": [
      "Hello World\n"
     ]
    }
   ],
   "source": [
    "# 这是个注释\n",
    "print('Hello World') # 也可以在这里"
   ]
  },
  {
   "cell_type": "code",
   "execution_count": 10,
   "metadata": {},
   "outputs": [
    {
     "name": "stdout",
     "output_type": "stream",
     "text": [
      "Hello World\n"
     ]
    }
   ],
   "source": [
    "'''\n",
    "这是多行注释，用三个单引号\n",
    "这是多行注释，用三个单引号\n",
    "这是多行注释，用三个单引号\n",
    "'''\n",
    "print('Hello World')"
   ]
  },
  {
   "cell_type": "code",
   "execution_count": 7,
   "metadata": {},
   "outputs": [
    {
     "name": "stdout",
     "output_type": "stream",
     "text": [
      "Hello World\n"
     ]
    }
   ],
   "source": [
    "\"\"\"\n",
    "这是多行注释，用三个双引号\n",
    "这是多行注释，用三个双引号\n",
    "这是多行注释，用三个双引号\n",
    "\"\"\"\n",
    "print('Hello World')"
   ]
  },
  {
   "cell_type": "markdown",
   "metadata": {},
   "source": [
    "### 2. 标识符\n",
    "* 测试以下标识符\n",
    "```3_test\n",
    "Xyz\n",
    "___abc_\n",
    "A#_\n",
    "b@com\n",
    "google.com\n",
    "True\n",
    "true\n",
    "if\n",
    "```"
   ]
  },
  {
   "cell_type": "code",
   "execution_count": 14,
   "metadata": {},
   "outputs": [
    {
     "ename": "SyntaxError",
     "evalue": "invalid syntax (2561344695.py, line 2)",
     "output_type": "error",
     "traceback": [
      "\u001b[1;36m  Cell \u001b[1;32mIn[14], line 2\u001b[1;36m\u001b[0m\n\u001b[1;33m    if = 1\u001b[0m\n\u001b[1;37m       ^\u001b[0m\n\u001b[1;31mSyntaxError\u001b[0m\u001b[1;31m:\u001b[0m invalid syntax\n"
     ]
    }
   ],
   "source": [
    "# test identifier here\n",
    "number_NBA_star"
   ]
  },
  {
   "cell_type": "markdown",
   "metadata": {},
   "source": [
    "* 测试中文标识符"
   ]
  },
  {
   "cell_type": "code",
   "execution_count": 16,
   "metadata": {},
   "outputs": [
    {
     "name": "stdout",
     "output_type": "stream",
     "text": [
      "yyds\n"
     ]
    }
   ],
   "source": [
    "上海交大 = 'yyds'\n",
    "print(上海交大)"
   ]
  },
  {
   "cell_type": "markdown",
   "metadata": {},
   "source": [
    "* 测试Python保留字"
   ]
  },
  {
   "cell_type": "code",
   "execution_count": 10,
   "metadata": {},
   "outputs": [
    {
     "name": "stdout",
     "output_type": "stream",
     "text": [
      "['False', 'None', 'True', 'and', 'as', 'assert', 'async', 'await', 'break', 'class', 'continue', 'def', 'del', 'elif', 'else', 'except', 'finally', 'for', 'from', 'global', 'if', 'import', 'in', 'is', 'lambda', 'nonlocal', 'not', 'or', 'pass', 'raise', 'return', 'try', 'while', 'with', 'yield']\n"
     ]
    }
   ],
   "source": [
    "import keyword\n",
    "print(keyword.kwlist)"
   ]
  },
  {
   "cell_type": "code",
   "execution_count": 11,
   "metadata": {},
   "outputs": [
    {
     "ename": "SyntaxError",
     "evalue": "invalid syntax (<ipython-input-11-0a90180726da>, line 2)",
     "output_type": "error",
     "traceback": [
      "\u001b[0;36m  File \u001b[0;32m\"<ipython-input-11-0a90180726da>\"\u001b[0;36m, line \u001b[0;32m2\u001b[0m\n\u001b[0;31m    and = 1\u001b[0m\n\u001b[0m      ^\u001b[0m\n\u001b[0;31mSyntaxError\u001b[0m\u001b[0;31m:\u001b[0m invalid syntax\n"
     ]
    }
   ],
   "source": [
    "# 保留字无法赋值\n",
    "and = 1"
   ]
  },
  {
   "cell_type": "markdown",
   "metadata": {},
   "source": [
    "* 测试内置函数名用做变量名"
   ]
  },
  {
   "cell_type": "code",
   "execution_count": 12,
   "metadata": {},
   "outputs": [
    {
     "data": {
      "text/plain": [
       "6"
      ]
     },
     "execution_count": 12,
     "metadata": {},
     "output_type": "execute_result"
    }
   ],
   "source": [
    "sum([1,2,3]) # 1,2,3的和"
   ]
  },
  {
   "cell_type": "code",
   "execution_count": 1,
   "metadata": {},
   "outputs": [
    {
     "data": {
      "text/plain": [
       "<function sum(iterable, /, start=0)>"
      ]
     },
     "execution_count": 1,
     "metadata": {},
     "output_type": "execute_result"
    }
   ],
   "source": [
    "sum"
   ]
  },
  {
   "cell_type": "code",
   "execution_count": 13,
   "metadata": {},
   "outputs": [
    {
     "ename": "TypeError",
     "evalue": "'int' object is not callable",
     "output_type": "error",
     "traceback": [
      "\u001b[0;31m---------------------------------------------------------------------------\u001b[0m",
      "\u001b[0;31mTypeError\u001b[0m                                 Traceback (most recent call last)",
      "Input \u001b[0;32mIn [13]\u001b[0m, in \u001b[0;36m<cell line: 2>\u001b[0;34m()\u001b[0m\n\u001b[1;32m      1\u001b[0m \u001b[38;5;28msum\u001b[39m \u001b[38;5;241m=\u001b[39m \u001b[38;5;241m3\u001b[39m \n\u001b[0;32m----> 2\u001b[0m \u001b[38;5;28;43msum\u001b[39;49m\u001b[43m(\u001b[49m\u001b[43m[\u001b[49m\u001b[38;5;241;43m1\u001b[39;49m\u001b[43m,\u001b[49m\u001b[38;5;241;43m2\u001b[39;49m\u001b[43m,\u001b[49m\u001b[38;5;241;43m3\u001b[39;49m\u001b[43m]\u001b[49m\u001b[43m)\u001b[49m\n",
      "\u001b[0;31mTypeError\u001b[0m: 'int' object is not callable"
     ]
    }
   ],
   "source": [
    "sum = 3 \n",
    "sum([1,2,3])"
   ]
  },
  {
   "cell_type": "markdown",
   "metadata": {},
   "source": [
    "### 3. 数据类型"
   ]
  },
  {
   "cell_type": "code",
   "execution_count": 24,
   "metadata": {},
   "outputs": [
    {
     "name": "stdout",
     "output_type": "stream",
     "text": [
      "----part 1----\n",
      "<class 'int'> <class 'float'> <class 'str'>\n",
      "----part 2----\n",
      "<class 'float'>\n"
     ]
    }
   ],
   "source": [
    "a = 10\n",
    "b = 10.0\n",
    "c='10'\n",
    "print('----part 1----')\n",
    "print(type(a),type(b),type(c))\n",
    "\n",
    "d = float(10)\n",
    "print('----part 2----')\n",
    "print(type(d))"
   ]
  },
  {
   "cell_type": "markdown",
   "metadata": {},
   "source": [
    "#### 3.1. 数据类型：字符串String"
   ]
  },
  {
   "cell_type": "markdown",
   "metadata": {},
   "source": [
    "* 字符串的定义"
   ]
  },
  {
   "cell_type": "code",
   "execution_count": 47,
   "metadata": {},
   "outputs": [
    {
     "name": "stdout",
     "output_type": "stream",
     "text": [
      "hello world  ~!@#$%^&*  汉字也是字符\n",
      "\n",
      "三个引号可以换行：\n",
      "1. 第一点\n",
      "2. 第二点sf\n",
      "sf\n",
      "sf\n",
      "sfsdf\n",
      "\n",
      "<class 'list'>\n"
     ]
    }
   ],
   "source": [
    "a = \"hello world\"\n",
    "b = ' ~!@#$%^&* ' \n",
    "c = \"汉字也是字符\"\n",
    "print(a,b,c)\n",
    "\n",
    "print('''\n",
    "三个引号可以换行：\n",
    "1. 第一点\n",
    "2. 第二点\n",
    "\n",
    "''')\n",
    "\n",
    "print(type([True,1]))"
   ]
  },
  {
   "cell_type": "markdown",
   "metadata": {},
   "source": [
    "let\\'s go \\\"hiking\\\""
   ]
  },
  {
   "cell_type": "code",
   "execution_count": 7,
   "metadata": {},
   "outputs": [
    {
     "name": "stdout",
     "output_type": "stream",
     "text": [
      "let's go\\d \"hik\n",
      "in\tg\"\n"
     ]
    }
   ],
   "source": [
    "print(\"let\\'s go\\\\d \\\"hik\\nin\\tg\\\"\")"
   ]
  },
  {
   "cell_type": "markdown",
   "metadata": {},
   "source": [
    "* 转义字符"
   ]
  },
  {
   "cell_type": "markdown",
   "metadata": {},
   "source": [
    "```\n",
    "That's great\n",
    "This is an example of using \"quatation\" and backslash \\\n",
    "Line 1\n",
    "Line2\n",
    "item 1\titem2\n",
    "```"
   ]
  },
  {
   "cell_type": "code",
   "execution_count": 18,
   "metadata": {},
   "outputs": [
    {
     "name": "stdout",
     "output_type": "stream",
     "text": [
      "That's great\n",
      "This is an example of using \"quatation\" and backslash \\\n",
      "Line 1\n",
      "Line2\n",
      "item 1\titem2\n"
     ]
    }
   ],
   "source": [
    "# 转义\n",
    "print('That\\'s great')\n",
    "print('This is an example of using \\\"quatation\\\" and backslash \\\\')\n",
    "print('Line 1\\nLine2')\n",
    "print('item 1\\titem2')"
   ]
  },
  {
   "cell_type": "code",
   "execution_count": 10,
   "metadata": {},
   "outputs": [
    {
     "name": "stdout",
     "output_type": "stream",
     "text": [
      "1 This is an example of using \"quatation\" and backslash \\\n",
      "2 That's great\n",
      "3 This is an example of quotation ' and \"\n"
     ]
    }
   ],
   "source": [
    "#转义语法糖\n",
    "#单引号括住的字符串内可不转义双引号\n",
    "print(1, 'This is an example of using \"quatation\" and backslash \\\\')\n",
    "#双引号括住的字符串内可不转义单引号\n",
    "print(2, \"That's great\")\n",
    "#三引号(单或双)括住的字符串内可不转义单双引号\n",
    "print(3, '''This is an example of quotation ' and \"''')"
   ]
  },
  {
   "cell_type": "code",
   "execution_count": 18,
   "metadata": {},
   "outputs": [
    {
     "name": "stdout",
     "output_type": "stream",
     "text": [
      "That's great\n",
      "That's great\n",
      "That's great\n",
      "That's great\n",
      "That's great\n",
      "That's great\n",
      "That's great\n"
     ]
    }
   ],
   "source": [
    "# That's great\n",
    "print('That\\'s great')\n",
    "print(\"That\\'s great\")\n",
    "print(\"That's great\")\n",
    "print(\"\"\"That's great\"\"\")\n",
    "print(\"\"\"That\\'s great\"\"\")\n",
    "print('''That's great''')\n",
    "print('''That\\'s great''')\n"
   ]
  },
  {
   "cell_type": "markdown",
   "metadata": {},
   "source": [
    "* 字符串连接"
   ]
  },
  {
   "cell_type": "code",
   "execution_count": 18,
   "metadata": {},
   "outputs": [
    {
     "name": "stdout",
     "output_type": "stream",
     "text": [
      "1 Xuan Wei\n",
      "2 Hello, Xuan Wei!\n"
     ]
    }
   ],
   "source": [
    "first_name = 'Xuan'\n",
    "last_name = 'Wei'\n",
    "full_name = first_name + ' ' + last_name\n",
    "print(1, full_name)\n",
    "print(2, 'Hello, ' + full_name + '!')"
   ]
  },
  {
   "cell_type": "markdown",
   "metadata": {},
   "source": [
    "* 原始字符串（optional）"
   ]
  },
  {
   "cell_type": "code",
   "execution_count": 8,
   "metadata": {},
   "outputs": [
    {
     "name": "stdout",
     "output_type": "stream",
     "text": [
      "1\n",
      "2\n",
      "1\\n2\n"
     ]
    }
   ],
   "source": [
    "print('1\\n2')\n",
    "print(r'1\\n2')"
   ]
  },
  {
   "cell_type": "markdown",
   "metadata": {},
   "source": [
    "* 字符串的访问/截取"
   ]
  },
  {
   "cell_type": "code",
   "execution_count": 62,
   "metadata": {},
   "outputs": [
    {
     "data": {
      "text/plain": [
       "'pytho'"
      ]
     },
     "execution_count": 62,
     "metadata": {},
     "output_type": "execute_result"
    }
   ],
   "source": [
    "str_ = 'python'\n",
    "str_[:-1]"
   ]
  },
  {
   "cell_type": "code",
   "execution_count": 28,
   "metadata": {},
   "outputs": [
    {
     "data": {
      "text/plain": [
       "'nohtyP'"
      ]
     },
     "execution_count": 28,
     "metadata": {},
     "output_type": "execute_result"
    }
   ],
   "source": [
    "str_ = 'Python'\n",
    "# htyP\n",
    "str_[-3::-1]"
   ]
  },
  {
   "cell_type": "code",
   "execution_count": 20,
   "metadata": {},
   "outputs": [
    {
     "name": "stdout",
     "output_type": "stream",
     "text": [
      "1 h\n",
      "2 Python\n",
      "3 noht\n"
     ]
    }
   ],
   "source": [
    "str_ = 'Python'\n",
    "print(1, str_[3])\n",
    "print(2, str_[:])\n",
    "print(3, str_[-1:1:-1])"
   ]
  },
  {
   "cell_type": "code",
   "execution_count": 10,
   "metadata": {},
   "outputs": [
    {
     "data": {
      "text/plain": [
       "'nohtyp si siht'"
      ]
     },
     "execution_count": 10,
     "metadata": {},
     "output_type": "execute_result"
    }
   ],
   "source": [
    "Str = 'this is python'\n",
    "Str[::-1]"
   ]
  },
  {
   "cell_type": "markdown",
   "metadata": {},
   "source": [
    "* 格式化字符串输出 %-formatting"
   ]
  },
  {
   "cell_type": "code",
   "execution_count": 31,
   "metadata": {},
   "outputs": [
    {
     "name": "stdout",
     "output_type": "stream",
     "text": [
      "今天是程序设计Plus课程的第2节课\n"
     ]
    }
   ],
   "source": [
    "class_name = '程序设计Plus'\n",
    "week = 2\n",
    "print('今天是%s课程的第%d节课'%(class_name, week))"
   ]
  },
  {
   "cell_type": "code",
   "execution_count": 34,
   "metadata": {},
   "outputs": [
    {
     "name": "stdout",
     "output_type": "stream",
     "text": [
      "pi的数值是3.1415926536\n"
     ]
    }
   ],
   "source": [
    "print('pi的数值是%.10f'%(3.14159265358))"
   ]
  },
  {
   "cell_type": "code",
   "execution_count": 38,
   "metadata": {},
   "outputs": [
    {
     "name": "stdout",
     "output_type": "stream",
     "text": [
      "pi的数值是3.1415926536\n",
      "pi的数值是3.14\n",
      "pi的数值是3e+07\n"
     ]
    }
   ],
   "source": [
    "print('pi的数值是%.10f'%(3.14159265358))\n",
    "print('pi的数值是%.2f'%(3.14159265358)) # 保留2为小数\n",
    "print('pi的数值是%g'%(3.14159265358)) # 科学计数法"
   ]
  },
  {
   "cell_type": "markdown",
   "metadata": {},
   "source": [
    "* `str.format()`函数和`f-strings`"
   ]
  },
  {
   "cell_type": "code",
   "execution_count": 11,
   "metadata": {},
   "outputs": [
    {
     "name": "stdout",
     "output_type": "stream",
     "text": [
      "今天是程序设计课程的第2节课\n",
      "今天是程序设计课程的第2节课\n"
     ]
    }
   ],
   "source": [
    "# str.format()\n",
    "class_name = '程序设计'\n",
    "week = 2\n",
    "print('今天是{}课程的第{}节课'.format(class_name, week))\n",
    "\n",
    "# f-strings\n",
    "class_name = '程序设计'\n",
    "week = 2\n",
    "print(f'今天是{class_name}课程的第{week}节课')"
   ]
  },
  {
   "cell_type": "markdown",
   "metadata": {},
   "source": [
    "* 字符串常见函数"
   ]
  },
  {
   "cell_type": "code",
   "execution_count": 41,
   "metadata": {},
   "outputs": [
    {
     "data": {
      "text/plain": [
       "'I love sjtu'"
      ]
     },
     "execution_count": 41,
     "metadata": {},
     "output_type": "execute_result"
    }
   ],
   "source": [
    "a = 'i love sjtu'\n",
    "a.upper().lower().capitalize()"
   ]
  },
  {
   "cell_type": "code",
   "execution_count": 50,
   "metadata": {},
   "outputs": [
    {
     "data": {
      "text/plain": [
       "['I', 'love', '', 'sjtu']"
      ]
     },
     "execution_count": 50,
     "metadata": {},
     "output_type": "execute_result"
    }
   ],
   "source": [
    "a = 'I love  sjtu'\n",
    "#a = 'I like fudan'\n",
    "a.split(' ')\n"
   ]
  },
  {
   "cell_type": "code",
   "execution_count": 46,
   "metadata": {},
   "outputs": [
    {
     "data": {
      "text/plain": [
       "'I ## love ## sjtu'"
      ]
     },
     "execution_count": 46,
     "metadata": {},
     "output_type": "execute_result"
    }
   ],
   "source": [
    "a = 'I love sjtu'\n",
    "#a = 'I like fudan'\n",
    "b = a.split(' ')\n",
    "' ## '.join(b)"
   ]
  },
  {
   "cell_type": "code",
   "execution_count": 4,
   "metadata": {},
   "outputs": [
    {
     "data": {
      "text/plain": [
       "'123'"
      ]
     },
     "execution_count": 4,
     "metadata": {},
     "output_type": "execute_result"
    }
   ],
   "source": [
    "a = '   123\\n\\n'\n",
    "a.strip()"
   ]
  },
  {
   "cell_type": "code",
   "execution_count": 6,
   "metadata": {},
   "outputs": [
    {
     "data": {
      "text/plain": [
       "'this is sjtu'"
      ]
     },
     "execution_count": 6,
     "metadata": {},
     "output_type": "execute_result"
    }
   ],
   "source": [
    "'  #this is sjtu###  \\n'.strip().strip('#')"
   ]
  },
  {
   "cell_type": "code",
   "execution_count": 3,
   "metadata": {},
   "outputs": [
    {
     "name": "stdout",
     "output_type": "stream",
     "text": [
      "1 ['Hello', 'string', 'library!']\n",
      "2 Hello string library!\n",
      "3 Hellostringlibrary!\n",
      "4 Hello$$string$$library!\n"
     ]
    }
   ],
   "source": [
    "# split, join\n",
    "str_ = \"Hello string library!\"\n",
    "split_str = str_.split()\n",
    "print(1, split_str)\n",
    "joined_str = ' '.join(split_str)\n",
    "print(2, joined_str)\n",
    "print(3, ''.join(split_str))\n",
    "print(4, '$$'.join(split_str))"
   ]
  },
  {
   "cell_type": "code",
   "execution_count": 7,
   "metadata": {},
   "outputs": [
    {
     "data": {
      "text/plain": [
       "', I love '"
      ]
     },
     "execution_count": 7,
     "metadata": {},
     "output_type": "execute_result"
    }
   ],
   "source": [
    "'SJTU, I love SJTUSJTU'.strip('SJTU')"
   ]
  },
  {
   "cell_type": "code",
   "execution_count": 5,
   "metadata": {},
   "outputs": [
    {
     "name": "stdout",
     "output_type": "stream",
     "text": [
      "1 Hello world\n",
      "2 Hello w*orld\n"
     ]
    }
   ],
   "source": [
    "# strip\n",
    "str_ = 'Hello world \\n'\n",
    "print(1, str_.strip())\n",
    "\n",
    "str_ = 'Hello w*orld****'\n",
    "print(2, str_.strip('*'))"
   ]
  },
  {
   "cell_type": "code",
   "execution_count": 9,
   "metadata": {},
   "outputs": [
    {
     "name": "stdout",
     "output_type": "stream",
     "text": [
      "1 -1\n",
      "2 I love SJTU\n"
     ]
    }
   ],
   "source": [
    "# find\n",
    "str_ = 'I love SJTU'\n",
    "print(1, str_.find('S'))\n",
    "\n",
    "# replace\n",
    "str_ = 'I love Fudan'\n",
    "print(2, str_.replace('Fudan', 'SJTU'))\n"
   ]
  },
  {
   "cell_type": "code",
   "execution_count": 91,
   "metadata": {},
   "outputs": [
    {
     "data": {
      "text/plain": [
       "'I LOVE SJTU'"
      ]
     },
     "execution_count": 91,
     "metadata": {},
     "output_type": "execute_result"
    }
   ],
   "source": [
    "'i love sjtu'.upper()"
   ]
  },
  {
   "cell_type": "code",
   "execution_count": 12,
   "metadata": {},
   "outputs": [
    {
     "data": {
      "text/plain": [
       "False"
      ]
     },
     "execution_count": 12,
     "metadata": {},
     "output_type": "execute_result"
    }
   ],
   "source": [
    "'cat12'.isdigit()"
   ]
  },
  {
   "cell_type": "code",
   "execution_count": 17,
   "metadata": {},
   "outputs": [
    {
     "data": {
      "text/plain": [
       "1"
      ]
     },
     "execution_count": 17,
     "metadata": {},
     "output_type": "execute_result"
    }
   ],
   "source": [
    "a = '\\n'\n",
    "len(a)"
   ]
  },
  {
   "cell_type": "code",
   "execution_count": 9,
   "metadata": {},
   "outputs": [
    {
     "name": "stdout",
     "output_type": "stream",
     "text": [
      "4 ['Hello', 'string\\\\', 'n', 'library!']\n",
      "5 ['Hello', 'string\\\\', 'n', 'library!', '', '']\n",
      "6 ['Hello st', 'ing\\\\ n lib', 'a', 'y!  ']\n",
      "7 ['', 'ello string\\\\ n library!  ']\n"
     ]
    }
   ],
   "source": [
    "# 根据strip()的文档理解以下结果\n",
    "str_ = \"Hello string\\ n library!  \"\n",
    "print(4, str_.split())\n",
    "print(5, str_.split(' '))\n",
    "print(6, str_.split('r'))\n",
    "print(7, str_.split('H'))\n"
   ]
  },
  {
   "cell_type": "markdown",
   "metadata": {},
   "source": [
    "* 练习：月份缩写"
   ]
  },
  {
   "cell_type": "code",
   "execution_count": 96,
   "metadata": {},
   "outputs": [
    {
     "name": "stdout",
     "output_type": "stream",
     "text": [
      "Enter month number (1-12): 1\n",
      "The month abbreviation is Jan.\n"
     ]
    }
   ],
   "source": [
    "# code here\n",
    "months=\"JanFebMarAprMayJunJulAugSepOctNovDec\"\n",
    "n = int(input(\"Enter month number (1-12): \"))\n",
    "pos = (n-1)*3\n",
    "monthAbbr = months[pos:pos+3]\n",
    "print(f\"The month abbreviation is {monthAbbr}.\")\n",
    "# print(\"The month abbreviation is %s\"%(monthAbbr)) # 也可以这样输出"
   ]
  },
  {
   "cell_type": "markdown",
   "metadata": {},
   "source": [
    "#### 3.2. 数据类型：数字Number"
   ]
  },
  {
   "cell_type": "markdown",
   "metadata": {},
   "source": [
    "* 数值运算符"
   ]
  },
  {
   "cell_type": "code",
   "execution_count": 225,
   "metadata": {},
   "outputs": [
    {
     "name": "stdout",
     "output_type": "stream",
     "text": [
      "1 1.3333333333333333\n",
      "2 1.4666666666666668\n",
      "3 1\n",
      "4 1.0\n",
      "5 -2.0\n",
      "6 乘方： 4\n",
      "7 1\n",
      "8 1.2000000000000002\n",
      "9 -1\n"
     ]
    }
   ],
   "source": [
    "# / 与 //\n",
    "print(1, 4/3)\n",
    "print(2, 4.4/3)\n",
    "print(3, 4//3)  \n",
    "print(4, 4.4//3) \n",
    "print(5, -4.4//3)\n",
    "\n",
    "# ** 乘方\n",
    "print(6, '乘方：', 2**2)\n",
    "\n",
    "# % 余数\n",
    "print(7, 6%5)\n",
    "print(8, 6.2%5) # 6.2 = 5 * 1 + 1.2\n",
    "print(9, 7%-2) # 7 = (-2) * (-3) + (-1)"
   ]
  },
  {
   "cell_type": "markdown",
   "metadata": {},
   "source": [
    "* 数学库的使用"
   ]
  },
  {
   "cell_type": "code",
   "execution_count": 8,
   "metadata": {},
   "outputs": [
    {
     "name": "stdout",
     "output_type": "stream",
     "text": [
      "0 2.1213203435596424\n",
      "1 3.141592653589793\n",
      "2 2.718281828459045\n",
      "3 4\n",
      "4 4\n",
      "3 3\n",
      "4 4\n"
     ]
    }
   ],
   "source": [
    "import math\n",
    "print(0, math.sqrt(4.5))\n",
    "print(1, math.pi)\n",
    "print(2, math.e)\n",
    "print(3, math.ceil(3.4)) # (3, 4] --> 4\n",
    "print(4, math.ceil(4))\n",
    "print(3, math.floor(3.4))  \n",
    "print(4, math.floor(4))    # [4, 5) --> 4"
   ]
  },
  {
   "cell_type": "code",
   "execution_count": 11,
   "metadata": {},
   "outputs": [
    {
     "data": {
      "text/plain": [
       "(-1, -1)"
      ]
     },
     "execution_count": 11,
     "metadata": {},
     "output_type": "execute_result"
    }
   ],
   "source": [
    "# 当x为整数，ceil(x), floor的边缘情况均为x\n",
    "import math\n",
    "math.ceil(-1), math.floor(-1)"
   ]
  },
  {
   "cell_type": "markdown",
   "metadata": {},
   "source": [
    "* 练习：指数分布"
   ]
  },
  {
   "cell_type": "code",
   "execution_count": 15,
   "metadata": {},
   "outputs": [
    {
     "data": {
      "text/plain": [
       "0.0074362565299990755"
      ]
     },
     "execution_count": 15,
     "metadata": {},
     "output_type": "execute_result"
    }
   ],
   "source": [
    "# your code here\n",
    "L = 3\n",
    "x = 2\n",
    "import math\n",
    "L*math.exp(-L*x)"
   ]
  },
  {
   "cell_type": "markdown",
   "metadata": {},
   "source": [
    "#### 3.3. 数据类型：布尔Bool"
   ]
  },
  {
   "cell_type": "code",
   "execution_count": 28,
   "metadata": {},
   "outputs": [
    {
     "name": "stdout",
     "output_type": "stream",
     "text": [
      "1 True\n",
      "2 False\n"
     ]
    }
   ],
   "source": [
    "print(1, 5 > 4)\n",
    "print(2, 30 < 20)"
   ]
  },
  {
   "cell_type": "markdown",
   "metadata": {},
   "source": [
    "#### 3.4. 数据类型：数据类型转换"
   ]
  },
  {
   "cell_type": "markdown",
   "metadata": {},
   "source": [
    "* 自动类型转换"
   ]
  },
  {
   "cell_type": "code",
   "execution_count": 29,
   "metadata": {},
   "outputs": [
    {
     "name": "stdout",
     "output_type": "stream",
     "text": [
      "1 2\n",
      "1 2.2\n"
     ]
    },
    {
     "data": {
      "text/plain": [
       "(3+1j)"
      ]
     },
     "execution_count": 29,
     "metadata": {},
     "output_type": "execute_result"
    }
   ],
   "source": [
    "print(1, 1 + True)\n",
    "print(1, 1.2 + True)\n",
    "1 + complex(2+1j)"
   ]
  },
  {
   "cell_type": "code",
   "execution_count": 16,
   "metadata": {},
   "outputs": [
    {
     "data": {
      "text/plain": [
       "12.0"
      ]
     },
     "execution_count": 16,
     "metadata": {},
     "output_type": "execute_result"
    }
   ],
   "source": [
    "# str\n",
    "# int -> str： 直接完全转换\n",
    "str(12) # '12'\n",
    "# float -> str: 抹去小数部分的0\n",
    "str(-12.10) # '-12.1'\n",
    "\n",
    "# int\n",
    "# str -> int: 按字面意思转成整数\n",
    "int('-12') # -12\n",
    "# float -> int: 仅保留整数部分\n",
    "int(12.6) # 12 \n",
    "\n",
    "# float\n",
    "# str -> float: 按字面意思转成小数\n",
    "float('-12.9') # -12.9\n",
    "# int -> float: 添加一位小数\n",
    "float(12) # 12.0"
   ]
  },
  {
   "cell_type": "markdown",
   "metadata": {},
   "source": [
    "### 4. 数据结构：列表（List）"
   ]
  },
  {
   "cell_type": "markdown",
   "metadata": {},
   "source": [
    "* 列表的创建"
   ]
  },
  {
   "cell_type": "code",
   "execution_count": null,
   "metadata": {},
   "outputs": [],
   "source": [
    "[1990,1991,1992, ... 2020]"
   ]
  },
  {
   "cell_type": "code",
   "execution_count": 9,
   "metadata": {},
   "outputs": [
    {
     "name": "stdout",
     "output_type": "stream",
     "text": [
      "[1, 2, '4']\n"
     ]
    }
   ],
   "source": [
    "a = [1,2,'4']\n",
    "print(a)"
   ]
  },
  {
   "cell_type": "markdown",
   "metadata": {},
   "source": [
    "整数列表可以通过range()和list()创建"
   ]
  },
  {
   "cell_type": "code",
   "execution_count": 22,
   "metadata": {},
   "outputs": [
    {
     "name": "stdout",
     "output_type": "stream",
     "text": [
      "range(4)           : range(0, 4)\n",
      "list(range(4))     : [0, 1, 2, 3]\n",
      "list(range(2,5))   : [2, 3, 4]\n",
      "list(range(2,10,2)): [2, 4, 6, 8]\n"
     ]
    }
   ],
   "source": [
    "print('range(4)           :', range(4))\n",
    "print('list(range(4))     :', list(range(4)))\n",
    "print('list(range(2,5))   :', list(range(2,5)))\n",
    "print('list(range(2,10,2)):', list(range(2,10,2)))"
   ]
  },
  {
   "cell_type": "markdown",
   "metadata": {},
   "source": [
    "* 列表的访问/截取(参考字符串的访问)"
   ]
  },
  {
   "cell_type": "code",
   "execution_count": 44,
   "metadata": {},
   "outputs": [
    {
     "name": "stdout",
     "output_type": "stream",
     "text": [
      "1 [3, 1.2]\n",
      "2 [3, 1.2, 'test', 'shanghai']\n",
      "3 [1, 2, 3, 1.2]\n",
      "4 [3, 1.2, 'test', 'shanghai']\n",
      "5 [1, 3, 'test']\n",
      "4 ['shanghai', 'test', 1.2, 3, 2, 1]\n"
     ]
    }
   ],
   "source": [
    "List = [1,2,3,1.2,'test','shanghai']\n",
    "print(1, List[2:4])\n",
    "print(2, List[2:100])\n",
    "print(3, List[:4])\n",
    "print(4, List[2:])\n",
    "print(5, List[::2])\n",
    "print(4, List[::-1])"
   ]
  },
  {
   "cell_type": "markdown",
   "metadata": {},
   "source": [
    "* 列表的修改"
   ]
  },
  {
   "cell_type": "code",
   "execution_count": 43,
   "metadata": {},
   "outputs": [
    {
     "name": "stdout",
     "output_type": "stream",
     "text": [
      "1 ['honda', 'yamaha', 'suzuki']\n",
      "2 ['ducati', 'yamaha', 'suzuki']\n",
      "3 ['honda', 'yamaha']\n",
      "4 ['honda', 'yamaha', 'suzuki']\n"
     ]
    }
   ],
   "source": [
    "# 修改指定位置的元素\n",
    "brands = ['honda', 'yamaha', 'suzuki']\n",
    "print(1, brands)\n",
    "\n",
    "brands[0] = 'ducati'\n",
    "print(2, brands)\n",
    "\n",
    "# 列表末尾添加元素\n",
    "brands = []\n",
    "brands.append('honda')\n",
    "brands.append('yamaha')\n",
    "print(3, brands)\n",
    "brands.append('suzuki')\n",
    "print(4, brands)\n"
   ]
  },
  {
   "cell_type": "markdown",
   "metadata": {},
   "source": [
    "* 列表的遍历\n",
    "\n",
    "for循环可以遍历列表元素，对每个元素执行相同的操作\n"
   ]
  },
  {
   "cell_type": "code",
   "execution_count": 23,
   "metadata": {},
   "outputs": [
    {
     "name": "stdout",
     "output_type": "stream",
     "text": [
      "Alice, you are doing great!\n",
      "David, you are doing great!\n",
      "Carolina, you are doing great!\n",
      "xuan, you are doing great!\n"
     ]
    }
   ],
   "source": [
    "students = ['Alice', 'David', 'Carolina','xuan']\n",
    "for student in students:\n",
    "    print('%s, you are doing great!'%(student))"
   ]
  },
  {
   "cell_type": "markdown",
   "metadata": {},
   "source": [
    "for 循环也可以遍历字符串"
   ]
  },
  {
   "cell_type": "code",
   "execution_count": 29,
   "metadata": {},
   "outputs": [
    {
     "name": "stdout",
     "output_type": "stream",
     "text": [
      "a\n",
      "b\n",
      "c\n"
     ]
    }
   ],
   "source": [
    "Str = 'abc'\n",
    "for char in Str:\n",
    "    print(char)"
   ]
  },
  {
   "cell_type": "markdown",
   "metadata": {},
   "source": [
    "接上述例子，假设三位学生的分数为95，90，88， 存储在变量scores中，运用for循环，为每位学生输出如下信息，并在最后，屏幕输出“All done!”\n"
   ]
  },
  {
   "cell_type": "code",
   "execution_count": 25,
   "metadata": {},
   "outputs": [
    {
     "name": "stdout",
     "output_type": "stream",
     "text": [
      "Alice, you are doing great!\n",
      "Your score is 95\n",
      "David, you are doing great!\n",
      "Your score is 90\n",
      "Carolina, you are doing great!\n",
      "Your score is 88\n",
      "All Done!\n"
     ]
    }
   ],
   "source": [
    "students = ['Alice', 'David', 'Carolina']\n",
    "scores = [95, 90, 88]\n",
    "for index in range(3):\n",
    "    print(f'{students[index]}, you are doing great!')\n",
    "    print(f'Your score is {scores[index]}')\n",
    "\n",
    "print('All Done!')    \n",
    "    "
   ]
  },
  {
   "cell_type": "code",
   "execution_count": 25,
   "metadata": {},
   "outputs": [
    {
     "name": "stdout",
     "output_type": "stream",
     "text": [
      "Alice, you are doing great!\n",
      "Your score is 95\n",
      "\n",
      "David, you are doing great!\n",
      "Your score is 90\n",
      "\n",
      "Carolina, you are doing great!\n",
      "Your score is 88\n",
      "\n",
      "All done!\n"
     ]
    }
   ],
   "source": [
    "students = ['Alice', 'David', 'Carolina']\n",
    "scores = [95, 90, 88]\n",
    "\n",
    "for index in range(3):\n",
    "    print('%s, you are doing great!'%(students[index]))\n",
    "    print('Your score is %d\\n'%(scores[index]))\n",
    "\n",
    "print('All done!')\n",
    "        "
   ]
  },
  {
   "cell_type": "code",
   "execution_count": 1,
   "metadata": {},
   "outputs": [
    {
     "name": "stdout",
     "output_type": "stream",
     "text": [
      "Alice, you are doing great!\n",
      "Your score is 95\n",
      "\n",
      "David, you are doing great!\n",
      "Your score is 90\n",
      "\n",
      "Carolina, you are doing great!\n",
      "Your score is 88\n",
      "\n",
      "All done!\n"
     ]
    }
   ],
   "source": [
    "\n",
    "\n",
    "\n",
    "\n",
    "\n",
    "students = ['Alice', 'David', 'Carolina']\n",
    "scores = [95, 90, 88]\n",
    "\n",
    "for i in range(len(students)):\n",
    "    print('%s, you are doing great!'%(students[i]))\n",
    "    print('Your score is %d\\n'%(scores[i]))\n",
    "print('All done!')"
   ]
  },
  {
   "cell_type": "markdown",
   "metadata": {},
   "source": [
    "### 5. 课后练习\n",
    "#### 课后练习一\n",
    "\n",
    "请编写一个程序，提示用户输入一个字符串，将字符串中所有字母全部向后移一位，最后一个字母放在字符串的开头，最后将新的字符串输出。\n",
    "\n"
   ]
  },
  {
   "cell_type": "code",
   "execution_count": null,
   "metadata": {},
   "outputs": [],
   "source": [
    "Str = input('Please input a string:')\n",
    "n = len(Str)\n",
    "s = Str[n-1]+Str[0:n-1]\n",
    "print(s)"
   ]
  },
  {
   "cell_type": "markdown",
   "metadata": {},
   "source": [
    "#### 课后练习二\n",
    "将以下字符串的所有SJTU替换成Shanghai Jiao Tong University，但是不要替换SJTUers中的SJTU.\n",
    "\n",
    "`I love SJTU. All SJTUers are all working hard. I am expecting the ranking of SJTU will increase its ranking in next year.`"
   ]
  },
  {
   "cell_type": "code",
   "execution_count": 17,
   "metadata": {},
   "outputs": [
    {
     "name": "stdout",
     "output_type": "stream",
     "text": [
      "I love Shanghai Jiao Tong University. All SJTUers are all working hard. I am expecting the ranking of Shanghai Jiao Tong University will increase its ranking in next year.\n"
     ]
    }
   ],
   "source": [
    "# solution 1\n",
    "Str = 'I love SJTU. All SJTUers are all working hard. I am expecting the ranking of SJTU will increase its ranking in next year.'\n",
    "Str = Str.replace('SJTU', 'Shanghai Jiao Tong University')\n",
    "Str = Str.replace('Shanghai Jiao Tong Universityers', 'SJTUers')\n",
    "print(Str)\n"
   ]
  },
  {
   "cell_type": "code",
   "execution_count": 18,
   "metadata": {},
   "outputs": [
    {
     "name": "stdout",
     "output_type": "stream",
     "text": [
      "I love Shanghai Jiao Tong University. All SJTUers are all working hard. I am expecting the ranking of Shanghai Jiao Tong University will increase its ranking in next year.\n"
     ]
    }
   ],
   "source": [
    "# solution 2\n",
    "Str = 'I love SJTU. All SJTUers are all working hard. I am expecting the ranking of SJTU will increase its ranking in next year.'\n",
    "Str = Str.replace('SJTUer' ,'###')\n",
    "Str = Str.replace('SJTU' , 'Shanghai Jiao Tong University')\n",
    "Str = Str.replace('###','SJTUer')\n",
    "print(Str)"
   ]
  }
 ],
 "metadata": {
  "kernelspec": {
   "display_name": "base",
   "language": "python",
   "name": "python3"
  },
  "language_info": {
   "codemirror_mode": {
    "name": "ipython",
    "version": 3
   },
   "file_extension": ".py",
   "mimetype": "text/x-python",
   "name": "python",
   "nbconvert_exporter": "python",
   "pygments_lexer": "ipython3",
   "version": "3.11.5"
  },
  "varInspector": {
   "cols": {
    "lenName": 16,
    "lenType": 16,
    "lenVar": 40
   },
   "kernels_config": {
    "python": {
     "delete_cmd_postfix": "",
     "delete_cmd_prefix": "del ",
     "library": "var_list.py",
     "varRefreshCmd": "print(var_dic_list())"
    },
    "r": {
     "delete_cmd_postfix": ") ",
     "delete_cmd_prefix": "rm(",
     "library": "var_list.r",
     "varRefreshCmd": "cat(var_dic_list()) "
    }
   },
   "types_to_exclude": [
    "module",
    "function",
    "builtin_function_or_method",
    "instance",
    "_Feature"
   ],
   "window_display": false
  }
 },
 "nbformat": 4,
 "nbformat_minor": 4
}
