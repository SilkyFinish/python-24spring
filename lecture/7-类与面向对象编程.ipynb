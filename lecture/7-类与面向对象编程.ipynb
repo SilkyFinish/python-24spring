{
 "cells": [
  {
   "cell_type": "markdown",
   "id": "fe330e7f",
   "metadata": {},
   "source": [
    "类与面向对象编程\n",
    "========\n",
    "\n",
    "BUSS1301 程序设计，2023年春季\n",
    "\n",
    "Contents\n",
    "===\n",
    "* 1. 面向对象编程\n",
    "* 2. 对象、类和实例\n",
    "* 3. 创建类和使用类：实例属性和方法\n",
    "* 4. 创建类和使用类：类属性和方法\n",
    "* 5. 创建类和使用类：从外部导入类\n",
    "* 6. 高阶篇：重载\n",
    "* 7. 高阶篇：继承\n",
    "* 8. 高阶篇：实例作为属性\n",
    "* 9. 课堂&课后练习\n",
    "\n",
    "-------"
   ]
  },
  {
   "cell_type": "markdown",
   "id": "a8fcda59",
   "metadata": {},
   "source": [
    "\n",
    "### 1. 面向对象编程\n",
    "* 例子引入\n",
    "> 用字典保存学生的名字和成绩，编写两个函数，可以修改学生的成绩和打印学生的成绩\n",
    "<br/> 完成以下任务：\n",
    "> * 学生Michael的成绩为98，学生Bob的成绩为81\n",
    "> * 将这两学生的成绩分别改成97和80\n",
    "> * 打印这两学生成绩"
   ]
  },
  {
   "cell_type": "code",
   "execution_count": 1,
   "id": "disciplinary-undergraduate",
   "metadata": {},
   "outputs": [
    {
     "name": "stdout",
     "output_type": "stream",
     "text": [
      "Michael: 97\n",
      "Bob: 80\n"
     ]
    }
   ],
   "source": [
    "# 使用函数\n",
    "std1 = { 'name': 'Michael', 'score': 98 }\n",
    "std2 = { 'name': 'Bob', 'score': 81 }\n",
    "\n",
    "def set_score(std, score):\n",
    "    std['score'] = score\n",
    "\n",
    "def print_score(std):\n",
    "    print('%s: %s' % (std['name'], std['score']))\n",
    "\n",
    "set_score(std1, 97)\n",
    "set_score(std2, 80)\n",
    "print_score(std1)\n",
    "print_score(std2)"
   ]
  },
  {
   "cell_type": "markdown",
   "id": "cathedral-thesaurus",
   "metadata": {},
   "source": [
    "思考：为了便于代码交流，我们希望怎么样？"
   ]
  },
  {
   "cell_type": "code",
   "execution_count": 16,
   "id": "finite-marshall",
   "metadata": {},
   "outputs": [
    {
     "name": "stdout",
     "output_type": "stream",
     "text": [
      "Michael: 97\n",
      "Bob: 80\n"
     ]
    }
   ],
   "source": [
    "class Student():\n",
    "    def __init__(self, name, score):\n",
    "        self.name = name\n",
    "        self.score = score\n",
    "    def set_score(self, score):\n",
    "        self.score = score\n",
    "    def print_score(self):\n",
    "        print('%s: %s'%(self.name,self.score))\n",
    "\n",
    "# 我们希望的代码：\n",
    "std1 = Student('Michael', 98)\n",
    "std2 = Student('Bob', 81)\n",
    "\n",
    "std1.set_score(97)\n",
    "std2.set_score(80)\n",
    "\n",
    "std1.print_score()\n",
    "std2.print_score()"
   ]
  },
  {
   "cell_type": "markdown",
   "id": "prompt-population",
   "metadata": {},
   "source": [
    "如果所有写好的工具都是这样…写代码好简单！\n",
    "\n",
    "> 例子一：画图"
   ]
  },
  {
   "cell_type": "code",
   "execution_count": 13,
   "id": "d6918ac4",
   "metadata": {},
   "outputs": [
    {
     "data": {
      "text/plain": [
       "[<matplotlib.lines.Line2D at 0x184d0283e10>]"
      ]
     },
     "execution_count": 13,
     "metadata": {},
     "output_type": "execute_result"
    },
    {
     "data": {
      "image/png": "[encoded data removed]",
      "text/plain": [
       "<Figure size 400x300 with 1 Axes>"
      ]
     },
     "metadata": {},
     "output_type": "display_data"
    }
   ],
   "source": [
    "# 需要先安装第三方库：pip install matplotlib\n",
    "from matplotlib import pyplot as plt \n",
    "fig = plt.figure(figsize=(4,3)) # 新建一个figure\n",
    "ax = fig.add_subplot(111) # 添加一个子图\n",
    "ax.plot([1,2,3], [4,5,8]) # 绘制图像"
   ]
  },
  {
   "cell_type": "markdown",
   "id": "combined-front",
   "metadata": {},
   "source": [
    "> 例子二：爬虫"
   ]
  },
  {
   "cell_type": "code",
   "execution_count": 14,
   "id": "distributed-neighbor",
   "metadata": {},
   "outputs": [
    {
     "name": "stdout",
     "output_type": "stream",
     "text": [
      "202.120.24.199\n"
     ]
    }
   ],
   "source": [
    "# 需要先安装第三方库：pip install requests\n",
    "import requests\n",
    "sess = requests.session()\n",
    "sess.headers.update({'User-Agent':'Mozilla/5.0'})\n",
    "response = sess.get('http://www.net.cn/static/customercare/yourip.asp') \n",
    "text = response.text\n",
    "\n",
    "import re # 暂时不用关心正则表达式怎么使用\n",
    "print(re.search(r'\\d+\\.\\d+\\.\\d+\\.\\d+', text).group(0))"
   ]
  },
  {
   "cell_type": "markdown",
   "id": "theoretical-county",
   "metadata": {},
   "source": [
    "### 2. 对象、类和实例\n",
    "\n",
    "可以用type查看对象的类\n",
    "\n",
    "可以用isinstance查看对象是否是类的实例\n"
   ]
  },
  {
   "cell_type": "code",
   "execution_count": 17,
   "id": "according-offense",
   "metadata": {},
   "outputs": [
    {
     "name": "stdout",
     "output_type": "stream",
     "text": [
      "1 <class '__main__.Student'>\n",
      "2 True\n",
      "3 <class 'int'>\n",
      "4 True\n",
      "5 <class 'str'>\n",
      "6 True\n",
      "7 False\n"
     ]
    }
   ],
   "source": [
    "print(1, type(std1))\n",
    "print(2, isinstance(std1, Student))\n",
    "\n",
    "print(3, type(12))\n",
    "print(4, isinstance(12, int))\n",
    "\n",
    "print(5, type('shanghai'))\n",
    "print(6, isinstance('shanghai', str))\n",
    "\n",
    "print(7, isinstance('shanghai', Student))"
   ]
  },
  {
   "cell_type": "markdown",
   "id": "reflected-taste",
   "metadata": {},
   "source": [
    "### 3. 创建类和使用类：实例属性和方法"
   ]
  },
  {
   "cell_type": "markdown",
   "id": "false-rescue",
   "metadata": {},
   "source": [
    "* 最简单情况"
   ]
  },
  {
   "cell_type": "code",
   "execution_count": 1,
   "id": "intellectual-peninsula",
   "metadata": {},
   "outputs": [
    {
     "name": "stdout",
     "output_type": "stream",
     "text": [
      "Michael\n",
      "\n",
      "    class for student info\n",
      "    \n"
     ]
    }
   ],
   "source": [
    "class Student():\n",
    "    '''\n",
    "    class for student info\n",
    "    '''\n",
    "    pass\n",
    "    \n",
    "std1 = Student()\n",
    "std1.name = 'Michael'\n",
    "std1.score = 98\n",
    "print(std1.name)\n",
    "print(std1.__doc__)\n"
   ]
  },
  {
   "cell_type": "markdown",
   "id": "rural-runner",
   "metadata": {},
   "source": [
    "* 类的模板作用：构造函数初始化"
   ]
  },
  {
   "cell_type": "code",
   "execution_count": 173,
   "id": "confident-respect",
   "metadata": {},
   "outputs": [
    {
     "name": "stdout",
     "output_type": "stream",
     "text": [
      "Michael\n"
     ]
    }
   ],
   "source": [
    "class Student():\n",
    "    '''\n",
    "    class for student info\n",
    "    '''\n",
    "    def __init__(self, name, score): # 构造函数\n",
    "        self.name = name             # 实例属性\n",
    "        self.score = score           # 实例属性\n",
    "    \n",
    "std1 = Student('Michael', 98)\n",
    "print(std1.name)"
   ]
  },
  {
   "cell_type": "markdown",
   "id": "running-target",
   "metadata": {},
   "source": [
    "* 类的模板作用：实例方法"
   ]
  },
  {
   "cell_type": "code",
   "execution_count": 8,
   "id": "valid-tonight",
   "metadata": {},
   "outputs": [
    {
     "name": "stdout",
     "output_type": "stream",
     "text": [
      "Michael 98\n",
      "98\n",
      "Shanghai\n"
     ]
    }
   ],
   "source": [
    "class Student():\n",
    "    def __init__(self, name, score): # 构造函数\n",
    "        self.name = name             # 实例属性\n",
    "        self.score = score           # 实例属性\n",
    "\n",
    "    def set_city(self, city):        # 实例方法\n",
    "        self.city = city             # 实例属性\n",
    "    \n",
    "    def print_score(self, include_name = 0): # 实例方法\n",
    "        if include_name:\n",
    "            print('%s %d'%(self.name,self.score))\n",
    "        else:\n",
    "            print('%d'%(self.score))\n",
    "    \n",
    "std1 = Student('Michael', 98)\n",
    "# 方式一：通过实例调用实例方法，无需传实例\n",
    "std1.print_score(include_name=1)\n",
    "# 方式二：通过类名调用实例方法，需要传实例作为self\n",
    "Student.print_score(std1, include_name=0)\n",
    "\n",
    "std1.set_city('Shanghai')\n",
    "print(std1.city)\n"
   ]
  },
  {
   "cell_type": "code",
   "execution_count": 2,
   "id": "28dc5bae",
   "metadata": {},
   "outputs": [
    {
     "name": "stdout",
     "output_type": "stream",
     "text": [
      "Michael: 98\n"
     ]
    }
   ],
   "source": []
  },
  {
   "cell_type": "markdown",
   "id": "fundamental-story",
   "metadata": {},
   "source": [
    "* 类的封装作用"
   ]
  },
  {
   "cell_type": "code",
   "execution_count": 10,
   "id": "surface-confidence",
   "metadata": {},
   "outputs": [
    {
     "name": "stdout",
     "output_type": "stream",
     "text": [
      "Michael: 98\n",
      "A\n"
     ]
    }
   ],
   "source": [
    "class Student():\n",
    "    def __init__(self, name, score): # 构造函数\n",
    "        self.name = name             # 实例属性\n",
    "        self.score = score           # 实例属性\n",
    "         \n",
    "    def set_city(self, city):        # 实例方法\n",
    "        self.city = city             # 实例属性\n",
    "    \n",
    "    def print_score(self):           # 实例方法\n",
    "        print('%s: %s'%(self.name,self.score))\n",
    "        \n",
    "    def get_grade(self):             # 实例方法\n",
    "        if self.score >= 90:\n",
    "            return 'A'\n",
    "        elif self.score >= 60:\n",
    "            return 'B'\n",
    "        else:\n",
    "            return 'C'        \n",
    "\n",
    "std1 = Student('Michael', 98)\n",
    "std1.print_score()\n",
    "print(std1.get_grade())"
   ]
  },
  {
   "cell_type": "markdown",
   "id": "seven-potential",
   "metadata": {},
   "source": [
    "* 例子1：Restaurant"
   ]
  },
  {
   "cell_type": "code",
   "execution_count": 13,
   "id": "molecular-lying",
   "metadata": {},
   "outputs": [
    {
     "name": "stdout",
     "output_type": "stream",
     "text": [
      "Jun Dynasty\n",
      "True\n",
      "Shanghai\n",
      "Jun Dynasty: Open, Shanghai\n",
      "The status of the restaurant: Open\n"
     ]
    }
   ],
   "source": [
    "# solution 1\n",
    "class Restaurant():\n",
    "    def __init__(self, name, status, city='Shanghai'):\n",
    "        self.name = name\n",
    "        self.status = status\n",
    "        self.city = city\n",
    "    def describe(self):\n",
    "        status_str = 'Open' if self.status else 'Closed'\n",
    "        print('%s: %s, %s'%(self.name, status_str, self.city))\n",
    "    def describe_status(self):\n",
    "        status_str = 'Open' if self.status else 'Closed'\n",
    "        print('The status of the restaurant:', status_str)\n",
    "    \n",
    "res = Restaurant('Jun Dynasty', True)\n",
    "print(res.name)\n",
    "print(res.status)\n",
    "print(res.city)\n",
    "res.describe()\n",
    "res.describe_status()"
   ]
  },
  {
   "cell_type": "markdown",
   "id": "clean-chart",
   "metadata": {},
   "source": [
    "思考：怎么避免describe和describe_status中重复的行？"
   ]
  },
  {
   "cell_type": "code",
   "execution_count": 16,
   "id": "subsequent-thailand",
   "metadata": {},
   "outputs": [
    {
     "name": "stdout",
     "output_type": "stream",
     "text": [
      "Jun Dynasty\n",
      "True\n",
      "Shanghai\n"
     ]
    },
    {
     "ename": "AttributeError",
     "evalue": "'Restaurant' object has no attribute 'status_str'",
     "output_type": "error",
     "traceback": [
      "\u001b[0;31m---------------------------------------------------------------------------\u001b[0m",
      "\u001b[0;31mAttributeError\u001b[0m                            Traceback (most recent call last)",
      "Input \u001b[0;32mIn [16]\u001b[0m, in \u001b[0;36m<cell line: 18>\u001b[0;34m()\u001b[0m\n\u001b[1;32m     16\u001b[0m \u001b[38;5;28mprint\u001b[39m(res\u001b[38;5;241m.\u001b[39mcity)\n\u001b[1;32m     17\u001b[0m \u001b[38;5;66;03m#res.describe() # 这行没有调用的时候，会报错\u001b[39;00m\n\u001b[0;32m---> 18\u001b[0m \u001b[43mres\u001b[49m\u001b[38;5;241;43m.\u001b[39;49m\u001b[43mdescribe_status\u001b[49m\u001b[43m(\u001b[49m\u001b[43m)\u001b[49m\n",
      "Input \u001b[0;32mIn [16]\u001b[0m, in \u001b[0;36mRestaurant.describe_status\u001b[0;34m(self)\u001b[0m\n\u001b[1;32m     10\u001b[0m \u001b[38;5;28;01mdef\u001b[39;00m \u001b[38;5;21mdescribe_status\u001b[39m(\u001b[38;5;28mself\u001b[39m):\n\u001b[0;32m---> 11\u001b[0m     \u001b[38;5;28mprint\u001b[39m(\u001b[38;5;124m'\u001b[39m\u001b[38;5;124mThe status of the restaurant:\u001b[39m\u001b[38;5;124m'\u001b[39m, \u001b[38;5;28;43mself\u001b[39;49m\u001b[38;5;241;43m.\u001b[39;49m\u001b[43mstatus_str\u001b[49m)\n",
      "\u001b[0;31mAttributeError\u001b[0m: 'Restaurant' object has no attribute 'status_str'"
     ]
    }
   ],
   "source": [
    "# solution 2（错误用法）: 在describe函数里把status_str 改成 self.status_str\n",
    "class Restaurant():\n",
    "    def __init__(self, name, status, city='Shanghai'):\n",
    "        self.name = name\n",
    "        self.status = status\n",
    "        self.city = city\n",
    "    def describe(self):\n",
    "        self.status_str = 'Open' if self.status else 'Closed'\n",
    "        print('%s: %s, %s'%(self.name, self.status_str, self.city))\n",
    "    def describe_status(self):\n",
    "        print('The status of the restaurant:', self.status_str)\n",
    "    \n",
    "res = Restaurant('Jun Dynasty', True)\n",
    "print(res.name)\n",
    "print(res.status)\n",
    "print(res.city)\n",
    "#res.describe() # 这行没有调用的时候，会报错\n",
    "res.describe_status()\n"
   ]
  },
  {
   "cell_type": "markdown",
   "id": "initial-plain",
   "metadata": {},
   "source": [
    "思考：这样做有问题吗？\n",
    "\n",
    "describe()实例方法不一定会被调用, self.status_str不一定存在\n",
    "\n",
    "> 只有`__init__`函数是一定会被调用的"
   ]
  },
  {
   "cell_type": "code",
   "execution_count": 20,
   "id": "stuck-commons",
   "metadata": {},
   "outputs": [
    {
     "name": "stdout",
     "output_type": "stream",
     "text": [
      "Jun Dynasty\n",
      "True\n",
      "Shanghai\n",
      "Jun Dynasty: Open, Shanghai\n",
      "The status of the restaurant: Open\n"
     ]
    }
   ],
   "source": [
    "# solution 3： 将status_str放在一定会被调用的__init__函数\n",
    "class Restaurant():\n",
    "    def __init__(self, name, status, city='Shanghai'):\n",
    "        self.name = name\n",
    "        self.status = status\n",
    "        self.city = city\n",
    "        self.status_str = 'Open' if self.status else 'Closed'\n",
    "    def describe(self):\n",
    "        print('%s: %s, %s'%(self.name, self.status_str, self.city))\n",
    "    def describe_status(self):\n",
    "        print('The status of the restaurant:', self.status_str)\n",
    "    \n",
    "res = Restaurant('Jun Dynasty', True)\n",
    "print(res.name)\n",
    "print(res.status)\n",
    "print(res.city)\n",
    "res.describe()\n",
    "res.describe_status()"
   ]
  },
  {
   "cell_type": "markdown",
   "id": "sporting-ambassador",
   "metadata": {},
   "source": [
    "* 随堂练习1：平面直角坐标系的点"
   ]
  },
  {
   "cell_type": "code",
   "execution_count": null,
   "id": "magnetic-distance",
   "metadata": {},
   "outputs": [],
   "source": [
    "class Coordinate():\n",
    "    def __init__(self, x, y):\n",
    "        pass\n",
    "    def print(self):\n",
    "        pass\n",
    "    def distance(self, other):\n",
    "        pass\n",
    "\n",
    "p1 = Coordinate(3, 4)\n",
    "p2 = Coordinate(1, 2)\n",
    "p1.print()\n",
    "p2.print()\n",
    "# 计算p1和p2的距离\n",
    "# 方法一：通过实例调用\n",
    "\n",
    "# 方法二：通过类名调用\n",
    "\n"
   ]
  },
  {
   "cell_type": "code",
   "execution_count": 21,
   "id": "outdoor-collector",
   "metadata": {},
   "outputs": [
    {
     "name": "stdout",
     "output_type": "stream",
     "text": [
      "(3, 4)\n",
      "(1, 2)\n",
      "Distance: 2.8284271247461903\n",
      "Distance: 2.8284271247461903\n"
     ]
    }
   ],
   "source": [
    "class Coordinate():\n",
    "    def __init__(self, x, y):\n",
    "        self.x = x\n",
    "        self.y = y\n",
    "    def print(self):\n",
    "        print('(%d, %d)'%(self.x, self.y))\n",
    "    def distance(self, other):\n",
    "        x_diff_sq = (self.x - other.x) ** 2\n",
    "        y_diff_sq = (self.y - other.y) ** 2\n",
    "        return (x_diff_sq + y_diff_sq) ** 0.5\n",
    "\n",
    "p1 = Coordinate(3, 4)\n",
    "p2 = Coordinate(1, 2)\n",
    "p1.print()\n",
    "p2.print()\n",
    "# 方法一：通过实例调用\n",
    "print('Distance:', p1.distance(p2))\n",
    "# 方法二：通过类名调用\n",
    "print('Distance:', Coordinate.distance(p1, p2))\n"
   ]
  },
  {
   "cell_type": "markdown",
   "id": "pressed-garden",
   "metadata": {},
   "source": [
    "### 4. 创建类和使用类：类属性和方法\n",
    "\n",
    "* 例子：在Student类记录学生数"
   ]
  },
  {
   "cell_type": "code",
   "execution_count": 12,
   "id": "stuffed-transition",
   "metadata": {},
   "outputs": [
    {
     "name": "stdout",
     "output_type": "stream",
     "text": [
      "Number of Students: 1\n",
      "Number of Students: 2\n",
      "Number of Students: 2\n"
     ]
    }
   ],
   "source": [
    "class Student():\n",
    "    number_count = 0 # 类属性\n",
    "    def __init__(self, name, score): # 构造函数\n",
    "        self.name = name             # 实例属性\n",
    "        self.score = score           # 实例属性\n",
    "        Student.number_count += 1\n",
    "    \n",
    "    def print_score(self):           # 实例方法\n",
    "        print('%s: %s'%(self.name,self.score))\n",
    "        \n",
    "    \n",
    "std1 = Student('Michael', 98)\n",
    "print('Number of Students:', Student.number_count)\n",
    "\n",
    "std2 = Student('Bob', 81)\n",
    "print('Number of Students:', Student.number_count)\n",
    "\n",
    "print('Number of Students:', std1.number_count)"
   ]
  },
  {
   "cell_type": "markdown",
   "id": "tough-liberia",
   "metadata": {},
   "source": [
    "* 类属性和实例属性重名的时候…"
   ]
  },
  {
   "cell_type": "code",
   "execution_count": 103,
   "id": "difficult-partition",
   "metadata": {},
   "outputs": [
    {
     "name": "stdout",
     "output_type": "stream",
     "text": [
      "1 Student\n",
      "2 Michael\n",
      "2 Student\n"
     ]
    }
   ],
   "source": [
    "class Student():\n",
    "    name = 'Student'\n",
    "\n",
    "s = Student()\n",
    "print(1, s.name)\n",
    "\n",
    "s.name = 'Michael'\n",
    "print(2, s.name)\n",
    "\n",
    "del s.name # 删除s实例的name\n",
    "print(3, s.name)"
   ]
  },
  {
   "cell_type": "markdown",
   "id": "unique-sierra",
   "metadata": {},
   "source": [
    "### 5. 创建类和使用类：从外部导入类"
   ]
  },
  {
   "cell_type": "code",
   "execution_count": 11,
   "id": "bearing-mobile",
   "metadata": {},
   "outputs": [
    {
     "name": "stdout",
     "output_type": "stream",
     "text": [
      "19\n",
      "20\n"
     ]
    }
   ],
   "source": [
    "# 注意： \n",
    "# Jupyter Notebook环境可能需要先执行这一行（依版本而异）\n",
    "# %run utilities.py\n",
    "\n",
    "from student import Student\n",
    "\n",
    "std1 = Student('Michael', 98)\n",
    "print(Student.number_count)\n",
    "\n",
    "std2 = Student('Bob', 81)\n",
    "print(Student.number_count)"
   ]
  },
  {
   "cell_type": "markdown",
   "id": "respective-portugal",
   "metadata": {},
   "source": [
    "### 6. 高阶篇：重载"
   ]
  },
  {
   "cell_type": "code",
   "execution_count": 14,
   "id": "literary-injection",
   "metadata": {},
   "outputs": [
    {
     "name": "stdout",
     "output_type": "stream",
     "text": [
      "False\n",
      "<__main__.Coordinate object at 0x000002C6214EE400>\n"
     ]
    },
    {
     "ename": "TypeError",
     "evalue": "'>' not supported between instances of 'Coordinate' and 'Coordinate'",
     "output_type": "error",
     "traceback": [
      "\u001b[1;31m---------------------------------------------------------------------------\u001b[0m",
      "\u001b[1;31mTypeError\u001b[0m                                 Traceback (most recent call last)",
      "\u001b[1;32m~\\AppData\\Local\\Temp/ipykernel_30660/2011574681.py\u001b[0m in \u001b[0;36m<module>\u001b[1;34m\u001b[0m\n\u001b[0;32m      9\u001b[0m \u001b[0mprint\u001b[0m\u001b[1;33m(\u001b[0m\u001b[0mp1\u001b[0m\u001b[1;33m)\u001b[0m\u001b[1;33m\u001b[0m\u001b[1;33m\u001b[0m\u001b[0m\n\u001b[0;32m     10\u001b[0m \u001b[1;31m#print(p1 + p2) # error\u001b[0m\u001b[1;33m\u001b[0m\u001b[1;33m\u001b[0m\u001b[1;33m\u001b[0m\u001b[0m\n\u001b[1;32m---> 11\u001b[1;33m \u001b[0mp1\u001b[0m \u001b[1;33m>\u001b[0m \u001b[0mp2\u001b[0m \u001b[1;31m# error\u001b[0m\u001b[1;33m\u001b[0m\u001b[1;33m\u001b[0m\u001b[0m\n\u001b[0m",
      "\u001b[1;31mTypeError\u001b[0m: '>' not supported between instances of 'Coordinate' and 'Coordinate'"
     ]
    }
   ],
   "source": [
    "class Coordinate():\n",
    "    def __init__(self, x, y):\n",
    "        self.x = x\n",
    "        self.y = y\n",
    "\n",
    "p1 = Coordinate(1, 2)\n",
    "p2 = Coordinate(1, 2)\n",
    "print(p1 == p2)\n",
    "print(p1) \n",
    "# print(p1 + p2) # error\n",
    "# p1 > p2 # error\n"
   ]
  },
  {
   "cell_type": "code",
   "execution_count": 22,
   "id": "lined-austria",
   "metadata": {},
   "outputs": [
    {
     "name": "stdout",
     "output_type": "stream",
     "text": [
      "True\n",
      "(1, 2)\n",
      "(3, 6)\n",
      "True\n",
      "2 4 None\n"
     ]
    }
   ],
   "source": [
    "class Coordinate():\n",
    "    def __init__(self, x, y):\n",
    "        self.x = x\n",
    "        self.y = y\n",
    "    def __str__(self): # overwrite print\n",
    "        return '(%d, %d)'%(self.x, self.y)\n",
    "    def __eq__(self, other): # overwrite ==\n",
    "        return self.x == other.x and self.y == other.y\n",
    "    def __add__(self, other): # overwrite +\n",
    "        return Coordinate(self.x+other.x, self.y+other.y)\n",
    "    def __gt__(self, other): # overwrite > (greater than)\n",
    "        return self.x > other.x and self.y > other.y\n",
    "    def __getitem__(self, key): # overwrite []\n",
    "        if key == 1:\n",
    "            return self.x\n",
    "        elif key == 2:\n",
    "            return self.y\n",
    "        else:\n",
    "            return None\n",
    "\n",
    "p1 = Coordinate(1, 2)\n",
    "p2 = Coordinate(1, 2)\n",
    "p3 = Coordinate(2, 4)\n",
    "print(p1 == p2)\n",
    "print(p1)\n",
    "print(p1 + p3)\n",
    "print(p3 > p1)\n",
    "\n",
    "print(p3[1], p3[2], p3[5])"
   ]
  },
  {
   "cell_type": "markdown",
   "id": "sustained-reply",
   "metadata": {},
   "source": [
    "* 课堂练习：Complex类"
   ]
  },
  {
   "cell_type": "code",
   "execution_count": 22,
   "id": "e2accde5",
   "metadata": {},
   "outputs": [
    {
     "ename": "TypeError",
     "evalue": "__str__ returned non-string (type NoneType)",
     "output_type": "error",
     "traceback": [
      "\u001b[1;31m---------------------------------------------------------------------------\u001b[0m",
      "\u001b[1;31mTypeError\u001b[0m                                 Traceback (most recent call last)",
      "Cell \u001b[1;32mIn[22], line 14\u001b[0m\n\u001b[0;32m     12\u001b[0m c1 \u001b[38;5;241m=\u001b[39m Complex(\u001b[38;5;241m2\u001b[39m,\u001b[38;5;241m3\u001b[39m)\n\u001b[0;32m     13\u001b[0m c2 \u001b[38;5;241m=\u001b[39m Complex(\u001b[38;5;241m1\u001b[39m,\u001b[38;5;241m2\u001b[39m)\n\u001b[1;32m---> 14\u001b[0m \u001b[38;5;28;43mprint\u001b[39;49m\u001b[43m(\u001b[49m\u001b[43mc1\u001b[49m\u001b[43m)\u001b[49m\n\u001b[0;32m     15\u001b[0m \u001b[38;5;28mprint\u001b[39m(c1 \u001b[38;5;241m+\u001b[39m c2)\n\u001b[0;32m     16\u001b[0m \u001b[38;5;28mprint\u001b[39m(c1 \u001b[38;5;241m-\u001b[39m c2)\n",
      "\u001b[1;31mTypeError\u001b[0m: __str__ returned non-string (type NoneType)"
     ]
    }
   ],
   "source": [
    "class Complex():\n",
    "    def __init__(self, r, i):\n",
    "        pass\n",
    "    def __str__(self):\n",
    "        pass\n",
    "    def __add__(self, other):\n",
    "        pass\n",
    "    def __sub__(self, other):\n",
    "        pass\n",
    "    def __mul__(self, other):\n",
    "        pass\n",
    "c1 = Complex(2,3)\n",
    "c2 = Complex(1,2)\n",
    "print(c1)\n",
    "print(c1 + c2)\n",
    "print(c1 - c2)\n",
    "print(c1*c2)"
   ]
  },
  {
   "cell_type": "code",
   "execution_count": 23,
   "id": "tested-ecuador",
   "metadata": {},
   "outputs": [
    {
     "name": "stdout",
     "output_type": "stream",
     "text": [
      "(2,3)\n",
      "(3,5)\n",
      "(1,1)\n",
      "(-4,7)\n"
     ]
    }
   ],
   "source": [
    "class Complex():\n",
    "    def __init__(self, r, i):\n",
    "        self.r = r\n",
    "        self.i = i\n",
    "    def __str__(self):\n",
    "        return '(%d,%d)'%(self.r, self.i)\n",
    "    def __add__(self, other):\n",
    "        return Complex(self.r+other.r, self.i+other.i)\n",
    "    def __sub__(self, other):\n",
    "        return Complex(self.r-other.r, self.i-other.i)\n",
    "    def __mul__(self, other): # (a+b i)*(c+d i)\n",
    "        new_real = self.r*other.r - self.i*other.i\n",
    "        new_imaginary = self.r*other.i + self.i*other.r\n",
    "        return Complex(new_real, new_imaginary)\n",
    "c1 = Complex(2,3)\n",
    "c2 = Complex(1,2)\n",
    "print(c1)\n",
    "print(c1 + c2)\n",
    "print(c1 - c2)\n",
    "print(c1*c2)"
   ]
  },
  {
   "cell_type": "markdown",
   "id": "appointed-gardening",
   "metadata": {},
   "source": [
    "### 7. 高阶篇：继承"
   ]
  },
  {
   "cell_type": "code",
   "execution_count": 149,
   "id": "ahead-protein",
   "metadata": {},
   "outputs": [
    {
     "name": "stdout",
     "output_type": "stream",
     "text": [
      "Car: Audi, A4, 2019\n",
      "Filling the gas tank...\n",
      "--------\n",
      "Car: Tesla, Model S, 2020\n",
      "This car has a 120-kwh battery.\n",
      "The car is charging...\n"
     ]
    }
   ],
   "source": [
    "class Car():\n",
    "    def __init__(self, manufacturer, model, year):\n",
    "        self.mft = manufacturer\n",
    "        self.model = model\n",
    "        self.year = year\n",
    "    def describe_car(self):\n",
    "        print('Car: %s, %s, %s'%(self.mft, self.model, self.year))\n",
    "    def refill(self):\n",
    "        print('Filling the gas tank...')\n",
    "\n",
    "class ElectricCar(Car):\n",
    "    def __init__(self, make, model, year, battery_size):\n",
    "        super().__init__(make, model, year)\n",
    "        self.bs = battery_size # 特有属性\n",
    "    def describle_battery(self): # 特有方法\n",
    "        print(\"This car has a \" + str(self.bs) + \"-kwh battery.\")\n",
    "    def refill(self): # 重写refill\n",
    "        print('The car is charging...')\n",
    "    \n",
    "car1 = Car('Audi', 'A4', 2019)\n",
    "car1.describe_car()\n",
    "car1.refill()\n",
    "print('--------')\n",
    "car2 = ElectricCar('Tesla', 'Model S', 2020, 120)\n",
    "car2.describe_car()\n",
    "car2.describle_battery()\n",
    "car2.refill()\n",
    "# car1.describle_battery() # error"
   ]
  },
  {
   "cell_type": "markdown",
   "id": "parliamentary-terminal",
   "metadata": {},
   "source": [
    "* 课堂练习：冰淇淋小店"
   ]
  },
  {
   "cell_type": "code",
   "execution_count": 26,
   "id": "floppy-bearing",
   "metadata": {},
   "outputs": [
    {
     "name": "stdout",
     "output_type": "stream",
     "text": [
      "['watermelon', 'strawberry']\n",
      "The status of the restaurant: Open\n",
      "test: Open, Shanghai\n"
     ]
    }
   ],
   "source": [
    "# solution 3： 将status_str放在一定会被调用的__init__函数\n",
    "class Restaurant():\n",
    "    def __init__(self, name, status, city='Shanghai'):\n",
    "        self.name = name\n",
    "        self.status = status\n",
    "        self.city = city\n",
    "        self.status_str = 'Open' if self.status else 'Closed'\n",
    "    def describe(self):\n",
    "        print('%s: %s, %s'%(self.name, self.status_str, self.city))\n",
    "    def describe_status(self):\n",
    "        print('The status of the restaurant:', self.status_str)\n",
    "\n",
    "class IceCreamStand(Restaurant):\n",
    "    def __init__(self, name, status, flavors, city='Shanghai'):\n",
    "        super().__init__(name, status, city=city)\n",
    "        self.flavors = flavors\n",
    "    def show_flavors(self):\n",
    "        print(self.flavors)\n",
    "\n",
    "ics = IceCreamStand('test', True, ['watermelon', 'strawberry'])\n",
    "ics.show_flavors()\n",
    "ics.describe_status()\n",
    "ics.describe()"
   ]
  },
  {
   "cell_type": "markdown",
   "id": "external-farming",
   "metadata": {},
   "source": [
    "### 8. 高阶篇: 实例作为属性"
   ]
  },
  {
   "cell_type": "code",
   "execution_count": 161,
   "id": "effective-range",
   "metadata": {},
   "outputs": [
    {
     "name": "stdout",
     "output_type": "stream",
     "text": [
      "Battery: Nanfu, 2019, 120-kwh\n",
      "Battery: Nanfu, 2019, 120-kwh\n"
     ]
    }
   ],
   "source": [
    "class Car():\n",
    "    def __init__(self, manufacturer, model, year):\n",
    "        self.mft = manufacturer\n",
    "        self.model = model\n",
    "        self.year = year\n",
    "    def describe_car(self):\n",
    "        print('Car: %s, %s, %s'%(self.mft, self.model, self.year))\n",
    "    def refill(self):\n",
    "        print('Filling the gas tank...')\n",
    "\n",
    "class Battery():\n",
    "    def __init__(self, make, year, size):\n",
    "        self.make = make\n",
    "        self.year = year\n",
    "        self.size = size\n",
    "    def describe(self):\n",
    "        print('Battery: %s, %s, %s-kwh'%(self.make,self.year, self.size))\n",
    "\n",
    "class ElectricCar(Car):\n",
    "    def __init__(self, make, model, year, battery):\n",
    "        super().__init__(make, model, year)\n",
    "        self.battery = battery # 特有属性\n",
    "    def describle_battery(self): # 特有方法\n",
    "        self.battery.describe()\n",
    "    def refill(self): # 重写refill\n",
    "        print('The car is charging...')\n",
    "    \n",
    "battery = Battery('Nanfu', 2019, 120)\n",
    "car = ElectricCar('Tesla', 'Model S', 2020, battery)\n",
    "\n",
    "car.battery.describe()\n",
    "car.describle_battery()"
   ]
  },
  {
   "cell_type": "markdown",
   "id": "8520d0e1",
   "metadata": {},
   "source": [
    "* 私有属性"
   ]
  },
  {
   "cell_type": "code",
   "execution_count": 3,
   "id": "51776275",
   "metadata": {},
   "outputs": [
    {
     "ename": "AttributeError",
     "evalue": "'Student' object has no attribute '__name'",
     "output_type": "error",
     "traceback": [
      "\u001b[0;31m---------------------------------------------------------------------------\u001b[0m",
      "\u001b[0;31mAttributeError\u001b[0m                            Traceback (most recent call last)",
      "Input \u001b[0;32mIn [3]\u001b[0m, in \u001b[0;36m<cell line: 5>\u001b[0;34m()\u001b[0m\n\u001b[1;32m      3\u001b[0m         \u001b[38;5;28mself\u001b[39m\u001b[38;5;241m.\u001b[39m__name \u001b[38;5;241m=\u001b[39m name\n\u001b[1;32m      4\u001b[0m std \u001b[38;5;241m=\u001b[39m Student(\u001b[38;5;124m'\u001b[39m\u001b[38;5;124mHan meimei\u001b[39m\u001b[38;5;124m'\u001b[39m)\n\u001b[0;32m----> 5\u001b[0m \u001b[38;5;28mprint\u001b[39m(\u001b[43mstd\u001b[49m\u001b[38;5;241;43m.\u001b[39;49m\u001b[43m__name\u001b[49m)\n",
      "\u001b[0;31mAttributeError\u001b[0m: 'Student' object has no attribute '__name'"
     ]
    }
   ],
   "source": [
    "class Student():\n",
    "    def __init__(self, name):\n",
    "        self.__name = name\n",
    "std = Student('Han meimei')\n",
    "print(std.__name)"
   ]
  },
  {
   "cell_type": "markdown",
   "id": "wooden-giving",
   "metadata": {},
   "source": [
    "### 9. 课堂&课后练习"
   ]
  },
  {
   "cell_type": "markdown",
   "id": "515c5692",
   "metadata": {},
   "source": [
    "* 例子一：\n",
    "\n",
    "1. 创建一个名为 `Employee`的类\n",
    "    * 其中包括一个不断递增的类属性`empCount`，该变量用来记录一共创建了多少个 Employee实例\n",
    "    * (实例)属性包括： `name`, `salary`\n",
    "    * (实例)方法包括：\n",
    "        * `displayCount` (作用是打印出一共有多少个员工)\n",
    "        * 重写`print`函数，用来显示当前员工实例的姓名和工资\n",
    "    * 创建两个Employee类的实例，赋予不同的姓名和工资，并打印各自的信息；打印出当前一共有多少个员工。\n",
    "2. 创建一个子类 `Manager`，其继承于父类`Employee` \n",
    "    * 该子类包括新的属性 `department`\n",
    "    * 该子类包括新的方法\n",
    "        * 招聘一个新员工 `hire`: 打印提示信息，并打印该员工信息\n",
    "        * 解雇一个员工 `fire`：打印提示信息，并打印该员工信息，同时`empCount -= 1`\n",
    "        * 重写 `print`函数，来输出经理的姓名、工资、部门\n",
    "    * 创建一个子类 Manager的实例，并测试上述所创建的三个方法"
   ]
  },
  {
   "cell_type": "code",
   "execution_count": 18,
   "id": "e3b3d3da",
   "metadata": {},
   "outputs": [
    {
     "name": "stdout",
     "output_type": "stream",
     "text": [
      "Name: Zara, salary: 2000\n",
      "Name: Manni, salary: 5000\n",
      "Total Employee 2\n"
     ]
    }
   ],
   "source": [
    "# 1\n",
    "class Employee(object):\n",
    "    empCount = 0\n",
    "    def __init__(self, name, salary):\n",
    "        self.name = name\n",
    "        self.salary = salary\n",
    "        Employee.empCount += 1\n",
    "    def displayCount(self):\n",
    "        print (f\"Total Employee {Employee.empCount}\")\n",
    "    def __str__(self):\n",
    "        return f\"Name: {self.name}, salary: {self.salary}\"\n",
    " \n",
    "# This would create first object of Employee class\n",
    "emp1 = Employee(\"Zara\", 2000)\n",
    "# This would create second object of Employee class\n",
    "emp2 = Employee(\"Manni\", 5000)\n",
    "print(emp1)\n",
    "print(emp2)\n",
    "print (\"Total Employee %d\" % Employee.empCount)\n"
   ]
  },
  {
   "cell_type": "code",
   "execution_count": 19,
   "id": "5d3780a4",
   "metadata": {},
   "outputs": [
    {
     "name": "stdout",
     "output_type": "stream",
     "text": [
      "Name: Zara, salary: 2000, department: market\n",
      "Name: Manni, salary: 5000, department: market\n",
      "Name: finger, salary: 10000\n",
      "-----\n",
      "The following person is fired - Name: finger, salary: 10000\n",
      "Total Employee 2\n",
      "The following person is hired - Name: ZZZZ, salary: 2000\n",
      "Total Employee 3\n"
     ]
    }
   ],
   "source": [
    "# 2\n",
    "class Employee(object):\n",
    "    empCount = 0\n",
    "    def __init__(self, name, salary):\n",
    "        self.name = name\n",
    "        self.salary = salary\n",
    "        Employee.empCount += 1\n",
    "    def displayCount(self):\n",
    "        print (f\"Total # of Employee: {Employee.empCount}\")\n",
    "    def __str__(self):\n",
    "        return f\"Name: {self.name}, salary: {self.salary}\"\n",
    "\n",
    "class Manager(Employee):\n",
    "    def __init__(self,name,salary,department):\n",
    "        super().__init__(name,salary)\n",
    "        self.department = department\n",
    "    def __str__(self):\n",
    "        return f\"Name: {self.name}, salary: {self.salary}, department: {self.department}\"\n",
    "    def fire(self,the_employee):\n",
    "        Employee.empCount -= 1\n",
    "        print(f\"The following person is fired - {the_employee}\")\n",
    "    def hire(self,new_employee):\n",
    "        print(f\"The following person is hired - {new_employee}\")\n",
    "        \n",
    "manager1=Manager(\"Zara\", 2000,\"market\")\n",
    "manager2=Manager(\"Manni\", 5000,\"market\")\n",
    "man1=Employee(\"finger\",10000)\n",
    "print(manager1)\n",
    "print(manager2)\n",
    "print(man1)\n",
    "\n",
    "print('-----')\n",
    "manager1.fire(man1)\n",
    "print(\"Total Employee %d\" % Employee.empCount)\n",
    "manager2.hire(Employee('ZZZZ',2000))\n",
    "print(\"Total Employee %d\" % Employee.empCount)"
   ]
  },
  {
   "cell_type": "markdown",
   "id": "sensitive-aerospace",
   "metadata": {},
   "source": [
    "* 例子二：分数类Fraction\n",
    "\n",
    "> Fraction\n",
    "> * 代表分数\n",
    "\n",
    "> 属性\n",
    "> * numerator： 分子\n",
    "> * Denominator: 分母\n",
    "\n",
    "> 方法:\n",
    "> * add, subtract\n",
    "> * covert to float\n",
    "> * invert: 颠倒分子分母\n",
    "> * 重写print\n",
    "\n",
    "> 用实例测试以上方法\n",
    "\n"
   ]
  },
  {
   "cell_type": "code",
   "execution_count": 4,
   "id": "golden-wallet",
   "metadata": {},
   "outputs": [
    {
     "name": "stdout",
     "output_type": "stream",
     "text": [
      "2/4 3/4 20/16 -4/16\n",
      "0.5\n",
      "0.5\n",
      "4/2\n"
     ]
    }
   ],
   "source": [
    "# your codes here\n",
    "class Fraction(object):\n",
    "    def __init__(self, num, denom):\n",
    "        # 这里先假设传进来的都是int，之后会学习如何在非int型时候抛出异常\n",
    "        self.num = num\n",
    "        self.denom = denom\n",
    "    def __str__(self):# overwrite print() 以字符串的形式返回\n",
    "        return str(self.num) + \"/\" + str(self.denom)\n",
    "    def __add__(self, other): # overwrite +\n",
    "        top = self.num*other.denom + self.denom*other.num\n",
    "        bot = self.denom*other.denom\n",
    "        return Fraction(top, bot)\n",
    "    def __sub__(self, other):# overwrite -\n",
    "        top = self.num*other.denom - self.denom*other.num\n",
    "        bot = self.denom*other.denom\n",
    "        return Fraction(top, bot)\n",
    "    def float(self): #转换成浮点型, 也可以重写__float__函数，见下一个函数\n",
    "        return self.num/self.denom\n",
    "    def __float__(self): # overwrite float()\n",
    "        return self.num/self.denom\n",
    "    def inverse(self):#求倒数\n",
    "        return Fraction(self.denom, self.num)\n",
    "a=Fraction(2,4)\n",
    "b=Fraction(3,4)\n",
    "c=a+b\n",
    "d=a-b\n",
    "print(a,b,c,d)\n",
    "print(a.float())\n",
    "print(float(a))\n",
    "print(a.inverse())"
   ]
  },
  {
   "cell_type": "markdown",
   "id": "identical-rental",
   "metadata": {},
   "source": [
    "* Fraction 进阶挑战\n",
    "\n",
    "如果分子分母可约，在初始化的时候，进行化简\n",
    "\n",
    "Tips: `math.gcd(a,b)`可以求整数`a,b`的最大公约数\n"
   ]
  },
  {
   "cell_type": "code",
   "execution_count": 6,
   "id": "eb7795eb",
   "metadata": {},
   "outputs": [
    {
     "name": "stdout",
     "output_type": "stream",
     "text": [
      "1/4 3/4 1/1 -1/2\n",
      "0.25\n",
      "0.25\n",
      "4/1\n"
     ]
    }
   ],
   "source": [
    "# your codes here\n",
    "import math\n",
    "class Fraction(object):\n",
    "    def __init__(self, num, denom):\n",
    "        # 这里先假设传进来的都是int，之后会学习如何在非int型时候抛出异常\n",
    "        self.num = num\n",
    "        self.denom = denom\n",
    "        self.simplify()\n",
    "    def simplify(self):\n",
    "        ''' 化简分数'''\n",
    "        gcd = math.gcd(self.num, self.denom)\n",
    "        if gcd > 1:\n",
    "            self.num //= gcd \n",
    "            self.denom //= gcd\n",
    "    def __str__(self):# overwrite print() 以字符串的形式返回\n",
    "        return str(self.num) + \"/\" + str(self.denom)\n",
    "    def __add__(self, other): # overwrite +\n",
    "        top = self.num*other.denom + self.denom*other.num\n",
    "        bot = self.denom*other.denom\n",
    "        new_frac = Fraction(top, bot)\n",
    "        #new_frac.simplify() # 已经不需要了，新建Fraction时，已经simplify\n",
    "        return new_frac\n",
    "    def __sub__(self, other):# overwrite -\n",
    "        top = self.num*other.denom - self.denom*other.num\n",
    "        bot = self.denom*other.denom\n",
    "        new_frac = Fraction(top, bot)\n",
    "        #new_frac.simplify()\n",
    "        return new_frac\n",
    "    def float(self): #转换成浮点型, 也可以重写__float__函数，见下一个函数\n",
    "        return self.num/self.denom\n",
    "    def __float__(self): # overwrite float()\n",
    "        return self.num/self.denom\n",
    "    def inverse(self):#求倒数\n",
    "        return Fraction(self.denom, self.num)\n",
    "a=Fraction(1,4)\n",
    "b=Fraction(3,4)\n",
    "c=a+b\n",
    "d=a-b\n",
    "print(a,b,c,d)\n",
    "print(a.float())\n",
    "print(float(a))\n",
    "print(a.inverse())"
   ]
  },
  {
   "cell_type": "code",
   "execution_count": 7,
   "id": "5e578c9f",
   "metadata": {},
   "outputs": [
    {
     "name": "stdout",
     "output_type": "stream",
     "text": [
      "1/2\n"
     ]
    }
   ],
   "source": [
    "a=Fraction(1,4)\n",
    "b=Fraction(1,4)\n",
    "print(a+b)\n"
   ]
  },
  {
   "cell_type": "markdown",
   "id": "b53b1b72",
   "metadata": {},
   "source": [
    "* 例子三：形状类\n",
    "\n",
    "定义一个父类:形状类`Shape`\n",
    "* 实例属性`Count`, 记录共实例化了几个`Shape`及其子类\n",
    "* 两个方法，分别是求面积和周长。\n",
    "\n",
    "定义三个`Shape`的子类：矩形 `Rectangle`，三角形 `Triagle`，圆 `Circle`。自行设计相应属性，并重写求面积和周长的方法。\n",
    "\n",
    "测试：\n",
    "\n",
    "* 传入圆的半径`4`,输出周长和面积\n",
    "* 传入矩形的长和宽`4,5`,输出周长和面积\n",
    "* 传入三角形三边`3,4,5`,输出周长和面积\n",
    "* 输出共实例化了几个`Shape`及其子类\n",
    "\n",
    "* Tips: 可以使用海伦公式，根据三角形的三边长求面积。假设三角形边长为`a,b,c`，则面积`A`为：\n",
    "$A={\\sqrt  {s(s-a)(s-b)(s-c)}}$，其中${\\displaystyle s={\\frac {a+b+c}{2}}}$。\n"
   ]
  },
  {
   "cell_type": "code",
   "execution_count": 22,
   "id": "8a3ea2ec",
   "metadata": {},
   "outputs": [
    {
     "name": "stdout",
     "output_type": "stream",
     "text": [
      "圆的半径：4，圆的面积：50.2655，圆的周长：25.1327\n",
      "三角形边长：3、4、5,三角形面积：6,三角形周长：12\n",
      "矩形长、宽：4、5,矩形面积：20,矩形周长：18\n",
      "实例化次数: 3\n"
     ]
    }
   ],
   "source": [
    "import math\n",
    "#父类\n",
    "class Shape():\n",
    "    count=0\n",
    "    def __init__(self):\n",
    "        Shape.count+=1\n",
    "    def area(self):\n",
    "        pass\n",
    "    def circum(self):\n",
    "        pass\n",
    "#子类：圆   \n",
    "class Circle(Shape):\n",
    "    def __init__(self, r):\n",
    "        '''Circle的初始化\n",
    "        r: 圆的半径\n",
    "        '''\n",
    "        super().__init__()\n",
    "        self.r=r # 特有属性\n",
    "    def area(self):\n",
    "        '''方法：计算圆面积'''\n",
    "        self.area=(self.r**2)*math.pi\n",
    "        return self.area\n",
    "    def circum(self):\n",
    "        '''方法：计算圆的周长'''\n",
    "        self.circum=self.r*2*math.pi\n",
    "        return self.circum\n",
    "\n",
    "#子类：三角形\n",
    "class Triangle(Shape):\n",
    "    def __init__(self,sl1,sl2,sl3):\n",
    "        '''Triangle的初始化,参数为边长sl(sidelenth)\n",
    "        sl1, sl2, sl3: 三角形边长\n",
    "        '''\n",
    "        super().__init__()\n",
    "        self.sl1=sl1\n",
    "        self.sl2=sl2\n",
    "        self.sl3=sl3\n",
    "        self.p=0.5*(sl1+sl2+sl3) #半周长，用于求面积\n",
    "    def area(self):\n",
    "        '''方法：计算三角形面积'''\n",
    "        self.area=math.sqrt(self.p*(self.p-self.sl1)*(self.p-self.sl2)*(self.p-self.sl3))\n",
    "        return self.area\n",
    "    def circum(self):\n",
    "        '''方法：计算三角形周长'''\n",
    "        self.circum=2*self.p\n",
    "        return self.circum\n",
    "\n",
    "#子类：矩形\n",
    "class Rectangle(Shape):\n",
    "    def __init__(self,length,width):#矩形属性：长length，宽width\n",
    "        '''Rectangle的初始化\n",
    "        length: 长\n",
    "        width: 宽\n",
    "        '''\n",
    "        super().__init__()\n",
    "        self.length=length\n",
    "        self.width=width\n",
    "    def area(self):\n",
    "        '''方法：计算矩形面积'''\n",
    "        self.area=self.width*self.length\n",
    "        return self.area\n",
    "    def circum(self):\n",
    "        '''方法：计算矩形周长'''\n",
    "        self.circum=2*(self.length+self.width)\n",
    "        return self.circum\n",
    "    \n",
    "#圆的实例化    \n",
    "a=Circle(4)\n",
    "print('圆的半径：%g，圆的面积：%g，圆的周长：%g'%(a.r,a.area(),a.circum())) # %g类似于%f，但是输出多余的0\n",
    "\n",
    "#三角形的实例化\n",
    "b=Triangle(3,4,5)\n",
    "print('三角形边长：%g、%g、%g,三角形面积：%g,三角形周长：%g'%(b.sl1,b.sl2,b.sl3,b.area(),b.circum()))  \n",
    "\n",
    "#矩形的实例化\n",
    "c=Rectangle(4,5)\n",
    "print('矩形长、宽：%g、%g,矩形面积：%g,矩形周长：%g'%(c.length,c.width,c.area(),c.circum()))\n",
    "\n",
    "#实例化的次数\n",
    "print('实例化次数:',Shape.count)"
   ]
  },
  {
   "cell_type": "markdown",
   "id": "913ba03f",
   "metadata": {},
   "source": [
    "* 例子四：函数与类：二维向量\n",
    "* 任务：\n",
    "    * 1. 定义一个二维向量类\n",
    "    * 2. 实现两个该类对象之间的加、减运算\n",
    "    * 3. 实现该类对象与**标量**的乘、除运算\n",
    "    * 4. 实现向量长度的计算函数\n",
    "    * 5. 实现实例化，并依次调用加减乘除方法和长度计算函数\n",
    "\n",
    "* 举例：\n",
    "\n",
    "    * 如`(3, 4)`这个向量，与 `(0, 1)` 的加法计算结果是`(3, 5)`，减法结果是`(3, 3)`，与标量`2`相乘的结果是`(6, 8)`，与`2`相除是`(1.5, 2)`，其长度为 $\\sqrt{3^2+4^2} = 5$\n",
    "\n",
    "* Tips: \n",
    "  * 尝试 `import math`，利用math模块完成一些操作，如求开方可以使用`math.sqrt()`\n",
    "  * 除法的重载应该是`__truediv__`，可以参考[这里](https://docs.python.org/3/reference/datamodel.html#basic-customization)的3.3.8。"
   ]
  },
  {
   "cell_type": "code",
   "execution_count": null,
   "id": "3033a57a",
   "metadata": {},
   "outputs": [],
   "source": [
    "class vector():\n",
    "    def __init__(self,x,y):\n",
    "        self.x=x\n",
    "        self.y=y\n",
    "    # 重新定义print\n",
    "    def __str__(self):\n",
    "        return '(%d,%d)' % (self.x, self.y)\n",
    "    \n",
    "    # 不使用重载实现加减乘除  \n",
    "    def plus(self,another_vector):\n",
    "        return vector(self.x+another_vector.x,self.y+another_vector.y)\n",
    "    def minus(self,another_vector):\n",
    "        return vector(self.x - another_vector.x, self.y - another_vector.y)\n",
    "    def multiple(self,number):\n",
    "        return vector(number*self.x,number*self.y)\n",
    "    def division(self,number):\n",
    "        return vector(self.x/number,self.y/number)\n",
    "    \n",
    "    # 使用重载实现加减乘除    \n",
    "    def __add__(self, another_vector):\n",
    "        return vector(self.x+another_vector.x,self.y+another_vector.y)\n",
    "    def __sub__(self, another_vector):\n",
    "        return vector(self.x-another_vector.x,self.y-another_vector.y)\n",
    "    def __mul__(self, number):\n",
    "        return vector(self.x*number,self.y*number)\n",
    "    def __truediv__(self, number):\n",
    "        return vector(self.x/number,self.y/number)\n",
    "    # 长度    \n",
    "    def length(self):\n",
    "        import math\n",
    "        return (math.sqrt(self.x**2+self.y**2))\n",
    "# 实例化\n",
    "vector1=vector(2,4)\n",
    "vector2=vector(0,1)\n",
    "\n",
    "# 测试：不使用重载实现加减乘除 \n",
    "vector3=vector1.plus(vector2)\n",
    "vector4=vector1.minus(vector2)\n",
    "vector5=vector1.multiple(2)\n",
    "vector6=vector1.division(2)\n",
    "\n",
    "print(vector3)\n",
    "print(vector4)\n",
    "print(vector5)\n",
    "print(vector6)\n",
    "print(vector1.length())\n",
    "\n",
    "# 测试：使用重载实现加减乘除 \n",
    "print(vector1+vector2)\n",
    "print(vector1-vector2)\n",
    "print(vector1*2)\n",
    "print(vector1/2)"
   ]
  }
 ],
 "metadata": {
  "kernelspec": {
   "display_name": "Python 3 (ipykernel)",
   "language": "python",
   "name": "python3"
  },
  "language_info": {
   "codemirror_mode": {
    "name": "ipython",
    "version": 3
   },
   "file_extension": ".py",
   "mimetype": "text/x-python",
   "name": "python",
   "nbconvert_exporter": "python",
   "pygments_lexer": "ipython3",
   "version": "3.11.5"
  },
  "toc": {
   "base_numbering": 1,
   "nav_menu": {},
   "number_sections": true,
   "sideBar": true,
   "skip_h1_title": true,
   "title_cell": "Table of Contents",
   "title_sidebar": "Contents",
   "toc_cell": false,
   "toc_position": {},
   "toc_section_display": true,
   "toc_window_display": false
  },
  "varInspector": {
   "cols": {
    "lenName": 16,
    "lenType": 16,
    "lenVar": 40
   },
   "kernels_config": {
    "python": {
     "delete_cmd_postfix": "",
     "delete_cmd_prefix": "del ",
     "library": "var_list.py",
     "varRefreshCmd": "print(var_dic_list())"
    },
    "r": {
     "delete_cmd_postfix": ") ",
     "delete_cmd_prefix": "rm(",
     "library": "var_list.r",
     "varRefreshCmd": "cat(var_dic_list()) "
    }
   },
   "types_to_exclude": [
    "module",
    "function",
    "builtin_function_or_method",
    "instance",
    "_Feature"
   ],
   "window_display": false
  }
 },
 "nbformat": 4,
 "nbformat_minor": 5
}
