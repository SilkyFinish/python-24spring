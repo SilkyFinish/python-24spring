{
 "cells": [
  {
   "cell_type": "markdown",
   "id": "ddb38ed9",
   "metadata": {},
   "source": [
    "Lab Session 1\n",
    "========\n",
    "BUSS1301程序设计，2024 春\n",
    "\n"
   ]
  },
  {
   "cell_type": "markdown",
   "id": "4ab9373f",
   "metadata": {},
   "source": [
    "### 往年常见错误总结"
   ]
  },
  {
   "cell_type": "code",
   "execution_count": 1,
   "id": "e546faaf",
   "metadata": {},
   "outputs": [],
   "source": [
    "# print（‘this’） # 应该使用英文的引号\n",
    "\n",
    "# 不要覆盖 系统built-in 函数\n",
    "# print = 'sjtu'\n",
    "# print(1) # print被覆盖，就无法使用了\n",
    "\n",
    "# input()函数得到的结果是str, 不能作为数字直接使用"
   ]
  },
  {
   "cell_type": "markdown",
   "id": "0e2b8caa",
   "metadata": {},
   "source": [
    "### Q1. 统计数字个数\n",
    "\n",
    "接收输入的一行字符，统计出字符串中包含数字的个数。\n",
    "\n",
    "提示：str.isdigit() 返回 str是否只包含数字\n",
    "\n"
   ]
  },
  {
   "cell_type": "code",
   "execution_count": 8,
   "id": "67dc0a5e",
   "metadata": {},
   "outputs": [
    {
     "name": "stdout",
     "output_type": "stream",
     "text": [
      "字符串中包含数字的个数为 4\n"
     ]
    }
   ],
   "source": [
    "# your codes here\n",
    "str_=input('请输入一行字符')\n",
    "if str.isdigit(str_) is True:\n",
    "    print('字符串中包含数字的个数为',len(str_))\n",
    "else:\n",
    "    a=0\n",
    "    for char in str_:\n",
    "       if ord(char)>=48 and ord(char)<=57:\n",
    "           a=a+1\n",
    "    print('字符串中包含数字的个数为',a)\n",
    "    \n"
   ]
  },
  {
   "cell_type": "code",
   "execution_count": null,
   "id": "5e993609",
   "metadata": {},
   "outputs": [],
   "source": [
    "#答案\n",
    "Str = input(\"Please input:\")\n",
    "counter = 0\n",
    "for char in Str:\n",
    "    counter += char.isdigit()#数据类型会自动转化（bool-int）\n",
    "print(f\"数字数目为：{counter}\")"
   ]
  },
  {
   "cell_type": "code",
   "execution_count": null,
   "id": "e180f7f7",
   "metadata": {},
   "outputs": [],
   "source": [
    "#答案\n",
    "Str = input('Please input a string:')\n",
    "count = 0\n",
    "for char in Str:\n",
    "    count = count + char.isdigit()        \n",
    "print('Number of digit: ',count)"
   ]
  },
  {
   "cell_type": "markdown",
   "id": "82e432f7",
   "metadata": {},
   "source": [
    "### Q2. 拓展split函数\n",
    "字符串的split函数，只能指定一个分隔符来分割字符串。请借助split函数，实现用两个分隔符（空格和井号，即` `和`#`）来分割以下Str.\n",
    "\n",
    "`Str = \"I love# SJTU because #it is a very good university\"`\n",
    "\n",
    "- Step 1: 先用` `和`#`分割`Str`，不要丢弃空元素，保存结果到`List`. 打印到屏幕\n",
    "- Step 2: 用空格将`List`重新连接成句子，输出到屏幕。\n",
    "- Step 3: 思考下结果为什么有连续的空格？"
   ]
  },
  {
   "cell_type": "code",
   "execution_count": 16,
   "id": "027eb5af",
   "metadata": {},
   "outputs": [
    {
     "name": "stdout",
     "output_type": "stream",
     "text": [
      "['I love', ' SJTU because ', 'it is a very good university']\n"
     ]
    }
   ],
   "source": [
    "# your codes here\n",
    "Str=\"I love# SJTU because #it is a very good university\"\n",
    "Str1=Str.split(\"#\")\n",
    "List=Str1\n",
    "print(List)\n",
    "\n"
   ]
  },
  {
   "cell_type": "code",
   "execution_count": null,
   "id": "dec3f2ea",
   "metadata": {},
   "outputs": [],
   "source": [
    "#答案\n",
    "# 方法一\n",
    "# Step 1\n",
    "Str = \"I love# SJTU  because #it is a very good university\"\n",
    "List = []\n",
    "for item in Str.split('#'):\n",
    "    for subitem in item.split(' '):#先用一个分割，在分割出来的每一个中在用另一个分割\n",
    "        List.append(subitem)\n",
    "print(List)\n",
    "# Step 2\n",
    "' '.join(List)"
   ]
  },
  {
   "cell_type": "code",
   "execution_count": null,
   "id": "e4793257",
   "metadata": {},
   "outputs": [],
   "source": [
    "#答案\n",
    "# 法二，常用，把一个先用另一个换掉，再直接用这个分割\n",
    "# step 1\n",
    "List = Str.replace('#', ' ').split(' ')\n",
    "print(List)\n",
    "# step 2\n",
    "print(' '.join(List))"
   ]
  },
  {
   "cell_type": "markdown",
   "id": "57c4c355",
   "metadata": {},
   "source": [
    "### Q3.  统计字符串所有数字的和\n",
    "提示用户输入一个仅包含数字、小数点、逗号和空格的字符串（这里默认输入是正确的，逗号之间都有数字，程序不用判别输入是否正确），统计所有数字的和。这里连续多个数字字符，当做一个数字。\n",
    "\n",
    "例如：当用户输入`12, 45, 4.1,1`，则最终结果应为`12+45+4.1+1`的和"
   ]
  },
  {
   "cell_type": "code",
   "execution_count": 32,
   "id": "9536c04d",
   "metadata": {},
   "outputs": [
    {
     "name": "stdout",
     "output_type": "stream",
     "text": [
      "5.1\n"
     ]
    }
   ],
   "source": [
    "# your codes here\n",
    "str_=input(\"请输入一个字符串，仅包含数字小数点逗号空格\")\n",
    "str1s=str_.split(\",\")\n",
    "a=0\n",
    "for str1 in str1s:\n",
    "    str2=str1.strip()\n",
    "    a+=float(str2)\n",
    "\n",
    "print(a)\n",
    "\n"
   ]
  },
  {
   "cell_type": "code",
   "execution_count": null,
   "id": "80d61d56",
   "metadata": {},
   "outputs": [],
   "source": [
    "#答案\n",
    "# 列表循环: 先split, 再strip去掉左右空格。或者，不用去掉左右空格也行，因为发现float(' 12 ')也会输入 12.0\n",
    "List=input().split(\",\")\n",
    "Sum=0\n",
    "for item in List:\n",
    "    Sum=Sum+float(item.strip())\n",
    "print(Sum)"
   ]
  },
  {
   "cell_type": "markdown",
   "id": "c5044218",
   "metadata": {},
   "source": [
    "### Q4. 统计字符串并倒序\n",
    "假设有下列字符串变量Str，单词间可能包含多个空格\n",
    "\n",
    "`Str = \"I  love  SJTU    because it is  a very good university\"`\n",
    "\n",
    "请写程序\n",
    "* 任务一：计算这个句子的单词数，保存在变量`num`，最后用`%-formatting`输出这个句子的单词数，形如`这个句子有...个单词`\n",
    "\n",
    "* 任务二：将这个句子的单词倒序，重新拼接成句子，用`%-formatting`输出，形如`倒序后的句子为：...`\n",
    "\n"
   ]
  },
  {
   "cell_type": "code",
   "execution_count": 30,
   "id": "f479a956",
   "metadata": {},
   "outputs": [
    {
     "name": "stdout",
     "output_type": "stream",
     "text": [
      "10\n",
      "这个句子有10个单词\n",
      "倒序后的句子为  university good very a is it because SJTU love I\n"
     ]
    }
   ],
   "source": [
    "# your codes here\n",
    "Str=\"I love SJTU because it is a very good university\"\n",
    "str1=Str.split(\" \")\n",
    "num=0\n",
    "for item in str1:\n",
    "    num+=1\n",
    "print(num)\n",
    "print('这个句子有%d个单词'%(num))\n",
    "\n",
    "str2=str1[::-1]\n",
    "str3=\"\"\n",
    "for item1 in str2:\n",
    "    str3=str3+\" \"+item1\n",
    "print(\"倒序后的句子为\",str3)\n"
   ]
  },
  {
   "cell_type": "code",
   "execution_count": null,
   "id": "eb40c36c",
   "metadata": {},
   "outputs": [],
   "source": [
    "#答案\n",
    "#任务一（用split函数实现）\n",
    "Str = \"I  love  SJTU    because it is  a very good university\"\n",
    "num_words = len(Str.split())#计数更简单的方法\n",
    "print(\"这个句子有%d个单词\"%(num_words))\n",
    "#任务二\n",
    "reversed_sent = ' '.join(Str.split()[::-1])#string遇事不决先split\n",
    "print(\"倒序后的句子为：%s\"%(reversed_sent))"
   ]
  },
  {
   "cell_type": "markdown",
   "id": "d16136cd",
   "metadata": {},
   "source": [
    "### Q5. 操作csv文件内容\n",
    "已知某个`csv`文件存放着学生的学号、姓名和分数。将内容读取后，保存到了字符串`Str`\n",
    "\n",
    "```\n",
    "orStr = '''\n",
    "ID,name,sce\n",
    "1001,Xuan,100\n",
    "1002,Daniel,98\n",
    "1003,Michael,77\n",
    "1004,Carolina,90\n",
    "'''\n",
    "```\n",
    "请从`Str`中解析出所有学生的成绩，并计算平均分，将平均分打印到屏幕。"
   ]
  },
  {
   "cell_type": "code",
   "execution_count": 46,
   "id": "d4240bfa",
   "metadata": {},
   "outputs": [
    {
     "name": "stdout",
     "output_type": "stream",
     "text": [
      "['', 'ID', 'name', 'sce', '1001', 'Xuan', '100', '1002', 'Daniel', '98', '1003', 'Michael', '77', '1004', 'Carolina', '90', '']\n",
      "91.25\n"
     ]
    }
   ],
   "source": [
    "# your codes here\n",
    "Str = '''\n",
    "ID,name,sce\n",
    "1001,Xuan,100\n",
    "1002,Daniel,98\n",
    "1003,Michael,77\n",
    "1004,Carolina,90\n",
    "'''\n",
    "List=Str.replace(\"\\n\",\",\").split(\",\")\n",
    "print(List)\n",
    "a=0\n",
    "b=6\n",
    "c=0\n",
    "d=len(List)\n",
    "while b<d:\n",
    "        a+=float(List[b])\n",
    "        b+=3\n",
    "        c+=1\n",
    "print(a/c)\n",
    "\n",
    "\n"
   ]
  },
  {
   "cell_type": "code",
   "execution_count": null,
   "id": "c0d08b0c",
   "metadata": {},
   "outputs": [],
   "source": [
    "#答案\n",
    "Str = '''\n",
    "ID,name,score\n",
    "1001,Xuan,100\n",
    "1002,Daniel,98\n",
    "1003,Michael,77\n",
    "1004,Carolina,90\n",
    "'''\n",
    "lines = Str.strip().split('\\n')[1:]#学习，多行信息的拆解方法\n",
    "Sum = 0\n",
    "for line in lines:\n",
    "    Sum += float(line.split(',')[-1])\n",
    "avg = Sum/len(lines)\n",
    "avg"
   ]
  },
  {
   "cell_type": "markdown",
   "id": "7da6d61d",
   "metadata": {},
   "source": [
    "### Q6. 优先级判别\n",
    "请结合ppt，在不运行代码的情况下，判断以下结果\n",
    "```\n",
    "a = 10 + 3 * 2 ** 2 - 1\n",
    "print(a)\n",
    "\n",
    "b = True and 3.5 > 10\n",
    "print(b)\n",
    "\n",
    "c = 3 in [1,2,3] + 5\n",
    "print(c)\n",
    "```"
   ]
  },
  {
   "cell_type": "code",
   "execution_count": null,
   "id": "582f1b97",
   "metadata": {},
   "outputs": [],
   "source": [
    "# test here"
   ]
  },
  {
   "cell_type": "markdown",
   "id": "51c734af",
   "metadata": {},
   "source": [
    "### Q7. 计算正态分布\n",
    "已知正态分布的表达式如下\n",
    "\n",
    "$$f(x)=\\frac{1}{\\sigma \\sqrt{2 \\pi}} \\exp \\left(-\\frac{(x-\\mu)^{2}}{2 \\sigma^{2}}\\right)$$\n",
    "\n",
    "假设$\\mu=2, \\sigma = 3$, 计算f(1)的值"
   ]
  },
  {
   "cell_type": "code",
   "execution_count": 49,
   "id": "963c3c2f",
   "metadata": {},
   "outputs": [
    {
     "data": {
      "text/plain": [
       "0.12579440923099774"
      ]
     },
     "execution_count": 49,
     "metadata": {},
     "output_type": "execute_result"
    }
   ],
   "source": [
    "# your codes here\n",
    "import math\n",
    "(1/(3*math.sqrt(2*math.pi)))*math.exp(-(1-2)**2/(2*3**2))\n"
   ]
  },
  {
   "cell_type": "code",
   "execution_count": null,
   "id": "b74fc04d",
   "metadata": {},
   "outputs": [],
   "source": [
    "#答案\n",
    "import math\n",
    "x = 1; mu = 2; sigma = 3\n",
    "first_part = 1/(sigma*math.sqrt(2*math.pi))\n",
    "second_part = math.exp(-(x-mu)**2/(2*sigma**2))\n",
    "first_part * second_part"
   ]
  }
 ],
 "metadata": {
  "kernelspec": {
   "display_name": "Python 3 (ipykernel)",
   "language": "python",
   "name": "python3"
  },
  "language_info": {
   "codemirror_mode": {
    "name": "ipython",
    "version": 3
   },
   "file_extension": ".py",
   "mimetype": "text/x-python",
   "name": "python",
   "nbconvert_exporter": "python",
   "pygments_lexer": "ipython3",
   "version": "3.11.5"
  },
  "toc": {
   "base_numbering": 1,
   "nav_menu": {},
   "number_sections": false,
   "sideBar": true,
   "skip_h1_title": false,
   "title_cell": "Table of Contents",
   "title_sidebar": "Contents",
   "toc_cell": false,
   "toc_position": {
    "height": "calc(100% - 180px)",
    "left": "10px",
    "top": "150px",
    "width": "384px"
   },
   "toc_section_display": true,
   "toc_window_display": false
  }
 },
 "nbformat": 4,
 "nbformat_minor": 5
}
