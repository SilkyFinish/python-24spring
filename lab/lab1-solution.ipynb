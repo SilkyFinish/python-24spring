{
 "cells": [
  {
   "cell_type": "markdown",
   "id": "ddb38ed9",
   "metadata": {},
   "source": [
    "Lab Session 1\n",
    "========\n",
    "BUSS1301程序设计，2024 春\n",
    "\n"
   ]
  },
  {
   "cell_type": "markdown",
   "id": "4ab9373f",
   "metadata": {},
   "source": [
    "### 往年常见错误总结"
   ]
  },
  {
   "cell_type": "code",
   "execution_count": 1,
   "id": "e546faaf",
   "metadata": {},
   "outputs": [],
   "source": [
    "# print（‘this’） # 应该使用英文的引号\n",
    "\n",
    "# 不要覆盖 系统built-in 函数\n",
    "# print = 'sjtu'\n",
    "# print(1) # print被覆盖，就无法使用了\n",
    "\n",
    "# input()函数得到的结果是str, 不能作为数字直接使用"
   ]
  },
  {
   "cell_type": "markdown",
   "id": "0e2b8caa",
   "metadata": {},
   "source": [
    "### Q1. 统计数字个数\n",
    "\n",
    "接收输入的一行字符，统计出字符串中包含数字的个数。\n",
    "\n",
    "提示：str.isdigit() 返回 str是否只包含数字\n",
    "\n"
   ]
  },
  {
   "cell_type": "code",
   "execution_count": 5,
   "id": "077ec7b7",
   "metadata": {},
   "outputs": [
    {
     "name": "stdout",
     "output_type": "stream",
     "text": [
      "数字数目为：3\n"
     ]
    }
   ],
   "source": [
    "Str = input(\"Please input:\")\n",
    "counter = 0\n",
    "for char in Str:\n",
    "    counter += char.isdigit()\n",
    "print(f\"数字数目为：{counter}\")\n"
   ]
  },
  {
   "cell_type": "code",
   "execution_count": 1,
   "id": "67dc0a5e",
   "metadata": {},
   "outputs": [
    {
     "name": "stdout",
     "output_type": "stream",
     "text": [
      "Please input a string:sdf43\n",
      "Number of digit:  2\n"
     ]
    }
   ],
   "source": [
    "Str = input('Please input a string:')\n",
    "count = 0\n",
    "for char in Str:\n",
    "    count = count + char.isdigit()        \n",
    "print('Number of digit: ',count)"
   ]
  },
  {
   "cell_type": "markdown",
   "id": "82e432f7",
   "metadata": {},
   "source": [
    "### Q2. 拓展split函数\n",
    "字符串的split函数，只能指定一个分隔符来分割字符串。请借助split函数，实现用两个分隔符（空格和井号，即` `和`#`）来分割以下Str.\n",
    "\n",
    "`Str = \"I love# SJTU because #it is a very good university\"`\n",
    "\n",
    "- Step 1: 先用` `和`#`分割`Str`，不要丢弃空元素，保存结果到`List`. 打印到屏幕\n",
    "- Step 2: 用空格将`List`重新连接成句子，输出到屏幕。\n",
    "- Step 3: 思考下结果为什么有连续的空格？"
   ]
  },
  {
   "cell_type": "code",
   "execution_count": 1,
   "id": "8bb32635",
   "metadata": {},
   "outputs": [
    {
     "name": "stdout",
     "output_type": "stream",
     "text": [
      "['I', 'love', '', 'SJTU', '', 'because', '', 'it', 'is', 'a', 'very', 'good', 'university']\n"
     ]
    },
    {
     "data": {
      "text/plain": [
       "'I love  SJTU  because  it is a very good university'"
      ]
     },
     "execution_count": 1,
     "metadata": {},
     "output_type": "execute_result"
    }
   ],
   "source": [
    "# 方法一\n",
    "# Step 1\n",
    "Str = \"I love# SJTU  because #it is a very good university\"\n",
    "List = []\n",
    "for item in Str.split('#'):\n",
    "    for subitem in item.split(' '):\n",
    "        List.append(subitem)\n",
    "print(List)\n",
    "# Step 2\n",
    "' '.join(List)"
   ]
  },
  {
   "cell_type": "code",
   "execution_count": 19,
   "id": "712ad645",
   "metadata": {},
   "outputs": [
    {
     "name": "stdout",
     "output_type": "stream",
     "text": [
      "['I', 'love', '', 'SJTU', '', 'because', '', 'it', 'is', 'a', 'very', 'good', 'university']\n",
      "I love  SJTU  because  it is a very good university\n"
     ]
    }
   ],
   "source": [
    "# 法二\n",
    "# step 1\n",
    "List = Str.replace('#', ' ').split(' ')\n",
    "print(List)\n",
    "# step 2\n",
    "print(' '.join(List))"
   ]
  },
  {
   "cell_type": "markdown",
   "id": "57c4c355",
   "metadata": {},
   "source": [
    "### Q3.  统计字符串所有数字的和\n",
    "提示用户输入一个仅包含数字、小数点、逗号和空格的字符串（这里默认输入是正确的，逗号之间都有数字，程序不用判别输入是否正确），统计所有数字的和。这里连续多个数字字符，当做一个数字。\n",
    "\n",
    "例如：当用户输入`12, 45, 4.1,1`，则最终结果应为`12+45+4.1+1`的和"
   ]
  },
  {
   "cell_type": "code",
   "execution_count": 15,
   "id": "9536c04d",
   "metadata": {},
   "outputs": [
    {
     "name": "stdout",
     "output_type": "stream",
     "text": [
      "12, 45, 4,1\n",
      "62.0\n"
     ]
    }
   ],
   "source": [
    "# 列表循环: 先split, 再strip去掉左右空格。或者，不用去掉左右空格也行，因为发现float(' 12 ')也会输入 12.0\n",
    "List=input().split(\",\")\n",
    "Sum=0\n",
    "for item in List:\n",
    "    Sum=Sum+float(item.strip())\n",
    "print(Sum)"
   ]
  },
  {
   "cell_type": "markdown",
   "id": "c5044218",
   "metadata": {},
   "source": [
    "### Q4. 统计字符串并倒序\n",
    "假设有下列字符串变量Str，单词间可能包含多个空格\n",
    "\n",
    "`Str = \"I  love  SJTU    because it is  a very good university\"`\n",
    "\n",
    "请写程序\n",
    "* 任务一：计算这个句子的单词数，保存在变量`num`，最后用`%-formatting`输出这个句子的单词数，形如`这个句子有...个单词`\n",
    "\n",
    "* 任务二：将这个句子的单词倒序，重新拼接成句子，用`%-formatting`输出，形如`倒序后的句子为：...`\n",
    "\n"
   ]
  },
  {
   "cell_type": "code",
   "execution_count": 38,
   "id": "a9fb8f60",
   "metadata": {},
   "outputs": [
    {
     "name": "stdout",
     "output_type": "stream",
     "text": [
      "这个句子有10个单词\n"
     ]
    }
   ],
   "source": [
    "#任务一（用split函数实现）\n",
    "Str = \"I  love  SJTU    because it is  a very good university\"\n",
    "num_words = len(Str.split())\n",
    "print(\"这个句子有%d个单词\"%(num_words))"
   ]
  },
  {
   "cell_type": "code",
   "execution_count": 39,
   "id": "ed84a287",
   "metadata": {},
   "outputs": [
    {
     "name": "stdout",
     "output_type": "stream",
     "text": [
      "倒序后的句子为：university good very a is it because SJTU love I\n"
     ]
    }
   ],
   "source": [
    "#任务二\n",
    "reversed_sent = ' '.join(Str.split()[::-1])\n",
    "print(\"倒序后的句子为：%s\"%(reversed_sent))"
   ]
  },
  {
   "cell_type": "markdown",
   "id": "d16136cd",
   "metadata": {},
   "source": [
    "### Q5. 操作csv文件内容\n",
    "已知某个`csv`文件存放着学生的学号、姓名和分数。将内容读取后，保存到了字符串`Str`\n",
    "\n",
    "```\n",
    "Str = '''\n",
    "ID,name,score\n",
    "1001,Xuan,100\n",
    "1002,Daniel,98\n",
    "1003,Michael,77\n",
    "1004,Carolina,90\n",
    "'''\n",
    "```\n",
    "请从`Str`中解析出所有学生的成绩，并计算平均分，将平均分打印到屏幕。"
   ]
  },
  {
   "cell_type": "code",
   "execution_count": 56,
   "id": "22c14943",
   "metadata": {},
   "outputs": [
    {
     "data": {
      "text/plain": [
       "91.0"
      ]
     },
     "execution_count": 56,
     "metadata": {},
     "output_type": "execute_result"
    }
   ],
   "source": [
    "Str = '''\n",
    "ID,name,score\n",
    "1001,Xuan,100\n",
    "1002,Daniel,98\n",
    "1003,Michael,77\n",
    "1004,Carolina,90\n",
    "'''\n",
    "lines = Str.strip().split('\\n')[1:]\n",
    "Sum = 0\n",
    "for line in lines:\n",
    "    Sum += float(line.split(',')[-1])\n",
    "avg = Sum/len(lines)\n",
    "avg"
   ]
  },
  {
   "cell_type": "markdown",
   "id": "566815d2",
   "metadata": {},
   "source": [
    "### Q6. 优先级判别\n",
    "请结合ppt，在不运行代码的情况下，判断以下结果\n",
    "```\n",
    "a = 10 + 3 * 2 ** 2 - 1\n",
    "print(a)\n",
    "\n",
    "b = True and 3.5 > 10\n",
    "print(b)\n",
    "\n",
    "c = 3 in [1,2,3] + 5\n",
    "print(c)\n",
    "```"
   ]
  },
  {
   "cell_type": "code",
   "execution_count": 61,
   "id": "8ec79c01",
   "metadata": {},
   "outputs": [
    {
     "name": "stdout",
     "output_type": "stream",
     "text": [
      "21\n",
      "False\n"
     ]
    },
    {
     "ename": "TypeError",
     "evalue": "can only concatenate list (not \"int\") to list",
     "output_type": "error",
     "traceback": [
      "\u001b[1;31m---------------------------------------------------------------------------\u001b[0m",
      "\u001b[1;31mTypeError\u001b[0m                                 Traceback (most recent call last)",
      "Cell \u001b[1;32mIn[61], line 8\u001b[0m\n\u001b[0;32m      5\u001b[0m b \u001b[38;5;241m=\u001b[39m \u001b[38;5;28;01mTrue\u001b[39;00m \u001b[38;5;129;01mand\u001b[39;00m \u001b[38;5;241m3.5\u001b[39m \u001b[38;5;241m>\u001b[39m \u001b[38;5;241m10\u001b[39m\n\u001b[0;32m      6\u001b[0m \u001b[38;5;28mprint\u001b[39m(b)\n\u001b[1;32m----> 8\u001b[0m c \u001b[38;5;241m=\u001b[39m \u001b[38;5;241m3\u001b[39m \u001b[38;5;129;01min\u001b[39;00m \u001b[43m[\u001b[49m\u001b[38;5;241;43m1\u001b[39;49m\u001b[43m,\u001b[49m\u001b[38;5;241;43m2\u001b[39;49m\u001b[43m,\u001b[49m\u001b[38;5;241;43m3\u001b[39;49m\u001b[43m]\u001b[49m\u001b[43m \u001b[49m\u001b[38;5;241;43m+\u001b[39;49m\u001b[43m \u001b[49m\u001b[38;5;241;43m5\u001b[39;49m\n\u001b[0;32m      9\u001b[0m \u001b[38;5;28mprint\u001b[39m(c)\n",
      "\u001b[1;31mTypeError\u001b[0m: can only concatenate list (not \"int\") to list"
     ]
    }
   ],
   "source": [
    "# 测试区\n",
    "a = 10 + 3 * 2 ** 2 - 1\n",
    "print(a)\n",
    "\n",
    "b = True and 3.5 > 10\n",
    "print(b)\n",
    "\n",
    "c = 3 in [1,2,3] + 5\n",
    "print(c)\n"
   ]
  },
  {
   "cell_type": "markdown",
   "id": "51c734af",
   "metadata": {},
   "source": [
    "### Q7. 计算正态分布\n",
    "已知正态分布的表达式如下\n",
    "\n",
    "$$f(x)=\\frac{1}{\\sigma \\sqrt{2 \\pi}} \\exp \\left(-\\frac{(x-\\mu)^{2}}{2 \\sigma^{2}}\\right)$$\n",
    "\n",
    "假设$\\mu=2, \\sigma = 3$, 计算f(1)的值"
   ]
  },
  {
   "cell_type": "code",
   "execution_count": 58,
   "id": "f56f7fc8",
   "metadata": {},
   "outputs": [
    {
     "data": {
      "text/plain": [
       "0.12579440923099774"
      ]
     },
     "execution_count": 58,
     "metadata": {},
     "output_type": "execute_result"
    }
   ],
   "source": [
    "import math\n",
    "x = 1; mu = 2; sigma = 3\n",
    "first_part = 1/(sigma*math.sqrt(2*math.pi))\n",
    "second_part = math.exp(-(x-mu)**2/(2*sigma**2))\n",
    "first_part * second_part"
   ]
  },
  {
   "cell_type": "code",
   "execution_count": 16,
   "id": "963c3c2f",
   "metadata": {},
   "outputs": [
    {
     "name": "stdout",
     "output_type": "stream",
     "text": [
      "The result is: 0.12579440923099774\n"
     ]
    }
   ],
   "source": [
    "import math\n",
    "x = 1; mu = 2; sigma = 3\n",
    "\n",
    "first_part = 1/(math.sqrt(2*math.pi)*sigma)\n",
    "second_part = math.exp(-(x-mu)**2/(2*sigma**2))\n",
    "answer = first_part*second_part\n",
    "print('The result is:', answer)"
   ]
  }
 ],
 "metadata": {
  "kernelspec": {
   "display_name": "Python 3 (ipykernel)",
   "language": "python",
   "name": "python3"
  },
  "language_info": {
   "codemirror_mode": {
    "name": "ipython",
    "version": 3
   },
   "file_extension": ".py",
   "mimetype": "text/x-python",
   "name": "python",
   "nbconvert_exporter": "python",
   "pygments_lexer": "ipython3",
   "version": "3.10.9"
  },
  "toc": {
   "base_numbering": 1,
   "nav_menu": {},
   "number_sections": false,
   "sideBar": true,
   "skip_h1_title": false,
   "title_cell": "Table of Contents",
   "title_sidebar": "Contents",
   "toc_cell": false,
   "toc_position": {
    "height": "calc(100% - 180px)",
    "left": "10px",
    "top": "150px",
    "width": "384px"
   },
   "toc_section_display": true,
   "toc_window_display": false
  }
 },
 "nbformat": 4,
 "nbformat_minor": 5
}
