{
 "cells": [
  {
   "cell_type": "markdown",
   "id": "46f8a5f2",
   "metadata": {},
   "source": [
    "Lab Session 4\n",
    "========\n",
    "BUSS1301程序设计，2024 春\n",
    "\n",
    "\n"
   ]
  },
  {
   "cell_type": "markdown",
   "id": "33104d73",
   "metadata": {},
   "source": [
    "### Q1. 股价模拟\n",
    "\n",
    "假设一支股票，初始股价为1。每一期有50%的概率上涨10%，另外50%的概率下跌10%。\n",
    "\n",
    "（1）对该支股票的股价波动模拟100次，每次模拟10期，得到100个该股票10期后可能的价格，并计算100次模拟股价的平均值。\n",
    "\n",
    "（2）计算股价以x.y开头的频率次数，并按照以下方式进行可视化展示，一个*号表示一次，例如：\n",
    "```\n",
    "0.4: *\n",
    "0.5: **\n",
    "0.6: *****************\n",
    "0.7: ******************\n",
    "0.9: *************************\n",
    "1.1: *********************\n",
    "1.4: ***********\n",
    "1.7: ***** \n",
    "```\n"
   ]
  },
  {
   "cell_type": "code",
   "execution_count": 3,
   "id": "1e63ebce",
   "metadata": {},
   "outputs": [
    {
     "name": "stdout",
     "output_type": "stream",
     "text": [
      "0.9878759993520013\n",
      "0.4: *\n",
      "0.5: **\n",
      "0.6: *****************\n",
      "0.7: ******************\n",
      "0.9: *************************\n",
      "1.1: *********************\n",
      "1.4: ***********\n",
      "1.7: *****\n"
     ]
    }
   ],
   "source": [
    "# your codes here\n",
    "\n",
    "    "
   ]
  },
  {
   "cell_type": "markdown",
   "id": "0eb74b4b",
   "metadata": {},
   "source": [
    "### Q2.  NumPy数组操作\n",
    "\n",
    "* 定义以下向量和矩阵：\n",
    "    * `vec1 = np.array([-1,4,-9])`\n",
    "    * `mat1 = np.array([[1,3,5],[7,-9,2],[4,6,8]])`\n",
    "* 1）计算`vec1`和`mat1`的乘积，并将其结果赋值给`vec2`.\n",
    "* 2）计算`mat1`的转置。\n",
    "* 3）计算`mat1`的行列式。\n",
    "\n",
    "\n"
   ]
  },
  {
   "cell_type": "code",
   "execution_count": 1,
   "id": "a9db05a8",
   "metadata": {},
   "outputs": [],
   "source": [
    "# your codes here"
   ]
  },
  {
   "cell_type": "markdown",
   "id": "120f43d1",
   "metadata": {},
   "source": [
    "### Q3. 向量投影函数\n",
    "\n",
    "已知$v_1,v_2$是`n`维向量，则$v_1$在$v_2$上的投影$v_1^{\\prime}$为\n",
    "$$v_1^{\\prime} = \\cfrac{\\langle v_1,v_2 \\rangle v_2}{||v_2||^2}$$\n",
    "\n",
    "编写函数`project(v1, v2)`实现$v_1$在$v_2$上的投影$v_1^{\\prime}$。并验证$v_1^{\\prime} - v_1$是否和$v_2$垂直，即内积为`0`。\n",
    "\n",
    "验证时，$v_1,v_2$都是`1`维`ndarray`，长度为`n`，初始化为`0-9`的随机整数。\n",
    "\n",
    "提示：\n",
    "* 内积函数：`np.inner`\n",
    "* 范数函数：`np.linalg.norm`\n",
    "* 随机整数生产函数：`np.random.randint`\n",
    "* 请自行阅读相关文档了解函数的具体用法。"
   ]
  },
  {
   "cell_type": "code",
   "execution_count": 2,
   "id": "2b4e4949",
   "metadata": {},
   "outputs": [],
   "source": [
    "# your codes here"
   ]
  }
 ],
 "metadata": {
  "kernelspec": {
   "display_name": "Python 3 (ipykernel)",
   "language": "python",
   "name": "python3"
  },
  "language_info": {
   "codemirror_mode": {
    "name": "ipython",
    "version": 3
   },
   "file_extension": ".py",
   "mimetype": "text/x-python",
   "name": "python",
   "nbconvert_exporter": "python",
   "pygments_lexer": "ipython3",
   "version": "3.10.9"
  },
  "toc": {
   "base_numbering": 1,
   "nav_menu": {},
   "number_sections": true,
   "sideBar": true,
   "skip_h1_title": false,
   "title_cell": "Table of Contents",
   "title_sidebar": "Contents",
   "toc_cell": false,
   "toc_position": {
    "height": "calc(100% - 180px)",
    "left": "10px",
    "top": "150px",
    "width": "165px"
   },
   "toc_section_display": true,
   "toc_window_display": true
  }
 },
 "nbformat": 4,
 "nbformat_minor": 5
}
