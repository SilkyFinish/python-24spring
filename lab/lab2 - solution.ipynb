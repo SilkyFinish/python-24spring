{
 "cells": [
  {
   "cell_type": "markdown",
   "metadata": {},
   "source": [
    "Lab Session 2\n",
    "========\n",
    "BUSS1301程序设计，2024 春\n"
   ]
  },
  {
   "cell_type": "markdown",
   "metadata": {},
   "source": [
    "### Q1. 仿`isalnum`函数的实现\n",
    "字符串的`isalnum`函数能够用于判断一个字符串是否只包含数字，英文字母和汉字。以下请自己实现类似功能：\n",
    "\n",
    "通过`input`输入一个字符串，判断是否只包含数字`0-9`、大小写英文字母`a-z`和`A-Z`。是的话，输出`该字符串仅含数字与字母`; 否则，输出`该字符串除了数字与字母，还有其他`"
   ]
  },
  {
   "cell_type": "code",
   "execution_count": null,
   "metadata": {},
   "outputs": [
    {
     "name": "stdout",
     "output_type": "stream",
     "text": [
      "输入字符串：fsd\n",
      "该字符串仅含数字与字母\n"
     ]
    }
   ],
   "source": [
    "# 计数，看有多少个符合条件\n",
    "Str = input(\"输入字符串：\")\n",
    "count = 0\n",
    "for char in Str: # 题目要求不能使用 isalnum\n",
    "    # 字符串直接对比，会根据ascii码大小进行对比\n",
    "    if (char > '0' and char < '9') or (char > 'a' and char < 'z') or (char > 'A' and char < 'Z'): # 注意这里三个or连接的逻辑\n",
    "        count += 1\n",
    "if count == len(Str):\n",
    "    print(\"该字符串仅含数字与字母\")\n",
    "else:\n",
    "    print(\"该字符串除了数字与字母，还有其他\")"
   ]
  },
  {
   "cell_type": "code",
   "execution_count": 2,
   "metadata": {},
   "outputs": [
    {
     "name": "stdout",
     "output_type": "stream",
     "text": [
      "该字符串除了数字与字母，还有其他\n"
     ]
    }
   ],
   "source": [
    "# 思路二：先默认True,再看是否有字符不符合条件\n",
    "Str = input(\"输入字符串：\")\n",
    "is_al_num = True\n",
    "for char in Str:\n",
    "    if not((char >= '0' and char <= '9') or (char >= 'a' and char <= 'z') or (char >= 'A' and char <= 'Z')):\n",
    "        is_al_num = False\n",
    "        break\n",
    "if is_al_num:\n",
    "    print(\"该字符串仅含数字与字母\")\n",
    "else:\n",
    "    print(\"该字符串除了数字与字母，还有其他\")\n"
   ]
  },
  {
   "cell_type": "markdown",
   "metadata": {},
   "source": [
    "### Q2. 根据索引重新排列list\n",
    "给你一个字符串 `Str` 和一个 长度相同 的整数数组 `indices` 。请你重新排列字符串 `Str`中的字符 ，其中第 `i` 个字符需要移动到 `indices[i]` 指示的位置，将重新排列后的字符串保存成`Str_new`。\n",
    "\n",
    "实例：`Str = 'Python'; indices = [0,3,2,1,5,4] --> Phtyno`\n",
    "\n",
    "|老字符串Str|P|y|t|h|o|n|\n",
    "|-|-|-|-|-|-|-|\n",
    "|索引|0|1|2|3|4|5|\n",
    "|新字符串按此排列|0|3|2|1|5|4|\n",
    "|新字符串Str_new|P|h|t|y|n|o|\n"
   ]
  },
  {
   "cell_type": "code",
   "execution_count": 4,
   "metadata": {},
   "outputs": [
    {
     "data": {
      "text/plain": [
       "'Phtyno'"
      ]
     },
     "execution_count": 4,
     "metadata": {},
     "output_type": "execute_result"
    }
   ],
   "source": [
    "# your codes here\n",
    "# 思路一：indices[i] 指示的位置 为 Str[i]\n",
    "Str = 'Python'; indices = [0,3,2,1,5,4]\n",
    "List = [None, ] * len(Str)\n",
    "for i in range(len(Str)):\n",
    "    List[indices[i]] = Str[i]\n",
    "Str_new = ''.join(List)\n",
    "Str_new"
   ]
  },
  {
   "cell_type": "code",
   "execution_count": 1,
   "metadata": {},
   "outputs": [
    {
     "data": {
      "text/plain": [
       "'Phtyno'"
      ]
     },
     "execution_count": 1,
     "metadata": {},
     "output_type": "execute_result"
    }
   ],
   "source": [
    "# 思路二：或者通过观察发现，其实就是根据indices元素逐个作为下标，去从Str取\n",
    "Str = 'Python'; indices = [0,3,2,1,5,4]\n",
    "List = []\n",
    "for i in indices:\n",
    "    List.append(Str[i])\n",
    "Str_new = ''.join(List)\n",
    "Str_new"
   ]
  },
  {
   "cell_type": "markdown",
   "metadata": {},
   "source": [
    "### Q3. 约瑟夫环\n",
    "将数字`1-100`连成环，即`100`的后一位是`1`。第一次移除1，第二次移除3，第三次移除5，以此类推，之后都是前进两步，移除一个数字。请问最后剩下的一位数字是什么？\n",
    "\n",
    "另外，如果每次都是前进3步呢？"
   ]
  },
  {
   "cell_type": "code",
   "execution_count": null,
   "metadata": {},
   "outputs": [],
   "source": [
    "# your codes here\n",
    "List = list(range(1, 101))\n",
    "gap = 3\n",
    "\n",
    "index = 0 # 当前需要删除的元素的下标\n",
    "while (len(List) > 1):\n",
    "    index = index % len(List) # 保证不越界\n",
    "    del List[index]\n",
    "    index += gap - 1\n",
    "print(List) \n"
   ]
  },
  {
   "cell_type": "code",
   "execution_count": 5,
   "metadata": {},
   "outputs": [
    {
     "name": "stdout",
     "output_type": "stream",
     "text": [
      "[89]\n"
     ]
    }
   ],
   "source": [
    "# your codes here\n",
    "List = list(range(1, 101))\n",
    "gap = 3\n",
    "\n",
    "index = 0 # 当前需要删除的元素的下标\n",
    "while (len(List) > 1):\n",
    "    if index >= len(List): #越界\n",
    "        index = index % len(List) # 余数\n",
    "    del List[index]\n",
    "    index += gap - 1\n",
    "print(List) \n"
   ]
  },
  {
   "cell_type": "markdown",
   "metadata": {},
   "source": [
    "### Q4. 寻找完美数\n",
    "\n",
    "如果一个数所有的真因子（即除了自身以外的约数）的和，恰好等于它本身，则称之为完美数。例如：第一个完全数是6，它有约数1、2、3、6，除去它本身6外，其余3个数相加，恰好等于本身，即1+2+3=6。\n",
    "\n",
    "请寻找500以内的所有完美数。"
   ]
  },
  {
   "cell_type": "code",
   "execution_count": 13,
   "metadata": {},
   "outputs": [
    {
     "name": "stdout",
     "output_type": "stream",
     "text": [
      "6是完美数\n",
      "28是完美数\n",
      "496是完美数\n"
     ]
    }
   ],
   "source": [
    "for number in range(1,500):\n",
    "    facs = []# 因子\n",
    "    for i in range(1, number):\n",
    "        if number % i == 0:\n",
    "            facs.append(i)\n",
    "    if sum(facs) == number:\n",
    "        print(f'{number}是完美数')"
   ]
  },
  {
   "cell_type": "code",
   "execution_count": 9,
   "metadata": {},
   "outputs": [
    {
     "name": "stdout",
     "output_type": "stream",
     "text": [
      "6 是完美数\n",
      "28 是完美数\n",
      "496 是完美数\n"
     ]
    }
   ],
   "source": [
    "for number in range(1,501):\n",
    "    facs = [] # 因子\n",
    "    for item in range(1,number):\n",
    "        if number%item == 0:\n",
    "            facs.append(item)\n",
    "    if sum(facs) == number:\n",
    "        print(number, '是完美数')"
   ]
  },
  {
   "cell_type": "code",
   "execution_count": 10,
   "metadata": {},
   "outputs": [
    {
     "name": "stdout",
     "output_type": "stream",
     "text": [
      "6 是完美数\n",
      "28 是完美数\n",
      "496 是完美数\n"
     ]
    }
   ],
   "source": [
    "# 适当写成一行\n",
    "for number in range(1,501):\n",
    "    facs = [item for item in range(1,number) if number%item == 0]# 因子\n",
    "    if sum(facs) == number:\n",
    "        print(number, '是完美数')"
   ]
  },
  {
   "cell_type": "markdown",
   "metadata": {},
   "source": [
    "### Q5. 学生信息输出\n",
    "\n",
    "字符串变量students保存了学生的学号，姓名和性别，每行用空格分开，如下：\n",
    "```\n",
    "student = '''\n",
    "101 Alice F\n",
    "102 Bob M\n",
    "103 Alex M\n",
    "'''\n",
    "```\n",
    "\n",
    "字符串变量exams保存了每个学生多门课的考试成绩（学号，科目，成绩），每列用空格分开，如下：\n",
    "```\n",
    "exam = '''\n",
    "101 EC101 90\n",
    "101 IS102 91\n",
    "102 EC101 85\n",
    "102 EC103 87\n",
    "103 EC101 85\n",
    "103 IS102 56\n",
    "103 EC103 90\n",
    "'''\n",
    "```\n",
    "任务：现在需要输出每位学生所有课程的考试成绩，每行一个学生的一门课程成绩，格式为`学生姓名 课程名称 成绩`（可以不用管排序）。注意，由于课程调整，每门课课程名称需要添加前缀`B-`。\n",
    "\n",
    "预期结果如下:\n",
    "```\n",
    "Alice B-EC101 90\n",
    "Alice B-IS102 91\n",
    "Bob B-EC101 85\n",
    "Bob B-EC103 87\n",
    "Alex B-EC101 85\n",
    "Alex B-IS102 56\n",
    "Alex B-EC103 90\n",
    "```\n"
   ]
  },
  {
   "cell_type": "code",
   "execution_count": 2,
   "metadata": {},
   "outputs": [
    {
     "name": "stdout",
     "output_type": "stream",
     "text": [
      "{'101': 'Alice', '102': 'Bob', '103': 'Alex'}\n",
      "{('101', 'EC101'): '90', ('101', 'IS102'): '91', ('102', 'EC101'): '85', ('102', 'EC103'): '87', ('103', 'EC101'): '85', ('103', 'IS102'): '56', ('103', 'EC103'): '90'}\n",
      "Alice B-EC101 90\n",
      "Alice B-IS102 91\n",
      "Bob B-EC101 85\n",
      "Bob B-EC103 87\n",
      "Alex B-EC101 85\n",
      "Alex B-IS102 56\n",
      "Alex B-EC103 90\n"
     ]
    }
   ],
   "source": [
    "# solution 1\n",
    "student = '''\n",
    "101 Alice F\n",
    "102 Bob M\n",
    "103 Alex M\n",
    "'''\n",
    "exam = '''\n",
    "101 EC101 90\n",
    "101 IS102 91\n",
    "102 EC101 85\n",
    "102 EC103 87\n",
    "103 EC101 85\n",
    "103 IS102 56\n",
    "103 EC103 90\n",
    "'''\n",
    "# 解析学生信息\n",
    "names = {}\n",
    "for line in student.strip().split('\\n'):\n",
    "    ID, name, gender = line.split()\n",
    "    names[ID] = name\n",
    "print(names)\n",
    "# 解析出scores\n",
    "scores = {}\n",
    "for line in exam.strip().split('\\n'):\n",
    "    ID, course, score = line.split()\n",
    "    scores[(ID, course)] = score\n",
    "print(scores)\n",
    "#print(scores)\n",
    "\n",
    "# 开始打印信息\n",
    "for ID_course, score in scores.items():\n",
    "    ID, course = ID_course\n",
    "    print(names[ID], 'B-' + course, score)"
   ]
  },
  {
   "cell_type": "markdown",
   "metadata": {},
   "source": [
    "### Q6. 最长回文子串\n",
    "\n",
    "回文串是指正序（从左向右）和倒序（从右向左）是一样的字符串。例如，`a22a` 是回文，而 `abc` 不是。\n",
    "    \n",
    "编写程序完成以下任务：假设Str是一个只包含字母与数组的字符串，请找出其中最长的回文子串。如果有多个最长回文子串，输出其中任意一个即可。\n",
    "\n",
    "示例：\n",
    "> 输入：`Str = '2dfjjoieseite66e'`，输出：`iesei`\n",
    "> 输入：`Str = '12345665478'`，输出：`456654`"
   ]
  },
  {
   "cell_type": "code",
   "execution_count": 5,
   "metadata": {},
   "outputs": [
    {
     "name": "stdout",
     "output_type": "stream",
     "text": [
      "The index: (3, 8)\n",
      "The string: 456654\n"
     ]
    }
   ],
   "source": [
    "Str = '2dfjjoieseite66e'\n",
    "# Str = '12345665478'\n",
    "\n",
    "# your codes here\n",
    "max_length = 0\n",
    "index_max_length = (0,0)\n",
    "length = len(Str)\n",
    "\n",
    "for i in range(length): #i代表子串开始的索引\n",
    "    for j in range(i, length): #j代表子串结束的索引（包括该字符）\n",
    "        extracted_substr = Str[i:j+1] # 长度为 j+1-i\n",
    "        if j+1-i > max_length and extracted_substr == extracted_substr[::-1]:\n",
    "            max_length = j+1-i\n",
    "            index_max_length = (i,j)\n",
    "print('The index:', index_max_length)\n",
    "print('The string:',Str[index_max_length[0]:index_max_length[1]+1])\n"
   ]
  },
  {
   "cell_type": "markdown",
   "metadata": {},
   "source": [
    "### Q-extra. 字符串S形变换（比较难：供有兴趣的学生自行完成）\n",
    "\n",
    "将一个给定字符串 `s` 根据给定的行数 `num_rows` （大于等于2），以从上往下、往右一格、从下往上、往右一格，再如此反复，进行 `S` 字形排列。\n",
    "\n",
    "比如输入字符串为 `\"0123456789abcdef\"`，行数为 `3` 时，排列如下：\n",
    "\n",
    "|          |          |          |          |          |          |          |          |\n",
    "|----------|----------|----------|----------|----------|----------|----------|----------|\n",
    "|     0    |          |     6    |     7    |     8    |          |     e    |     f    |\n",
    "|     1    |          |     5    |          |     9    |          |     d    |          |\n",
    "|     2    |     3    |     4    |          |     a    |     b    |     c    |          |\n",
    "\n",
    "行数为`4`时，排列如下：\n",
    "\n",
    "|          |          |          |          |          |          |          |         |\n",
    "|----------|----------|----------|----------|----------|----------|----------|---------|\n",
    "|     0    |          |     8    |     9    |     a    |          |          |         |\n",
    "|     1    |          |     7    |          |     b    |          |          |         |\n",
    "|     2    |          |     6    |          |     c    |          |          |         |\n",
    "|     3    |     4    |     5    |          |     d    |     e    |     f    |         |\n",
    "\n",
    "最后，你的输出需要从逐行左往右读取，产生出一个新的字符串，并输出到屏幕。比如上述例子，行数为 `3` 时，最终需要输出`0678ef159d234abc`。"
   ]
  },
  {
   "cell_type": "markdown",
   "id": "3e5af4c8",
   "metadata": {},
   "source": [
    "**思路**：这题首先要知道用什么结构存储数据：使用列表嵌套列表\n",
    "\n"
   ]
  },
  {
   "cell_type": "markdown",
   "id": "c0bce167",
   "metadata": {},
   "source": [
    "**思路一：**用两个变量，保存当前的行（`current_line`）和当前状态（`go_down`,`go_up`,`first_line_go_right`,`last_line_go_right`）。然后对每次状态变化进行判定，例如，当前状态为`go_down`,而且当前是最后一行的时候，就修改状态为`last_line_go_right`。"
   ]
  },
  {
   "cell_type": "code",
   "execution_count": 43,
   "id": "bba8fd08",
   "metadata": {},
   "outputs": [
    {
     "name": "stdout",
     "output_type": "stream",
     "text": [
      "[['0', '6', '7', '8', 'e', 'f'], ['1', '5', '9', 'd'], ['2', '3', '4', 'a', 'b', 'c']]\n",
      "final string: 0678ef159d234abc\n"
     ]
    }
   ],
   "source": [
    "### your code here\n",
    "num_rows = 3\n",
    "Str = \"0123456789abcdef\"\n",
    "List = [[] for _ in range(num_rows)]\n",
    "\n",
    "current_line = 0 # 当前行\n",
    "status = 'go_down' # 当前状态\n",
    "for ii, char in enumerate(Str):\n",
    "    List[current_line].append(char)\n",
    "    if status == 'go_down':\n",
    "        if current_line == num_rows - 1: # go down时候，碰到最后一行\n",
    "            status = 'last_line_go_right'\n",
    "        else:\n",
    "            current_line += 1\n",
    "    elif status == 'go_up':\n",
    "        if current_line == 0:  # go up时候，碰到第一行\n",
    "            status = 'first_line_go_right'\n",
    "        else:\n",
    "            current_line -= 1\n",
    "    elif status == 'first_line_go_right':\n",
    "        # current_line不变\n",
    "        status = 'go_down'\n",
    "    else: # status == 'last_line_go_right'\n",
    "        # current_line不变\n",
    "        status = 'go_up'\n",
    "print(List)\n",
    "\n",
    "final_list = []\n",
    "for item in List:\n",
    "    final_list += item\n",
    "print('final string:', ''.join(final_list))\n"
   ]
  },
  {
   "cell_type": "markdown",
   "metadata": {},
   "source": [
    "**思路二：** 一个简单的思路是找到周期，每4列为一个周期。例如，当`num_rows`为3的时候，周期为`2*num_rows+2=8`。所以可以根据当前在周期的哪个阶段(通过余数)，进行不同的操作。"
   ]
  },
  {
   "cell_type": "code",
   "execution_count": null,
   "metadata": {},
   "outputs": [],
   "source": [
    "### your code here\n",
    "num_rows = 4\n",
    "Str = \"0123456789abcdef\"\n",
    "#Str = \"0123456789\"\n",
    "List = [[] for _ in range(num_rows)]\n",
    "period = 2 * num_rows + 2\n",
    "for ii, char in enumerate(Str):\n",
    "    remainder = ii%period # 余数\n",
    "    if remainder < num_rows:  # 从上往下\n",
    "        List[remainder].append(char)\n",
    "    elif remainder == num_rows:  # 最后一行填一个\n",
    "        List[-1].append(char)\n",
    "    elif remainder <= num_rows * 2 :  # 从下往上\n",
    "        List[2*num_rows - remainder].append(char)\n",
    "    else:  # 第一行填一个\n",
    "        List[0].append(char)\n",
    "print(List)\n",
    "\n",
    "final_list = []\n",
    "for item in List:\n",
    "    final_list += item\n",
    "print('final string:', ''.join(final_list))\n"
   ]
  }
 ],
 "metadata": {
  "kernelspec": {
   "display_name": "Python 3 (ipykernel)",
   "language": "python",
   "name": "python3"
  },
  "language_info": {
   "codemirror_mode": {
    "name": "ipython",
    "version": 3
   },
   "file_extension": ".py",
   "mimetype": "text/x-python",
   "name": "python",
   "nbconvert_exporter": "python",
   "pygments_lexer": "ipython3",
   "version": "3.11.5"
  },
  "toc": {
   "base_numbering": 1,
   "nav_menu": {},
   "number_sections": false,
   "sideBar": true,
   "skip_h1_title": true,
   "title_cell": "Table of Contents",
   "title_sidebar": "Contents",
   "toc_cell": false,
   "toc_position": {
    "height": "calc(100% - 180px)",
    "left": "10px",
    "top": "150px",
    "width": "165px"
   },
   "toc_section_display": true,
   "toc_window_display": false
  },
  "varInspector": {
   "cols": {
    "lenName": 16,
    "lenType": 16,
    "lenVar": 40
   },
   "kernels_config": {
    "python": {
     "delete_cmd_postfix": "",
     "delete_cmd_prefix": "del ",
     "library": "var_list.py",
     "varRefreshCmd": "print(var_dic_list())"
    },
    "r": {
     "delete_cmd_postfix": ") ",
     "delete_cmd_prefix": "rm(",
     "library": "var_list.r",
     "varRefreshCmd": "cat(var_dic_list()) "
    }
   },
   "position": {
    "height": "417.667px",
    "left": "1336.67px",
    "right": "20px",
    "top": "120px",
    "width": "350px"
   },
   "types_to_exclude": [
    "module",
    "function",
    "builtin_function_or_method",
    "instance",
    "_Feature"
   ],
   "window_display": false
  }
 },
 "nbformat": 4,
 "nbformat_minor": 4
}
