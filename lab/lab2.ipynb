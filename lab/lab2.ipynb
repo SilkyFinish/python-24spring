{
 "cells": [
  {
   "cell_type": "markdown",
   "metadata": {},
   "source": [
    "Lab Session 2\n",
    "========\n",
    "BUSS1301程序设计，2024 春\n"
   ]
  },
  {
   "cell_type": "markdown",
   "metadata": {},
   "source": [
    "### Q1. 仿`isalnum`函数的实现\n",
    "字符串的`isalnum`函数能够用于判断一个字符串是否只包含数字，英文字母和汉字。以下请自己实现类似功能：\n",
    "\n",
    "通过`input`输入一个字符串，判断是否只包含数字`0-9`、大小写英文字母`a-z`和`A-Z`。是的话，输出`该字符串仅含数字与字母`; 否则，输出`该字符串除了数字与字母，还有其他`"
   ]
  },
  {
   "cell_type": "code",
   "execution_count": 4,
   "metadata": {},
   "outputs": [
    {
     "name": "stdout",
     "output_type": "stream",
     "text": [
      "还有其他\n"
     ]
    }
   ],
   "source": [
    "# your codes here\n",
    "Str=input(\"请输入一个字符串\")\n",
    "list1=[]\n",
    "for i in range(65,90):\n",
    "    list1.append(chr(i))\n",
    "for i in range(97,122):\n",
    "    list1.append(chr(i))\n",
    "a=0\n",
    "for char in Str:\n",
    "    if char.isalnum:\n",
    "        if char in range(0,9) or char in list1:\n",
    "           continue\n",
    "        else:\n",
    "            print(\"还有其他\")\n",
    "            a=1\n",
    "            break\n",
    "if a==0:\n",
    "     print(\"仅含字母和数字\")\n",
    "\n"
   ]
  },
  {
   "cell_type": "code",
   "execution_count": null,
   "metadata": {},
   "outputs": [],
   "source": [
    "#答案 笨蛋啊！就是第四讲的课后练习1啊，白做了啊！\n",
    "# 计数，看有多少个符合条件\n",
    "Str = input(\"输入字符串：\")\n",
    "count = 0\n",
    "for char in Str: # 题目要求不能使用 isalnum\n",
    "    # 字符串直接对比，会根据ascii码大小进行对比\n",
    "    if (char > '0' and char < '9') or (char > 'a' and char < 'z') or (char > 'A' and char < 'Z'): # 注意这里三个or连接的逻辑\n",
    "        count += 1\n",
    "if count == len(Str):\n",
    "    print(\"该字符串仅含数字与字母\")\n",
    "else:\n",
    "    print(\"该字符串除了数字与字母，还有其他\")"
   ]
  },
  {
   "cell_type": "markdown",
   "metadata": {},
   "source": [
    "### Q2. 根据索引重新排列list\n",
    "给你一个字符串 Str 和一个 长度相同 的整数数组 indices 。请你重新排列字符串 s ，其中第 i 个字符需要移动到 indices[i] 指示的位置。返回重新排列后的字符串。\n",
    "\n",
    "实例：`Str = 'Python'; indices = [0,3,2,1,5,4] --> Phtyno`\n",
    "\n",
    "|老字符串Str|P|y|t|h|o|n|\n",
    "|-|-|-|-|-|-|-|\n",
    "|索引|0|1|2|3|4|5|\n",
    "|新字符串按此排列|0|3|2|1|5|4|\n",
    "|新字符串Str_new|P|h|t|y|n|o|"
   ]
  },
  {
   "cell_type": "code",
   "execution_count": 6,
   "metadata": {},
   "outputs": [
    {
     "ename": "AttributeError",
     "evalue": "'list' object has no attribute 'keys'",
     "output_type": "error",
     "traceback": [
      "\u001b[1;31m---------------------------------------------------------------------------\u001b[0m",
      "\u001b[1;31mAttributeError\u001b[0m                            Traceback (most recent call last)",
      "Cell \u001b[1;32mIn[6], line 11\u001b[0m\n\u001b[0;32m      9\u001b[0m newa\u001b[38;5;241m=\u001b[39m\u001b[38;5;28msorted\u001b[39m(a\u001b[38;5;241m.\u001b[39mkeys())\n\u001b[0;32m     10\u001b[0m list3\u001b[38;5;241m=\u001b[39m[]\n\u001b[1;32m---> 11\u001b[0m \u001b[38;5;28;01mfor\u001b[39;00m i \u001b[38;5;129;01min\u001b[39;00m \u001b[43mnewa\u001b[49m\u001b[38;5;241;43m.\u001b[39;49m\u001b[43mkeys\u001b[49m():\n\u001b[0;32m     12\u001b[0m     list3\u001b[38;5;241m.\u001b[39mappend(i)\n\u001b[0;32m     13\u001b[0m str1\u001b[38;5;241m=\u001b[39m\u001b[38;5;124m\"\u001b[39m\u001b[38;5;124m\"\u001b[39m\u001b[38;5;241m.\u001b[39mjoin(list3)\n",
      "\u001b[1;31mAttributeError\u001b[0m: 'list' object has no attribute 'keys'"
     ]
    }
   ],
   "source": [
    "# your codes here\n",
    "Str=input(\"请输入一个字符串\")\n",
    "indices=input(\"请输入一个长度相同的整数数组\")\n",
    "list1=Str.split()\n",
    "list2=indices.split()\n",
    "a={}\n",
    "for i in range(0,(len(list1)-1)):\n",
    "    a.append({list1[i]:list2[i]})\n",
    "newa=sorted(a.keys())\n",
    "list3=[]\n",
    "for i in newa.keys():\n",
    "    list3.append(i)\n",
    "str1=\"\".join(list3)\n",
    "\n",
    "\n",
    "\n",
    "               \n",
    "               "
   ]
  },
  {
   "cell_type": "code",
   "execution_count": 2,
   "metadata": {},
   "outputs": [
    {
     "data": {
      "text/plain": [
       "'这个思路可以理解为，已知内容：原字符串，通过indicies这一桥梁，每个原字符串的字符按照顺序去找到它在新字符串的位置'"
      ]
     },
     "execution_count": 2,
     "metadata": {},
     "output_type": "execute_result"
    }
   ],
   "source": [
    "#答案\n",
    "'''\n",
    "新字符串的位置-通过indicies的数字-匹配原字符串的字母；\n",
    "前两者的联系是indicies的数字（内容本身），后两者的联系是相同的index\n",
    "'''\n",
    "# 思路一：indices[i] 指示的位置 为 Str[i]（下标与元素直接本就是一个对应关系，不需要再靠字典）\n",
    "Str = 'Python'; indices = [0,3,2,1,5,4]\n",
    "List = [None, ] * len(Str)#学习，创建一个有长度的空列表，到时候直接用东西换掉none\n",
    "for i in range(len(Str)):\n",
    "    List[indices[i]] = Str[i]\n",
    "Str_new = ''.join(List)\n",
    "Str_new\n",
    "'''这个思路可以理解为，已知内容：原字符串，通过indicies这一桥梁，每个原字符串的字符按照顺序去找到它在新字符串的位置'''"
   ]
  },
  {
   "cell_type": "code",
   "execution_count": null,
   "metadata": {},
   "outputs": [],
   "source": [
    "#答案\n",
    "'''\n",
    "新字符串的位置-通过indicies的数字-匹配原字符串的字母；\n",
    "前两者的联系是相同的index，后两者的的联系是indicies的数字（内容本身）\n",
    "'''\n",
    "#思路二：或者通过观察发现，其实就是根据indices元素逐个作为下标，去从Str取（新字符串每一位本就与indicies的每一个数按顺序对应）（遍历和append都是从前往后）\n",
    "Str = 'Python'; indices = [0,3,2,1,5,4]\n",
    "List = []\n",
    "for i in indices:\n",
    "    List.append(Str[i])\n",
    "Str_new = ''.join(List)\n",
    "Str_new\n",
    "'''这个思路可以理解为，未知内容：新字符串，通过indicies这一桥梁，每个新字符串的位置按照顺序去找到应该在这个位置的原字符串的字符'''\n"
   ]
  },
  {
   "cell_type": "markdown",
   "metadata": {},
   "source": [
    "### Q3. 约瑟夫环\n",
    "将数字`1-100`连成环，即`100`的后一位是`1`。第一次移除1，第二次移除3，第三次移除5，以此类推，之后都是前进两步，移除一个数字。请问最后剩下的一位数字是什么？\n",
    "\n",
    "另外，如果每次都是前进3步呢？"
   ]
  },
  {
   "cell_type": "code",
   "execution_count": 24,
   "metadata": {},
   "outputs": [
    {
     "name": "stdout",
     "output_type": "stream",
     "text": [
      "[1, 2, 3, 4, 5, 6, 7, 8, 9, 10, 11, 12, 13, 14, 15, 16, 17, 18, 19, 20, 21, 22, 23, 24, 25, 26, 27, 28, 29, 30, 31, 32, 33, 34, 35, 36, 37, 38, 39, 40, 41, 42, 43, 44, 45, 46, 47, 48, 49, 50, 51, 52, 53, 54, 55, 56, 57, 58, 59, 60, 61, 62, 63, 64, 65, 66, 67, 68, 69, 70, 71, 72, 73, 74, 75, 76, 77, 78, 79, 80, 81, 82, 83, 84, 85, 86, 87, 88, 89, 90, 91, 92, 93, 94, 95, 96, 97, 98, 99, 100]\n",
      "100\n",
      "3\n",
      "6\n",
      "9\n",
      "12\n",
      "15\n",
      "18\n",
      "21\n",
      "24\n",
      "27\n",
      "30\n",
      "33\n",
      "36\n",
      "39\n",
      "42\n",
      "45\n",
      "48\n",
      "51\n",
      "54\n",
      "57\n",
      "60\n",
      "63\n",
      "66\n",
      "69\n",
      "72\n",
      "75\n",
      "78\n",
      "81\n",
      "84\n",
      "87\n",
      "90\n",
      "93\n",
      "96\n",
      "99\n",
      "99\n",
      "5\n",
      "9\n",
      "14\n",
      "18\n",
      "23\n",
      "27\n",
      "32\n",
      "36\n",
      "41\n",
      "45\n",
      "50\n",
      "54\n",
      "59\n",
      "63\n",
      "68\n",
      "72\n",
      "77\n",
      "81\n",
      "86\n",
      "90\n",
      "95\n",
      "99\n",
      "8\n",
      "14\n",
      "21\n",
      "27\n",
      "35\n",
      "41\n",
      "48\n",
      "54\n",
      "62\n",
      "68\n",
      "75\n",
      "81\n",
      "89\n",
      "95\n",
      "99\n",
      "12\n",
      "21\n",
      "32\n",
      "41\n",
      "53\n",
      "62\n",
      "72\n",
      "81\n",
      "93\n",
      "99\n",
      "18\n",
      "32\n",
      "48\n",
      "62\n",
      "80\n",
      "93\n",
      "93\n",
      "27\n",
      "48\n",
      "72\n",
      "93\n",
      "41\n",
      "72\n",
      "93\n",
      "62\n",
      "93\n",
      "93\n",
      "93\n"
     ]
    }
   ],
   "source": [
    "# your codes here\n",
    "list1=[]\n",
    "for i in range(1,101):\n",
    "    list1.append(i)\n",
    "print(list1)\n",
    "while list1:\n",
    "    i=0\n",
    "    while i<=(len(list1)-1):\n",
    "        print(list1[i-1])\n",
    "        del(list1[i])\n",
    "        i+=2\n",
    "    \n",
    "\n"
   ]
  },
  {
   "cell_type": "code",
   "execution_count": null,
   "metadata": {},
   "outputs": [],
   "source": [
    "#答案\n",
    "List = list(range(1, 101))#生成1-100\n",
    "gap = 3\n",
    "\n",
    "index = 0 # 当前需要删除的元素的下标\n",
    "while (len(List) > 1):\n",
    "    index = index % len(List) # 保证不越界\n",
    "    del List[index]\n",
    "    index += gap - 1#删除了一个元素之后，整个列表的长度缩减了1，所以下一个删除的元素的index不是加gap，还要减1\n",
    "print(List) "
   ]
  },
  {
   "cell_type": "markdown",
   "metadata": {},
   "source": [
    "### Q4. 寻找完美数\n",
    "\n",
    "如果一个数所有的真因子（即除了自身以外的约数）的和，恰好等于它本身，则称之为完美数。例如：第一个完全数是6，它有约数1、2、3、6，除去它本身6外，其余3个数相加，恰好等于本身，即1+2+3=6。\n",
    "\n",
    "请寻找500以内的所有完美数。"
   ]
  },
  {
   "cell_type": "code",
   "execution_count": 18,
   "metadata": {},
   "outputs": [
    {
     "name": "stdout",
     "output_type": "stream",
     "text": [
      "6\n",
      "28\n",
      "496\n"
     ]
    }
   ],
   "source": [
    "# your codes here\n",
    "for i in range(1,501):\n",
    "    s=0\n",
    "    for p in range(1,i):\n",
    "        if i%p==0:\n",
    "            s+=p\n",
    "    if i==s:\n",
    "        print(i)\n",
    "\n"
   ]
  },
  {
   "cell_type": "code",
   "execution_count": null,
   "metadata": {},
   "outputs": [],
   "source": [
    "#答案\n",
    "for number in range(1,500):\n",
    "    facs = []# 因子\n",
    "    for i in range(1, number):\n",
    "        if number % i == 0:\n",
    "            facs.append(i)\n",
    "    if sum(facs) == number:\n",
    "        print(f'{number}是完美数')"
   ]
  },
  {
   "cell_type": "markdown",
   "metadata": {},
   "source": [
    "### Q5. 学生信息输出\n",
    "\n",
    "字符串变量students保存了学生的学号，姓名和性别，每行用空格分开，如下：\n",
    "```\n",
    "student = '''\n",
    "101 Alice F\n",
    "102 Bob M\n",
    "103 Alex M\n",
    "'''\n",
    "```\n",
    "\n",
    "字符串变量exams保存了每个学生多门课的考试成绩（学号，科目，成绩），每列用空格分开，如下：\n",
    "```\n",
    "exam = '''\n",
    "101 EC101 90\n",
    "101 IS102 91\n",
    "102 EC101 85\n",
    "102 EC103 87\n",
    "103 EC101 85\n",
    "103 IS102 56\n",
    "103 EC103 90\n",
    "'''\n",
    "```\n",
    "\n",
    "由于课程调整，每门课课程名称需要添加前缀`B-`。编写一个程序，按如下格式输出包含每个学生姓名的考试成绩表，结果在屏幕打印输出（结果不需要排序），每列用空格分开:\n",
    "```\n",
    "Alice B-EC101 90\n",
    "Alice B-IS102 91\n",
    "Bob B-EC101 85\n",
    "Bob B-EC103 87\n",
    "Alex B-EC101 85\n",
    "Alex B-IS102 56\n",
    "Alex B-EC103 90\n",
    "```\n"
   ]
  },
  {
   "cell_type": "code",
   "execution_count": 51,
   "metadata": {},
   "outputs": [
    {
     "name": "stdout",
     "output_type": "stream",
     "text": [
      "['102 Bob M', '103 Alex M']\n",
      "[['102', 'Bob'], ['103', 'Alex']]\n"
     ]
    },
    {
     "ename": "KeyError",
     "evalue": "'101'",
     "output_type": "error",
     "traceback": [
      "\u001b[1;31m---------------------------------------------------------------------------\u001b[0m",
      "\u001b[1;31mKeyError\u001b[0m                                  Traceback (most recent call last)",
      "Cell \u001b[1;32mIn[51], line 29\u001b[0m\n\u001b[0;32m     27\u001b[0m \u001b[38;5;28;01mfor\u001b[39;00m line \u001b[38;5;129;01min\u001b[39;00m lines1:\n\u001b[0;32m     28\u001b[0m     list2\u001b[38;5;241m=\u001b[39mline\u001b[38;5;241m.\u001b[39msplit(\u001b[38;5;124m'\u001b[39m\u001b[38;5;124m \u001b[39m\u001b[38;5;124m'\u001b[39m)\n\u001b[1;32m---> 29\u001b[0m     list2[\u001b[38;5;241m0\u001b[39m]\u001b[38;5;241m=\u001b[39m\u001b[43mb\u001b[49m\u001b[43m[\u001b[49m\u001b[43mlist2\u001b[49m\u001b[43m[\u001b[49m\u001b[38;5;241;43m0\u001b[39;49m\u001b[43m]\u001b[49m\u001b[43m]\u001b[49m\n\u001b[0;32m     30\u001b[0m     list3\u001b[38;5;241m.\u001b[39mappend(line)\n\u001b[0;32m     31\u001b[0m \u001b[38;5;28mprint\u001b[39m(list3)\n",
      "\u001b[1;31mKeyError\u001b[0m: '101'"
     ]
    },
    {
     "ename": "",
     "evalue": "",
     "output_type": "error",
     "traceback": [
      "\u001b[1;31mThe Kernel crashed while executing code in the current cell or a previous cell. \n",
      "\u001b[1;31mPlease review the code in the cell(s) to identify a possible cause of the failure. \n",
      "\u001b[1;31mClick <a href='https://aka.ms/vscodeJupyterKernelCrash'>here</a> for more info. \n",
      "\u001b[1;31mView Jupyter <a href='command:jupyter.viewOutput'>log</a> for further details."
     ]
    }
   ],
   "source": [
    "# solution 1\n",
    "student = '''\n",
    "101 Alice F\n",
    "102 Bob M\n",
    "103 Alex M\n",
    "'''\n",
    "exam = '''\n",
    "101 EC101 90\n",
    "101 IS102 91\n",
    "102 EC101 85\n",
    "102 EC103 87\n",
    "103 EC101 85\n",
    "103 IS102 56\n",
    "103 EC103 90\n",
    "'''\n",
    "# your codes here\n",
    "lines = student.strip().split('\\n')[1:]\n",
    "print(lines)\n",
    "list1=[]\n",
    "for line in lines:\n",
    "    a=[line.split(' ')[0],line.split(' ')[1]]\n",
    "    list1.append(a)\n",
    "print(list1)\n",
    "b=dict(list1)\n",
    "list3=[]\n",
    "lines1 = exam.strip().split('\\n')[1:]\n",
    "for line in lines1:\n",
    "    list2=line.split(' ')\n",
    "    list2[0]=b[list2[0]]\n",
    "    list3.append(line)\n",
    "print(list3)\n",
    "    \n",
    "\n",
    "\n",
    "\n",
    "\n"
   ]
  },
  {
   "cell_type": "code",
   "execution_count": 3,
   "metadata": {},
   "outputs": [
    {
     "name": "stdout",
     "output_type": "stream",
     "text": [
      "{'101': 'Alice', '102': 'Bob', '103': 'Alex'}\n",
      "{'101': ('IS102', '91'), '102': ('EC103', '87'), '103': ('EC103', '90')}\n",
      "Alice B-IS102 91\n",
      "Bob B-EC103 87\n",
      "Alex B-EC103 90\n"
     ]
    }
   ],
   "source": [
    "# 答案（非正确，一点错误示范）\n",
    "student = '''\n",
    "101 Alice F\n",
    "102 Bob M\n",
    "103 Alex M\n",
    "'''\n",
    "exam = '''\n",
    "101 EC101 90\n",
    "101 IS102 91\n",
    "102 EC101 85\n",
    "102 EC103 87\n",
    "103 EC101 85\n",
    "103 IS102 56\n",
    "103 EC103 90\n",
    "'''\n",
    "#结果需要name，course，score。student里有name，exam里有course和score，两者的联系是ID。所以student里建立ID和name的字典关系，exam里建立ID和（course，score)的字典关系\n",
    "# 解析学生信息\n",
    "names = {}\n",
    "for line in student.strip().split('\\n'):#同lab1的q5，多行信息的拆解方法\n",
    "    ID, name, gender = line.split()\n",
    "    names[ID] = name#又出现了，同数据结构的课后练习二，字典的创建方式\n",
    "print(names)\n",
    "# 解析出scores\n",
    "scores = {}\n",
    "for line in exam.strip().split('\\n'):\n",
    "    ID, course, score = line.split()\n",
    "    scores[ID] = (course,score)\n",
    "print(scores)\n",
    "#print(scores)\n",
    "\n",
    "# 开始打印信息\n",
    "for ID,course_score in scores.items():#对score的字典拆包，先获得ID，后续可以用于桥梁\n",
    "    course,score = course_score#对其中信息再拆，获得需要的course和score\n",
    "    print(names[ID], 'B-' + course, score)\n",
    "\n",
    "#答案错误，问题出在哪里？\n",
    "#思路是好的，但是忽略了一个重要细节，以后需要加以重视！\n",
    "#ID作为桥梁是对的，但是在score中，不同行的信息ID是有重复的！所以以ID作为score字典的key时，重复的ID对应的信息每次都会被重新覆盖！所以最后会少很多信息。\n",
    "#正确做法见下一个code"
   ]
  },
  {
   "cell_type": "code",
   "execution_count": 1,
   "metadata": {},
   "outputs": [
    {
     "name": "stdout",
     "output_type": "stream",
     "text": [
      "{'101': 'Alice', '102': 'Bob', '103': 'Alex'}\n",
      "{('101', 'EC101'): '90', ('101', 'IS102'): '91', ('102', 'EC101'): '85', ('102', 'EC103'): '87', ('103', 'EC101'): '85', ('103', 'IS102'): '56', ('103', 'EC103'): '90'}\n",
      "Alice B-EC101 90\n",
      "Alice B-IS102 91\n",
      "Bob B-EC101 85\n",
      "Bob B-EC103 87\n",
      "Alex B-EC101 85\n",
      "Alex B-IS102 56\n",
      "Alex B-EC103 90\n"
     ]
    }
   ],
   "source": [
    "#答案\n",
    "student = '''\n",
    "101 Alice F\n",
    "102 Bob M\n",
    "103 Alex M\n",
    "'''\n",
    "exam = '''\n",
    "101 EC101 90\n",
    "101 IS102 91\n",
    "102 EC101 85\n",
    "102 EC103 87\n",
    "103 EC101 85\n",
    "103 IS102 56\n",
    "103 EC103 90\n",
    "'''\n",
    "# 解析学生信息\n",
    "names = {}\n",
    "for line in student.strip().split('\\n'):\n",
    "    ID, name, gender = line.split()\n",
    "    names[ID] = name \n",
    "print(names)\n",
    "# 解析出scores\n",
    "scores = {}\n",
    "for line in exam.strip().split('\\n'):\n",
    "    ID, course, score = line.split()\n",
    "    scores[(ID, course)] = score#ID与course的组合是不会重复的，因此把他作为key\n",
    "print(scores)\n",
    "#print(scores)\n",
    "\n",
    "# 开始打印信息\n",
    "for ID_course, score in scores.items():\n",
    "    ID, course = ID_course#ID依旧是桥梁，只是现在需要把他从组合里拆出来，再用\n",
    "    print(names[ID], 'B-' + course, score)"
   ]
  },
  {
   "cell_type": "markdown",
   "metadata": {},
   "source": [
    "### Q6. 最长回文子串\n",
    "\n",
    "回文串是指正序（从左向右）和倒序（从右向左）是一样的字符串。例如，`a22a` 是回文，而 `abc` 不是。\n",
    "    \n",
    "编写程序完成以下任务：假设Str是一个只包含字母与数组的字符串，请找出其中最长的回文子串。如果有多个最长回文子串，输出其中任意一个即可。"
   ]
  },
  {
   "cell_type": "code",
   "execution_count": 6,
   "metadata": {},
   "outputs": [
    {
     "name": "stdout",
     "output_type": "stream",
     "text": [
      "jj\n",
      "iesei\n",
      "ese\n",
      "e66e\n",
      "66\n"
     ]
    },
    {
     "data": {
      "text/plain": [
       "'iesei'"
      ]
     },
     "execution_count": 6,
     "metadata": {},
     "output_type": "execute_result"
    },
    {
     "ename": "",
     "evalue": "",
     "output_type": "error",
     "traceback": [
      "\u001b[1;31mThe Kernel crashed while executing code in the current cell or a previous cell. \n",
      "\u001b[1;31mPlease review the code in the cell(s) to identify a possible cause of the failure. \n",
      "\u001b[1;31mClick <a href='https://aka.ms/vscodeJupyterKernelCrash'>here</a> for more info. \n",
      "\u001b[1;31mView Jupyter <a href='command:jupyter.viewOutput'>log</a> for further details."
     ]
    }
   ],
   "source": [
    "Str=input(\"请输入一个字符串\")\n",
    "list3=[]\n",
    "i=0\n",
    "while i < len(Str):\n",
    "    p=i+1\n",
    "    while  p<len(Str):\n",
    "        list1=[]\n",
    "        list2=[]\n",
    "        for q in range(i,p+1):\n",
    "            list2.append(Str[q])\n",
    "        Strnew=\"\".join(list2)\n",
    "        for char in Strnew:\n",
    "            list1.append(char)\n",
    "        list1.reverse()\n",
    "        str1=\"\".join(list1)\n",
    "        if Strnew==str1:\n",
    "            print(Strnew)\n",
    "            list3.append(Strnew)\n",
    "        p+=1\n",
    "    i+=1\n",
    "maxword=\"a\"\n",
    "for word in list3:\n",
    "    if len(word)>=len(maxword):\n",
    "        maxword=word\n",
    "maxword\n",
    "\n"
   ]
  },
  {
   "cell_type": "code",
   "execution_count": 4,
   "metadata": {},
   "outputs": [
    {
     "name": "stdout",
     "output_type": "stream",
     "text": [
      "The index: (6, 10)\n",
      "The string: iesei\n"
     ]
    }
   ],
   "source": [
    "#答案\n",
    "Str = '2dfjjoieseite66e'\n",
    "# Str = '12345665478'\n",
    "\n",
    "# your codes here\n",
    "max_length = 0\n",
    "index_max_length = (0,0)\n",
    "length = len(Str)\n",
    "\n",
    "for i in range(length): #i代表子串开始的索引\n",
    "    for j in range(i, length): #j代表子串结束的索引（包括该字符）\n",
    "        extracted_substr = Str[i:j+1] # 长度为 j+1-i  #不需要搞到列表去，又要split又要join，字符串本身就可以提取、排序\n",
    "        if j+1-i > max_length and extracted_substr == extracted_substr[::-1]:#一次性完成回文检验和最大检验\n",
    "            max_length = j+1-i\n",
    "            index_max_length = (i,j)\n",
    "print('The index:', index_max_length)\n",
    "print('The string:',Str[index_max_length[0]:index_max_length[1]+1])"
   ]
  },
  {
   "cell_type": "markdown",
   "metadata": {},
   "source": [
    "### Q-extra. 字符串S形变换（比较难：供有兴趣的学生自行完成）\n",
    "\n",
    "将一个给定字符串 `s` 根据给定的行数 `num_rows` （大于等于2），以从上往下、往右一格、从下往上、往右一格，再如此反复，进行 `S` 字形排列。\n",
    "\n",
    "比如输入字符串为 `\"0123456789abcdef\"`，行数为 `3` 时，排列如下：\n",
    "\n",
    "|          |          |          |          |          |          |          |          |\n",
    "|----------|----------|----------|----------|----------|----------|----------|----------|\n",
    "|     0    |          |     6    |     7    |     8    |          |     e    |     f    |\n",
    "|     1    |          |     5    |          |     9    |          |     d    |          |\n",
    "|     2    |     3    |     4    |          |     a    |     b    |     c    |          |\n",
    "\n",
    "行数为`4`时，排列如下：\n",
    "\n",
    "|          |          |          |          |          |          |          |         |\n",
    "|----------|----------|----------|----------|----------|----------|----------|---------|\n",
    "|     0    |          |     8    |     9    |     a    |          |          |         |\n",
    "|     1    |          |     7    |          |     b    |          |          |         |\n",
    "|     2    |          |     6    |          |     c    |          |          |         |\n",
    "|     3    |     4    |     5    |          |     d    |     e    |     f    |         |\n",
    "\n",
    "最后，你的输出需要从左往右逐行读取，产生出一个新的字符串，并输出到屏幕。比如上述例子，行数为 `3` 时，最终需要输出`0678ef159d234abc`。"
   ]
  },
  {
   "cell_type": "code",
   "execution_count": 16,
   "id": "70e38afc",
   "metadata": {},
   "outputs": [
    {
     "name": "stdout",
     "output_type": "stream",
     "text": [
      "[['0', '1', '2'], [None, None, '3'], ['6', '5', '4'], ['7', None, None], ['8', '9', 'a'], [None, None, 'b'], ['e', 'd', 'c'], ['f', None, None]]\n"
     ]
    },
    {
     "data": {
      "text/plain": [
       "'0678ef159d234abc'"
      ]
     },
     "execution_count": 16,
     "metadata": {},
     "output_type": "execute_result"
    }
   ],
   "source": [
    "# your codes here\n",
    "s=input(\"请输入一个字符串\")\n",
    "num_rows=int(input(\"请输入行数\"))\n",
    "if len(s)%(num_rows+1)==0:\n",
    "    num_lists=len(s)//(num_rows+1)*2\n",
    "else:\n",
    "    num_lists=len(s)//(num_rows+1)*2+1\n",
    "s_list=[]\n",
    "for char in s:\n",
    "    s_list.append(char)\n",
    "lists=[]\n",
    "list_id=1\n",
    "index=0\n",
    "single=0\n",
    "reverse_number=0\n",
    "while list_id<=num_lists:\n",
    "    if list_id%2==1:\n",
    "        reverse_number+=1\n",
    "        list_=[]\n",
    "        if index+num_rows<=len(s):\n",
    "            for i in range(index,index+num_rows):\n",
    "                list_.append(s_list[i])\n",
    "            if reverse_number%2==0:\n",
    "                list_.reverse()\n",
    "            index+=num_rows\n",
    "        else:\n",
    "            for i in range(index,len(s)):\n",
    "                list_.append(s_list[i])\n",
    "            for i in range(len(s),index+num_rows):\n",
    "                list_.append(None)\n",
    "            if num_lists%2==1:\n",
    "                list_.reverse()\n",
    "                \n",
    "    else:\n",
    "        single+=1\n",
    "        list_=[None, ] * num_rows\n",
    "        if single%2==1:\n",
    "            list_[num_rows-1]=s_list[index]\n",
    "        else:\n",
    "            list_[0]=s_list[index]\n",
    "        index+=1\n",
    "    lists.append(list_)\n",
    "    list_id+=1\n",
    "print(lists)\n",
    "\n",
    "\n",
    "new_rows=[]\n",
    "i=0\n",
    "while i<=(num_rows-1):\n",
    "    new_row=[]\n",
    "    for j in range(0,num_lists):\n",
    "        if lists[j][i]:\n",
    "            new_row.append(lists[j][i])\n",
    "    new_rows.append(''.join(new_row))\n",
    "    i+=1\n",
    "''.join(new_rows)\n",
    "\n",
    "\n",
    "\n",
    "\n",
    "\n",
    "\n",
    "\n",
    "\n",
    "    \n",
    "\n",
    "\n"
   ]
  },
  {
   "cell_type": "code",
   "execution_count": null,
   "metadata": {},
   "outputs": [],
   "source": [
    "#答案1\n",
    "'''\n",
    "思路一：用两个变量，保存当前的行（`current_line`）和当前状态（`go_down`,`go_up`,`first_line_go_right`,`last_line_go_right`）。\n",
    "然后对每次状态变化进行判定，例如，当前状态为`go_down`,而且当前是最后一行的时候，就修改状态为`last_line_go_right`。\n",
    "'''\n",
    "'''\n",
    "这个思路类似于Q2的思路一，目标有三个空行，已知：原字符串。\n",
    "原字符串的字符-方向指令-所在哪个空行\n",
    "前两者的联系是status（由当前所在行决定（currentline=xxx）），后两者的联系是所在行的变化（currentline+=/-=）\n",
    "需要注意的是每个字符按顺序添加到行最终导致结果行的顺序正确，这是一个巧妙的点\n",
    "所以只要考虑每个字符在哪一行，一个一个往里放就可以\n",
    "'''\n",
    "num_rows = 3\n",
    "Str = \"0123456789abcdef\"\n",
    "List = [[] for _ in range(num_rows)]\n",
    "\n",
    "current_line = 0 # 当前行\n",
    "status = 'go_down' # 当前状态\n",
    "for ii, char in enumerate(Str):\n",
    "    List[current_line].append(char)\n",
    "    if status == 'go_down':\n",
    "        if current_line == num_rows - 1: # go down时候，碰到最后一行\n",
    "            status = 'last_line_go_right'\n",
    "        else:\n",
    "            current_line += 1\n",
    "    elif status == 'go_up':\n",
    "        if current_line == 0:  # go up时候，碰到第一行\n",
    "            status = 'first_line_go_right'\n",
    "        else:\n",
    "            current_line -= 1\n",
    "    elif status == 'first_line_go_right':\n",
    "        # current_line不变\n",
    "        status = 'go_down'\n",
    "    else: # status == 'last_line_go_right'\n",
    "        # current_line不变\n",
    "        status = 'go_up'\n",
    "print(List)\n",
    "\n",
    "final_list = []\n",
    "for item in List:\n",
    "    final_list += item\n",
    "print('final string:', ''.join(final_list))\n"
   ]
  },
  {
   "cell_type": "code",
   "execution_count": null,
   "metadata": {},
   "outputs": [],
   "source": [
    "#答案2\n",
    "'''\n",
    "思路二：一个简单的思路是找到周期，每4列为一个周期。例如，当`num_rows`为3的时候，周期为`2*num_rows+2=8`。所以可以根据当前在周期的哪个阶段(通过余数)，进行不同的操作。\n",
    "'''\n",
    "'''\n",
    "与思路一想法一致，只不过在放哪一行上，采用了更间接（不是按照题目给出的方法，而是自己总结出的规律），但是更简单的数学方法。\n",
    "'''\n",
    "num_rows = 4\n",
    "Str = \"0123456789abcdef\"\n",
    "#Str = \"0123456789\"\n",
    "List = [[] for _ in range(num_rows)]\n",
    "period = 2 * num_rows + 2\n",
    "for ii, char in enumerate(Str):\n",
    "    remainder = ii%period # 余数\n",
    "    if remainder < num_rows:  # 从上往下\n",
    "        List[remainder].append(char)\n",
    "    elif remainder == num_rows:  # 最后一行填一个\n",
    "        List[-1].append(char)\n",
    "    elif remainder <= num_rows * 2 :  # 从下往上\n",
    "        List[2*num_rows - remainder].append(char)\n",
    "    else:  # 第一行填一个\n",
    "        List[0].append(char)\n",
    "print(List)\n",
    "\n",
    "final_list = []\n",
    "for item in List:\n",
    "    final_list += item\n",
    "print('final string:', ''.join(final_list))"
   ]
  }
 ],
 "metadata": {
  "kernelspec": {
   "display_name": "Python 3 (ipykernel)",
   "language": "python",
   "name": "python3"
  },
  "language_info": {
   "codemirror_mode": {
    "name": "ipython",
    "version": 3
   },
   "file_extension": ".py",
   "mimetype": "text/x-python",
   "name": "python",
   "nbconvert_exporter": "python",
   "pygments_lexer": "ipython3",
   "version": "3.11.5"
  },
  "toc": {
   "base_numbering": 1,
   "nav_menu": {},
   "number_sections": false,
   "sideBar": true,
   "skip_h1_title": true,
   "title_cell": "Table of Contents",
   "title_sidebar": "Contents",
   "toc_cell": false,
   "toc_position": {
    "height": "calc(100% - 180px)",
    "left": "10px",
    "top": "150px",
    "width": "165px"
   },
   "toc_section_display": true,
   "toc_window_display": false
  },
  "varInspector": {
   "cols": {
    "lenName": 16,
    "lenType": 16,
    "lenVar": 40
   },
   "kernels_config": {
    "python": {
     "delete_cmd_postfix": "",
     "delete_cmd_prefix": "del ",
     "library": "var_list.py",
     "varRefreshCmd": "print(var_dic_list())"
    },
    "r": {
     "delete_cmd_postfix": ") ",
     "delete_cmd_prefix": "rm(",
     "library": "var_list.r",
     "varRefreshCmd": "cat(var_dic_list()) "
    }
   },
   "position": {
    "height": "417.667px",
    "left": "1336.67px",
    "right": "20px",
    "top": "120px",
    "width": "350px"
   },
   "types_to_exclude": [
    "module",
    "function",
    "builtin_function_or_method",
    "instance",
    "_Feature"
   ],
   "window_display": false
  }
 },
 "nbformat": 4,
 "nbformat_minor": 4
}
