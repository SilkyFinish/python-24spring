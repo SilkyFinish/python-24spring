{
 "cells": [
  {
   "cell_type": "markdown",
   "id": "1d1eb509",
   "metadata": {},
   "source": [
    "Lab Session 3\n",
    "========\n",
    "BUSS1301程序设计，2024 春\n",
    "\n",
    "\n"
   ]
  },
  {
   "cell_type": "markdown",
   "id": "63745006",
   "metadata": {},
   "source": [
    "### Q1.  函数编写：进制转换\n",
    "编写一个函数`convert_base(value, base)`，实现将十进制数`value`转换成任意进制`base`（最高16进制），返回的结果为字符串类型。注意，16进制时，0-15分别表示成`[0,1,2,3,4,5,6,7,8,9,'A','B','C','D','E','F']`。\n",
    "\n",
    "提示:\n",
    "\n",
    "`226`转换成`8`进制时，可以进行如下分解$226 = 3\\times8^2 + 4\\times8+2 = 8\\times(3\\times8+4)+2$。这样最后一位`2`就可以通过`226%8`获得，倒数第二位`4`就可以通过`(226//8)%8`获得，以此类推... 最终结果为`342`。\n"
   ]
  },
  {
   "cell_type": "code",
   "execution_count": 8,
   "id": "e13ecab0",
   "metadata": {},
   "outputs": [
    {
     "name": "stdout",
     "output_type": "stream",
     "text": [
      "E2\n"
     ]
    }
   ],
   "source": [
    "# your codes here\n",
    "def convert_base(value, base):\n",
    "    chars=['0','1','2','3','4','5','6','7','8','9','A','B','C','D','E','F']\n",
    "    results = []\n",
    "    while True:\n",
    "        quotient = value // base # 商\n",
    "        residue = value % base # 余数\n",
    "        results.append(chars[residue])\n",
    "        if quotient == 0:\n",
    "            break\n",
    "        value = quotient\n",
    "    results.reverse()\n",
    "    return ''.join(results)\n",
    "\n",
    "print(convert_base(226,8))"
   ]
  },
  {
   "cell_type": "code",
   "execution_count": null,
   "id": "d54f692d",
   "metadata": {},
   "outputs": [
    {
     "name": "stdout",
     "output_type": "stream",
     "text": [
      "342\n"
     ]
    }
   ],
   "source": [
    "# your codes here\n",
    "def convert_base(value, base):\n",
    "    '''\n",
    "    value为待转换的十进制数\n",
    "    base为进制，取值为2-16\n",
    "    '''\n",
    "    chars=['0','1','2','3','4','5','6','7','8','9','A','B','C','D','E','F']\n",
    "    results = []\n",
    "    while True:\n",
    "        quotient=value // base  # 商\n",
    "        residue=value % base  # 余数\n",
    "        results.append(chars[residue])\n",
    "        if quotient == 0:\n",
    "            break\n",
    "        value = quotient\n",
    "    results.reverse()\n",
    "    return ''.join(results)\n",
    "\n",
    "print(convert_base(226,8))\n"
   ]
  },
  {
   "cell_type": "markdown",
   "id": "20985a8a",
   "metadata": {},
   "source": [
    "### Q2. 断点调试：获取二进制下特定位为1的所有整数\n",
    "\n",
    "以下函数`get_all_numbers(n, x)`获取`[0, 2^n)`范围内满足以下条件的所有整数：二进制表示中倒数第`x`位为`1`。结果保存到变量`matrix`, 格式为list of list, 如`[[1,3,5],[2,3,6],[4,5]]`，每行长度为`n`。最后返回`matrix`。\n",
    "\n",
    "**任务：** 阅读代码，使用断点调试功能，找出代码中的错误，并修复。\n",
    "\n",
    "**提示:** 因为课堂上，你可能还没写出上一题，所以可以暂时先使用以下代码定义函数`convert_to_base_2`，该函数可以直接把`n`转成二进制字符串。\n",
    "```python\n",
    "def convert_to_base_2(n):\n",
    "    return bin(n)[2:]\n",
    "```"
   ]
  },
  {
   "cell_type": "code",
   "execution_count": 3,
   "id": "03712867",
   "metadata": {},
   "outputs": [
    {
     "data": {
      "text/plain": [
       "[[2, 3, 6, 7, 10, 11],\n",
       " [14, 15, 18, 19, 22, 23],\n",
       " [26, 27, 30, 31, 34, 35],\n",
       " [38, 39, 42, 43, 46, 47],\n",
       " [50, 51, 54, 55, 58, 59],\n",
       " [62, 63]]"
      ]
     },
     "execution_count": 3,
     "metadata": {},
     "output_type": "execute_result"
    }
   ],
   "source": [
    "# please debug the following codes\n",
    "def convert_to_base_2(n):\n",
    "    return bin(n)[2:]\n",
    "\n",
    "def get_all_numbers(n, x):\n",
    "    matrix = [] # 用来存储结果\n",
    "    row = [] # 新起一行\n",
    "    for i in range(0, 2**n):\n",
    "        converted_value = convert_to_base_2(i)\n",
    "        if converted_value[-x] == '1':\n",
    "            row.append(i)\n",
    "        if len(row) == n:\n",
    "            matrix.append(row)\n",
    "            row = []\n",
    "    return matrix\n",
    "\n",
    "# 完成调试后，请输出以下结果\n",
    "get_all_numbers(6, 1)\n"
   ]
  },
  {
   "cell_type": "code",
   "execution_count": 1,
   "id": "13d7bbf8",
   "metadata": {},
   "outputs": [],
   "source": [
    "def convert_to_base_2(n):\n",
    "    return bin(n)[2:]\n",
    "\n",
    "def get_all_numbers(n, x):\n",
    "    matrix = [] # 用来存储结果\n",
    "    row = [] # 新起一行\n",
    "    for i in range(0, 2**n):\n",
    "        converted_value = convert_to_base_2(i)\n",
    "        if len(converted_value) >= x and converted_value[-x] == '1':\n",
    "            row.append(i)\n",
    "        if len(row) == n:\n",
    "            matrix.append(row)\n",
    "            row = []\n",
    "    if len(row) != n and len(row) > 0:\n",
    "        matrix.append(row)\n",
    "    return matrix\n"
   ]
  },
  {
   "cell_type": "code",
   "execution_count": 4,
   "id": "54cca886",
   "metadata": {},
   "outputs": [
    {
     "data": {
      "text/plain": [
       "[[1, 3, 5, 7, 9, 11],\n",
       " [13, 15, 17, 19, 21, 23],\n",
       " [25, 27, 29, 31, 33, 35],\n",
       " [37, 39, 41, 43, 45, 47],\n",
       " [49, 51, 53, 55, 57, 59],\n",
       " [61, 63]]"
      ]
     },
     "execution_count": 4,
     "metadata": {},
     "output_type": "execute_result"
    }
   ],
   "source": [
    "# 完成调试后，请输出以下结果\n",
    "get_all_numbers(6, 1)"
   ]
  },
  {
   "cell_type": "code",
   "execution_count": 5,
   "id": "b5d6018e",
   "metadata": {},
   "outputs": [
    {
     "data": {
      "text/plain": [
       "[[2, 3, 6, 7, 10, 11],\n",
       " [14, 15, 18, 19, 22, 23],\n",
       " [26, 27, 30, 31, 34, 35],\n",
       " [38, 39, 42, 43, 46, 47],\n",
       " [50, 51, 54, 55, 58, 59],\n",
       " [62, 63]]"
      ]
     },
     "execution_count": 5,
     "metadata": {},
     "output_type": "execute_result"
    }
   ],
   "source": [
    "# 完成调试后，请输出以下结果\n",
    "get_all_numbers(6, 2)"
   ]
  },
  {
   "cell_type": "code",
   "execution_count": null,
   "id": "519c1431",
   "metadata": {},
   "outputs": [
    {
     "data": {
      "text/plain": [
       "[[4, 5, 6, 7, 12, 13],\n",
       " [14, 15, 20, 21, 22, 23],\n",
       " [28, 29, 30, 31, 36, 37],\n",
       " [38, 39, 44, 45, 46, 47],\n",
       " [52, 53, 54, 55, 60, 61],\n",
       " [62, 63]]"
      ]
     },
     "metadata": {},
     "output_type": "display_data"
    }
   ],
   "source": [
    "# 完成调试后，请输出以下结果\n",
    "get_all_numbers(6, 3)"
   ]
  },
  {
   "cell_type": "code",
   "execution_count": null,
   "id": "f3def014",
   "metadata": {},
   "outputs": [
    {
     "data": {
      "text/plain": [
       "[[8, 9, 10, 11, 12, 13],\n",
       " [14, 15, 24, 25, 26, 27],\n",
       " [28, 29, 30, 31, 40, 41],\n",
       " [42, 43, 44, 45, 46, 47],\n",
       " [56, 57, 58, 59, 60, 61],\n",
       " [62, 63]]"
      ]
     },
     "metadata": {},
     "output_type": "display_data"
    }
   ],
   "source": [
    "# 完成调试后，请输出以下结果\n",
    "get_all_numbers(6, 4)"
   ]
  },
  {
   "cell_type": "code",
   "execution_count": null,
   "id": "958d51e8",
   "metadata": {},
   "outputs": [
    {
     "data": {
      "text/plain": [
       "[[16, 17, 18, 19, 20, 21],\n",
       " [22, 23, 24, 25, 26, 27],\n",
       " [28, 29, 30, 31, 48, 49],\n",
       " [50, 51, 52, 53, 54, 55],\n",
       " [56, 57, 58, 59, 60, 61],\n",
       " [62, 63]]"
      ]
     },
     "metadata": {},
     "output_type": "display_data"
    }
   ],
   "source": [
    "# 完成调试后，请输出以下结果\n",
    "get_all_numbers(6, 5)"
   ]
  },
  {
   "cell_type": "code",
   "execution_count": null,
   "id": "ca6952e4",
   "metadata": {},
   "outputs": [
    {
     "data": {
      "text/plain": [
       "[[32, 33, 34, 35, 36, 37],\n",
       " [38, 39, 40, 41, 42, 43],\n",
       " [44, 45, 46, 47, 48, 49],\n",
       " [50, 51, 52, 53, 54, 55],\n",
       " [56, 57, 58, 59, 60, 61],\n",
       " [62, 63]]"
      ]
     },
     "metadata": {},
     "output_type": "display_data"
    }
   ],
   "source": [
    "# 完成调试后，请输出以下结果\n",
    "get_all_numbers(6, 6)"
   ]
  },
  {
   "cell_type": "markdown",
   "id": "d9b81b14",
   "metadata": {},
   "source": [
    "以上6个矩阵，就是读心术魔术的道具：https://zhuanlan.zhihu.com/p/557494556"
   ]
  },
  {
   "cell_type": "markdown",
   "id": "df2c1539",
   "metadata": {},
   "source": [
    "### Q3. 类的使用: `Student`\n",
    "\n",
    "在某学校的学生`GPA`（Grade Point Average）系统中，包含一个`Student`类\n",
    "\n",
    "```python\n",
    "class Student:\n",
    "    def __init__(self, name, totalCredits, totalGradePoints):\n",
    "        self.name = name    # 姓名\n",
    "        self.totalCredits = float(totalCredits)   # 总学分\n",
    "        self.totalGradePoints = float(totalGradePoints)   # 总学分绩点\n",
    "\n",
    "    def getName(self):\n",
    "        return self.name\n",
    "\n",
    "    def getCredits(self):\n",
    "        return self.totalCredits\n",
    "\n",
    "    def getGradePoints(self):\n",
    "        return self.totalGradePoints\n",
    "\n",
    "    def addGrade(self, gradePoint, credits): # 添加某一门课程的学分绩\n",
    "        self.totalGradePoints = self.totalGradePoints + gradePoint * credits\n",
    "        self.totalCredits = self.totalCredits + credits\n",
    "\n",
    "    def addLetterGrade(self, gradeLetter, credits):\n",
    "        pass\n",
    "```\n",
    "\n",
    "阅读理解上述代码，完成下面的编程任务：\n",
    "\n",
    "1. 为`Student`类中的方法`addLetterGrade`定义函数体，该方法接收两个函数参数（即某一门课程的字母评分`gradeLetter`和学分`credits`），然后按照下表对字母评分（例如`A, A-, B+, B`等）进行绩点的折算 (例如：`A-`折算为`4.0-0.3=3.7`)，最后将该门课程的学分和折算后的绩点分别累加到实例属性`self.totalCredits`和`self.totalGradePoints`。\n",
    "\n",
    "\n",
    "|A|B|C|D|+|-|\n",
    "|-|-|-|-|-|-|\n",
    "|4.0\t|3.0\t|2.0\t|1.0\t|0.3|\t-0.3|\n",
    "\n",
    "2. 为`Student`类定义一个名为`calculateGPA`的方法，计算并返回平均学分绩`GPA`（即总绩点除以总学分）。如果学生的总学分为0，则返回字符串`无课程，无法计算GPA`。\n",
    "3. 测试`Student`类：创建一个`Student`类的实例`std`，名字为`Han Meimei`，先尝试逐行打印该同学的名字，总学分，总绩点和`GPA`。为其添加以下几门课程的成绩后，再次逐行打印出该同学的名字，总学分，总绩点和`GPA`。\n",
    "   - 课程一：`A`（4学分）\n",
    "   - 课程二：`B+`（3学分）\n",
    "   - 课程三：`绩点3.0`（2学分）\n",
    "   - 课程四：`D-`（1学分）。\n",
    "\n"
   ]
  },
  {
   "cell_type": "code",
   "execution_count": 23,
   "id": "2ebe5e02",
   "metadata": {},
   "outputs": [],
   "source": [
    "# 课堂代码\n",
    "class Student():\n",
    "    def __init__(self, name, totalCredits, totalGradePoints):\n",
    "        self.name = name  # 姓名\n",
    "        self.totalCredits = float(totalCredits)  # 总学分\n",
    "        self.totalGradePoints = float(totalGradePoints)  # 总学分绩点\n",
    "\n",
    "    def getName(self):\n",
    "        return self.name\n",
    "\n",
    "    def getCredits(self):\n",
    "        return self.totalCredits\n",
    "\n",
    "    def getGradePoints(self):\n",
    "        return self.totalGradePoints\n",
    "\n",
    "    def addGrade(self, gradePoint, credits):  # 添加某一门课程的学分绩\n",
    "        self.totalGradePoints = self.totalGradePoints + gradePoint * credits\n",
    "        self.totalCredits = self.totalCredits + credits\n",
    "\n",
    "    def addLetterGrade(self, gradeLetter, credits):\n",
    "        pass"
   ]
  },
  {
   "cell_type": "code",
   "execution_count": 24,
   "id": "2e27c301",
   "metadata": {},
   "outputs": [
    {
     "name": "stdout",
     "output_type": "stream",
     "text": [
      "名字： Han Meimei\n",
      "总学分： 0.0\n",
      "总绩点： 0.0\n",
      "GPA： 无课程，无法计算GPA\n",
      "名字： Han Meimei\n",
      "总学分： 10.0\n",
      "总绩点： 32.6\n",
      "GPA： 3.2600000000000002\n"
     ]
    }
   ],
   "source": [
    "# 课堂代码\n",
    "class Student:\n",
    "    def __init__(self, name, totalCredits, totalGradePoints):\n",
    "        self.name = name  # 姓名\n",
    "        self.totalCredits = float(totalCredits)  # 总学分\n",
    "        self.totalGradePoints = float(totalGradePoints)  # 总学分绩点\n",
    "\n",
    "    def getName(self):\n",
    "        return self.name\n",
    "\n",
    "    def getCredits(self):\n",
    "        return self.totalCredits\n",
    "\n",
    "    def getGradePoints(self):\n",
    "        return self.totalGradePoints\n",
    "\n",
    "    def addGrade(self, gradePoint, credits):  # 添加某一门课程的学分绩\n",
    "        self.totalGradePoints = self.totalGradePoints + gradePoint * credits\n",
    "        self.totalCredits = self.totalCredits + credits\n",
    "\n",
    "    def addLetterGrade(self, gradeLetter, credits):\n",
    "#         第一种方式获得grade\n",
    "#         grade = ord('D') - ord(gradeLetter[0]) + 1\n",
    "#         if len(gradeLetter) >= 2:\n",
    "#             grade += 0.3 if gradeLetter[1] == '+' else (-0.3)\n",
    "\n",
    "        # 第二种方式获得grade\n",
    "        # 也可以使用字典形式完成gradeLetter --> grade\n",
    "        map_grade = {\n",
    "            'A':4,\n",
    "            'B':3,\n",
    "            'C':2,\n",
    "            'D':1,\n",
    "            '+':0.3,\n",
    "            '-':-0.3,\n",
    "        }\n",
    "\n",
    "        gradePoint = 0\n",
    "        for char in gradeLetter:\n",
    "            gradePoint += map_grade[char]\n",
    "        # 以上三行，也可以写成一行\n",
    "        # gradePoint = sum([map_grade[char] for char in gradeLetter])\n",
    "\n",
    "        self.addGrade(gradePoint, credits)\n",
    "\n",
    "    def calculateGPA(self):\n",
    "        if self.totalCredits == 0: \n",
    "            return '无课程，无法计算GPA'\n",
    "        return self.totalGradePoints / self.totalCredits\n",
    "\n",
    "# 测试代码\n",
    "std = Student('Han Meimei', 0, 0)\n",
    "# 逐行打印该同学的名字，总学分，总绩点和`GPA`\n",
    "print(\"名字：\", std.getName())\n",
    "print(\"总学分：\", std.getCredits())\n",
    "print(\"总绩点：\", std.getGradePoints())\n",
    "print(\"GPA：\", std.calculateGPA())\n",
    "\n",
    "# 添加课程成绩\n",
    "std.addLetterGrade('A', 4)\n",
    "std.addLetterGrade('B+', 3)\n",
    "std.addGrade(3.0, 2)\n",
    "std.addLetterGrade('D-', 1)\n",
    "\n",
    "# 再次逐行打印该同学的名字，总学分，总绩点和`GPA`\n",
    "print(\"名字：\", std.getName())\n",
    "print(\"总学分：\", std.getCredits())\n",
    "print(\"总绩点：\", std.getGradePoints())\n",
    "print(\"GPA：\", std.calculateGPA())\n",
    "    "
   ]
  },
  {
   "cell_type": "markdown",
   "id": "3db11a69",
   "metadata": {},
   "source": [
    "### Q4. 类的继承 `Student -> IntlStudent`\n",
    "\n",
    "定义一个上一题`Student`类的子类：国际学生`IntlStudent`, 此子类拥有特有属性`foreign_name`,`country`。\n",
    "\n",
    "重写方法使得每次调用方法`getName`, `getCredits`, `getGradePoints`和`calculateGPA`的时候，都会先打印一句提醒（`Note: <name> is a foreign student: <foreign name>, <country>`）。重写方法时，尽量重用父类已有代码。\n",
    "\n",
    "进行上一题类似的测试，假设`Han Meimei`同学的`foreign_name = Naruto`,`country=Japan`."
   ]
  },
  {
   "cell_type": "code",
   "execution_count": 96,
   "id": "fa2c68e1",
   "metadata": {},
   "outputs": [
    {
     "name": "stdout",
     "output_type": "stream",
     "text": [
      "Note: Han Meimei is a foreign student: Naruto, Japan\n",
      "名字： Han Meimei\n",
      "Note: Han Meimei is a foreign student: Naruto, Japan\n",
      "总学分： 0.0\n",
      "Note: Han Meimei is a foreign student: Naruto, Japan\n",
      "总绩点： 0.0\n",
      "Note: Han Meimei is a foreign student: Naruto, Japan\n",
      "GPA： 无课程，无法计算GPA\n",
      "Note: Han Meimei is a foreign student: Naruto, Japan\n",
      "名字： Han Meimei\n",
      "Note: Han Meimei is a foreign student: Naruto, Japan\n",
      "总学分： 10.0\n",
      "Note: Han Meimei is a foreign student: Naruto, Japan\n",
      "总绩点： 32.6\n",
      "Note: Han Meimei is a foreign student: Naruto, Japan\n",
      "GPA： 3.2600000000000002\n"
     ]
    }
   ],
   "source": [
    "# your codes here\n",
    "class IntlStudent(Student):\n",
    "    def __init__(self, name, totalCredits, totalGradePoints, foreign_name, country):\n",
    "        super().__init__(name, totalCredits, totalGradePoints)\n",
    "        self.foreign_name = foreign_name\n",
    "        self.country = country\n",
    "\n",
    "    def print_note(self):\n",
    "        print('Note: %s is a foreign student: %s, %s'%(self.name, self.foreign_name, self.country))\n",
    "    \n",
    "    def getName(self):\n",
    "        self.print_note()\n",
    "        return super().getName()\n",
    "    \n",
    "    def getCredits(self):\n",
    "        self.print_note()\n",
    "        return super().getCredits()\n",
    "\n",
    "    def getGradePoints(self):\n",
    "        self.print_note()\n",
    "        return super().getGradePoints()\n",
    "\n",
    "    def calculateGPA(self):\n",
    "        self.print_note()\n",
    "        return super().calculateGPA()\n",
    "\n",
    "# 测试代码\n",
    "std = IntlStudent('Han Meimei', 0, 0, 'Naruto', 'Japan')\n",
    "# 逐行打印该同学的名字，总学分，总绩点和`GPA`\n",
    "print(\"名字：\", std.getName())\n",
    "print(\"总学分：\", std.getCredits())\n",
    "print(\"总绩点：\", std.getGradePoints())\n",
    "print(\"GPA：\", std.calculateGPA())\n",
    "\n",
    "# 添加课程成绩\n",
    "std.addLetterGrade('A', 4)\n",
    "std.addLetterGrade('B+', 3)\n",
    "std.addGrade(3.0, 2)\n",
    "std.addLetterGrade('D-', 1)\n",
    "\n",
    "# 再次逐行打印该同学的名字，总学分，总绩点和`GPA`\n",
    "print(\"名字：\", std.getName())\n",
    "print(\"总学分：\", std.getCredits())\n",
    "print(\"总绩点：\", std.getGradePoints())\n",
    "print(\"GPA：\", std.calculateGPA())"
   ]
  },
  {
   "cell_type": "markdown",
   "id": "2fb83c95",
   "metadata": {},
   "source": [
    "### Q5.  文件操作与函数\n",
    "编写一个函数`encoding(file1, file2)`, 该函数能加密`file1`的内容（假设该文件只包含小写英文单词、空格和换行符）。对于`file1`中每个单词的加密方式如下：若单词长度为`n`，则每个字母通过前进`n`位进行加密，这里假设`z`的下一位是`a`。例如，对于单词`zoom`，`n=4`，则`z->d`,`o->s`,`m->q`，加密后的单词为`dssq`。最后将加密后的结果保存到`file2`。\n",
    "\n",
    "用`encoding('data/file1.txt','data/file2.txt')`测试你编写的函数。\n"
   ]
  },
  {
   "cell_type": "code",
   "execution_count": null,
   "id": "d8d8dbc1",
   "metadata": {},
   "outputs": [],
   "source": [
    "# your codes here\n",
    "\n",
    "\n",
    "# test\n",
    "file1 = 'data/file1.txt'\n",
    "file2 = 'data/file2.txt'\n",
    "with open(file1,'r') as f1:\n",
    "    print(f'==content of {file1}==\\n' + f1.read())\n",
    "    \n",
    "encoding('data/file1.txt','data/file2.txt')\n",
    "\n",
    "with open(file2,'r') as f2:\n",
    "    print(f'==content of {file2}==\\n' + f2.read())\n"
   ]
  },
  {
   "cell_type": "code",
   "execution_count": 85,
   "id": "1481ed11",
   "metadata": {},
   "outputs": [
    {
     "name": "stdout",
     "output_type": "stream",
     "text": [
      "==content of data/file1.txt==\n",
      "python is the best language\n",
      "it is correct\n",
      "do not argue with me\n",
      "==content of data/file2.txt==\n",
      "veznut ku wkh fiwx tivociom\n",
      "kv ku jvyylja\n",
      "fq qrw fwlzj amxl og\n"
     ]
    }
   ],
   "source": [
    "def encode_word(word):\n",
    "    '''function to encode a single word'''\n",
    "    n = len(word)\n",
    "    return ''.join([chr(ord(char) + n - 26) if ord(char) + n > ord('z') else chr(ord(char) + n) for char in word])\n",
    "    \n",
    "    # 如果展开写，以下为等价写法\n",
    "#     new_list = []\n",
    "#     for char in word:\n",
    "#         if ord(char) + n > ord('z'):\n",
    "#             new_list.append(chr(ord(char) + n - 26))\n",
    "#         else:\n",
    "#             new_list.append(chr(ord(char) + n))\n",
    "#     return ''.join(new_list)\n",
    "\n",
    "def encoding(file1,file2):\n",
    "    '''function to encode file1 and save the results to file2'''\n",
    "    with open(file1,'r') as f1:\n",
    "        new_lines=[]\n",
    "        for line in f1.readlines() :\n",
    "            new_line = ' '.join([encode_word(word) for word in line.strip().split()])\n",
    "            new_lines.append(new_line)\n",
    "        \n",
    "    with open(file2,'w') as f2:\n",
    "        f2.write('\\n'.join(new_lines))\n",
    "\n",
    "\n",
    "# test\n",
    "file1 = 'data/file1.txt'\n",
    "file2 = 'data/file2.txt'\n",
    "with open(file1,'r') as f1:\n",
    "    print(f'==content of {file1}==\\n' + f1.read())\n",
    "    \n",
    "encoding('data/file1.txt','data/file2.txt')\n",
    "\n",
    "with open(file2,'r') as f2:\n",
    "    print(f'==content of {file2}==\\n' + f2.read())\n"
   ]
  },
  {
   "cell_type": "code",
   "execution_count": 30,
   "id": "62dc996d",
   "metadata": {},
   "outputs": [
    {
     "name": "stdout",
     "output_type": "stream",
     "text": [
      "==content of data/file1.txt==\n",
      "python is the best language\n",
      "it is correct\n",
      "do not argue with me\n"
     ]
    }
   ],
   "source": [
    "# test\n",
    "file1 = 'data/file1.txt'\n",
    "file2 = 'data/file2.txt'\n",
    "with open(file1,'r') as f1:\n",
    "    print(f'==content of {file1}==\\n' + f1.read())"
   ]
  },
  {
   "cell_type": "markdown",
   "id": "6ca9c107",
   "metadata": {},
   "source": [
    "### Q6. CSV文件处理\n",
    "变量`data`保存着学生的名字和每次作业的分数（其中分数为整数）。\n",
    "```python\n",
    "data = [\n",
    "    'yh#100',\n",
    "    'yh#99',\n",
    "    'wx#100',\n",
    "    'yh#96',\n",
    "    'wx#100']\n",
    "```\n",
    "**任务：**\n",
    "* Step 1: 将`data`的内容存储到`data/detailed_grade.txt`里，存储格式为：每行一条记录，以逗号分隔名字和分数。\n",
    "\n",
    "* Step 2: 用`csv.reader`将`data/detailed_grade.txt`的内容重新读取，以合适的数据结构存储学生信息。最后，计算学生的平均分数，并将其姓名，总分数，提交次数，平均分数保存到`data/final_grade.txt`中。"
   ]
  },
  {
   "cell_type": "code",
   "execution_count": null,
   "id": "082c4688",
   "metadata": {},
   "outputs": [],
   "source": [
    "import csv\n",
    "data = [\n",
    "    'yh#100',\n",
    "    'yh#99',\n",
    "    'wx#100',\n",
    "    'yh#96',\n",
    "    'wx#100']\n",
    "\n",
    "# your codes here"
   ]
  },
  {
   "cell_type": "code",
   "execution_count": 83,
   "id": "def952a2",
   "metadata": {},
   "outputs": [],
   "source": [
    "import csv\n",
    "data = [\n",
    "    'yh#100',\n",
    "    'yh#99',\n",
    "    'wx#100',\n",
    "    'yh#96',\n",
    "    'wx#100']\n",
    "\n",
    "# Step 1\n",
    "with open('data/detailed_grade.txt', 'w') as f_out:\n",
    "    for line in data:\n",
    "        f_out.write(line.replace('#', ',') + '\\n')\n",
    "\n",
    "# Step 2\n",
    "dic_student = {} # 记录每个学生的分数明细\n",
    "# 'yh': [100, 99, 96]\n",
    "# 'wx': [100, 100]\n",
    "with open('data/detailed_grade.txt', 'r') as f_in:\n",
    "    csv_reader = csv.reader(f_in, delimiter = ',')\n",
    "    for row in csv_reader:\n",
    "        name, grade = row\n",
    "        if not name in dic_student:\n",
    "            dic_student[name] = [int(grade), ]\n",
    "        else:\n",
    "            dic_student[name].append(int(grade))\n",
    "\n",
    "with open('data/final_grade.txt', 'w') as f_out:\n",
    "    for name, info in dic_student.items():\n",
    "        f_out.write(f'{name},{sum(info)},{len(info)},{sum(info)/len(info)}\\n')"
   ]
  }
 ],
 "metadata": {
  "kernelspec": {
   "display_name": "Python 3 (ipykernel)",
   "language": "python",
   "name": "python3"
  },
  "language_info": {
   "codemirror_mode": {
    "name": "ipython",
    "version": 3
   },
   "file_extension": ".py",
   "mimetype": "text/x-python",
   "name": "python",
   "nbconvert_exporter": "python",
   "pygments_lexer": "ipython3",
   "version": "3.10.9"
  },
  "toc": {
   "base_numbering": 1,
   "nav_menu": {},
   "number_sections": true,
   "sideBar": true,
   "skip_h1_title": false,
   "title_cell": "Table of Contents",
   "title_sidebar": "Contents",
   "toc_cell": false,
   "toc_position": {
    "height": "calc(100% - 180px)",
    "left": "10px",
    "top": "150px",
    "width": "165px"
   },
   "toc_section_display": true,
   "toc_window_display": true
  }
 },
 "nbformat": 4,
 "nbformat_minor": 5
}
