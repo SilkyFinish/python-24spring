{
 "cells": [
  {
   "cell_type": "markdown",
   "id": "1d1eb509",
   "metadata": {},
   "source": [
    "Lab Session 3\n",
    "========\n",
    "BUSS1301程序设计，2024 春\n",
    "\n",
    "\n"
   ]
  },
  {
   "cell_type": "markdown",
   "id": "63745006",
   "metadata": {},
   "source": [
    "### Q1.  函数编写：进制转换\n",
    "编写一个函数`convert_base(value, base)`，实现将十进制数`value`转换成任意进制`base`（最高16进制），返回的结果为字符串类型。注意，16进制时，0-15分别表示成`[0,1,2,3,4,5,6,7,8,9,'A','B','C','D','E','F']`。\n",
    "\n",
    "提示:\n",
    "\n",
    "`226`转换成`8`进制时，可以进行如下分解$226 = 3\\times8^2 + 4\\times8+2 = 8\\times(3\\times8+4)+2$。这样最后一位`2`就可以通过`226%8`获得，倒数第二位`4`就可以通过`(226//8)%8`获得，以此类推... 最终结果为`342`。\n"
   ]
  },
  {
   "cell_type": "code",
   "execution_count": 5,
   "id": "e13ecab0",
   "metadata": {},
   "outputs": [
    {
     "name": "stdout",
     "output_type": "stream",
     "text": [
      "342\n"
     ]
    }
   ],
   "source": [
    "# your codes here\n",
    "def convert_base(value,base):\n",
    "   answer=[]\n",
    "   number_=0\n",
    "   while value>0:\n",
    "      number_=value%base\n",
    "      answer.append('%d'%(number_))\n",
    "      value=value//base\n",
    "   print(''.join(answer[::-1]))\n",
    "convert_base(226,8)"
   ]
  },
  {
   "cell_type": "markdown",
   "id": "df2c1539",
   "metadata": {},
   "source": [
    "### Q3. 类的使用: `Student`\n",
    "\n",
    "在某学校的学生`GPA`（Grade Point Average）系统中，包含一个`Student`类\n",
    "\n",
    "```python\n",
    "class Student:\n",
    "    def __init__(self, name, totalCredits, totalGradePoints):\n",
    "        self.name = name    # 姓名\n",
    "        self.totalCredits = float(totalCredits)   # 总学分\n",
    "        self.totalGradePoints = float(totalGradePoints)   # 总学分绩点\n",
    "\n",
    "    def getName(self):\n",
    "        return self.name\n",
    "\n",
    "    def getCredits(self):\n",
    "        return self.totalCredits\n",
    "\n",
    "    def getGradePoints(self):\n",
    "        return self.totalGradePoints\n",
    "\n",
    "    def addGrade(self, gradePoint, credits): # 添加某一门课程的学分绩\n",
    "        self.totalGradePoints = self.totalGradePoints + gradePoint * credits\n",
    "        self.totalCredits = self.totalCredits + credits\n",
    "\n",
    "    def addLetterGrade(self, gradeLetter, credits):\n",
    "        pass\n",
    "```\n",
    "\n",
    "阅读理解上述代码，完成下面的编程任务：\n",
    "\n",
    "1. 为`Student`类中的方法`addLetterGrade`定义函数体，该方法接收两个函数参数（即某一门课程的字母评分`gradeLetter`和学分`credits`），然后按照下表对字母评分（例如`A, A-, B+, B`等）进行绩点的折算 (例如：`A-`折算为`4.0-0.3=3.7`)，最后将该门课程的学分和折算后的绩点分别累加到实例属性`self.totalCredits`和`self.totalGradePoints`。\n",
    "\n",
    "\n",
    "|A|B|C|D|+|-|\n",
    "|-|-|-|-|-|-|\n",
    "|4.0\t|3.0\t|2.0\t|1.0\t|0.3|\t-0.3|\n",
    "\n",
    "1. 为`Student`类定义一个名为`calculateGPA`的方法，计算并返回平均学分绩`GPA`（即总绩点除以总学分）。如果学生的总学分为0，则返回字符串`无课程，无法计算GPA`。\n",
    "2. 测试`Student`类：创建一个`Student`类的实例`std`，名字为`Han Meimei`，先尝试逐行打印该同学的名字，总学分，总绩点和`GPA`。为其添加以下几门课程的成绩后，再次逐行打印出该同学的名字，总学分，总绩点和`GPA`。\n",
    "   - 课程一：`A`（4学分）\n",
    "   - 课程二：`B+`（3学分）\n",
    "   - 课程三：`绩点3.0`（2学分）\n",
    "   - 课程四：`D-`（1学分）。\n",
    "\n"
   ]
  },
  {
   "cell_type": "code",
   "execution_count": 6,
   "id": "2ebe5e02",
   "metadata": {},
   "outputs": [
    {
     "name": "stdout",
     "output_type": "stream",
     "text": [
      "Han Meimei\n",
      "26.5\n",
      "96.5\n",
      "3.641509433962264\n",
      "Han Meimei\n",
      "36.5\n",
      "129.1\n",
      "3.536986301369863\n"
     ]
    }
   ],
   "source": [
    "# your codes here\n",
    "class Student:\n",
    "    def __init__(self, name, totalCredits, totalGradePoints):\n",
    "        self.name = name  # 姓名\n",
    "        self.totalCredits = float(totalCredits)  # 总学分\n",
    "        self.totalGradePoints = float(totalGradePoints)  # 总学分绩点\n",
    "\n",
    "    def getName(self):\n",
    "        return self.name\n",
    "\n",
    "    def getCredits(self):\n",
    "        return self.totalCredits\n",
    "\n",
    "    def getGradePoints(self):\n",
    "        return self.totalGradePoints\n",
    "\n",
    "    def addGrade(self, gradePoint, credits):  # 添加某一门课程的学分绩\n",
    "        self.totalGradePoints = self.totalGradePoints + gradePoint * credits\n",
    "        self.totalCredits = self.totalCredits + credits\n",
    "\n",
    "    def addLetterGrade(self, gradeLetter, credits):\n",
    "        self.gradeLetter=gradeLetter\n",
    "        self.totalCredits = self.totalCredits + credits\n",
    "        relation={'A':4.0,'B':3.0,'C':2.0,'D':1.0,'+':0.3,'-':-0.3}\n",
    "        if len(self.gradeLetter)==2:\n",
    "            self.totalGradePoints = self.totalGradePoints +(relation[self.gradeLetter[0]]+relation[self.gradeLetter[1]]) * credits\n",
    "        else:\n",
    "            self.totalGradePoints = self.totalGradePoints +relation[self.gradeLetter]* credits\n",
    "\n",
    "    def calculateGPA(self):\n",
    "        GPA=self.totalGradePoints/self.totalCredits\n",
    "        if GPA!=0:\n",
    "            print(GPA)\n",
    "        else:\n",
    "            print('无课程，无法计算GPA')\n",
    "\n",
    "std=Student('Han Meimei',26.5,96.5)\n",
    "print(f'{std.getName()}')\n",
    "print(f'{std.getCredits()}')\n",
    "print(f'{std.getGradePoints()}')\n",
    "std.calculateGPA()\n",
    "\n",
    "std.addLetterGrade('A', 4)\n",
    "std.addLetterGrade('B+', 3)\n",
    "std.addGrade(3.0,2)\n",
    "std.addLetterGrade('D-', 1)\n",
    "print(f'{std.getName()}')\n",
    "print(f'{std.getCredits()}')\n",
    "print(f'{std.getGradePoints()}')\n",
    "std.calculateGPA()\n",
    "\n",
    "\n",
    "            \n",
    "\n",
    "\n",
    "\n",
    "        \n",
    "        "
   ]
  },
  {
   "cell_type": "markdown",
   "id": "2fb83c95",
   "metadata": {},
   "source": [
    "### Q5.  文件操作与函数\n",
    "编写一个函数`encoding(file1, file2)`, 该函数能加密`file1`的内容（假设该文件只包含小写英文单词、空格和换行符）。对于`file1`中每个单词的加密方式如下：若单词长度为`n`，则每个字母通过前进`n`位进行加密，这里假设`z`的下一位是`a`。例如，对于单词`zoom`，`n=4`，则`z->d`,`o->s`,`m->q`，加密后的单词为`dssq`。最后将加密后的结果保存到`file2`。\n",
    "\n",
    "用`encoding('data/file1.txt','data/file2.txt')`测试你编写的函数。\n"
   ]
  },
  {
   "cell_type": "code",
   "execution_count": null,
   "id": "d8d8dbc1",
   "metadata": {},
   "outputs": [],
   "source": [
    "# your codes here\n",
    "def encoding(file1,file2):\n",
    "    with open(file1,'r') as f1:\n",
    "        content=f1.read()\n",
    "        List=[]\n",
    "        for i in range(97,123):\n",
    "            List.append(chr(i))\n",
    "        for char in content:\n",
    "            \n",
    "\n",
    "\n",
    "        \n",
    "\n",
    "\n",
    "\n",
    "# test\n",
    "file1 = 'data/file1.txt'\n",
    "file2 = 'data/file2.txt'\n",
    "with open(file1,'r') as f1:\n",
    "    print(f'==content of {file1}==\\n' + f1.read())\n",
    "    \n",
    "encoding('data/file1.txt','data/file2.txt')\n",
    "\n",
    "with open(file2,'r') as f2:\n",
    "    print(f'==content of {file2}==\\n' + f2.read())\n"
   ]
  }
 ],
 "metadata": {
  "kernelspec": {
   "display_name": "Python 3 (ipykernel)",
   "language": "python",
   "name": "python3"
  },
  "language_info": {
   "codemirror_mode": {
    "name": "ipython",
    "version": 3
   },
   "file_extension": ".py",
   "mimetype": "text/x-python",
   "name": "python",
   "nbconvert_exporter": "python",
   "pygments_lexer": "ipython3",
   "version": "3.11.5"
  },
  "toc": {
   "base_numbering": 1,
   "nav_menu": {},
   "number_sections": true,
   "sideBar": true,
   "skip_h1_title": false,
   "title_cell": "Table of Contents",
   "title_sidebar": "Contents",
   "toc_cell": false,
   "toc_position": {
    "height": "calc(100% - 180px)",
    "left": "10px",
    "top": "150px",
    "width": "165px"
   },
   "toc_section_display": true,
   "toc_window_display": true
  }
 },
 "nbformat": 4,
 "nbformat_minor": 5
}
