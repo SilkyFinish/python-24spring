{
 "cells": [
  {
   "cell_type": "markdown",
   "metadata": {},
   "source": [
    "### 2 课后练习\n",
    "#### 课后练习一\n",
    "\n",
    "请编写一个程序，提示用户输入一个字符串，将字符串中所有字母全部向后移一位，最后一个字母放在字符串的开头，最后将新的字符串输出。"
   ]
  },
  {
   "cell_type": "code",
   "execution_count": 2,
   "metadata": {},
   "outputs": [
    {
     "name": "stdout",
     "output_type": "stream",
     "text": [
      "eabcd\n"
     ]
    }
   ],
   "source": [
    "#我的\n",
    "Str=input(\"请输入一个字符串\")\n",
    "list1=[]\n",
    "for i in Str:\n",
    "    list1.append(i)\n",
    "list2=[]\n",
    "a=0\n",
    "b=len(list1)\n",
    "while a<(b-1):\n",
    "    list2.append(list1[a])\n",
    "    a+=1\n",
    "list3=[list1[b-1],\"\".join(list2)]\n",
    "print(\"\".join(list3))"
   ]
  },
  {
   "cell_type": "code",
   "execution_count": 4,
   "metadata": {},
   "outputs": [
    {
     "name": "stdout",
     "output_type": "stream",
     "text": [
      "\"a\" == \"a\"\n"
     ]
    }
   ],
   "source": [
    "list1=['\"a\"','==','\"a\"']\n",
    "m=' '.join(list1)\n",
    "print(m)"
   ]
  },
  {
   "cell_type": "code",
   "execution_count": 7,
   "metadata": {},
   "outputs": [
    {
     "name": "stdout",
     "output_type": "stream",
     "text": [
      "\"a\"\n"
     ]
    }
   ],
   "source": [
    "a='\"a\"'\n",
    "b=f'{a}'\n",
    "print(b)"
   ]
  },
  {
   "cell_type": "code",
   "execution_count": 1,
   "metadata": {},
   "outputs": [
    {
     "name": "stdout",
     "output_type": "stream",
     "text": [
      "eabcd\n"
     ]
    }
   ],
   "source": [
    "#答案\n",
    "#abcde-eabcd 考虑不变的 作为整体\n",
    "Str = input('Please input a string:')\n",
    "n = len(Str)\n",
    "s = Str[n-1]+Str[0:n-1]#变+不变\n",
    "print(s)"
   ]
  },
  {
   "cell_type": "markdown",
   "metadata": {},
   "source": [
    "#### 课后练习二\n",
    "将以下字符串的所有SJTU替换成Shanghai Jiao Tong University，但是不要替换SJTUers中的SJTU.\n",
    "\n",
    "`I love SJTU. All SJTUers are all working hard. I am expecting the ranking of SJTU will increase its ranking in next year.`"
   ]
  },
  {
   "cell_type": "code",
   "execution_count": 4,
   "metadata": {},
   "outputs": [
    {
     "name": "stdout",
     "output_type": "stream",
     "text": [
      "I love Shanghai Jiao Tong University.All SJTUers are all working hard.I am expecting the ranking of Shanghai Jiao Tong University will increase its ranking in next year.\n"
     ]
    }
   ],
   "source": [
    "#我的\n",
    "Str=\"I love SJTU.All SJTUers are all working hard.I am expecting the ranking of SJTU will increase its ranking in next year.\"\n",
    "list1=Str.split()\n",
    "i=0\n",
    "while i <len(list1):\n",
    "    if list1[i]=='SJTU':\n",
    "        list1[i]=\"Shanghai Jiao Tong University\"\n",
    "    elif list1[i]==\"SJTU.All\":\n",
    "        list1[i]=\"Shanghai Jiao Tong University.All\"\n",
    "    i+=1\n",
    "print(\" \".join(list1))"
   ]
  },
  {
   "cell_type": "code",
   "execution_count": 2,
   "metadata": {},
   "outputs": [
    {
     "name": "stdout",
     "output_type": "stream",
     "text": [
      "I love Shanghai Jiao Tong University. All SJTUers are all working hard. I am expecting the ranking of Shanghai Jiao Tong University will increase its ranking in next year.\n"
     ]
    }
   ],
   "source": [
    "# 答案solution 1\n",
    "#string可以直接用replace替换笨蛋！\n",
    "Str = 'I love SJTU. All SJTUers are all working hard. I am expecting the ranking of SJTU will increase its ranking in next year.'\n",
    "Str = Str.replace('SJTU', 'Shanghai Jiao Tong University')\n",
    "Str = Str.replace('Shanghai Jiao Tong Universityers', 'SJTUers')\n",
    "print(Str)\n"
   ]
  },
  {
   "cell_type": "code",
   "execution_count": null,
   "metadata": {},
   "outputs": [],
   "source": [
    "# 答案solution 2\n",
    "Str = 'I love SJTU. All SJTUers are all working hard. I am expecting the ranking of SJTU will increase its ranking in next year.'\n",
    "Str = Str.replace('SJTUer' ,'###')\n",
    "Str = Str.replace('SJTU' , 'Shanghai Jiao Tong University')\n",
    "Str = Str.replace('###','SJTUer')\n",
    "print(Str)"
   ]
  },
  {
   "cell_type": "markdown",
   "metadata": {},
   "source": [
    "# 4随堂练习\n",
    "* 随堂练习1\n",
    "\n",
    "让用户输入一个字符串，判断输入的是否为整数。\n",
    "\n",
    "允许：`342`,`-983`,`+98`等\n",
    "\n",
    "不允许：`012`,`+034`,`-097`,`0.98`等,或者其他非数字字符\n",
    "\n",
    "如果是整数，打印到屏幕，并结束程序；否则，提示用户重新输入"
   ]
  },
  {
   "cell_type": "code",
   "execution_count": 25,
   "metadata": {},
   "outputs": [
    {
     "name": "stdout",
     "output_type": "stream",
     "text": [
      "请重新输入\n"
     ]
    }
   ],
   "source": [
    "#我的\n",
    "Str=input(\"请输入一个字符串\")\n",
    "for char in Str:\n",
    "    if not( char.isdigit() or char in[\"+\",\"-\"]):\n",
    "        print(\"请重新输入\")\n",
    "        break\n",
    "else:\n",
    "      if (Str[0]==\"+\"or Str[0]==\"-\")and Str[1]==\"0\":\n",
    "        print(\"请重新输入\")\n",
    "      elif Str[0]==\"0\":\n",
    "         print(\"请重新输入\")\n",
    "      else:\n",
    "        print(Str)\n",
    "        \n",
    "\n"
   ]
  },
  {
   "cell_type": "code",
   "execution_count": null,
   "metadata": {},
   "outputs": [],
   "source": [
    "#答案\n",
    "#不允许的情况：非整数，非数字，零开头但不是零。正负是干扰。\n",
    "while(True):\n",
    "    Str = input('Please input an integer:')\n",
    "    #对零开头判断，先筛出就是零\n",
    "    if Str == '0':\n",
    "        print('是整数')\n",
    "        break\n",
    "    #排除干扰\n",
    "    if Str[0] == '-' or Str[0] == '+':\n",
    "        Str = Str[1:]\n",
    "    if Str.isdigit() and Str[0] != '0':\n",
    "        print('是整数')\n",
    "        break\n",
    "    else:\n",
    "        print('Not qualified. Please re-input')"
   ]
  },
  {
   "cell_type": "markdown",
   "metadata": {},
   "source": [
    "* 随堂练习2：猜年龄\n",
    "\n",
    "猜年龄\n",
    "\n",
    "猜对了，输出You got it, 结束程序\n",
    "\n",
    "猜大/小了，输出Try smaller/larger number\n",
    "\n",
    "输入不是数字，输出Please use number only\n",
    "\n",
    "每隔三次问一次，是否继续(Y/y to continue, type others to quit)"
   ]
  },
  {
   "cell_type": "code",
   "execution_count": 36,
   "metadata": {},
   "outputs": [
    {
     "name": "stdout",
     "output_type": "stream",
     "text": [
      "Try larger number\n",
      "Try smaller number\n",
      "Try larger number\n"
     ]
    }
   ],
   "source": [
    "#我的\n",
    "age=19\n",
    "a=0\n",
    "while True:\n",
    "    guess=input(\"请猜一个年龄\")\n",
    "    if guess.isdigit()==False:\n",
    "        print(\"Please use number only\")\n",
    "        break\n",
    "    elif int(guess)==age:\n",
    "        print(\"You got it\")\n",
    "        break\n",
    "    else:\n",
    "        if int(guess)<age:\n",
    "            print(\"Try larger number\")\n",
    "            a+=1\n",
    "        else:\n",
    "            print(\"Try smaller number\")\n",
    "            a+=1\n",
    "        if a%3==0:\n",
    "                answer=input(\"Y/y to continue,type others to quit\")\n",
    "                if answer==\"Y\"or answer==\"y\":\n",
    "                    continue\n",
    "                else:\n",
    "                    break\n",
    "\n",
    "\n"
   ]
  },
  {
   "cell_type": "code",
   "execution_count": null,
   "metadata": {},
   "outputs": [],
   "source": [
    "#答案\n",
    "true_age = 45\n",
    "\n",
    "count = 0\n",
    "while(True):\n",
    "    age = input('Please guess:')\n",
    "    if age.isdigit():\n",
    "        age = int(age)\n",
    "        if age == true_age:\n",
    "            print('You got it!')\n",
    "            break\n",
    "        elif age < true_age:\n",
    "            print('Try larger!')\n",
    "        else: # age > true_age\n",
    "            print('Try smaller')\n",
    "    else:\n",
    "        print('Please use number only')\n",
    "    count += 1\n",
    "    if count%3 == 0:\n",
    "        flag_continue = input('Continue? Y/y to continue, type others to quit:')\n",
    "        if not flag_continue.lower() == 'y':\n",
    "            break\n",
    "        print('----')"
   ]
  },
  {
   "cell_type": "markdown",
   "metadata": {},
   "source": [
    "提示用户输入一个任意长度且只包含数字字符（0-9）的字符串digitString，如果用户输入的字符\n",
    "串包含非数字字符，则提示用户重新尝试输入，最多可以尝试的次数为maxTrial=5。如果用户在\n",
    "规定次数内没有输入一个满足条件的数字字符串digitString，则输出“End”并结束程序；如果\n",
    "用户在规定次数内成功输入了一个数字字符串digitString，则在该字符串中找出一个最长的不包\n",
    "含重复字符的子字符串（如果有多个等长的最长子字符串，则找出其中任意一个即可），并将\n",
    "该最长子字符串转换成int类型的整数后输出。下面是两个示例：\n",
    "示例1：假设用户在3次尝试内成功输入了一个数字字符串\"31415926\"，则输出415926\n",
    "示例2：假设用户在5次尝试内成功输入了一个数字字符串“666666”，则输出6\n",
    "示例3：假设用户在6次尝试内没有成功输入一个数字字符串，则输出“End"
   ]
  },
  {
   "cell_type": "code",
   "execution_count": 29,
   "metadata": {},
   "outputs": [
    {
     "name": "stdout",
     "output_type": "stream",
     "text": [
      "415926\n"
     ]
    }
   ],
   "source": [
    "a=0\n",
    "b=0\n",
    "\n",
    "while a<=5:\n",
    "    Str=input(\"请输入一个任意长度且只包含数字字符0~9的字符串\")\n",
    "    if Str.isdigit()==False:\n",
    "        print(\"请重新尝试输入\")\n",
    "        a+=1\n",
    "        continue\n",
    "    else:\n",
    "        b=1\n",
    "        i=0\n",
    "        List=[]\n",
    "        while i<len(Str):\n",
    "            stri=Str[i:]\n",
    "            str1=\"\"\n",
    "            for char in stri:\n",
    "                if char not in str1:\n",
    "                    str1+=char\n",
    "                else:\n",
    "                    break\n",
    "            List.append(str1)\n",
    "            i+=1\n",
    "        break\n",
    "if b==1:\n",
    "    longest=\"\"\n",
    "    for string in List:\n",
    "        if len(string)>len(longest):\n",
    "            longest=string\n",
    "    print(int(longest))\n",
    "else:\n",
    "    print(\"End\")\n",
    "\n",
    "\n",
    "\n"
   ]
  },
  {
   "cell_type": "markdown",
   "metadata": {},
   "source": [
    "### 4课后练习\n",
    "* 课后练习1\n",
    "\n",
    "字符串的`isalnum`函数能够用于判断一个字符串是否只包含数字，英文字母和汉字。以下请自己实现类似功能：\n",
    "\n",
    "给定一个字符串，判断是否只包含数字`0-9`、大小写英文字母`a-z`和`A-Z`。如果只包含数字和字母，输出`该字符串仅含数字与字母`；否则，输出`该字符串不仅含数字与字母`。"
   ]
  },
  {
   "cell_type": "code",
   "execution_count": 23,
   "metadata": {},
   "outputs": [
    {
     "name": "stdout",
     "output_type": "stream",
     "text": [
      "该字符串不仅含数字与字母\n"
     ]
    }
   ],
   "source": [
    "#我的\n",
    "Str=input(\"请输入一个字符串\")\n",
    "str1=\"1234567890qwertyuiopasdfghjklzxcvbnmQWERTYUIOPASDFGHJKLZXCVBNM\"\n",
    "for char in Str:\n",
    "    a=0\n",
    "    for char1 in str1:\n",
    "        if char==char1:\n",
    "            a=1\n",
    "            break\n",
    "        else:\n",
    "            continue\n",
    "    if a==0:\n",
    "        break\n",
    "    else:\n",
    "        continue\n",
    "if a==0:\n",
    "    print(\"该字符串不仅含数字与字母\")\n",
    "else:\n",
    "    print(\"该字符串仅包含数字与字母\")\n",
    "\n",
    "     "
   ]
  },
  {
   "cell_type": "code",
   "execution_count": null,
   "metadata": {},
   "outputs": [],
   "source": [
    "#答案\n",
    "Str = input(\"输入字符串：\")\n",
    "count = 0\n",
    "for char in Str: # 题目要求不能使用 isalnum， isdigit函数\n",
    "    # 字符串直接对比，会根据ascii码大小进行对比！！！！！！\n",
    "    if (char > '0' and char < '9') or (char > 'a' and char < 'z') or (char > 'A' and char < 'Z'): # 注意这里三个or连接的逻辑\n",
    "        count += 1\n",
    "if count == len(Str):#要求每一个都符合时的另一种判别方式\n",
    "    print(\"该字符串仅含数字与字母\")\n",
    "else:\n",
    "    print(\"该字符串不仅含数字与字母\")"
   ]
  },
  {
   "cell_type": "markdown",
   "metadata": {},
   "source": [
    "* 课后练习2\n",
    "\n",
    "给定一个字符串，每三个字符做一次`ASCII三角形判断`，输出`ASCII三角形`的个数。\n",
    "\n",
    "三个字符构成`ASCII三角形`的意思为：这三个字符的ASCII编码对应的十进制数值可以构成三角形。\n",
    "\n",
    "例如：对于字符串`sfe78@3d;s`,需要对`sfe`，`78@`，`3d;`进行`ASCII三角形判断`，并记录ASCII三角形的个数"
   ]
  },
  {
   "cell_type": "code",
   "execution_count": 2,
   "metadata": {},
   "outputs": [
    {
     "name": "stdout",
     "output_type": "stream",
     "text": [
      "q 1 w\n",
      "可以构成ASCII三角形\n",
      "2 e 3\n",
      "不可以构成ASCII三角形\n",
      "r 4 t\n",
      "可以构成ASCII三角形\n",
      "5 y 6\n",
      "不可以构成ASCII三角形\n",
      "共2个ASCII三角形\n"
     ]
    }
   ],
   "source": [
    "#我的\n",
    "Str=input(\"请输入一个字符串\")\n",
    "i=0\n",
    "num=0\n",
    "while i+3<=len(Str):\n",
    "    print(Str[i],Str[i+1],Str[i+2])\n",
    "    a=ord(Str[i])\n",
    "    b=ord(Str[i+1])\n",
    "    c=ord(Str[i+2])\n",
    "    if (a+b>c)and(b+c>a)and(a+c>b):\n",
    "        num+=1\n",
    "        print(\"可以构成ASCII三角形\")\n",
    "    else:\n",
    "        print(\"不可以构成ASCII三角形\")\n",
    "    i+=3\n",
    "print(\"共%d个ASCII三角形\"%(num))"
   ]
  },
  {
   "cell_type": "code",
   "execution_count": null,
   "metadata": {},
   "outputs": [],
   "source": [
    "# 答案\n",
    "Str = input(\"输入字符串：\")\n",
    "count = 0\n",
    "for i in range(len(Str)//3):\n",
    "    value1 = ord(Str[3*i+0])\n",
    "    value2 = ord(Str[3*i+1])\n",
    "    value3 = ord(Str[3*i+2])\n",
    "    if (value1 + value2 > value3) and (value1 + value3 > value2) and (value2 + value3 > value1):\n",
    "        count += 1\n",
    "print(f'ASCII三角形个数为：{count}')"
   ]
  },
  {
   "cell_type": "markdown",
   "metadata": {},
   "source": [
    "#### 5. 课后练习\n",
    "\n",
    "* 课后练习1：\n",
    "\n",
    "已知`List = [['k', ['qwe', 20, {'k1': ['t', 3, '1']}, 89], 'ab']]`\n",
    "\n",
    "将其中的t改成s\n",
    "\n",
    "将其中的89改成890\n",
    "\n",
    "最后输出"
   ]
  },
  {
   "cell_type": "code",
   "execution_count": 4,
   "metadata": {},
   "outputs": [
    {
     "name": "stdout",
     "output_type": "stream",
     "text": [
      "[['k', ['qwe', 20, {'k1': ['s', 3, '1']}, 890], 'ab']]\n"
     ]
    }
   ],
   "source": [
    "#我的\n",
    "List=[['k',['qwe',20,{'k1':['t',3,'1']},89],'ab']]\n",
    "list1=List[0]\n",
    "list2=list1[1]\n",
    "dict1=list2[2]\n",
    "dict1['k1']=['s',3,'1']\n",
    "list2[3]=890\n",
    "print(List)\n"
   ]
  },
  {
   "cell_type": "code",
   "execution_count": 5,
   "metadata": {},
   "outputs": [
    {
     "name": "stdout",
     "output_type": "stream",
     "text": [
      "[['k', ['qwe', 20, {'k1': ['s', 3, '1']}, 890], 'ab']]\n"
     ]
    }
   ],
   "source": [
    "#答案\n",
    "#笑死了原来就是直接找啊\n",
    "List = [['k', ['qwe', 20, {'k1': ['t', 3, '1']}, 89], 'ab']]\n",
    "List[0][1][2]['k1'][0] = 's'#index可以连用\n",
    "List[0][1][3] = 890\n",
    "\n",
    "print(List)"
   ]
  },
  {
   "cell_type": "markdown",
   "metadata": {},
   "source": [
    "* 课后练习2：\n",
    "\n",
    "网站的cookies 一般是很多组 key-value对，有两种常见表达方式：\n",
    "\n",
    "- 字符串：`key1=value1; key2=value2; key3=value3`, 浏览器得到的一般这种形式\n",
    "\n",
    " - 字典: `{key1: value1, key2: value2, key3: value3}`\n",
    "\n",
    "以上两种形式可以相互转换\n",
    "\n",
    "任务：已知访问某网站得到的cookie是如下字符串，请将其转成字典，并输出；再将字典转化回字符串形式，并输出；验证最后得到的字符串是否跟原始字符串一样。\n",
    "\n",
    "\n",
    "```\n",
    "uuid_tt_dd=10_33968673990-1603251934820-241804; Hm_up_6bcd52f51e9b3dce32bec4a3997715ac=%7B%22islogin%22%3A%7B%22value%22%3A%220%22%2C%22scope%22%3A1%7D%2C%22isonline%22%3A%7B%22value%22%3A%220%22%2C%22scope%22%3A1%7D%2C%22isvip%22%3A%7B%22value%22%3A%220%22%2C%22scope%22%3A1%7D%7D; Hm_ct_6bcd52f51e9b3dce32bec4a3997715ac=6525*1*10_33968673990-1603251934820-241804; _ga=GA1.2.289946407.1603251938; c-login-auto=4; _gid=GA1.2.1307594592.1616769190; ssxmod_itna2=QqGx2DRiD=0=ite40LpO8D978Iy8grwBO4ODA=Wqq4D/3iDF2RiIZPApO4gxqHg8oTAQDcGYBj+O4R+A=i366MK+K3pcdr0P8XxQvyzYbF1M+jPrDDvGq/+Yj2XdKBnFN9I=DyK+nRowXCkvOGTtvI2Kje+jk8bjx5WqplRXKXRvk7qPDKMPDFqD2YiD; log_Id_click=14; firstDie=1; dc_session_id=10_1617335157718.461403; c_ref=https%3A//www.google.com/; c_first_ref=www.google.com\n",
    "```"
   ]
  },
  {
   "cell_type": "code",
   "execution_count": 21,
   "metadata": {},
   "outputs": [
    {
     "name": "stdout",
     "output_type": "stream",
     "text": [
      "[['uuid_tt_dd', '10_33968673990-1603251934820-241804']]\n",
      "[['uuid_tt_dd', '10_33968673990-1603251934820-241804'], [' Hm_up_6bcd52f51e9b3dce32bec4a3997715ac', '%7B%22islogin%22%3A%7B%22value%22%3A%220%22%2C%22scope%22%3A1%7D%2C%22isonline%22%3A%7B%22value%22%3A%220%22%2C%22scope%22%3A1%7D%2C%22isvip%22%3A%7B%22value%22%3A%220%22%2C%22scope%22%3A1%7D%7D']]\n",
      "[['uuid_tt_dd', '10_33968673990-1603251934820-241804'], [' Hm_up_6bcd52f51e9b3dce32bec4a3997715ac', '%7B%22islogin%22%3A%7B%22value%22%3A%220%22%2C%22scope%22%3A1%7D%2C%22isonline%22%3A%7B%22value%22%3A%220%22%2C%22scope%22%3A1%7D%2C%22isvip%22%3A%7B%22value%22%3A%220%22%2C%22scope%22%3A1%7D%7D'], [' Hm_ct_6bcd52f51e9b3dce32bec4a3997715ac', '6525*1*10_33968673990-1603251934820-241804']]\n",
      "[['uuid_tt_dd', '10_33968673990-1603251934820-241804'], [' Hm_up_6bcd52f51e9b3dce32bec4a3997715ac', '%7B%22islogin%22%3A%7B%22value%22%3A%220%22%2C%22scope%22%3A1%7D%2C%22isonline%22%3A%7B%22value%22%3A%220%22%2C%22scope%22%3A1%7D%2C%22isvip%22%3A%7B%22value%22%3A%220%22%2C%22scope%22%3A1%7D%7D'], [' Hm_ct_6bcd52f51e9b3dce32bec4a3997715ac', '6525*1*10_33968673990-1603251934820-241804'], [' _ga', 'GA1.2.289946407.1603251938']]\n",
      "[['uuid_tt_dd', '10_33968673990-1603251934820-241804'], [' Hm_up_6bcd52f51e9b3dce32bec4a3997715ac', '%7B%22islogin%22%3A%7B%22value%22%3A%220%22%2C%22scope%22%3A1%7D%2C%22isonline%22%3A%7B%22value%22%3A%220%22%2C%22scope%22%3A1%7D%2C%22isvip%22%3A%7B%22value%22%3A%220%22%2C%22scope%22%3A1%7D%7D'], [' Hm_ct_6bcd52f51e9b3dce32bec4a3997715ac', '6525*1*10_33968673990-1603251934820-241804'], [' _ga', 'GA1.2.289946407.1603251938'], [' c-login-auto', '4']]\n",
      "[['uuid_tt_dd', '10_33968673990-1603251934820-241804'], [' Hm_up_6bcd52f51e9b3dce32bec4a3997715ac', '%7B%22islogin%22%3A%7B%22value%22%3A%220%22%2C%22scope%22%3A1%7D%2C%22isonline%22%3A%7B%22value%22%3A%220%22%2C%22scope%22%3A1%7D%2C%22isvip%22%3A%7B%22value%22%3A%220%22%2C%22scope%22%3A1%7D%7D'], [' Hm_ct_6bcd52f51e9b3dce32bec4a3997715ac', '6525*1*10_33968673990-1603251934820-241804'], [' _ga', 'GA1.2.289946407.1603251938'], [' c-login-auto', '4'], [' _gid', 'GA1.2.1307594592.1616769190']]\n",
      "[['uuid_tt_dd', '10_33968673990-1603251934820-241804'], [' Hm_up_6bcd52f51e9b3dce32bec4a3997715ac', '%7B%22islogin%22%3A%7B%22value%22%3A%220%22%2C%22scope%22%3A1%7D%2C%22isonline%22%3A%7B%22value%22%3A%220%22%2C%22scope%22%3A1%7D%2C%22isvip%22%3A%7B%22value%22%3A%220%22%2C%22scope%22%3A1%7D%7D'], [' Hm_ct_6bcd52f51e9b3dce32bec4a3997715ac', '6525*1*10_33968673990-1603251934820-241804'], [' _ga', 'GA1.2.289946407.1603251938'], [' c-login-auto', '4'], [' _gid', 'GA1.2.1307594592.1616769190'], [' ssxmod_itna2', 'QqGx2DRiD']]\n",
      "[['uuid_tt_dd', '10_33968673990-1603251934820-241804'], [' Hm_up_6bcd52f51e9b3dce32bec4a3997715ac', '%7B%22islogin%22%3A%7B%22value%22%3A%220%22%2C%22scope%22%3A1%7D%2C%22isonline%22%3A%7B%22value%22%3A%220%22%2C%22scope%22%3A1%7D%2C%22isvip%22%3A%7B%22value%22%3A%220%22%2C%22scope%22%3A1%7D%7D'], [' Hm_ct_6bcd52f51e9b3dce32bec4a3997715ac', '6525*1*10_33968673990-1603251934820-241804'], [' _ga', 'GA1.2.289946407.1603251938'], [' c-login-auto', '4'], [' _gid', 'GA1.2.1307594592.1616769190'], [' ssxmod_itna2', 'QqGx2DRiD'], ['0', 'ite40LpO8D978Iy8grwBO4ODA']]\n",
      "[['uuid_tt_dd', '10_33968673990-1603251934820-241804'], [' Hm_up_6bcd52f51e9b3dce32bec4a3997715ac', '%7B%22islogin%22%3A%7B%22value%22%3A%220%22%2C%22scope%22%3A1%7D%2C%22isonline%22%3A%7B%22value%22%3A%220%22%2C%22scope%22%3A1%7D%2C%22isvip%22%3A%7B%22value%22%3A%220%22%2C%22scope%22%3A1%7D%7D'], [' Hm_ct_6bcd52f51e9b3dce32bec4a3997715ac', '6525*1*10_33968673990-1603251934820-241804'], [' _ga', 'GA1.2.289946407.1603251938'], [' c-login-auto', '4'], [' _gid', 'GA1.2.1307594592.1616769190'], [' ssxmod_itna2', 'QqGx2DRiD'], ['0', 'ite40LpO8D978Iy8grwBO4ODA'], ['Wqq4D/3iDF2RiIZPApO4gxqHg8oTAQDcGYBj+O4R+A', 'i366MK+K3pcdr0P8XxQvyzYbF1M+jPrDDvGq/+Yj2XdKBnFN9I']]\n",
      "[['uuid_tt_dd', '10_33968673990-1603251934820-241804'], [' Hm_up_6bcd52f51e9b3dce32bec4a3997715ac', '%7B%22islogin%22%3A%7B%22value%22%3A%220%22%2C%22scope%22%3A1%7D%2C%22isonline%22%3A%7B%22value%22%3A%220%22%2C%22scope%22%3A1%7D%2C%22isvip%22%3A%7B%22value%22%3A%220%22%2C%22scope%22%3A1%7D%7D'], [' Hm_ct_6bcd52f51e9b3dce32bec4a3997715ac', '6525*1*10_33968673990-1603251934820-241804'], [' _ga', 'GA1.2.289946407.1603251938'], [' c-login-auto', '4'], [' _gid', 'GA1.2.1307594592.1616769190'], [' ssxmod_itna2', 'QqGx2DRiD'], ['0', 'ite40LpO8D978Iy8grwBO4ODA'], ['Wqq4D/3iDF2RiIZPApO4gxqHg8oTAQDcGYBj+O4R+A', 'i366MK+K3pcdr0P8XxQvyzYbF1M+jPrDDvGq/+Yj2XdKBnFN9I'], ['DyK+nRowXCkvOGTtvI2Kje+jk8bjx5WqplRXKXRvk7qPDKMPDFqD2YiD', ' log_Id_click']]\n",
      "[['uuid_tt_dd', '10_33968673990-1603251934820-241804'], [' Hm_up_6bcd52f51e9b3dce32bec4a3997715ac', '%7B%22islogin%22%3A%7B%22value%22%3A%220%22%2C%22scope%22%3A1%7D%2C%22isonline%22%3A%7B%22value%22%3A%220%22%2C%22scope%22%3A1%7D%2C%22isvip%22%3A%7B%22value%22%3A%220%22%2C%22scope%22%3A1%7D%7D'], [' Hm_ct_6bcd52f51e9b3dce32bec4a3997715ac', '6525*1*10_33968673990-1603251934820-241804'], [' _ga', 'GA1.2.289946407.1603251938'], [' c-login-auto', '4'], [' _gid', 'GA1.2.1307594592.1616769190'], [' ssxmod_itna2', 'QqGx2DRiD'], ['0', 'ite40LpO8D978Iy8grwBO4ODA'], ['Wqq4D/3iDF2RiIZPApO4gxqHg8oTAQDcGYBj+O4R+A', 'i366MK+K3pcdr0P8XxQvyzYbF1M+jPrDDvGq/+Yj2XdKBnFN9I'], ['DyK+nRowXCkvOGTtvI2Kje+jk8bjx5WqplRXKXRvk7qPDKMPDFqD2YiD', ' log_Id_click'], ['14', ' firstDie']]\n",
      "[['uuid_tt_dd', '10_33968673990-1603251934820-241804'], [' Hm_up_6bcd52f51e9b3dce32bec4a3997715ac', '%7B%22islogin%22%3A%7B%22value%22%3A%220%22%2C%22scope%22%3A1%7D%2C%22isonline%22%3A%7B%22value%22%3A%220%22%2C%22scope%22%3A1%7D%2C%22isvip%22%3A%7B%22value%22%3A%220%22%2C%22scope%22%3A1%7D%7D'], [' Hm_ct_6bcd52f51e9b3dce32bec4a3997715ac', '6525*1*10_33968673990-1603251934820-241804'], [' _ga', 'GA1.2.289946407.1603251938'], [' c-login-auto', '4'], [' _gid', 'GA1.2.1307594592.1616769190'], [' ssxmod_itna2', 'QqGx2DRiD'], ['0', 'ite40LpO8D978Iy8grwBO4ODA'], ['Wqq4D/3iDF2RiIZPApO4gxqHg8oTAQDcGYBj+O4R+A', 'i366MK+K3pcdr0P8XxQvyzYbF1M+jPrDDvGq/+Yj2XdKBnFN9I'], ['DyK+nRowXCkvOGTtvI2Kje+jk8bjx5WqplRXKXRvk7qPDKMPDFqD2YiD', ' log_Id_click'], ['14', ' firstDie'], ['1', ' dc_session_id']]\n",
      "[['uuid_tt_dd', '10_33968673990-1603251934820-241804'], [' Hm_up_6bcd52f51e9b3dce32bec4a3997715ac', '%7B%22islogin%22%3A%7B%22value%22%3A%220%22%2C%22scope%22%3A1%7D%2C%22isonline%22%3A%7B%22value%22%3A%220%22%2C%22scope%22%3A1%7D%2C%22isvip%22%3A%7B%22value%22%3A%220%22%2C%22scope%22%3A1%7D%7D'], [' Hm_ct_6bcd52f51e9b3dce32bec4a3997715ac', '6525*1*10_33968673990-1603251934820-241804'], [' _ga', 'GA1.2.289946407.1603251938'], [' c-login-auto', '4'], [' _gid', 'GA1.2.1307594592.1616769190'], [' ssxmod_itna2', 'QqGx2DRiD'], ['0', 'ite40LpO8D978Iy8grwBO4ODA'], ['Wqq4D/3iDF2RiIZPApO4gxqHg8oTAQDcGYBj+O4R+A', 'i366MK+K3pcdr0P8XxQvyzYbF1M+jPrDDvGq/+Yj2XdKBnFN9I'], ['DyK+nRowXCkvOGTtvI2Kje+jk8bjx5WqplRXKXRvk7qPDKMPDFqD2YiD', ' log_Id_click'], ['14', ' firstDie'], ['1', ' dc_session_id'], ['10_1617335157718.461403', ' c_ref']]\n",
      "[['uuid_tt_dd', '10_33968673990-1603251934820-241804'], [' Hm_up_6bcd52f51e9b3dce32bec4a3997715ac', '%7B%22islogin%22%3A%7B%22value%22%3A%220%22%2C%22scope%22%3A1%7D%2C%22isonline%22%3A%7B%22value%22%3A%220%22%2C%22scope%22%3A1%7D%2C%22isvip%22%3A%7B%22value%22%3A%220%22%2C%22scope%22%3A1%7D%7D'], [' Hm_ct_6bcd52f51e9b3dce32bec4a3997715ac', '6525*1*10_33968673990-1603251934820-241804'], [' _ga', 'GA1.2.289946407.1603251938'], [' c-login-auto', '4'], [' _gid', 'GA1.2.1307594592.1616769190'], [' ssxmod_itna2', 'QqGx2DRiD'], ['0', 'ite40LpO8D978Iy8grwBO4ODA'], ['Wqq4D/3iDF2RiIZPApO4gxqHg8oTAQDcGYBj+O4R+A', 'i366MK+K3pcdr0P8XxQvyzYbF1M+jPrDDvGq/+Yj2XdKBnFN9I'], ['DyK+nRowXCkvOGTtvI2Kje+jk8bjx5WqplRXKXRvk7qPDKMPDFqD2YiD', ' log_Id_click'], ['14', ' firstDie'], ['1', ' dc_session_id'], ['10_1617335157718.461403', ' c_ref'], ['https%3A//www.google.com/', ' c_first_ref']]\n",
      "[['uuid_tt_dd', '10_33968673990-1603251934820-241804'], [' Hm_up_6bcd52f51e9b3dce32bec4a3997715ac', '%7B%22islogin%22%3A%7B%22value%22%3A%220%22%2C%22scope%22%3A1%7D%2C%22isonline%22%3A%7B%22value%22%3A%220%22%2C%22scope%22%3A1%7D%2C%22isvip%22%3A%7B%22value%22%3A%220%22%2C%22scope%22%3A1%7D%7D'], [' Hm_ct_6bcd52f51e9b3dce32bec4a3997715ac', '6525*1*10_33968673990-1603251934820-241804'], [' _ga', 'GA1.2.289946407.1603251938'], [' c-login-auto', '4'], [' _gid', 'GA1.2.1307594592.1616769190'], [' ssxmod_itna2', 'QqGx2DRiD'], ['0', 'ite40LpO8D978Iy8grwBO4ODA'], ['Wqq4D/3iDF2RiIZPApO4gxqHg8oTAQDcGYBj+O4R+A', 'i366MK+K3pcdr0P8XxQvyzYbF1M+jPrDDvGq/+Yj2XdKBnFN9I'], ['DyK+nRowXCkvOGTtvI2Kje+jk8bjx5WqplRXKXRvk7qPDKMPDFqD2YiD', ' log_Id_click'], ['14', ' firstDie'], ['1', ' dc_session_id'], ['10_1617335157718.461403', ' c_ref'], ['https%3A//www.google.com/', ' c_first_ref']]\n"
     ]
    }
   ],
   "source": [
    "#我的\n",
    "cookie='''\n",
    "uuid_tt_dd=10_33968673990-1603251934820-241804; \n",
    "Hm_up_6bcd52f51e9b3dce32bec4a3997715ac=%7B%22islogin%22%3A%7B%22value%22%3A%220%22%2C%22scope%22%3A1%7D%2C%22iso\n",
    "nline%22%3A%7B%22value%22%3A%220%22%2C%22scope%22%3A1%7D%2C%22isvip%22%3A%7B%22value%22%3A%220%22%2C%22scope%22%3\n",
    "A1%7D%7D; Hm_ct_6bcd52f51e9b3dce32bec4a3997715ac=6525*1*10_33968673990-1603251934820-241804; \n",
    "_ga=GA1.2.289946407.1603251938; c-login-auto=4; _gid=GA1.2.1307594592.1616769190; \n",
    "ssxmod_itna2=QqGx2DRiD=0=ite40LpO8D978Iy8grwBO4ODA=Wqq4D/3iDF2RiIZPApO4gxqHg8oTAQDcGYBj+O4R+A=i366MK+K3pc\n",
    "dr0P8XxQvyzYbF1M+jPrDDvGq/+Yj2XdKBnFN9I=DyK+nRowXCkvOGTtvI2Kje+jk8bjx5WqplRXKXRvk7qPDKMPDFqD2YiD; \n",
    "log_Id_click=14; firstDie=1; dc_session_id=10_1617335157718.461403; c_ref=https%3A//www.google.com/; c_first_ref=www.google.com\n",
    "'''\n",
    "info=cookie.replace(';','=').split('=')\n",
    "i=0\n",
    "for item in info:\n",
    "    item=item.strip('\\n')\n",
    "    item=item.replace('\\n','')\n",
    "    info[i]=item\n",
    "    i+=1\n",
    "j=0\n",
    "list1=[]\n",
    "while j<=(len(info)-2):\n",
    "    list1.append([info[j],info[j+1]])\n",
    "    print(list1)\n",
    "    j+=2\n",
    "\n",
    "    \n",
    "\n",
    "print(list1)\n"
   ]
  },
  {
   "cell_type": "code",
   "execution_count": 22,
   "metadata": {},
   "outputs": [
    {
     "name": "stdout",
     "output_type": "stream",
     "text": [
      "{'uuid_tt_dd': '10_33968673990-1603251934820-241804', 'Hm_up_6bcd52f51e9b3dce32bec4a3997715ac': '%7B%22islogin%22%3A%7B%22value%22%3A%220%22%2C%22scope%22%3A1%7D%2C%22isonline%22%3A%7B%22value%22%3A%220%22%2C%22scope%22%3A1%7D%2C%22isvip%22%3A%7B%22value%22%3A%220%22%2C%22scope%22%3A1%7D%7D', 'Hm_ct_6bcd52f51e9b3dce32bec4a3997715ac': '6525*1*10_33968673990-1603251934820-241804', '_ga': 'GA1.2.289946407.1603251938', 'c-login-auto': '4', '_gid': 'GA1.2.1307594592.1616769190', 'ssxmod_itna2': 'QqGx2DRiD=0=ite40LpO8D978Iy8grwBO4ODA=Wqq4D/3iDF2RiIZPApO4gxqHg8oTAQDcGYBj+O4R+A=i366MK+K3pcdr0P8XxQvyzYbF1M+jPrDDvGq/+Yj2XdKBnFN9I=DyK+nRowXCkvOGTtvI2Kje+jk8bjx5WqplRXKXRvk7qPDKMPDFqD2YiD', 'log_Id_click': '14', 'firstDie': '1', 'dc_session_id': '10_1617335157718.461403', 'c_ref': 'https%3A//www.google.com/', 'c_first_ref': 'www.google.com'}\n",
      "-----\n",
      "True\n"
     ]
    }
   ],
   "source": [
    "#答案\n",
    "cookie_str = '''uuid_tt_dd=10_33968673990-1603251934820-241804; Hm_up_6bcd52f51e9b3dce32bec4a3997715ac=%7B%22islogin%22%3A%7B%22value%22%3A%220%22%2C%22scope%22%3A1%7D%2C%22isonline%22%3A%7B%22value%22%3A%220%22%2C%22scope%22%3A1%7D%2C%22isvip%22%3A%7B%22value%22%3A%220%22%2C%22scope%22%3A1%7D%7D; Hm_ct_6bcd52f51e9b3dce32bec4a3997715ac=6525*1*10_33968673990-1603251934820-241804; _ga=GA1.2.289946407.1603251938; c-login-auto=4; _gid=GA1.2.1307594592.1616769190; ssxmod_itna2=QqGx2DRiD=0=ite40LpO8D978Iy8grwBO4ODA=Wqq4D/3iDF2RiIZPApO4gxqHg8oTAQDcGYBj+O4R+A=i366MK+K3pcdr0P8XxQvyzYbF1M+jPrDDvGq/+Yj2XdKBnFN9I=DyK+nRowXCkvOGTtvI2Kje+jk8bjx5WqplRXKXRvk7qPDKMPDFqD2YiD; log_Id_click=14; firstDie=1; dc_session_id=10_1617335157718.461403; c_ref=https%3A//www.google.com/; c_first_ref=www.google.com'''\n",
    "\n",
    "# 将字符串转换成字典形式\n",
    "cookie_dict = {} \n",
    "for item in cookie_str.split('; '):\n",
    "    # 方法一：直接使用maxsplit = 1\n",
    "    left, right = item.split('=', maxsplit=1) # 因为可能有多个等号。a=b=c -> 'a':'b=c', 所以最多split一次\n",
    "    cookie_dict[left] = right#学习 字典创建的又一方式\n",
    "\n",
    "    # 方法二：如果不用maxsplit， 则需要把第一个等号后面的所有等号都连接起来\n",
    "    # splited = item.split('=') \n",
    "    # left = splited[0]\n",
    "    # right = '='.join(splited[1:])\n",
    "    # cookie_dict[left] = right\n",
    "print(cookie_dict) \n",
    "\n",
    "# 将字典形式转换回字符串\n",
    "print('-----')\n",
    "# 思路：先用等号连接key, value。 然后用'; '连接每一个（逆过程）\n",
    "reconstructed_Str = '; '.join(['%s=%s'%(left,right) for left, right in cookie_dict.items()])\n",
    "print(reconstructed_Str == cookie_str)"
   ]
  },
  {
   "cell_type": "markdown",
   "metadata": {},
   "source": [
    "### 6课堂练习：打印乘法表\n",
    "\n",
    "编写函数`print_line(n)`能打印如下乘法表的第`n`行\n",
    "\n",
    "编写函数`print_table()`调用`print_line(n)`并打印如下乘法表，\n",
    "\n",
    "```\n",
    "1*1 = 1\n",
    "1*2 = 2  2*2 = 4\n",
    "1*3 = 3  2*3 = 6  3*3 = 9\n",
    "1*4 = 4  2*4 = 8  3*4 = 12  4*4 = 16\n",
    "1*5 = 5  2*5 = 10  3*5 = 15  4*5 = 20  5*5 = 25\n",
    "1*6 = 6  2*6 = 12  3*6 = 18  4*6 = 24  5*6 = 30  6*6 = 36\n",
    "1*7 = 7  2*7 = 14  3*7 = 21  4*7 = 28  5*7 = 35  6*7 = 42  7*7 = 49\n",
    "1*8 = 8  2*8 = 16  3*8 = 24  4*8 = 32  5*8 = 40  6*8 = 48  7*8 = 56  8*8 = 64\n",
    "1*9 = 9  2*9 = 18  3*9 = 27  4*9 = 36  5*9 = 45  6*9 = 54  7*9 = 63  8*9 = 72  9*9 = 81\n",
    "```"
   ]
  },
  {
   "cell_type": "code",
   "execution_count": 10,
   "metadata": {},
   "outputs": [
    {
     "name": "stdout",
     "output_type": "stream",
     "text": [
      "1 * 1 = 1 \n",
      "\n",
      "1 * 2 = 2 2 * 2 = 4 \n",
      "\n",
      "1 * 3 = 3 2 * 3 = 6 3 * 3 = 9 \n",
      "\n",
      "1 * 4 = 4 2 * 4 = 8 3 * 4 = 12 4 * 4 = 16 \n",
      "\n",
      "1 * 5 = 5 2 * 5 = 10 3 * 5 = 15 4 * 5 = 20 5 * 5 = 25 \n",
      "\n",
      "1 * 6 = 6 2 * 6 = 12 3 * 6 = 18 4 * 6 = 24 5 * 6 = 30 6 * 6 = 36 \n",
      "\n",
      "1 * 7 = 7 2 * 7 = 14 3 * 7 = 21 4 * 7 = 28 5 * 7 = 35 6 * 7 = 42 7 * 7 = 49 \n",
      "\n",
      "1 * 8 = 8 2 * 8 = 16 3 * 8 = 24 4 * 8 = 32 5 * 8 = 40 6 * 8 = 48 7 * 8 = 56 8 * 8 = 64 \n",
      "\n",
      "1 * 9 = 9 2 * 9 = 18 3 * 9 = 27 4 * 9 = 36 5 * 9 = 45 6 * 9 = 54 7 * 9 = 63 8 * 9 = 72 9 * 9 = 81 \n",
      "\n"
     ]
    }
   ],
   "source": [
    "#我的\n",
    "def print_line(n):\n",
    "    for i in range(1,n+1):\n",
    "        print(i,\"*\",n,\"=\",i*n,\"\",end=\"\")\n",
    "def print_table():\n",
    "    for i in range(1,10):\n",
    "        print_line(i)\n",
    "        print(\"\\n\")\n",
    "        \n",
    "print_table()"
   ]
  },
  {
   "cell_type": "code",
   "execution_count": 15,
   "metadata": {},
   "outputs": [
    {
     "name": "stdout",
     "output_type": "stream",
     "text": [
      "1*1 = 1\n",
      "1*2 = 2  2*2 = 4\n",
      "1*3 = 3  2*3 = 6  3*3 = 9\n",
      "1*4 = 4  2*4 = 8  3*4 = 12  4*4 = 16\n",
      "1*5 = 5  2*5 = 10  3*5 = 15  4*5 = 20  5*5 = 25\n",
      "1*6 = 6  2*6 = 12  3*6 = 18  4*6 = 24  5*6 = 30  6*6 = 36\n",
      "1*7 = 7  2*7 = 14  3*7 = 21  4*7 = 28  5*7 = 35  6*7 = 42  7*7 = 49\n",
      "1*8 = 8  2*8 = 16  3*8 = 24  4*8 = 32  5*8 = 40  6*8 = 48  7*8 = 56  8*8 = 64\n",
      "1*9 = 9  2*9 = 18  3*9 = 27  4*9 = 36  5*9 = 45  6*9 = 54  7*9 = 63  8*9 = 72  9*9 = 81\n"
     ]
    }
   ],
   "source": [
    "#答案\n",
    "def print_line(line_number):\n",
    "    lst = []\n",
    "    for i in range(1, line_number+1):\n",
    "        part = \"%d*%d = %d\"%(i, line_number, i*line_number)\n",
    "        #%d号可以多次使用\n",
    "        lst.append(part)\n",
    "\n",
    "    print(\"  \".join(lst))\n",
    "\n",
    "\n",
    "def print_table():\n",
    "    for i in range(1, 10):\n",
    "        print_line(i)\n",
    "\n",
    "\n",
    "print_table()"
   ]
  },
  {
   "cell_type": "markdown",
   "metadata": {},
   "source": [
    "* 课后练习1\n",
    "\n",
    "函数`enumerate()`可以在遍历可迭代对象的时候，额外产生一个从`start`开始的计数器，其原理是将计数器组成的列表和原来的可迭代对象组装成新的列表。\n",
    "\n",
    "如`list(enumerate(['a','b','c'], start=1))`的结果是`[(1, 'a'), (2, 'b'), (3, 'c')]`\n",
    "\n",
    "请实现自己的`my_enumerate()`函数，具有与`enumerate()`一样的功能。`my_enumerate()`函数接受两个参数`iterable`和`start`，其中`start`默认为`0`，最后返回一个列表。\n",
    "\n",
    "最后，通过将以下代码的`enumerate()`替换成`my_enumerate()`，测试你写的函数：\n",
    "```\n",
    "scores = {\n",
    "    '52001':90,\n",
    "    '52002':78,\n",
    "    '52003':88,\n",
    "}\n",
    "\n",
    "for i, item in enumerate(scores.items(), start=1):\n",
    "    print('%d-th student: ID %s, score %d'%(i, item[0], item[1]))\n",
    "```"
   ]
  },
  {
   "cell_type": "code",
   "execution_count": 14,
   "metadata": {},
   "outputs": [
    {
     "ename": "KeyError",
     "evalue": "0",
     "output_type": "error",
     "traceback": [
      "\u001b[1;31m---------------------------------------------------------------------------\u001b[0m",
      "\u001b[1;31mKeyError\u001b[0m                                  Traceback (most recent call last)",
      "Cell \u001b[1;32mIn[14], line 11\u001b[0m\n\u001b[0;32m      8\u001b[0m     \u001b[38;5;28;01mreturn\u001b[39;00m list2\n\u001b[0;32m     10\u001b[0m scores\u001b[38;5;241m=\u001b[39m{\u001b[38;5;124m'\u001b[39m\u001b[38;5;124m52001\u001b[39m\u001b[38;5;124m'\u001b[39m:\u001b[38;5;241m90\u001b[39m,\u001b[38;5;124m'\u001b[39m\u001b[38;5;124m52002\u001b[39m\u001b[38;5;124m'\u001b[39m:\u001b[38;5;241m78\u001b[39m,\u001b[38;5;124m'\u001b[39m\u001b[38;5;124m52003\u001b[39m\u001b[38;5;124m'\u001b[39m:\u001b[38;5;241m88\u001b[39m}\n\u001b[1;32m---> 11\u001b[0m \u001b[43mmy_enumerate\u001b[49m\u001b[43m(\u001b[49m\u001b[43mscores\u001b[49m\u001b[43m,\u001b[49m\u001b[43mstart\u001b[49m\u001b[38;5;241;43m=\u001b[39;49m\u001b[38;5;241;43m0\u001b[39;49m\u001b[43m)\u001b[49m\n",
      "Cell \u001b[1;32mIn[14], line 6\u001b[0m, in \u001b[0;36mmy_enumerate\u001b[1;34m(iterable, start)\u001b[0m\n\u001b[0;32m      4\u001b[0m     list1\u001b[38;5;241m=\u001b[39m[]\n\u001b[0;32m      5\u001b[0m     list1\u001b[38;5;241m.\u001b[39mappend(i)\n\u001b[1;32m----> 6\u001b[0m     list1\u001b[38;5;241m.\u001b[39mappend(\u001b[43miterable\u001b[49m\u001b[43m[\u001b[49m\u001b[43mi\u001b[49m\u001b[43m]\u001b[49m)\n\u001b[0;32m      7\u001b[0m     list2\u001b[38;5;241m.\u001b[39mappend(list1)\n\u001b[0;32m      8\u001b[0m \u001b[38;5;28;01mreturn\u001b[39;00m list2\n",
      "\u001b[1;31mKeyError\u001b[0m: 0"
     ]
    }
   ],
   "source": [
    "#我的\n",
    "def my_enumerate(iterable,start):\n",
    "    list2=[]\n",
    "    for i in range(0,len(iterable)+1):\n",
    "        list1=[]\n",
    "        list1.append(i)\n",
    "        list1.append(iterable[i])\n",
    "        list2.append(list1)\n",
    "    return list2\n",
    "\n",
    "scores={'52001':90,'52002':78,'52003':88}\n",
    "my_enumerate(scores,start=0)"
   ]
  },
  {
   "cell_type": "code",
   "execution_count": 16,
   "metadata": {},
   "outputs": [],
   "source": [
    "#答案\n",
    "def my_enumerate(iterable, start = 0):\n",
    "    results = [] # 用于保存结果\n",
    "    counter = start #计数器\n",
    "    for item in iterable:\n",
    "        #对于可变数据类型，不是所有都可以靠index检索，例如字典就必须通过key，所以用item遍历是更好的方法\n",
    "        results.append((counter, item))#元组保存每一组\n",
    "        counter += 1\n",
    "    return results"
   ]
  },
  {
   "cell_type": "code",
   "execution_count": 19,
   "metadata": {},
   "outputs": [
    {
     "name": "stdout",
     "output_type": "stream",
     "text": [
      "1-th student: ID 52001, score 90\n",
      "2-th student: ID 52002, score 78\n",
      "3-th student: ID 52003, score 88\n"
     ]
    }
   ],
   "source": [
    "# 内置的enumerate函数\n",
    "scores = {\n",
    "    '52001':90,\n",
    "    '52002':78,\n",
    "    '52003':88,\n",
    "}\n",
    "for i, item in enumerate(scores.items(), start=1):\n",
    "    print('%d-th student: ID %s, score %d'%(i, item[0], item[1]))"
   ]
  },
  {
   "cell_type": "code",
   "execution_count": 17,
   "metadata": {},
   "outputs": [
    {
     "data": {
      "text/plain": [
       "[(4, 'a'), (5, 'b'), (6, 'c')]"
      ]
     },
     "execution_count": 17,
     "metadata": {},
     "output_type": "execute_result"
    }
   ],
   "source": [
    "# 测试下自己写的enumerate函数\n",
    "my_enumerate(['a','b','c'], start=4)"
   ]
  },
  {
   "cell_type": "code",
   "execution_count": 22,
   "metadata": {},
   "outputs": [
    {
     "name": "stdout",
     "output_type": "stream",
     "text": [
      "dict_items([('52001', 90), ('52002', 78), ('52003', 88)])\n",
      "[(1, ('52001', 90)), (2, ('52002', 78)), (3, ('52003', 88))]\n",
      "1-th student: ID 52001, score 90\n",
      "2-th student: ID 52002, score 78\n",
      "3-th student: ID 52003, score 88\n"
     ]
    }
   ],
   "source": [
    "# 实际代码使用自己写的enumerate函数\n",
    "scores = {\n",
    "    '52001':90,\n",
    "    '52002':78,\n",
    "    '52003':88,\n",
    "}\n",
    "#.items()返回所有（key，value)的元组\n",
    "print(my_enumerate(scores.items(), start=1))\n",
    "for i, item in my_enumerate(scores.items(), start=1):\n",
    "    print('%d-th student: ID %s, score %d'%(i, item[0], item[1]))"
   ]
  },
  {
   "cell_type": "markdown",
   "metadata": {},
   "source": [
    "### 7. 课堂&课后练习"
   ]
  },
  {
   "cell_type": "markdown",
   "metadata": {},
   "source": [
    "* 例子一：\n",
    "\n",
    "1. 创建一个名为 `Employee`的类\n",
    "    * 其中包括一个不断递增的类属性`empCount`，该变量用来记录一共创建了多少个 Employee实例\n",
    "    * (实例)属性包括： `name`, `salary`\n",
    "    * (实例)方法包括：\n",
    "        * `displayCount` (作用是打印出一共有多少个员工)\n",
    "        * 重写`print`函数，用来显示当前员工实例的姓名和工资\n",
    "    * 创建两个Employee类的实例，赋予不同的姓名和工资，并打印各自的信息；打印出当前一共有多少个员工。\n",
    "2. 创建一个子类 `Manager`，其继承于父类`Employee` \n",
    "    * 该子类包括新的属性 `department`\n",
    "    * 该子类包括新的方法\n",
    "        * 招聘一个新员工 `hire`: 打印提示信息，并打印该员工信息\n",
    "        * 解雇一个员工 `fire`：打印提示信息，并打印该员工信息，同时`empCount -= 1`\n",
    "        * 重写 `print`函数，来输出经理的姓名、工资、部门\n",
    "    * 创建一个子类 Manager的实例，并测试上述所创建的三个方法"
   ]
  },
  {
   "cell_type": "code",
   "execution_count": 3,
   "metadata": {},
   "outputs": [
    {
     "name": "stdout",
     "output_type": "stream",
     "text": [
      "姓名：lmy salary:500000\n",
      "姓名：sjf salary:10000\n",
      "一共有2个员工\n"
     ]
    },
    {
     "ename": "TypeError",
     "evalue": "object.__init__() takes exactly one argument (the instance to initialize)",
     "output_type": "error",
     "traceback": [
      "\u001b[1;31m---------------------------------------------------------------------------\u001b[0m",
      "\u001b[1;31mTypeError\u001b[0m                                 Traceback (most recent call last)",
      "Cell \u001b[1;32mIn[3], line 24\u001b[0m\n\u001b[0;32m     22\u001b[0m     \u001b[38;5;28;01mdef\u001b[39;00m \u001b[38;5;21mhire\u001b[39m(\u001b[38;5;28mself\u001b[39m):\n\u001b[0;32m     23\u001b[0m         \u001b[38;5;28mprint\u001b[39m(\u001b[38;5;124m'\u001b[39m\u001b[38;5;124m姓名：\u001b[39m\u001b[38;5;132;01m%s\u001b[39;00m\u001b[38;5;124m salary:\u001b[39m\u001b[38;5;132;01m%d\u001b[39;00m\u001b[38;5;124m department:\u001b[39m\u001b[38;5;132;01m%d\u001b[39;00m\u001b[38;5;124m'\u001b[39m\u001b[38;5;241m%\u001b[39m(\u001b[38;5;28mself\u001b[39m\u001b[38;5;241m.\u001b[39mname,\u001b[38;5;28mself\u001b[39m\u001b[38;5;241m.\u001b[39msalary,\u001b[38;5;28mself\u001b[39m\u001b[38;5;241m.\u001b[39mdepartment))\n\u001b[1;32m---> 24\u001b[0m emp3\u001b[38;5;241m=\u001b[39m\u001b[43mManager\u001b[49m\u001b[43m(\u001b[49m\u001b[38;5;124;43m'\u001b[39;49m\u001b[38;5;124;43mlmy\u001b[39;49m\u001b[38;5;124;43m'\u001b[39;49m\u001b[43m,\u001b[49m\u001b[38;5;241;43m500000\u001b[39;49m\u001b[43m,\u001b[49m\u001b[38;5;124;43m'\u001b[39;49m\u001b[38;5;124;43mibd\u001b[39;49m\u001b[38;5;124;43m'\u001b[39;49m\u001b[43m)\u001b[49m\n\u001b[0;32m     25\u001b[0m emp3\u001b[38;5;241m.\u001b[39mhire()       \n",
      "Cell \u001b[1;32mIn[3], line 20\u001b[0m, in \u001b[0;36mManager.__init__\u001b[1;34m(self, name, salary, department)\u001b[0m\n\u001b[0;32m     19\u001b[0m \u001b[38;5;28;01mdef\u001b[39;00m \u001b[38;5;21m__init__\u001b[39m(\u001b[38;5;28mself\u001b[39m,name,salary,department):\n\u001b[1;32m---> 20\u001b[0m     \u001b[38;5;28;43msuper\u001b[39;49m\u001b[43m(\u001b[49m\u001b[43m)\u001b[49m\u001b[38;5;241;43m.\u001b[39;49m\u001b[38;5;21;43m__init__\u001b[39;49m\u001b[43m(\u001b[49m\u001b[43mname\u001b[49m\u001b[43m,\u001b[49m\u001b[43msalary\u001b[49m\u001b[43m)\u001b[49m\n\u001b[0;32m     21\u001b[0m     \u001b[38;5;28mself\u001b[39m\u001b[38;5;241m.\u001b[39mdepartment\u001b[38;5;241m=\u001b[39mdepartment\n",
      "\u001b[1;31mTypeError\u001b[0m: object.__init__() takes exactly one argument (the instance to initialize)"
     ]
    }
   ],
   "source": [
    "#我的\n",
    "class Empolyee():\n",
    "    empCount=0\n",
    "    def __init__(self,name,salary):\n",
    "        self.name=name\n",
    "        self.salary=salary\n",
    "        Empolyee.empCount+=1\n",
    "    def displayCount(self,other):\n",
    "        print('一共有%d个员工'%(Empolyee.empCount))\n",
    "    def __str__(self):\n",
    "        return('姓名：%s salary:%d'%(self.name,self.salary))\n",
    "    \n",
    "emp1=Empolyee('lmy',500000)\n",
    "emp2=Empolyee('sjf',10000)\n",
    "print(emp1)\n",
    "print(emp2)\n",
    "Empolyee.displayCount('lmy','sjf')\n",
    "\n",
    "class Manager():\n",
    "    def __init__(self,name,salary,department):\n",
    "        super().__init__(name,salary)\n",
    "        self.department=department\n",
    "    def hire(self):\n",
    "        print('姓名：%s salary:%d department:%d'%(self.name,self.salary,self.department))\n",
    "emp3=Manager('lmy',500000,'ibd')\n",
    "emp3.hire()       \n"
   ]
  },
  {
   "cell_type": "code",
   "execution_count": null,
   "metadata": {},
   "outputs": [],
   "source": [
    "#答案\n",
    "# 1\n",
    "class Employee(object):\n",
    "    empCount = 0\n",
    "    def __init__(self, name, salary):\n",
    "        self.name = name\n",
    "        self.salary = salary\n",
    "        Employee.empCount += 1\n",
    "    def displayCount(self):\n",
    "        print (f\"Total Employee {Employee.empCount}\")\n",
    "    def __str__(self):\n",
    "        return f\"Name: {self.name}, salary: {self.salary}\"\n",
    " \n",
    "# This would create first object of Employee class\n",
    "emp1 = Employee(\"Zara\", 2000)\n",
    "# This would create second object of Employee class\n",
    "emp2 = Employee(\"Manni\", 5000)\n",
    "print(emp1)\n",
    "print(emp2)\n",
    "print (\"Total Employee %d\" % Employee.empCount)\n"
   ]
  },
  {
   "cell_type": "code",
   "execution_count": 4,
   "metadata": {},
   "outputs": [
    {
     "name": "stdout",
     "output_type": "stream",
     "text": [
      "Name: Zara, salary: 2000, department: market\n",
      "Name: Manni, salary: 5000, department: market\n",
      "Name: finger, salary: 10000\n",
      "-----\n",
      "The following person is fired - Name: finger, salary: 10000\n",
      "Total Employee 2\n",
      "The following person is hired - Name: ZZZZ, salary: 2000\n",
      "Total Employee 3\n"
     ]
    }
   ],
   "source": [
    "# 2\n",
    "class Employee(object):\n",
    "    empCount = 0\n",
    "    def __init__(self, name, salary):\n",
    "        self.name = name\n",
    "        self.salary = salary\n",
    "        Employee.empCount += 1\n",
    "    def displayCount(self):\n",
    "        print (f\"Total # of Employee: {Employee.empCount}\")\n",
    "    def __str__(self):\n",
    "        return f\"Name: {self.name}, salary: {self.salary}\"\n",
    "\n",
    "class Manager(Employee):#傻逼啊！括号里要填上父类，不然谁知道你的父类是谁啊笨蛋！\n",
    "    def __init__(self,name,salary,department):\n",
    "        super().__init__(name,salary)\n",
    "        self.department = department\n",
    "    def __str__(self):\n",
    "        return f\"Name: {self.name}, salary: {self.salary}, department: {self.department}\"\n",
    "    def fire(self,the_employee):\n",
    "        Employee.empCount -= 1\n",
    "        print(f\"The following person is fired - {the_employee}\")\n",
    "    def hire(self,new_employee):\n",
    "        print(f\"The following person is hired - {new_employee}\")\n",
    "        \n",
    "manager1=Manager(\"Zara\", 2000,\"market\")\n",
    "manager2=Manager(\"Manni\", 5000,\"market\")\n",
    "man1=Employee(\"finger\",10000)\n",
    "print(manager1)\n",
    "print(manager2)\n",
    "print(man1)\n",
    "\n",
    "print('-----')\n",
    "manager1.fire(man1)\n",
    "print(\"Total Employee %d\" % Employee.empCount)\n",
    "manager2.hire(Employee('ZZZZ',2000))\n",
    "print(\"Total Employee %d\" % Employee.empCount)"
   ]
  },
  {
   "cell_type": "markdown",
   "metadata": {},
   "source": [
    "* 例子二：分数类Fraction\n",
    "\n",
    "> Fraction\n",
    "> * 代表分数\n",
    "\n",
    "> 属性\n",
    "> * numerator： 分子\n",
    "> * Denominator: 分母\n",
    "\n",
    "> 方法:\n",
    "> * add, subtract\n",
    "> * covert to float\n",
    "> * invert: 颠倒分子分母\n",
    "> * 重写print\n",
    "\n",
    "> 用实例测试以上方法\n"
   ]
  },
  {
   "cell_type": "markdown",
   "metadata": {},
   "source": [
    "* Fraction 进阶挑战\n",
    "\n",
    "如果分子分母可约，在初始化的时候，进行化简\n",
    "\n",
    "Tips: `math.gcd(a,b)`可以求整数`a,b`的最大公约数\n"
   ]
  },
  {
   "cell_type": "code",
   "execution_count": 2,
   "metadata": {},
   "outputs": [
    {
     "name": "stdout",
     "output_type": "stream",
     "text": [
      "(5,6)\n",
      "(1,6)\n",
      "0.5\n",
      "(2,1)\n"
     ]
    },
    {
     "data": {
      "text/plain": [
       "'(1,2)'"
      ]
     },
     "execution_count": 2,
     "metadata": {},
     "output_type": "execute_result"
    }
   ],
   "source": [
    "#我的\n",
    "import math\n",
    "class Fraction():\n",
    "    def __init__(self,num,denom):\n",
    "        self.num=num\n",
    "        self.denom=denom\n",
    "        a=math.gcd(int(self.num),int(self.denom))\n",
    "        self.num=self.num/a\n",
    "        self.denom=self.denom/a\n",
    "    def __add__(self,other):\n",
    "        bot=self.denom*other.denom\n",
    "        top=self.num*other.denom+other.num*self.denom\n",
    "        return Fraction(top,bot)\n",
    "    def __sub__(self,other):\n",
    "        bot=self.denom*other.denom\n",
    "        top=self.num*other.denom-other.num*self.denom\n",
    "        return Fraction(top,bot)\n",
    "    def float_(self):\n",
    "        return float(self.num/self.denom)\n",
    "    def invert_(self):\n",
    "        return Fraction(self.denom,self.num)\n",
    "    def __str__(self):\n",
    "        return '(%d,%d)'%(self.num,self.denom)\n",
    "x=Fraction(2,4)\n",
    "y=Fraction(1,3)\n",
    "print(x+y)\n",
    "print(x-y)\n",
    "print(x.float_())\n",
    "print(x.invert_())\n",
    "x.__str__()\n",
    "    \n"
   ]
  },
  {
   "cell_type": "code",
   "execution_count": 3,
   "metadata": {},
   "outputs": [
    {
     "name": "stdout",
     "output_type": "stream",
     "text": [
      "2/4 3/4 20/16 -4/16\n",
      "0.5\n",
      "0.5\n",
      "4/2\n"
     ]
    }
   ],
   "source": [
    "#答案\n",
    "# your codes here\n",
    "class Fraction(object):\n",
    "    def __init__(self, num, denom):\n",
    "        # 这里先假设传进来的都是int，之后会学习如何在非int型时候抛出异常\n",
    "        self.num = num\n",
    "        self.denom = denom\n",
    "    def __str__(self):# overwrite print() 以字符串的形式返回\n",
    "        return str(self.num) + \"/\" + str(self.denom)#只会抄，这里是分数啊，当然用/  \n",
    "    #你得改写了print后面才能改写加减啊，不然到时候你怎么print啊，直接用算式也一样啊，出来的都是ip啊！！！\n",
    "    def __add__(self, other): # overwrite +\n",
    "        top = self.num*other.denom + self.denom*other.num\n",
    "        bot = self.denom*other.denom\n",
    "        return Fraction(top, bot)\n",
    "    def __sub__(self, other):# overwrite -\n",
    "        top = self.num*other.denom - self.denom*other.num\n",
    "        bot = self.denom*other.denom\n",
    "        return Fraction(top, bot)\n",
    "    def float(self): #转换成浮点型, 也可以重写__float__函数，见下一个函数\n",
    "        return self.num/self.denom\n",
    "    def __float__(self): # overwrite float()\n",
    "        return self.num/self.denom\n",
    "    def inverse(self):#求倒数\n",
    "        return Fraction(self.denom, self.num)\n",
    "a=Fraction(2,4)\n",
    "b=Fraction(3,4)\n",
    "c=a+b\n",
    "d=a-b\n",
    "print(a,b,c,d)\n",
    "print(a.float())\n",
    "print(float(a))\n",
    "print(a.inverse())"
   ]
  },
  {
   "cell_type": "code",
   "execution_count": null,
   "metadata": {},
   "outputs": [],
   "source": [
    "#答案2\n",
    "# your codes here\n",
    "import math\n",
    "class Fraction(object):\n",
    "    def __init__(self, num, denom):\n",
    "        # 这里先假设传进来的都是int，之后会学习如何在非int型时候抛出异常\n",
    "        self.num = num\n",
    "        self.denom = denom\n",
    "        self.simplify()#说明可以先用实例方法，再定义\n",
    "    def simplify(self):\n",
    "        ''' 化简分数'''\n",
    "        gcd = math.gcd(self.num, self.denom)\n",
    "        if gcd > 1:\n",
    "            self.num //= gcd \n",
    "            self.denom //= gcd\n",
    "    def __str__(self):# overwrite print() 以字符串的形式返回\n",
    "        return str(self.num) + \"/\" + str(self.denom)\n",
    "    def __add__(self, other): # overwrite +\n",
    "        top = self.num*other.denom + self.denom*other.num\n",
    "        bot = self.denom*other.denom\n",
    "        new_frac = Fraction(top, bot)\n",
    "        #new_frac.simplify() # 已经不需要了，新建Fraction时，已经simplify！！！妙！\n",
    "        return new_frac\n",
    "    def __sub__(self, other):# overwrite -\n",
    "        top = self.num*other.denom - self.denom*other.num\n",
    "        bot = self.denom*other.denom\n",
    "        new_frac = Fraction(top, bot)\n",
    "        #new_frac.simplify()\n",
    "        return new_frac\n",
    "    def float(self): #转换成浮点型, 也可以重写__float__函数，见下一个函数\n",
    "        return self.num/self.denom\n",
    "    def __float__(self): # overwrite float()\n",
    "        return self.num/self.denom\n",
    "    def inverse(self):#求倒数\n",
    "        return Fraction(self.denom, self.num)\n",
    "a=Fraction(1,4)\n",
    "b=Fraction(3,4)\n",
    "c=a+b\n",
    "d=a-b\n",
    "print(a,b,c,d)\n",
    "print(a.float())\n",
    "print(float(a))\n",
    "print(a.inverse())"
   ]
  },
  {
   "cell_type": "markdown",
   "metadata": {},
   "source": [
    "* 例子三：形状类\n",
    "\n",
    "定义一个父类:形状类`Shape`\n",
    "* 实例属性`Count`, 记录共实例化了几个`Shape`及其子类\n",
    "* 两个方法，分别是求面积和周长。\n",
    "\n",
    "定义三个`Shape`的子类：矩形 `Rectangle`，三角形 `Triagle`，圆 `Circle`。自行设计相应属性，并重写求面积和周长的方法。\n",
    "\n",
    "测试：\n",
    "\n",
    "* 传入圆的半径`4`,输出周长和面积\n",
    "* 传入矩形的长和宽`4,5`,输出周长和面积\n",
    "* 传入三角形三边`3,4,5`,输出周长和面积\n",
    "* 输出共实例化了几个`Shape`及其子类\n",
    "\n",
    "* Tips: 可以使用海伦公式，根据三角形的三边长求面积。假设三角形边长为`a,b,c`，则面积`A`为：\n",
    "$A={\\sqrt  {s(s-a)(s-b)(s-c)}}$，其中${\\displaystyle s={\\frac {a+b+c}{2}}}$。"
   ]
  },
  {
   "cell_type": "code",
   "execution_count": 19,
   "metadata": {},
   "outputs": [
    {
     "name": "stdout",
     "output_type": "stream",
     "text": [
      "50\n",
      "25\n",
      "20\n",
      "18\n",
      "6\n",
      "12\n"
     ]
    }
   ],
   "source": [
    "#我的\n",
    "import math\n",
    "class Shape():\n",
    "    def _init_(self):\n",
    "        pass\n",
    "    def area(self):\n",
    "        pass\n",
    "    def grith(self):\n",
    "        pass\n",
    "class Rectangle(Shape):\n",
    "    def __init__(self,a,b):\n",
    "        super().__init__()\n",
    "        self.a=a\n",
    "        self.b=b\n",
    "    def area(self):\n",
    "        print('%d'%(self.a*self.b))\n",
    "    def grith(self):\n",
    "        print('%d'%(2*(self.a+self.b)))\n",
    "class Triangle(Shape):\n",
    "    def __init__(self,a,b,c):\n",
    "        super().__init__()\n",
    "        self.a=a\n",
    "        self.b=b\n",
    "        self.c=c\n",
    "    def area(self):\n",
    "        s=(self.a+self.b+self.c)/2\n",
    "        print('%d'%((s*(s-self.a)*(s-self.b)*(s-self.c))**(1/2)))\n",
    "    def grith(self):\n",
    "        print('%d'%(self.a+self.b+self.c))\n",
    "class Circle(Shape):\n",
    "    def __init__(self,r):\n",
    "        super().__init__()\n",
    "        self.r=r\n",
    "    def area(self):\n",
    "        print('%d'%(((self.r)**2)*math.pi))\n",
    "    def grith(self):\n",
    "        print('%d'%(2*math.pi*self.r))\n",
    "circle1=Circle(4)\n",
    "circle1.area()\n",
    "circle1.grith()\n",
    "rectangle1=Rectangle(4,5)\n",
    "rectangle1.area()\n",
    "rectangle1.grith()\n",
    "triangle1=Triangle(3,4,5)\n",
    "triangle1.area()\n",
    "triangle1.grith()\n",
    "\n",
    "\n",
    "\n",
    "\n",
    "    \n",
    "\n",
    "\n"
   ]
  },
  {
   "cell_type": "code",
   "execution_count": 13,
   "metadata": {},
   "outputs": [
    {
     "name": "stdout",
     "output_type": "stream",
     "text": [
      "圆的半径：4，圆的面积：50.2655，圆的周长：25.1327\n",
      "三角形边长：3、4、5,三角形面积：6,三角形周长：12\n",
      "矩形长、宽：4、5,矩形面积：20,矩形周长：18\n",
      "实例化次数: 3\n"
     ]
    }
   ],
   "source": [
    "#答案\n",
    "import math\n",
    "#父类\n",
    "class Shape():\n",
    "    count=0\n",
    "    def __init__(self):\n",
    "        Shape.count+=1#2b了，原来我是对的，但这难道不是类属性吗？楽\n",
    "    def area(self):\n",
    "        pass\n",
    "    def circum(self):\n",
    "        pass\n",
    "#子类：圆   \n",
    "class Circle(Shape):\n",
    "    def __init__(self, r):\n",
    "        '''Circle的初始化\n",
    "        r: 圆的半径\n",
    "        '''\n",
    "        super().__init__()\n",
    "        self.r=r # 特有属性\n",
    "    def area(self):\n",
    "        '''方法：计算圆面积'''\n",
    "        self.area=(self.r**2)*math.pi\n",
    "        return self.area#说明可以这里return后面在print，也可以这里直接print，但关键是都得搞成格式化省略形式，不能直接打印，那样只会出id\n",
    "    def circum(self):\n",
    "        '''方法：计算圆的周长'''\n",
    "        self.circum=self.r*2*math.pi\n",
    "        return self.circum\n",
    "\n",
    "#子类：三角形\n",
    "class Triangle(Shape):\n",
    "    def __init__(self,sl1,sl2,sl3):\n",
    "        '''Triangle的初始化,参数为边长sl(sidelenth)\n",
    "        sl1, sl2, sl3: 三角形边长\n",
    "        '''\n",
    "        super().__init__()\n",
    "        self.sl1=sl1\n",
    "        self.sl2=sl2\n",
    "        self.sl3=sl3\n",
    "        self.p=0.5*(sl1+sl2+sl3) #半周长，用于求面积\n",
    "    def area(self):\n",
    "        '''方法：计算三角形面积'''\n",
    "        self.area=math.sqrt(self.p*(self.p-self.sl1)*(self.p-self.sl2)*(self.p-self.sl3))\n",
    "        return self.area\n",
    "    def circum(self):\n",
    "        '''方法：计算三角形周长'''\n",
    "        self.circum=2*self.p\n",
    "        return self.circum\n",
    "\n",
    "#子类：矩形\n",
    "class Rectangle(Shape):\n",
    "    def __init__(self,length,width):#矩形属性：长length，宽width\n",
    "        '''Rectangle的初始化\n",
    "        length: 长\n",
    "        width: 宽\n",
    "        '''\n",
    "        super().__init__()\n",
    "        self.length=length\n",
    "        self.width=width\n",
    "    def area(self):\n",
    "        '''方法：计算矩形面积'''\n",
    "        self.area=self.width*self.length\n",
    "        return self.area\n",
    "    def circum(self):\n",
    "        '''方法：计算矩形周长'''\n",
    "        self.circum=2*(self.length+self.width)\n",
    "        return self.circum\n",
    "    \n",
    "#圆的实例化    \n",
    "a=Circle(4)\n",
    "print('圆的半径：%g，圆的面积：%g，圆的周长：%g'%(a.r,a.area(),a.circum())) # %g类似于%f，但是输出多余的0 格式化浮点数字，可指定小数点后的精度\n",
    "\n",
    "#三角形的实例化\n",
    "b=Triangle(3,4,5)\n",
    "print('三角形边长：%g、%g、%g,三角形面积：%g,三角形周长：%g'%(b.sl1,b.sl2,b.sl3,b.area(),b.circum()))  \n",
    "\n",
    "#矩形的实例化\n",
    "c=Rectangle(4,5)\n",
    "print('矩形长、宽：%g、%g,矩形面积：%g,矩形周长：%g'%(c.length,c.width,c.area(),c.circum()))\n",
    "\n",
    "#实例化的次数\n",
    "print('实例化次数:',Shape.count)"
   ]
  },
  {
   "cell_type": "markdown",
   "metadata": {},
   "source": [
    "* 例子四：函数与类：二维向量\n",
    "* 任务：\n",
    "    * 1. 定义一个二维向量类\n",
    "    * 2. 实现两个该类对象之间的加、减运算\n",
    "    * 3. 实现该类对象与**标量**的乘、除运算\n",
    "    * 4. 实现向量长度的计算函数\n",
    "    * 5. 实现实例化，并依次调用加减乘除方法和长度计算函数\n",
    "\n",
    "* 举例：\n",
    "\n",
    "    * 如`(3, 4)`这个向量，与 `(0, 1)` 的加法计算结果是`(3, 5)`，减法结果是`(3, 3)`，与标量`2`相乘的结果是`(6, 8)`，与`2`相除是`(1.5, 2)`，其长度为 $\\sqrt{3^2+4^2} = 5$\n",
    "\n",
    "* Tips: \n",
    "  * 尝试 `import math`，利用math模块完成一些操作，如求开方可以使用`math.sqrt()`\n",
    "  * 除法的重载应该是`__truediv__`，可以参考[这里](https://docs.python.org/3/reference/datamodel.html#basic-customization)的3.3.8。"
   ]
  },
  {
   "cell_type": "code",
   "execution_count": 27,
   "metadata": {},
   "outputs": [
    {
     "name": "stdout",
     "output_type": "stream",
     "text": [
      "(3,5)\n",
      "(3,3)\n",
      "(6,8)\n",
      "(1.5,2)\n",
      "5.0\n"
     ]
    }
   ],
   "source": [
    "#我的\n",
    "import math\n",
    "class Vector():\n",
    "    def __init__(self,a,b):\n",
    "        self.a=a\n",
    "        self.b=b\n",
    "    def __str__(self) :\n",
    "        return '(%g,%g)'%(self.a,self.b)\n",
    "    def __add__(self,other):\n",
    "        return Vector(self.a+other.a,self.b+other.b)\n",
    "    def __sub__(self,other):\n",
    "        return Vector(self.a-other.a,self.b-other.b)\n",
    "    def __mul__(self,k):\n",
    "        return Vector(self.a*k,self.b*k)\n",
    "    def __truediv__(self,k):\n",
    "        return Vector(self.a/k,self.b/k)\n",
    "    def len_(self):\n",
    "        return math.sqrt(self.a**2+self.b**2)\n",
    "vector1=Vector(3,4)\n",
    "vector2=Vector(0,1)\n",
    "print(Vector.__add__(vector1,vector2))\n",
    "print(Vector.__sub__(vector1,vector2))\n",
    "print(vector1.__mul__(2))\n",
    "print(vector1.__truediv__(2))\n",
    "print(vector1.len_())\n",
    "\n"
   ]
  },
  {
   "cell_type": "code",
   "execution_count": 24,
   "metadata": {},
   "outputs": [
    {
     "name": "stdout",
     "output_type": "stream",
     "text": [
      "(3,5)\n",
      "(3,3)\n",
      "(6,8)\n",
      "(1,2)\n",
      "5.0\n",
      "(3,5)\n",
      "(3,3)\n",
      "(6,8)\n",
      "(1,2)\n"
     ]
    }
   ],
   "source": [
    "#答案\n",
    "class vector():\n",
    "    def __init__(self,x,y):\n",
    "        self.x=x\n",
    "        self.y=y\n",
    "    # 重新定义print\n",
    "    def __str__(self):\n",
    "        return '(%d,%d)' % (self.x, self.y)#赢！发现老师的错误，应该搞成g%\n",
    "    \n",
    "    # 不使用重载实现加减乘除  \n",
    "    def plus(self,another_vector):\n",
    "        return vector(self.x+another_vector.x,self.y+another_vector.y)\n",
    "    def minus(self,another_vector):\n",
    "        return vector(self.x - another_vector.x, self.y - another_vector.y)\n",
    "    def multiple(self,number):\n",
    "        return vector(number*self.x,number*self.y)\n",
    "    def division(self,number):\n",
    "        return vector(self.x/number,self.y/number)\n",
    "    \n",
    "    # 使用重载实现加减乘除    \n",
    "    def __add__(self, another_vector):\n",
    "        return vector(self.x+another_vector.x,self.y+another_vector.y)\n",
    "    def __sub__(self, another_vector):\n",
    "        return vector(self.x-another_vector.x,self.y-another_vector.y)\n",
    "    def __mul__(self, number):\n",
    "        return vector(self.x*number,self.y*number)\n",
    "    def __truediv__(self, number):\n",
    "        return vector(self.x/number,self.y/number)\n",
    "    # 长度    \n",
    "    def length(self):\n",
    "        import math\n",
    "        return (math.sqrt(self.x**2+self.y**2))\n",
    "# 实例化\n",
    "vector1=vector(3,4)\n",
    "vector2=vector(0,1)\n",
    "\n",
    "# 测试：不使用重载实现加减乘除 \n",
    "vector3=vector1.plus(vector2)\n",
    "vector4=vector1.minus(vector2)\n",
    "vector5=vector1.multiple(2)\n",
    "vector6=vector1.division(2)\n",
    "\n",
    "print(vector3)\n",
    "print(vector4)\n",
    "print(vector5)\n",
    "print(vector6)\n",
    "print(vector1.length())\n",
    "\n",
    "# 测试：使用重载实现加减乘除 \n",
    "print(vector1+vector2)\n",
    "print(vector1-vector2)\n",
    "print(vector1*2)\n",
    "print(vector1/2)"
   ]
  },
  {
   "cell_type": "markdown",
   "metadata": {},
   "source": [
    "### 8. 课后练习\n",
    "\n",
    "* 课后练习1\n",
    "\n",
    "以学号为键（Key），以姓名、学院、入学年份构成的列表为值（Value）构建一个字典。\n",
    "如：\n",
    "```python\n",
    "{\n",
    "    100:['Mick','Antai',2019], \n",
    "    101:['Alex','Math',2018],\n",
    "    102:['John','Antai',2020],\n",
    "    103:['Bob','Antai',2018]\n",
    "}\n",
    "```\n",
    "\n",
    "* 将字典存储在`data/info.json`文件里。\n",
    "* 读取`data/info.json`文件，并且计算每个学院下学生的个数。"
   ]
  },
  {
   "cell_type": "code",
   "execution_count": 3,
   "metadata": {},
   "outputs": [
    {
     "data": {
      "text/plain": [
       "{'Antai': 3, 'Math': 1}"
      ]
     },
     "execution_count": 3,
     "metadata": {},
     "output_type": "execute_result"
    }
   ],
   "source": [
    "import json\n",
    "\n",
    "dict_info={\n",
    "    100:['Mick','Antai',2019], \n",
    "    101:['Alex','Math',2018],\n",
    "    102:['John','Antai',2020],\n",
    "    103:['Bob','Antai',2018]\n",
    "}\n",
    "json.dump(dict_info,open('data/info.json','w'),indent=4)\n",
    "\n",
    "data=json.load(open('data/info.json','r'))\n",
    "number={}\n",
    "for item in data.values():\n",
    "        college=item[1]\n",
    "        if not college in number:\n",
    "            number[college] = 1\n",
    "        else:\n",
    "            number[college] += 1\n",
    "number\n",
    "\n",
    "            \n"
   ]
  },
  {
   "cell_type": "code",
   "execution_count": 4,
   "metadata": {},
   "outputs": [
    {
     "name": "stdout",
     "output_type": "stream",
     "text": [
      "{'Antai': 3, 'Math': 1}\n",
      "Antai共有学生3人\n",
      "Math共有学生1人\n"
     ]
    }
   ],
   "source": [
    "#答案\n",
    "import json\n",
    "info_dict = {\n",
    "    100:['Mick','Antai',2019], \n",
    "    101:['Alex','Math',2018],\n",
    "    102:['John','Antai',2020],\n",
    "    103:['Bob','Antai',2018]\n",
    "}\n",
    "with open('data/info.json', 'w') as f_obj:\n",
    "    json.dump(info_dict, f_obj, indent=4)\n",
    "\n",
    "with open('data/info.json', 'r') as f_obj:\n",
    "    all_info = json.load(f_obj)\n",
    "\n",
    "count_dict = {}    \n",
    "for key, value in all_info.items():\n",
    "    college = value[1]\n",
    "    if college in count_dict:\n",
    "        count_dict[college] += 1\n",
    "    else:\n",
    "        count_dict[college] = 1\n",
    "\n",
    "print(count_dict)  \n",
    "for key, value in count_dict.items():\n",
    "    print('%s共有学生%d人'%(key, value))"
   ]
  },
  {
   "cell_type": "markdown",
   "metadata": {},
   "source": [
    "* 课后练习2\n",
    "\n",
    "编写一个函数encoding(file1, file2), 能加密第一个文件file1的内容，将该文件中的每个字母加密后写入到第二个文件file2（清空之前内容）,加密的方法是:将A变成B , B变成C, … Y变成Z , Z变成A ; a变成b,b变成…z变成a , 其他字符不变化\n",
    "\n",
    "调用以上函数，将data/ex1.txt加密保存到data/ex1_encoded.txt\n"
   ]
  },
  {
   "cell_type": "code",
   "execution_count": null,
   "metadata": {},
   "outputs": [],
   "source": [
    "#与lab的第五题过于相似，略"
   ]
  },
  {
   "cell_type": "code",
   "execution_count": null,
   "metadata": {},
   "outputs": [],
   "source": [
    "def encode(char):\n",
    "    '''\n",
    "    将单个字符加密\n",
    "    '''\n",
    "    if not char.isalpha(): # 如果不是字母，无需加密\n",
    "        return char\n",
    "    if char == 'Z' or char == 'z': # z->a; Z->A\n",
    "        return chr(ord(char) - 25)\n",
    "    else: # A->B,..., Y-> 小写字母类似\n",
    "        return chr(ord(char) + 1)\n",
    "    \n",
    "def encoding(file1, file2):\n",
    "    with open(file1, 'r') as infile:\n",
    "        with open(file2, 'w') as outfile:\n",
    "            content = infile.read()\n",
    "            content = ''.join([encode(char) for char in content]) # 逐个字符加密再连接\n",
    "            outfile.write(content)\n",
    "            \n",
    "encoding('data/ex1.txt', 'data/ex1_encoded.txt')\n",
    "print('Done')"
   ]
  },
  {
   "cell_type": "markdown",
   "metadata": {},
   "source": [
    "### 10. 课后练习"
   ]
  },
  {
   "cell_type": "markdown",
   "metadata": {},
   "source": [
    "* 蒙特卡洛计算面积\n",
    "\n",
    "估算椭圆$\\cfrac{x^2}{4} + y^2 = 1$与圆$(x-1)^2+y^2=1$相交部分的面积：\n",
    "<img src=\"images/intersect_eclipse_circle.jpg\" width=800>"
   ]
  },
  {
   "cell_type": "code",
   "execution_count": 5,
   "metadata": {},
   "outputs": [
    {
     "name": "stdout",
     "output_type": "stream",
     "text": [
      "2.74988\n"
     ]
    }
   ],
   "source": [
    "import random\n",
    "n=1000000\n",
    "count=0\n",
    "for i in range(n):\n",
    "    x=random.uniform(-2,2)\n",
    "    y=random.uniform(-1,1)\n",
    "    if x**2/4+y**2<=1 and (x-1)**2+y**2<=1:\n",
    "        count+=1\n",
    "s=8*count/n\n",
    "print(s)\n",
    "\n"
   ]
  },
  {
   "cell_type": "code",
   "execution_count": null,
   "metadata": {},
   "outputs": [],
   "source": [
    "#答案\n",
    "import random\n",
    "\n",
    "N = 1000000 # number of random points to generate\n",
    "N_intersect = 0 # number of points under the quarter circle\n",
    "for i in range(N):\n",
    "    x = random.random() * 2 # or y = random.uniform(0,2)\n",
    "    y = random.random() * 2 -1 # or y = random.uniform(-1,1)\n",
    "    if x**2/4+y**2<1 and (x-1)**2 + y**2 < 1:\n",
    "        N_intersect += 1\n",
    "estimated_area = N_intersect/N * 4\n",
    "\n",
    "print('The estimated area is: %f'%(estimated_area))"
   ]
  },
  {
   "cell_type": "markdown",
   "metadata": {},
   "source": [
    "### 船院"
   ]
  },
  {
   "cell_type": "code",
   "execution_count": 11,
   "metadata": {},
   "outputs": [
    {
     "name": "stdout",
     "output_type": "stream",
     "text": [
      "[0, 1]\n"
     ]
    }
   ],
   "source": [
    "A=input('请输入一个数组')\n",
    "B=input('请输入一个目标值')\n",
    "nums=A.split(',')\n",
    "target=int(B)\n",
    "for i in range(len(nums)):\n",
    "    for j in range(i+1,len(nums)):\n",
    "        if int(nums[i])+int(nums[j])==target:\n",
    "            print([i,j])\n",
    "\n",
    "    \n"
   ]
  },
  {
   "cell_type": "code",
   "execution_count": 12,
   "metadata": {},
   "outputs": [
    {
     "name": "stdout",
     "output_type": "stream",
     "text": [
      "李伞兵 9\n",
      "年级为3\n"
     ]
    }
   ],
   "source": [
    "class Student():\n",
    "    def __init__(self,name,age):\n",
    "        self.name=name\n",
    "        self.age=age\n",
    "    def info(self):\n",
    "        print(self.name,self.age)\n",
    "    def grade(self):\n",
    "        if self.age>=7 and self.age<13:\n",
    "            num=self.age-6\n",
    "            print('年级为%d'%(num))\n",
    "        else:\n",
    "            print(0)\n",
    "std1=Student('李伞兵',9)\n",
    "std1.info()\n",
    "std1.grade()"
   ]
  },
  {
   "cell_type": "code",
   "execution_count": null,
   "metadata": {},
   "outputs": [],
   "source": [
    "nums=[2,3,1,1,4]\n"
   ]
  },
  {
   "cell_type": "code",
   "execution_count": 13,
   "metadata": {},
   "outputs": [
    {
     "name": "stdout",
     "output_type": "stream",
     "text": [
      "True\n",
      "False\n"
     ]
    }
   ],
   "source": [
    "def jumping(nums):\n",
    "    stepmax = 0\n",
    "    for i in range(len(nums)):\n",
    "        if i>stepmax:\n",
    "            return False\n",
    "        stepmax=max(stepmax,i+nums[i])\n",
    "        if stepmax>=len(nums)-1:\n",
    "            return True\n",
    "    return False\n",
    "\n",
    "nums1= [2,3,1,1,4]\n",
    "nums2= [3,2,1,0,4]\n",
    "print(jumping(nums1))\n",
    "print(jumping(nums2))"
   ]
  },
  {
   "cell_type": "markdown",
   "metadata": {},
   "source": [
    "### 模拟卷"
   ]
  },
  {
   "cell_type": "code",
   "execution_count": 94,
   "metadata": {},
   "outputs": [],
   "source": [
    "def encoding(file1,file2):\n",
    "    with open(file1,'r') as infile1:\n",
    "        content1=infile1.readlines()\n",
    "        new_content=[]\n",
    "        for sentence in content1:\n",
    "            new_sentence=sentence.replace('\\n','')\n",
    "            word_list=new_sentence.split(' ')\n",
    "            new_word_list=[]\n",
    "            for word in word_list:\n",
    "                n=len(word)\n",
    "                new_word=[]\n",
    "                for char in word:\n",
    "                    if ord(char)+n<=ord('z'):\n",
    "                        new_asc_number=ord(char)+n\n",
    "                    else:\n",
    "                        new_asc_number=ord(char)+n-26\n",
    "                    new_word.append(chr(new_asc_number))\n",
    "                new_word_list.append(''.join(new_word))\n",
    "            new_content.append(' '.join(new_word_list))\n",
    "        content2='\\n'.join(new_content)\n",
    "    with open(file2,'w') as infile2:\n",
    "        infile2.write(content2)\n",
    "\n",
    "encoding('data1/file1.txt','data1/file2.txt')\n",
    "            \n",
    "\n",
    "        \n"
   ]
  },
  {
   "cell_type": "code",
   "execution_count": 5,
   "metadata": {},
   "outputs": [
    {
     "name": "stdout",
     "output_type": "stream",
     "text": [
      "2 4 6 "
     ]
    }
   ],
   "source": [
    "with open('a.txt','r') as infile1:\n",
    "    content1=infile1.read()\n",
    "    list1=content1.split(' ')\n",
    "    set1=set(list1)\n",
    "\n",
    "with open('b.txt','r') as infile2:\n",
    "    content2=infile2.read()\n",
    "    list2=content2.split(' ')\n",
    "    set2=set(list2)\n",
    "\n",
    "answer=[]\n",
    "for number in set1:\n",
    "    if number in set2:\n",
    "        answer.append(number)\n",
    "answer.sort()\n",
    "for number in answer:\n",
    "    print(number,end=' ')"
   ]
  }
 ],
 "metadata": {
  "kernelspec": {
   "display_name": "base",
   "language": "python",
   "name": "python3"
  },
  "language_info": {
   "codemirror_mode": {
    "name": "ipython",
    "version": 3
   },
   "file_extension": ".py",
   "mimetype": "text/x-python",
   "name": "python",
   "nbconvert_exporter": "python",
   "pygments_lexer": "ipython3",
   "version": "3.11.5"
  }
 },
 "nbformat": 4,
 "nbformat_minor": 2
}
